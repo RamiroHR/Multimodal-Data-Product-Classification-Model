{
 "cells": [
  {
   "cell_type": "code",
   "execution_count": 35,
   "id": "3471f121",
   "metadata": {},
   "outputs": [],
   "source": [
    "import numpy as np\n",
    "import matplotlib.pyplot as plt"
   ]
  },
  {
   "cell_type": "code",
   "execution_count": 22,
   "id": "1b6cbd6e",
   "metadata": {},
   "outputs": [],
   "source": [
    "import numpy as np\n",
    "\n",
    "def find_left_boundary(image_array, threshold=235):\n",
    "    height, width, _ = image_array.shape\n",
    "\n",
    "    left_boundary = None\n",
    "    for col in range(width):\n",
    "        for row in range(height):\n",
    "            if any(image_array[row, col] < threshold):\n",
    "                left_boundary = col\n",
    "                #print(\"left_boundary = \", left_boundary)\n",
    "                break\n",
    "        if left_boundary is not None:\n",
    "            break\n",
    "\n",
    "    if left_boundary is None:\n",
    "        left_boundary = 0\n",
    "\n",
    "    return left_boundary\n",
    "\n",
    "# Example usage:\n",
    "# Assuming you have the image as a 3D NumPy array named 'image'\n",
    "# left_boundary = find_left_boundary(image)\n"
   ]
  },
  {
   "cell_type": "code",
   "execution_count": 23,
   "id": "b0b6447a",
   "metadata": {},
   "outputs": [],
   "source": [
    "def find_right_boundary(image_array, threshold=235):\n",
    "    height, width, _ = image_array.shape\n",
    "\n",
    "    right_boundary = None\n",
    "    for col in range(width - 1, -1, -1):\n",
    "        for row in range(height):\n",
    "            if any(image_array[row, col] < threshold):\n",
    "                right_boundary = col\n",
    "                #print(\"right_boundary = \", right_boundary)\n",
    "                break\n",
    "        if right_boundary is not None:\n",
    "            break\n",
    "\n",
    "    if right_boundary is None:\n",
    "        right_boundary = width - 1\n",
    "\n",
    "    return right_boundary\n"
   ]
  },
  {
   "cell_type": "code",
   "execution_count": 24,
   "id": "4bc8289b",
   "metadata": {},
   "outputs": [],
   "source": [
    "def find_top_boundary(image_array, threshold=235):\n",
    "    height, width, _ = image_array.shape\n",
    "\n",
    "    top_boundary = None\n",
    "    for row in range(height):\n",
    "        for col in range(width):\n",
    "            if any(image_array[row, col] < threshold):\n",
    "                top_boundary = row\n",
    "                break\n",
    "        if top_boundary is not None:\n",
    "            break\n",
    "\n",
    "    if top_boundary is None:\n",
    "        top_boundary = 0\n",
    "\n",
    "    return top_boundary"
   ]
  },
  {
   "cell_type": "code",
   "execution_count": 25,
   "id": "55f26570",
   "metadata": {},
   "outputs": [],
   "source": [
    "def find_bottom_boundary(image_array, threshold=235):\n",
    "    height, width, _ = image_array.shape\n",
    "\n",
    "    bottom_boundary = None\n",
    "    for row in range(height - 1, -1, -1):\n",
    "        for col in range(width):\n",
    "            if any(image_array[row, col] < threshold):\n",
    "                bottom_boundary = row\n",
    "                break\n",
    "        if bottom_boundary is not None:\n",
    "            break\n",
    "\n",
    "    if bottom_boundary is None:\n",
    "        bottom_boundary = height - 1\n",
    "\n",
    "    return bottom_boundary"
   ]
  },
  {
   "cell_type": "code",
   "execution_count": 36,
   "id": "1db5ccc7",
   "metadata": {},
   "outputs": [
    {
     "data": {
      "text/plain": [
       "<matplotlib.image.AxesImage at 0x2355b58db90>"
      ]
     },
     "execution_count": 36,
     "metadata": {},
     "output_type": "execute_result"
    },
    {
     "data": {
      "image/png": "[encoded data removed]",
      "text/plain": [
       "<Figure size 640x480 with 1 Axes>"
      ]
     },
     "metadata": {},
     "output_type": "display_data"
    }
   ],
   "source": [
    "test_matrix = np.array([\n",
    "    [[240], [240], [240], [240], [240], [240], [240], [240], [240], [240]],\n",
    "    [[240], [240], [240], [240], [240], [240], [240], [240], [240], [240]],\n",
    "    [[240], [240], [240], [240], [240], [240], [240], [240], [200], [240]], #\n",
    "    [[240], [240], [240], [240], [240], [240], [240], [240], [240], [240]], \n",
    "    [[240], [240], [200], [240], [240], [240], [240], [240], [240], [240]], #\n",
    "    [[240], [240], [240], [200], [230], [240], [240], [240], [240], [240]], #\n",
    "    [[240], [240], [240], [200], [230], [240], [240], [240], [240], [240]], #\n",
    "    [[240], [240], [240], [240], [240], [240], [240], [240], [240], [240]],\n",
    "    [[240], [240], [240], [240], [240], [240], [240], [240], [240], [240]],\n",
    "    [[240], [240], [240], [240], [240], [240], [240], [240], [240], [240]]\n",
    "])\n",
    "\n",
    "plt.imshow(test_matrix)"
   ]
  },
  {
   "cell_type": "code",
   "execution_count": 27,
   "id": "d9107e57",
   "metadata": {},
   "outputs": [
    {
     "name": "stdout",
     "output_type": "stream",
     "text": [
      "Left Boundary: 2\n",
      "Left Boundary: 8\n",
      "top Boundary: 2\n",
      "bottom Boundary: 6\n"
     ]
    }
   ],
   "source": [
    "threshold = 230\n",
    "\n",
    "left_boundary = find_left_boundary(test_matrix, threshold)\n",
    "print(\"Left Boundary:\", left_boundary)\n",
    "\n",
    "right_boundary = find_right_boundary(test_matrix, threshold)\n",
    "print(\"Left Boundary:\", right_boundary)\n",
    "\n",
    "top_boundary = find_top_boundary(test_matrix, threshold)\n",
    "print(\"top Boundary:\", top_boundary)\n",
    "\n",
    "bottom_boundary = find_bottom_boundary(test_matrix, threshold)\n",
    "print(\"bottom Boundary:\", bottom_boundary)"
   ]
  },
  {
   "cell_type": "code",
   "execution_count": 29,
   "id": "4d26c5bf",
   "metadata": {},
   "outputs": [],
   "source": [
    "def crop_image(image_array, left_boundary, right_boundary, top_boundary, bottom_boundary):\n",
    "    cropped_image = image_array[top_boundary:bottom_boundary+1, left_boundary:right_boundary+1, :]\n",
    "    return cropped_image\n",
    "\n",
    "# Example usage:\n",
    "# Assuming you have the image as a 3D NumPy array named 'image'\n",
    "# and you have already calculated the boundaries using the functions mentioned earlier\n",
    "\n",
    "image = test_matrix\n",
    "\n",
    "# Calculate the boundaries (assuming you have the threshold defined)\n",
    "left_boundary = find_left_boundary(image, threshold)\n",
    "right_boundary = find_right_boundary(image, threshold)\n",
    "top_boundary = find_top_boundary(image, threshold)\n",
    "bottom_boundary = find_bottom_boundary(image, threshold)\n",
    "\n",
    "# Crop the image using the calculated boundaries\n",
    "cropped_image = crop_image(image, left_boundary, right_boundary, top_boundary, bottom_boundary)"
   ]
  },
  {
   "cell_type": "code",
   "execution_count": 37,
   "id": "7c0c7c9a",
   "metadata": {},
   "outputs": [
    {
     "data": {
      "text/plain": [
       "<matplotlib.image.AxesImage at 0x2355b5f0a90>"
      ]
     },
     "execution_count": 37,
     "metadata": {},
     "output_type": "execute_result"
    },
    {
     "data": {
      "image/png": "[encoded data removed]",
      "text/plain": [
       "<Figure size 640x480 with 1 Axes>"
      ]
     },
     "metadata": {},
     "output_type": "display_data"
    }
   ],
   "source": [
    "#display(cropped_image)\n",
    "plt.imshow(test_matrix)\n",
    "plt.imshow(cropped_image)"
   ]
  },
  {
   "cell_type": "code",
   "execution_count": 42,
   "id": "55908f20",
   "metadata": {},
   "outputs": [
    {
     "data": {
      "image/png": "[encoded data removed]",
      "text/plain": [
       "<Figure size 400x400 with 2 Axes>"
      ]
     },
     "metadata": {},
     "output_type": "display_data"
    }
   ],
   "source": [
    "import seaborn as sns\n",
    "sns.set_style(\"white\")\n",
    "_, ax = plt.subplots(1,2, figsize=(4,4))\n",
    "ax[0].imshow(image)\n",
    "ax[0].grid(False)\n",
    "ax[0].set_xticks([])\n",
    "ax[0].set_yticks([])\n",
    "\n",
    "\n",
    "ax[1].imshow(cropped_image)\n",
    "ax[1].grid(False)\n",
    "ax[1].set_xticks([])\n",
    "ax[1].set_yticks([])\n",
    "\n",
    "# ax.plot(39,5,marker = '*')\n",
    "ax[0].axhline(y = top_boundary)\n",
    "ax[0].axhline(y = bottom_boundary)\n",
    "ax[0].axvline(x = left_boundary)\n",
    "ax[0].axvline(x = right_boundary)\n",
    "sns.set()"
   ]
  },
  {
   "cell_type": "code",
   "execution_count": null,
   "id": "fbb91f98",
   "metadata": {},
   "outputs": [],
   "source": []
  }
 ],
 "metadata": {
  "kernelspec": {
   "display_name": "Python 3 (ipykernel)",
   "language": "python",
   "name": "python3"
  },
  "language_info": {
   "codemirror_mode": {
    "name": "ipython",
    "version": 3
   },
   "file_extension": ".py",
   "mimetype": "text/x-python",
   "name": "python",
   "nbconvert_exporter": "python",
   "pygments_lexer": "ipython3",
   "version": "3.11.3"
  }
 },
 "nbformat": 4,
 "nbformat_minor": 5
}
