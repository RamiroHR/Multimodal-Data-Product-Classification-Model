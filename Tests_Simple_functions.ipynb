{
 "cells": [
  {
   "cell_type": "code",
   "execution_count": 9,
   "id": "3471f121",
   "metadata": {},
   "outputs": [],
   "source": [
    "import numpy as np\n",
    "import matplotlib.pyplot as plt"
   ]
  },
  {
   "cell_type": "code",
   "execution_count": 22,
   "id": "1b6cbd6e",
   "metadata": {},
   "outputs": [],
   "source": [
    "import numpy as np\n",
    "\n",
    "def find_left_boundary(image_array, threshold=235):\n",
    "    height, width, _ = image_array.shape\n",
    "\n",
    "    left_boundary = None\n",
    "    for col in range(width):\n",
    "        for row in range(height):\n",
    "            if any(image_array[row, col] < threshold):\n",
    "                left_boundary = col\n",
    "                #print(\"left_boundary = \", left_boundary)\n",
    "                break\n",
    "        if left_boundary is not None:\n",
    "            break\n",
    "\n",
    "    if left_boundary is None:\n",
    "        left_boundary = 0\n",
    "\n",
    "    return left_boundary\n",
    "\n",
    "# Example usage:\n",
    "# Assuming you have the image as a 3D NumPy array named 'image'\n",
    "# left_boundary = find_left_boundary(image)\n"
   ]
  },
  {
   "cell_type": "code",
   "execution_count": 23,
   "id": "b0b6447a",
   "metadata": {},
   "outputs": [],
   "source": [
    "def find_right_boundary(image_array, threshold=235):\n",
    "    height, width, _ = image_array.shape\n",
    "\n",
    "    right_boundary = None\n",
    "    for col in range(width - 1, -1, -1):\n",
    "        for row in range(height):\n",
    "            if any(image_array[row, col] < threshold):\n",
    "                right_boundary = col\n",
    "                #print(\"right_boundary = \", right_boundary)\n",
    "                break\n",
    "        if right_boundary is not None:\n",
    "            break\n",
    "\n",
    "    if right_boundary is None:\n",
    "        right_boundary = width - 1\n",
    "\n",
    "    return right_boundary\n"
   ]
  },
  {
   "cell_type": "code",
   "execution_count": 24,
   "id": "4bc8289b",
   "metadata": {},
   "outputs": [],
   "source": [
    "def find_top_boundary(image_array, threshold=235):\n",
    "    height, width, _ = image_array.shape\n",
    "\n",
    "    top_boundary = None\n",
    "    for row in range(height):\n",
    "        for col in range(width):\n",
    "            if any(image_array[row, col] < threshold):\n",
    "                top_boundary = row\n",
    "                break\n",
    "        if top_boundary is not None:\n",
    "            break\n",
    "\n",
    "    if top_boundary is None:\n",
    "        top_boundary = 0\n",
    "\n",
    "    return top_boundary"
   ]
  },
  {
   "cell_type": "code",
   "execution_count": 25,
   "id": "55f26570",
   "metadata": {},
   "outputs": [],
   "source": [
    "def find_bottom_boundary(image_array, threshold=235):\n",
    "    height, width, _ = image_array.shape\n",
    "\n",
    "    bottom_boundary = None\n",
    "    for row in range(height - 1, -1, -1):\n",
    "        for col in range(width):\n",
    "            if any(image_array[row, col] < threshold):\n",
    "                bottom_boundary = row\n",
    "                break\n",
    "        if bottom_boundary is not None:\n",
    "            break\n",
    "\n",
    "    if bottom_boundary is None:\n",
    "        bottom_boundary = height - 1\n",
    "\n",
    "    return bottom_boundary"
   ]
  },
  {
   "cell_type": "code",
   "execution_count": 36,
   "id": "1db5ccc7",
   "metadata": {},
   "outputs": [
    {
     "data": {
      "text/plain": [
       "<matplotlib.image.AxesImage at 0x2355b58db90>"
      ]
     },
     "execution_count": 36,
     "metadata": {},
     "output_type": "execute_result"
    },
    {
     "data": {
      "image/png": "[encoded data removed]",
      "text/plain": [
       "<Figure size 640x480 with 1 Axes>"
      ]
     },
     "metadata": {},
     "output_type": "display_data"
    }
   ],
   "source": [
    "test_matrix = np.array([\n",
    "    [[240], [240], [240], [240], [240], [240], [240], [240], [240], [240]],\n",
    "    [[240], [240], [240], [240], [240], [240], [240], [240], [240], [240]],\n",
    "    [[240], [240], [240], [240], [240], [240], [240], [240], [200], [240]], #\n",
    "    [[240], [240], [240], [240], [240], [240], [240], [240], [240], [240]], \n",
    "    [[240], [240], [200], [240], [240], [240], [240], [240], [240], [240]], #\n",
    "    [[240], [240], [240], [200], [230], [240], [240], [240], [240], [240]], #\n",
    "    [[240], [240], [240], [200], [230], [240], [240], [240], [240], [240]], #\n",
    "    [[240], [240], [240], [240], [240], [240], [240], [240], [240], [240]],\n",
    "    [[240], [240], [240], [240], [240], [240], [240], [240], [240], [240]],\n",
    "    [[240], [240], [240], [240], [240], [240], [240], [240], [240], [240]]\n",
    "])\n",
    "\n",
    "plt.imshow(test_matrix)"
   ]
  },
  {
   "cell_type": "code",
   "execution_count": 27,
   "id": "d9107e57",
   "metadata": {},
   "outputs": [
    {
     "name": "stdout",
     "output_type": "stream",
     "text": [
      "Left Boundary: 2\n",
      "Left Boundary: 8\n",
      "top Boundary: 2\n",
      "bottom Boundary: 6\n"
     ]
    }
   ],
   "source": [
    "threshold = 230\n",
    "\n",
    "left_boundary = find_left_boundary(test_matrix, threshold)\n",
    "print(\"Left Boundary:\", left_boundary)\n",
    "\n",
    "right_boundary = find_right_boundary(test_matrix, threshold)\n",
    "print(\"Left Boundary:\", right_boundary)\n",
    "\n",
    "top_boundary = find_top_boundary(test_matrix, threshold)\n",
    "print(\"top Boundary:\", top_boundary)\n",
    "\n",
    "bottom_boundary = find_bottom_boundary(test_matrix, threshold)\n",
    "print(\"bottom Boundary:\", bottom_boundary)"
   ]
  },
  {
   "cell_type": "code",
   "execution_count": 29,
   "id": "4d26c5bf",
   "metadata": {},
   "outputs": [],
   "source": [
    "def crop_image(image_array, left_boundary, right_boundary, top_boundary, bottom_boundary):\n",
    "    cropped_image = image_array[top_boundary:bottom_boundary+1, left_boundary:right_boundary+1, :]\n",
    "    return cropped_image\n",
    "\n",
    "# Example usage:\n",
    "# Assuming you have the image as a 3D NumPy array named 'image'\n",
    "# and you have already calculated the boundaries using the functions mentioned earlier\n",
    "\n",
    "image = test_matrix\n",
    "\n",
    "# Calculate the boundaries (assuming you have the threshold defined)\n",
    "left_boundary = find_left_boundary(image, threshold)\n",
    "right_boundary = find_right_boundary(image, threshold)\n",
    "top_boundary = find_top_boundary(image, threshold)\n",
    "bottom_boundary = find_bottom_boundary(image, threshold)\n",
    "\n",
    "# Crop the image using the calculated boundaries\n",
    "cropped_image = crop_image(image, left_boundary, right_boundary, top_boundary, bottom_boundary)"
   ]
  },
  {
   "cell_type": "code",
   "execution_count": 37,
   "id": "7c0c7c9a",
   "metadata": {},
   "outputs": [
    {
     "data": {
      "text/plain": [
       "<matplotlib.image.AxesImage at 0x2355b5f0a90>"
      ]
     },
     "execution_count": 37,
     "metadata": {},
     "output_type": "execute_result"
    },
    {
     "data": {
      "image/png": "[encoded data removed]",
      "text/plain": [
       "<Figure size 640x480 with 1 Axes>"
      ]
     },
     "metadata": {},
     "output_type": "display_data"
    }
   ],
   "source": [
    "#display(cropped_image)\n",
    "plt.imshow(test_matrix)\n",
    "plt.imshow(cropped_image)"
   ]
  },
  {
   "cell_type": "code",
   "execution_count": 42,
   "id": "55908f20",
   "metadata": {},
   "outputs": [
    {
     "data": {
      "image/png": "[encoded data removed]",
      "text/plain": [
       "<Figure size 400x400 with 2 Axes>"
      ]
     },
     "metadata": {},
     "output_type": "display_data"
    }
   ],
   "source": [
    "import seaborn as sns\n",
    "sns.set_style(\"white\")\n",
    "_, ax = plt.subplots(1,2, figsize=(4,4))\n",
    "ax[0].imshow(image)\n",
    "ax[0].grid(False)\n",
    "ax[0].set_xticks([])\n",
    "ax[0].set_yticks([])\n",
    "\n",
    "\n",
    "ax[1].imshow(cropped_image)\n",
    "ax[1].grid(False)\n",
    "ax[1].set_xticks([])\n",
    "ax[1].set_yticks([])\n",
    "\n",
    "# ax.plot(39,5,marker = '*')\n",
    "ax[0].axhline(y = top_boundary)\n",
    "ax[0].axhline(y = bottom_boundary)\n",
    "ax[0].axvline(x = left_boundary)\n",
    "ax[0].axvline(x = right_boundary)\n",
    "sns.set()"
   ]
  },
  {
   "cell_type": "code",
   "execution_count": 7,
   "id": "fbb91f98",
   "metadata": {},
   "outputs": [
    {
     "data": {
      "text/plain": [
       "'20230731_1751'"
      ]
     },
     "execution_count": 7,
     "metadata": {},
     "output_type": "execute_result"
    }
   ],
   "source": [
    "from datetime import date, datetime\n",
    "today = date.today()\n",
    "# print(\"Today's date:\", today)\n",
    "now = datetime.now() \n",
    "# print(\"now =\", now)\n",
    "today.strftime(\"%Y%m%d\") +'_'+ now.strftime(\"%H%M\")\n"
   ]
  },
  {
   "cell_type": "code",
   "execution_count": 6,
   "id": "2df12e2e",
   "metadata": {},
   "outputs": [
    {
     "data": {
      "text/plain": [
       "'20230731_1749'"
      ]
     },
     "execution_count": 6,
     "metadata": {},
     "output_type": "execute_result"
    }
   ],
   "source": []
  },
  {
   "cell_type": "markdown",
   "id": "45681fb4",
   "metadata": {},
   "source": [
    "### There is a bug in top or bottom boundaries"
   ]
  },
  {
   "cell_type": "code",
   "execution_count": 148,
   "id": "b05904a3",
   "metadata": {},
   "outputs": [],
   "source": [
    "\n",
    "def find_left_boundary(image_array, threshold):\n",
    "    height, width, _ = image_array.shape\n",
    "\n",
    "    left_boundary = None\n",
    "    for col in range(width):\n",
    "        \n",
    "        if np.any(image_array[:,col,:] < threshold):\n",
    "            left_boundary = col\n",
    "            break\n",
    "\n",
    "    if left_boundary is None:\n",
    "        left_boundary = 0\n",
    "\n",
    "    return left_boundary\n",
    "\n",
    "def find_right_boundary(image_array, threshold):\n",
    "    height, width, _ = image_array.shape\n",
    "\n",
    "    right_boundary = None\n",
    "    for col in range(width - 1, -1, -1):\n",
    "        \n",
    "        if np.any(image_array[:,col,:] < threshold):\n",
    "            right_boundary = col\n",
    "            break\n",
    "\n",
    "    if right_boundary is None:\n",
    "        right_boundary = width - 1\n",
    "\n",
    "    return right_boundary\n",
    "\n",
    "def find_top_boundary(image_array, threshold):\n",
    "    height, width, _ = image_array.shape\n",
    "\n",
    "    top_boundary = None\n",
    "    for row in range(height):\n",
    "    \n",
    "        if np.any(image_array[row,:,:] < threshold):\n",
    "            top_boundary = row\n",
    "            break\n",
    "\n",
    "    if top_boundary is None:\n",
    "        top_boundary = 0\n",
    "\n",
    "    return top_boundary\n",
    "\n",
    "def find_bottom_boundary(image_array, threshold):\n",
    "    height, width, _ = image_array.shape\n",
    "\n",
    "    bottom_boundary = None\n",
    "    for row in range(height - 1, -1, -1):\n",
    "        \n",
    "        if np.any(image_array[row,:,:] < threshold):\n",
    "            bottom_boundary = row\n",
    "            break\n",
    "\n",
    "    if bottom_boundary is None:\n",
    "        bottom_boundary = height - 1\n",
    "\n",
    "    return bottom_boundary\n",
    "\n",
    "# l, r, t, b  = 2 8 3 6\n",
    "\n",
    "# cw = 8-2+1 = 7\n",
    "# ch = 6-3+1 = 4\n",
    "# sl = max(7,4) = 7\n",
    "\n",
    "# hp = (7-7)//2 = 0\n",
    "# vp = (7-4)//2 = 3//2 = 1 ****\n",
    "\n",
    "# L = max(0,2-0) = 2\n",
    "# R = min(10-1, 8+0) = min(9,8) = 8\n",
    "# T = max(0, 3-1) = 2 ****\n",
    "# B = min(10-1, 6+1) = 7 ****\n",
    "\n",
    "def crop_square(image_array, left, right, top, bottom):\n",
    "    cropped_width = right - left + 1\n",
    "    cropped_height = bottom - top + 1\n",
    "    \n",
    "#     if cropped_width % 2 != 0:\n",
    "#         cropped_width += 1\n",
    "#         print(\"a\")\n",
    "#     if cropped_height % 2 != 0:\n",
    "#         cropped_height += 1\n",
    "#         print(\"b\")\n",
    "    print(\"cw, ch =\", cropped_width, cropped_height)\n",
    "\n",
    "    # Calculate the side length of the largest square that fits all boundaries\n",
    "    side_length = max(cropped_width, cropped_height)\n",
    "    print(\"side_length =\", side_length)\n",
    "    \n",
    "    horizontal_pad = (side_length - cropped_width) // 2\n",
    "    vertical_pad = (side_length - cropped_height ) // 2 \n",
    "    \n",
    "    print(\"hp\", horizontal_pad)\n",
    "    print(\"vp\", vertical_pad)\n",
    "    \n",
    "    left_new = max(0, left - horizontal_pad)\n",
    "    right_new = min(image_array.shape[1] - 1, right + horizontal_pad)\n",
    "    top_new = max(0, top - vertical_pad)\n",
    "    bottom_new = min(image_array.shape[0] - 1, bottom + vertical_pad )\n",
    "    \n",
    "#     print(\"differences:\")\n",
    "#     print((right_new - left_new)) \n",
    "#     print((bottom_new - top_new))\n",
    "    if (right_new - left_new) > (bottom_new - top_new):\n",
    "            if top_new > 0:\n",
    "                top_new = top - vertical_pad - 1\n",
    "            elif bottom_new < image_array.shape[0] - 1:\n",
    "                bottom_new = bottom + vertical_pad + 1\n",
    "    elif (right_new - left_new) < (bottom_new - top_new):\n",
    "            if left_new > 0:\n",
    "                left_new = left - horizontal_pad - 1\n",
    "            elif right_new < image_array.shape[1] - 1:\n",
    "                right_new = right + horizontal_pad + 1\n",
    "\n",
    "    \n",
    "    \n",
    "    \n",
    "    print(\"new_boundaries LRTB = \",left_new, right_new, top_new, bottom_new)\n",
    "\n",
    "    cropped_image = image_array[top_new : bottom_new+1, left_new : right_new+1, :]\n",
    "    return cropped_image"
   ]
  },
  {
   "cell_type": "code",
   "execution_count": 158,
   "id": "41e018c2",
   "metadata": {},
   "outputs": [
    {
     "name": "stdout",
     "output_type": "stream",
     "text": [
      "(10, 10, 1)\n",
      "(10, 10, 1)\n"
     ]
    },
    {
     "data": {
      "image/png": "[encoded data removed]",
      "text/plain": [
       "<Figure size 640x480 with 1 Axes>"
      ]
     },
     "metadata": {},
     "output_type": "display_data"
    }
   ],
   "source": [
    "image = np.array([\n",
    "    [[240], [240], [240], [240], [240], [240], [240], [240], [240], [240]],\n",
    "    [[240], [240], [240], [240], [240], [240], [240], [240], [240], [240]],\n",
    "    [[240], [240], [240], [240], [240], [240], [240], [240], [240], [240]], #\n",
    "    [[240], [240], [240], [240], [240], [240], [240], [240], [100], [240]], \n",
    "    [[240], [240], [140], [100], [240], [240], [240], [240], [240], [240]], #\n",
    "    [[240], [240], [240], [200], [230], [240], [240], [240], [240], [240]], #\n",
    "    [[240], [240], [240], [200], [230], [240], [240], [240], [240], [240]], #\n",
    "    [[240], [240], [240], [240], [240], [240], [240], [240], [240], [240]],\n",
    "    [[240], [240], [240], [240], [240], [240], [240], [240], [240], [240]],\n",
    "    [[240], [240], [240], [240], [240], [240], [240], [240], [240], [240]]\n",
    "])\n",
    "\n",
    "print(image.shape)\n",
    "image[:,:,0] = image[:,:,0].transpose()\n",
    "\n",
    "plt.imshow(image)\n",
    "print(image.shape)"
   ]
  },
  {
   "cell_type": "code",
   "execution_count": 159,
   "id": "2f983f31",
   "metadata": {},
   "outputs": [
    {
     "name": "stdout",
     "output_type": "stream",
     "text": [
      "Left Boundary: 3\n",
      "Right Boundary: 6\n",
      "top Boundary: 2\n",
      "bottom Boundary: 8\n",
      "cw, ch = 4 7\n",
      "side_length = 7\n",
      "hp 1\n",
      "vp 0\n",
      "new_boundaries LRTB =  1 7 2 8\n"
     ]
    }
   ],
   "source": [
    "#image = test_matrix\n",
    "threshold = 230\n",
    "\n",
    "# Calculate the boundaries (assuming you have the threshold defined)\n",
    "left_boundary = find_left_boundary(image, threshold)\n",
    "right_boundary = find_right_boundary(image, threshold)\n",
    "top_boundary = find_top_boundary(image, threshold)\n",
    "bottom_boundary = find_bottom_boundary(image, threshold)\n",
    "\n",
    "print(\"Left Boundary:\", left_boundary)\n",
    "print(\"Right Boundary:\", right_boundary)\n",
    "print(\"top Boundary:\", top_boundary)\n",
    "print(\"bottom Boundary:\", bottom_boundary)\n",
    "\n",
    "\n",
    "# Crop the image using the calculated boundaries\n",
    "cropped_image = crop_square(image, left_boundary, right_boundary, top_boundary, bottom_boundary)"
   ]
  },
  {
   "attachments": {
    "image.png": {
     "image/png": "[encoded data removed]"
    }
   },
   "cell_type": "markdown",
   "id": "b757f50b",
   "metadata": {},
   "source": [
    "![image.png](attachment:image.png)"
   ]
  },
  {
   "cell_type": "code",
   "execution_count": 160,
   "id": "6ebd01ff",
   "metadata": {},
   "outputs": [
    {
     "data": {
      "image/png": "[encoded data removed]",
      "text/plain": [
       "<Figure size 1000x1000 with 2 Axes>"
      ]
     },
     "metadata": {},
     "output_type": "display_data"
    }
   ],
   "source": [
    "\n",
    "fig, axs = plt.subplots(1,2, figsize=(10,10))\n",
    "axs[0].imshow(image[:,:,::-1])\n",
    "axs[1].imshow(cropped_image[:,:,::-1])\n",
    "\n",
    "axs[0].set_title(\"image shape = \" + str(image.shape))\n",
    "axs[1].set_title(\"image shape = \" + str(cropped_image.shape))\n",
    "\n",
    "for ax in axs:\n",
    "    ax.grid(False)\n",
    "    ax.set_xticks([])\n",
    "    ax.set_yticks([])\n"
   ]
  },
  {
   "cell_type": "markdown",
   "id": "57abc2ea",
   "metadata": {},
   "source": [
    "<div class=\"alert alert-info\">\n",
    "<i class=\"fa fa-info-circle\"></i> &emsp; \n",
    "    Ramiro This is an important message\n",
    "</div>"
   ]
  },
  {
   "cell_type": "code",
   "execution_count": 23,
   "id": "4000ba12",
   "metadata": {},
   "outputs": [
    {
     "data": {
      "text/plain": [
       "array([  1,   2,   3,   4,   5,   6,   7,   8,   9,  10,  11,  12,  13,\n",
       "        14,  15,  16,  17,  18,  19,  20,  21,  22,  23,  24,  25,  26,\n",
       "        27,  28,  29,  30,  31,  32,  33,  34,  35,  36,  37,  38,  39,\n",
       "        40,  41,  42,  43,  44,  45,  46,  47,  48,  49,  50,  51,  52,\n",
       "        53,  54,  55,  56,  57,  58,  59,  60,  61,  62,  63,  64,  65,\n",
       "        66,  67,  68,  69,  70,  71,  72,  73,  74,  75,  76,  77,  78,\n",
       "        79,  80,  81,  82,  83,  84,  85,  86,  87,  88,  89,  90,  91,\n",
       "        92,  93,  94,  95,  96,  97,  98,  99, 100])"
      ]
     },
     "execution_count": 23,
     "metadata": {},
     "output_type": "execute_result"
    }
   ],
   "source": [
    "import numpy as np\n",
    "x = np.arange(0,100,1) + 1\n",
    "x"
   ]
  },
  {
   "cell_type": "code",
   "execution_count": 24,
   "id": "d8ce11d7",
   "metadata": {},
   "outputs": [],
   "source": [
    "xv = x.reshape(-1,1)"
   ]
  },
  {
   "cell_type": "code",
   "execution_count": 30,
   "id": "ca8c983e",
   "metadata": {},
   "outputs": [
    {
     "data": {
      "text/plain": [
       "array([[0.98316498],\n",
       "       [0.996633  ],\n",
       "       [1.01010101],\n",
       "       [1.02356902],\n",
       "       [1.03703704]])"
      ]
     },
     "execution_count": 30,
     "metadata": {},
     "output_type": "execute_result"
    }
   ],
   "source": [
    "from sklearn.preprocessing import RobustScaler\n",
    "\n",
    "scaler = RobustScaler(with_centering = False, quantile_range = (0.0 , 75.0) ).fit(xv)\n",
    "x_sc = scaler.transform(xv)\n",
    "\n",
    "x_sc[72:77]"
   ]
  },
  {
   "cell_type": "code",
   "execution_count": 28,
   "id": "c0dc5cec",
   "metadata": {},
   "outputs": [],
   "source": [
    "scaler.center_"
   ]
  },
  {
   "cell_type": "code",
   "execution_count": 29,
   "id": "6617b5f8",
   "metadata": {},
   "outputs": [
    {
     "data": {
      "text/plain": [
       "array([74.25])"
      ]
     },
     "execution_count": 29,
     "metadata": {},
     "output_type": "execute_result"
    }
   ],
   "source": [
    "scaler.scale_"
   ]
  },
  {
   "cell_type": "code",
   "execution_count": null,
   "id": "ab4a2423",
   "metadata": {},
   "outputs": [],
   "source": []
  },
  {
   "cell_type": "code",
   "execution_count": null,
   "id": "25a27248",
   "metadata": {},
   "outputs": [],
   "source": []
  },
  {
   "cell_type": "code",
   "execution_count": null,
   "id": "d0e5e5eb",
   "metadata": {},
   "outputs": [],
   "source": []
  },
  {
   "cell_type": "code",
   "execution_count": null,
   "id": "9e5972eb",
   "metadata": {},
   "outputs": [],
   "source": []
  },
  {
   "cell_type": "code",
   "execution_count": 8,
   "id": "c5fecd87",
   "metadata": {},
   "outputs": [
    {
     "data": {
      "text/plain": [
       "scipy.sparse._csr.csr_matrix"
      ]
     },
     "execution_count": 8,
     "metadata": {},
     "output_type": "execute_result"
    }
   ],
   "source": [
    "import numpy as np\n",
    "from scipy.sparse import csr_matrix\n",
    "X1 = csr_matrix((3, 4), dtype=float)\n",
    "\n",
    "type(X1)\n",
    "# print(X1)\n",
    "# scipy.sparse.csr.csr_matrix\n",
    "\n",
    "# this will not work:\n",
    "# X_train.todense()\n",
    "# type(X_train)\n",
    "# scipy.sparse.csr.csr_matrix # still sparse\n",
    "\n",
    "# this will work:\n",
    "# X_train = X_train.toarray()\n",
    "# type(X_train)\n",
    "# numpy.ndarray"
   ]
  },
  {
   "cell_type": "code",
   "execution_count": 12,
   "id": "930a5681",
   "metadata": {},
   "outputs": [
    {
     "name": "stdout",
     "output_type": "stream",
     "text": [
      "[[0. 0. 0. 0.]\n",
      " [0. 0. 0. 0.]\n",
      " [0. 0. 0. 0.]]\n"
     ]
    }
   ],
   "source": [
    "print(X1.todense())"
   ]
  },
  {
   "cell_type": "code",
   "execution_count": 13,
   "id": "1b096be9",
   "metadata": {},
   "outputs": [
    {
     "name": "stdout",
     "output_type": "stream",
     "text": [
      "[[0. 0. 0. 0.]\n",
      " [0. 0. 0. 0.]\n",
      " [0. 0. 0. 0.]]\n"
     ]
    }
   ],
   "source": [
    "print(X1.toarray())"
   ]
  },
  {
   "cell_type": "code",
   "execution_count": null,
   "id": "d926e2df",
   "metadata": {},
   "outputs": [],
   "source": []
  }
 ],
 "metadata": {
  "kernelspec": {
   "display_name": "Python 3 (ipykernel)",
   "language": "python",
   "name": "python3"
  },
  "language_info": {
   "codemirror_mode": {
    "name": "ipython",
    "version": 3
   },
   "file_extension": ".py",
   "mimetype": "text/x-python",
   "name": "python",
   "nbconvert_exporter": "python",
   "pygments_lexer": "ipython3",
   "version": "3.10.9"
  }
 },
 "nbformat": 4,
 "nbformat_minor": 5
}
