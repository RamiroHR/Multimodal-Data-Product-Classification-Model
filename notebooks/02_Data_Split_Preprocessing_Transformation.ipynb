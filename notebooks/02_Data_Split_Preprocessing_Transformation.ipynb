{
 "cells": [
  {
   "cell_type": "markdown",
   "id": "53e257de",
   "metadata": {},
   "source": [
    "# Data Splitting - Preprocessing - Tranformations\n",
    "**This notebook:** \n",
    "* Defines the data subsets for training the base models on the same sets.\n",
    "* Performs only the relevant data preprocessing seen in during the Data Exploration phase.\n",
    "* Performs the data transformatino needed to be compatible with the machine learning models:\n",
    "    * resizing\n",
    "    * normalizations\n",
    "    * vectorization\n",
    "* The datasets are progressively being saved locally to manage the memory usage. The base models will then reload the needed data tranformed sets according to their requirements.  \n",
    "\n",
    "**The notebook includes, as example, a simple NN to train on text data and a CNN to train image data mainly to check the usability of the tranformed datasets.**"
   ]
  },
  {
   "cell_type": "markdown",
   "id": "9e1392d4",
   "metadata": {},
   "source": [
    "# Import libraries"
   ]
  },
  {
   "cell_type": "code",
   "execution_count": 1,
   "id": "76b35d97",
   "metadata": {
    "scrolled": true
   },
   "outputs": [
    {
     "data": {
      "text/plain": [
       "<module 'Data_Preprocessing_Transformation_tools' from 'C:\\\\Ramiro\\\\Data Science\\\\0_DataScientest\\\\02_DS_project\\\\Raku_ten_23\\\\Data_Preprocessing_Transformation_tools.py'>"
      ]
     },
     "execution_count": 1,
     "metadata": {},
     "output_type": "execute_result"
    }
   ],
   "source": [
    "import pandas as pd\n",
    "import numpy as np\n",
    "\n",
    "import nltk\n",
    "nltk.download('popular', quiet = True)\n",
    "\n",
    "import os\n",
    "import time\n",
    "\n",
    "%load_ext autoreload\n",
    "%autoreload 2\n",
    "import importlib\n",
    "\n",
    "import Data_Preprocessing_Transformation_tools as dpt\n",
    "importlib.reload(dpt)"
   ]
  },
  {
   "cell_type": "markdown",
   "id": "e78b45f6",
   "metadata": {},
   "source": [
    "**Global parameters**"
   ]
  },
  {
   "cell_type": "code",
   "execution_count": 2,
   "id": "5b36d2f8",
   "metadata": {},
   "outputs": [],
   "source": [
    "### Create the necessary folders as specified in the following paths:\n",
    "\n",
    "myseed = 123\n",
    "\n",
    "images_path = '../datasets/image_train/'      # location of the original datasets\n",
    "splitting_path = '../Splitted_datasets/'      # location to store the splitted datasets\n",
    "preprocessing_path = '../Preprocessed_data/'  # location to store the preprocessed and transformed dataset\n",
    "\n",
    "# training_path = '../Trained_models_and_metrics/'\n",
    "# fusion_path = '../Fusion_models_and_data/'"
   ]
  },
  {
   "cell_type": "markdown",
   "id": "e5d233d1",
   "metadata": {},
   "source": [
    "### product categories"
   ]
  },
  {
   "cell_type": "code",
   "execution_count": 4,
   "id": "d87f5d65",
   "metadata": {},
   "outputs": [
    {
     "name": "stdout",
     "output_type": "stream",
     "text": [
      "(27, 3)\n"
     ]
    },
    {
     "data": {
      "text/html": [
       "<div>\n",
       "<style scoped>\n",
       "    .dataframe tbody tr th:only-of-type {\n",
       "        vertical-align: middle;\n",
       "    }\n",
       "\n",
       "    .dataframe tbody tr th {\n",
       "        vertical-align: top;\n",
       "    }\n",
       "\n",
       "    .dataframe thead th {\n",
       "        text-align: right;\n",
       "    }\n",
       "</style>\n",
       "<table border=\"1\" class=\"dataframe\">\n",
       "  <thead>\n",
       "    <tr style=\"text-align: right;\">\n",
       "      <th></th>\n",
       "      <th>target</th>\n",
       "      <th>prdtypecode</th>\n",
       "      <th>prodtype</th>\n",
       "    </tr>\n",
       "  </thead>\n",
       "  <tbody>\n",
       "    <tr>\n",
       "      <th>0</th>\n",
       "      <td>0</td>\n",
       "      <td>10</td>\n",
       "      <td>livres_adulte</td>\n",
       "    </tr>\n",
       "    <tr>\n",
       "      <th>1</th>\n",
       "      <td>24</td>\n",
       "      <td>40</td>\n",
       "      <td>jeux_videos_import</td>\n",
       "    </tr>\n",
       "    <tr>\n",
       "      <th>2</th>\n",
       "      <td>25</td>\n",
       "      <td>50</td>\n",
       "      <td>accessoires_jeux_videos</td>\n",
       "    </tr>\n",
       "    <tr>\n",
       "      <th>3</th>\n",
       "      <td>26</td>\n",
       "      <td>60</td>\n",
       "      <td>jeux_et_consoles_retro</td>\n",
       "    </tr>\n",
       "    <tr>\n",
       "      <th>4</th>\n",
       "      <td>1</td>\n",
       "      <td>1140</td>\n",
       "      <td>goodies_geek</td>\n",
       "    </tr>\n",
       "  </tbody>\n",
       "</table>\n",
       "</div>"
      ],
      "text/plain": [
       "   target  prdtypecode                 prodtype\n",
       "0       0           10            livres_adulte\n",
       "1      24           40       jeux_videos_import\n",
       "2      25           50  accessoires_jeux_videos\n",
       "3      26           60   jeux_et_consoles_retro\n",
       "4       1         1140             goodies_geek"
      ]
     },
     "execution_count": 4,
     "metadata": {},
     "output_type": "execute_result"
    }
   ],
   "source": [
    "product_class = pd.read_csv('../datasets/product_class.csv', sep = ';')\n",
    "print(product_class.shape)\n",
    "product_class.head()"
   ]
  },
  {
   "cell_type": "code",
   "execution_count": null,
   "id": "2cd4f4ff",
   "metadata": {},
   "outputs": [],
   "source": []
  },
  {
   "cell_type": "markdown",
   "id": "b9f19ff0",
   "metadata": {},
   "source": [
    "# 1 - Import raw dataset\n",
    "* Define train & test splits. \n",
    "* Split datasets. "
   ]
  },
  {
   "cell_type": "markdown",
   "id": "f96db39c",
   "metadata": {},
   "source": [
    "### Import raw datasets: features and targets"
   ]
  },
  {
   "cell_type": "code",
   "execution_count": 8,
   "id": "4f8fde64",
   "metadata": {},
   "outputs": [
    {
     "name": "stdout",
     "output_type": "stream",
     "text": [
      "<class 'pandas.core.frame.DataFrame'> <class 'pandas.core.series.Series'>\n"
     ]
    }
   ],
   "source": [
    "## import raw datasets: features and target\n",
    "df_X = pd.read_csv('../datasets/X_train_update.csv', index_col = 0)\n",
    "df_y = pd.read_csv('../datasets/Y_train_CVw08PX.csv', index_col = 0).squeeze()  ## for correct splitting\n",
    "\n",
    "print(type(df_X), type(df_y))"
   ]
  },
  {
   "cell_type": "code",
   "execution_count": 9,
   "id": "5c6a89ce",
   "metadata": {},
   "outputs": [
    {
     "data": {
      "text/html": [
       "<div>\n",
       "<style scoped>\n",
       "    .dataframe tbody tr th:only-of-type {\n",
       "        vertical-align: middle;\n",
       "    }\n",
       "\n",
       "    .dataframe tbody tr th {\n",
       "        vertical-align: top;\n",
       "    }\n",
       "\n",
       "    .dataframe thead th {\n",
       "        text-align: right;\n",
       "    }\n",
       "</style>\n",
       "<table border=\"1\" class=\"dataframe\">\n",
       "  <thead>\n",
       "    <tr style=\"text-align: right;\">\n",
       "      <th></th>\n",
       "      <th>designation</th>\n",
       "      <th>description</th>\n",
       "      <th>productid</th>\n",
       "      <th>imageid</th>\n",
       "    </tr>\n",
       "  </thead>\n",
       "  <tbody>\n",
       "    <tr>\n",
       "      <th>0</th>\n",
       "      <td>Olivia: Personalisiertes Notizbuch / 150 Seite...</td>\n",
       "      <td>NaN</td>\n",
       "      <td>3804725264</td>\n",
       "      <td>1263597046</td>\n",
       "    </tr>\n",
       "    <tr>\n",
       "      <th>1</th>\n",
       "      <td>Journal Des Arts (Le) N° 133 Du 28/09/2001 - L...</td>\n",
       "      <td>NaN</td>\n",
       "      <td>436067568</td>\n",
       "      <td>1008141237</td>\n",
       "    </tr>\n",
       "    <tr>\n",
       "      <th>2</th>\n",
       "      <td>Grand Stylet Ergonomique Bleu Gamepad Nintendo...</td>\n",
       "      <td>PILOT STYLE Touch Pen de marque Speedlink est ...</td>\n",
       "      <td>201115110</td>\n",
       "      <td>938777978</td>\n",
       "    </tr>\n",
       "    <tr>\n",
       "      <th>3</th>\n",
       "      <td>Peluche Donald - Europe - Disneyland 2000 (Mar...</td>\n",
       "      <td>NaN</td>\n",
       "      <td>50418756</td>\n",
       "      <td>457047496</td>\n",
       "    </tr>\n",
       "    <tr>\n",
       "      <th>4</th>\n",
       "      <td>La Guerre Des Tuques</td>\n",
       "      <td>Luc a des id&amp;eacute;es de grandeur. Il veut or...</td>\n",
       "      <td>278535884</td>\n",
       "      <td>1077757786</td>\n",
       "    </tr>\n",
       "  </tbody>\n",
       "</table>\n",
       "</div>"
      ],
      "text/plain": [
       "                                         designation  \\\n",
       "0  Olivia: Personalisiertes Notizbuch / 150 Seite...   \n",
       "1  Journal Des Arts (Le) N° 133 Du 28/09/2001 - L...   \n",
       "2  Grand Stylet Ergonomique Bleu Gamepad Nintendo...   \n",
       "3  Peluche Donald - Europe - Disneyland 2000 (Mar...   \n",
       "4                               La Guerre Des Tuques   \n",
       "\n",
       "                                         description   productid     imageid  \n",
       "0                                                NaN  3804725264  1263597046  \n",
       "1                                                NaN   436067568  1008141237  \n",
       "2  PILOT STYLE Touch Pen de marque Speedlink est ...   201115110   938777978  \n",
       "3                                                NaN    50418756   457047496  \n",
       "4  Luc a des id&eacute;es de grandeur. Il veut or...   278535884  1077757786  "
      ]
     },
     "metadata": {},
     "output_type": "display_data"
    },
    {
     "name": "stdout",
     "output_type": "stream",
     "text": [
      "Int64Index([    0,     1,     2,     3,     4,     5,     6,     7,     8,\n",
      "                9,\n",
      "            ...\n",
      "            84906, 84907, 84908, 84909, 84910, 84911, 84912, 84913, 84914,\n",
      "            84915],\n",
      "           dtype='int64', length=84916)\n"
     ]
    }
   ],
   "source": [
    "display(df_X.head())\n",
    "print(df_X.index)"
   ]
  },
  {
   "cell_type": "code",
   "execution_count": 10,
   "id": "9af810bc",
   "metadata": {},
   "outputs": [
    {
     "data": {
      "text/plain": [
       "0      10\n",
       "1    2280\n",
       "2      50\n",
       "3    1280\n",
       "4    2705\n",
       "Name: prdtypecode, dtype: int64"
      ]
     },
     "metadata": {},
     "output_type": "display_data"
    },
    {
     "name": "stdout",
     "output_type": "stream",
     "text": [
      "Int64Index([    0,     1,     2,     3,     4,     5,     6,     7,     8,\n",
      "                9,\n",
      "            ...\n",
      "            84906, 84907, 84908, 84909, 84910, 84911, 84912, 84913, 84914,\n",
      "            84915],\n",
      "           dtype='int64', length=84916)\n"
     ]
    }
   ],
   "source": [
    "display(df_y.head())\n",
    "print(df_y.index)"
   ]
  },
  {
   "cell_type": "markdown",
   "id": "f5eb0c9f",
   "metadata": {},
   "source": [
    "### Define train test splitting"
   ]
  },
  {
   "cell_type": "code",
   "execution_count": 11,
   "id": "ff8b939d",
   "metadata": {},
   "outputs": [],
   "source": [
    "from sklearn.model_selection import train_test_split\n",
    "\n",
    "## train-test split raw data\n",
    "df_X_train, df_X_test, df_y_train, df_y_test = train_test_split(df_X, df_y, test_size = 0.2, \\\n",
    "                                                                random_state = myseed, stratify = df_y)\n"
   ]
  },
  {
   "cell_type": "code",
   "execution_count": 11,
   "id": "0271e2f2",
   "metadata": {},
   "outputs": [
    {
     "data": {
      "text/plain": [
       "Int64Index([76291, 35651, 23689, 27954, 53964, 25569,   462, 76121, 81032,\n",
       "            80184,\n",
       "            ...\n",
       "            43294, 23597, 28244,  7725, 20720, 84173, 53364, 62653, 33334,\n",
       "            83750],\n",
       "           dtype='int64', length=16984)"
      ]
     },
     "execution_count": 11,
     "metadata": {},
     "output_type": "execute_result"
    }
   ],
   "source": [
    "df_y_test.index"
   ]
  },
  {
   "cell_type": "markdown",
   "id": "3cdbfc26",
   "metadata": {},
   "source": [
    "### Save splitted datasets"
   ]
  },
  {
   "cell_type": "code",
   "execution_count": 16,
   "id": "8a872e8e",
   "metadata": {},
   "outputs": [
    {
     "name": "stdout",
     "output_type": "stream",
     "text": [
      "Datasets were not saved locally. Set doit = True to store them\n"
     ]
    }
   ],
   "source": [
    "## save splitted dataframes\n",
    "dpt.save(datasets = [df_X_train, df_X_test, df_y_train, df_y_test], \\\n",
    "             types = ['dataframe', 'dataframe', 'dataframe', 'dataframe'], \\\n",
    "             names = ['df_X_train', 'df_X_test', 'df_y_train', 'df_y_test'], \\\n",
    "              path = splitting_path, doit = False, verbose = True)\n"
   ]
  },
  {
   "cell_type": "markdown",
   "id": "c0a0b97e",
   "metadata": {},
   "source": [
    "<div class=\"alert alert-info\">\n",
    "<i class=\"fa fa-info-circle\"></i> &emsp; \n",
    "    From now on, the <b>test dataset</b> will only be used to measure the final models performance on new data.\n",
    "</div>"
   ]
  },
  {
   "cell_type": "markdown",
   "id": "7eabaa78",
   "metadata": {},
   "source": [
    "# 2 - _Text data_"
   ]
  },
  {
   "cell_type": "markdown",
   "id": "1958492c",
   "metadata": {},
   "source": [
    "## 2.1 - Preprocess Text Data\n",
    "* Clean data\n",
    "* Feature engineering\n",
    "* Address NaNs"
   ]
  },
  {
   "cell_type": "code",
   "execution_count": 17,
   "id": "bee47ca4",
   "metadata": {},
   "outputs": [
    {
     "name": "stdout",
     "output_type": "stream",
     "text": [
      "Column 'designation' has been renamed as 'title' \n",
      "\n",
      "Columns 'title' and 'description' have been concatenated in a new variable 'title_descr' \n",
      "\n",
      "Column 'title_descr' has been successfully HTML parsed and decapitalized.\n",
      "\t HTML parsing takes 17.02 seconds \n",
      "\n",
      "Column 'title_descr' has been successfully tokenized.\n",
      "\t Tokenization + Lemmatization takes 22.46 seconds \n",
      "\n",
      "Main language detection takes 4.03 minutes.\n",
      "\t Language detection correction takes 2.92 seconds \n",
      "\n",
      "Removing stop-words takes 30.61 seconds. \n",
      "\n",
      "Token counting takes 0.03 seconds. \n",
      "\n",
      "Column 'designation' has been renamed as 'title' \n",
      "\n",
      "Columns 'title' and 'description' have been concatenated in a new variable 'title_descr' \n",
      "\n",
      "Column 'title_descr' has been successfully HTML parsed and decapitalized.\n",
      "\t HTML parsing takes 4.23 seconds \n",
      "\n",
      "Column 'title_descr' has been successfully tokenized.\n",
      "\t Tokenization + Lemmatization takes 5.21 seconds \n",
      "\n",
      "Main language detection takes 0.93 minutes.\n",
      "\t Language detection correction takes 1.94 seconds \n",
      "\n",
      "Removing stop-words takes 4.34 seconds. \n",
      "\n",
      "Token counting takes 0.01 seconds. \n",
      "\n"
     ]
    }
   ],
   "source": [
    "## preprocess datasets: Data cleaning & Feature engineering\n",
    "\n",
    "df_X_train_preprocess = dpt.preprocess_text_data(df_X_train, verbose = True)\n",
    "df_X_test_preprocess = dpt.preprocess_text_data(df_X_test, verbose = True)\n"
   ]
  },
  {
   "cell_type": "code",
   "execution_count": 18,
   "id": "0f5f1b5f",
   "metadata": {},
   "outputs": [
    {
     "data": {
      "text/html": [
       "<div>\n",
       "<style scoped>\n",
       "    .dataframe tbody tr th:only-of-type {\n",
       "        vertical-align: middle;\n",
       "    }\n",
       "\n",
       "    .dataframe tbody tr th {\n",
       "        vertical-align: top;\n",
       "    }\n",
       "\n",
       "    .dataframe thead th {\n",
       "        text-align: right;\n",
       "    }\n",
       "</style>\n",
       "<table border=\"1\" class=\"dataframe\">\n",
       "  <thead>\n",
       "    <tr style=\"text-align: right;\">\n",
       "      <th></th>\n",
       "      <th>title</th>\n",
       "      <th>description</th>\n",
       "      <th>productid</th>\n",
       "      <th>imageid</th>\n",
       "      <th>title_descr</th>\n",
       "      <th>lemma_tokens</th>\n",
       "      <th>language</th>\n",
       "      <th>text_token_len</th>\n",
       "    </tr>\n",
       "  </thead>\n",
       "  <tbody>\n",
       "    <tr>\n",
       "      <th>9263</th>\n",
       "      <td>Lot 3 Livres - Contes Merveilleux</td>\n",
       "      <td></td>\n",
       "      <td>3618603061</td>\n",
       "      <td>1228606644</td>\n",
       "      <td>lot 3 livres - contes merveilleux \\n</td>\n",
       "      <td>[lot, livres, contes, merveilleux]</td>\n",
       "      <td>fr</td>\n",
       "      <td>4</td>\n",
       "    </tr>\n",
       "    <tr>\n",
       "      <th>50884</th>\n",
       "      <td>Amiibo Splatoon Calamar Inkling Violet Néon</td>\n",
       "      <td></td>\n",
       "      <td>1997652852</td>\n",
       "      <td>1119376033</td>\n",
       "      <td>amiibo splatoon calamar inkling violet néon \\n</td>\n",
       "      <td>[amiibo, splatoon, calamar, inkling, violet, n...</td>\n",
       "      <td>en</td>\n",
       "      <td>6</td>\n",
       "    </tr>\n",
       "    <tr>\n",
       "      <th>73788</th>\n",
       "      <td>Atterrissage Prolongée Vitesse De Jambe D'appu...</td>\n",
       "      <td>NOUVEAU Landing Gear Extended Leg support Prot...</td>\n",
       "      <td>4197675553</td>\n",
       "      <td>1313430830</td>\n",
       "      <td>atterrissage prolongée vitesse de jambe d'appu...</td>\n",
       "      <td>[atterrissage, prolongée, vitesse, jambe, appu...</td>\n",
       "      <td>fr</td>\n",
       "      <td>54</td>\n",
       "    </tr>\n",
       "    <tr>\n",
       "      <th>34901</th>\n",
       "      <td>Rideau D'ameublement À Effet Chenille</td>\n",
       "      <td>Rideau de 140 x 260 cm qui saura mettre en ava...</td>\n",
       "      <td>3601180051</td>\n",
       "      <td>1226564377</td>\n",
       "      <td>rideau d'ameublement à effet chenille \\n ridea...</td>\n",
       "      <td>[rideau, ameublement, chenille, 140, 260, saur...</td>\n",
       "      <td>fr</td>\n",
       "      <td>66</td>\n",
       "    </tr>\n",
       "    <tr>\n",
       "      <th>81204</th>\n",
       "      <td>Porte-Cartes De Visites Magnetoplan</td>\n",
       "      <td>magnetoplan porte-cartes de visite transparent...</td>\n",
       "      <td>278813457</td>\n",
       "      <td>977811081</td>\n",
       "      <td>porte-cartes de visites magnetoplan \\n magneto...</td>\n",
       "      <td>[porte, carte, visites, magnetoplan, visite, t...</td>\n",
       "      <td>fr</td>\n",
       "      <td>8</td>\n",
       "    </tr>\n",
       "  </tbody>\n",
       "</table>\n",
       "</div>"
      ],
      "text/plain": [
       "                                                   title  \\\n",
       "9263                   Lot 3 Livres - Contes Merveilleux   \n",
       "50884        Amiibo Splatoon Calamar Inkling Violet Néon   \n",
       "73788  Atterrissage Prolongée Vitesse De Jambe D'appu...   \n",
       "34901              Rideau D'ameublement À Effet Chenille   \n",
       "81204                Porte-Cartes De Visites Magnetoplan   \n",
       "\n",
       "                                             description   productid  \\\n",
       "9263                                                      3618603061   \n",
       "50884                                                     1997652852   \n",
       "73788  NOUVEAU Landing Gear Extended Leg support Prot...  4197675553   \n",
       "34901  Rideau de 140 x 260 cm qui saura mettre en ava...  3601180051   \n",
       "81204  magnetoplan porte-cartes de visite transparent...   278813457   \n",
       "\n",
       "          imageid                                        title_descr  \\\n",
       "9263   1228606644              lot 3 livres - contes merveilleux \\n    \n",
       "50884  1119376033    amiibo splatoon calamar inkling violet néon \\n    \n",
       "73788  1313430830  atterrissage prolongée vitesse de jambe d'appu...   \n",
       "34901  1226564377  rideau d'ameublement à effet chenille \\n ridea...   \n",
       "81204   977811081  porte-cartes de visites magnetoplan \\n magneto...   \n",
       "\n",
       "                                            lemma_tokens language  \\\n",
       "9263                  [lot, livres, contes, merveilleux]       fr   \n",
       "50884  [amiibo, splatoon, calamar, inkling, violet, n...       en   \n",
       "73788  [atterrissage, prolongée, vitesse, jambe, appu...       fr   \n",
       "34901  [rideau, ameublement, chenille, 140, 260, saur...       fr   \n",
       "81204  [porte, carte, visites, magnetoplan, visite, t...       fr   \n",
       "\n",
       "       text_token_len  \n",
       "9263                4  \n",
       "50884               6  \n",
       "73788              54  \n",
       "34901              66  \n",
       "81204               8  "
      ]
     },
     "execution_count": 18,
     "metadata": {},
     "output_type": "execute_result"
    }
   ],
   "source": [
    "df_X_train_preprocess.head()"
   ]
  },
  {
   "cell_type": "markdown",
   "id": "befbe68d",
   "metadata": {},
   "source": [
    "### Save Preprocessed datasets"
   ]
  },
  {
   "cell_type": "code",
   "execution_count": 12,
   "id": "df851632",
   "metadata": {},
   "outputs": [
    {
     "name": "stdout",
     "output_type": "stream",
     "text": [
      "Saved dataset: ../Preprocessed_data/2308141824_df_X_train_preprocess.csv\n",
      "Saved dataset: ../Preprocessed_data/2308141824_df_X_test_preprocess.csv\n"
     ]
    }
   ],
   "source": [
    "dpt.save(datasets = [df_X_train_preprocess, df_X_test_preprocess], \n",
    "             types = ['dataframe', 'dataframe'],\n",
    "             names = ['df_X_train_preprocess', 'df_X_test_preprocess'], \n",
    "              path = preprocessing_path, doit = False, verbose = True)\n"
   ]
  },
  {
   "cell_type": "markdown",
   "id": "989a735c",
   "metadata": {},
   "source": [
    "### Load preprocessed data (Optional)\n",
    "It helps to free processing memory if restarting the kernel and loading the following datasets."
   ]
  },
  {
   "cell_type": "code",
   "execution_count": 3,
   "id": "7f2c2ce4",
   "metadata": {},
   "outputs": [],
   "source": [
    "df_X_train_preprocess = pd.read_csv(preprocessing_path+'2308141824_df_X_train_preprocess.csv', header = 0, index_col = 0, sep = ',')\n",
    "df_X_test_preprocess = pd.read_csv(preprocessing_path+'2308141824_df_X_test_preprocess.csv', header = 0, index_col = 0, sep = ',')\n",
    "# df_y_train = pd.read_csv( splitting_path+'2308141824_df_y_train.csv', header = 0, index_col = 0, sep = ',')\n",
    "# df_y_test = pd.read_csv( splitting_path+'2308141824_df_y_test.csv', header = 0, index_col = 0, sep = ',')\n",
    "\n",
    "# df_X_train_preprocess.head()"
   ]
  },
  {
   "cell_type": "code",
   "execution_count": null,
   "id": "6ddbf5fb",
   "metadata": {},
   "outputs": [],
   "source": []
  },
  {
   "cell_type": "markdown",
   "id": "2e284e19",
   "metadata": {},
   "source": [
    "## 2.2 Transform text data"
   ]
  },
  {
   "cell_type": "markdown",
   "id": "a4f8e70e",
   "metadata": {},
   "source": [
    "### Transform text data\n",
    "* In a format accepted by ML models: np.arrays.\n",
    "* encode categeorical features\n",
    "* normalize numerical features\n",
    "* vectorize tokens\n",
    "* encode target"
   ]
  },
  {
   "cell_type": "code",
   "execution_count": 19,
   "id": "f31e780c",
   "metadata": {
    "scrolled": false
   },
   "outputs": [
    {
     "name": "stdout",
     "output_type": "stream",
     "text": [
      "Vectorizer Vocabulary contains : 5000 terms\n",
      "First Vocabulary terms : {'lot': 2751, 'livres': 2731, 'merveilleux': 2896, 'violet': 4773, 'atterrissage': 632, 'prolongée': 3663, 'vitesse': 4785, 'appui': 541, 'protector': 3681, 'extension': 1907}\n"
     ]
    }
   ],
   "source": [
    "## transform dataset to feed into model\n",
    "\n",
    "text_data, targets, text_transformer, target_transformer = dpt.get_text_data(df_X_train_preprocess, df_X_test_preprocess, \n",
    "                                                                            df_y_train, df_y_test)\n",
    "\n"
   ]
  },
  {
   "cell_type": "markdown",
   "id": "1917585e",
   "metadata": {},
   "source": [
    "### Save transformed datasets, transformers and encoder objects"
   ]
  },
  {
   "cell_type": "code",
   "execution_count": 16,
   "id": "21fa70d0",
   "metadata": {},
   "outputs": [
    {
     "name": "stdout",
     "output_type": "stream",
     "text": [
      "Saved sparseMatrix : ../Preprocessed_data/2308141825_text_data_transformed_X_train.npz\n",
      "Saved sparseMatrix : ../Preprocessed_data/2308141825_text_data_transformed_X_test.npz\n",
      "Saved dataset: ../Preprocessed_data/2308141825_text_data_transformed_y_train.npy\n",
      "Saved dataset: ../Preprocessed_data/2308141825_text_data_transformed_y_test.npy\n",
      "Saved transformer: ../Preprocessed_data/2308141825_token_len_scaler\n",
      "Saved transformer: ../Preprocessed_data/2308141825_language_encoder\n",
      "Saved transformer: ../Preprocessed_data/2308141825_lemmas_vectorizer\n",
      "Saved transformer: ../Preprocessed_data/2308141825_target_encoder\n"
     ]
    }
   ],
   "source": [
    "\n",
    "## Save transformed features:\n",
    "dpt.save(datasets = [text_data['X_train'], text_data['X_test'] ], \\\n",
    "             types = ['sparseMatrix', 'sparseMatrix'], \\\n",
    "             names = ['text_data_transformed_X_train', 'text_data_transformed_X_test'], \\\n",
    "              path = preprocessing_path, doit = False, verbose = True )\n",
    "\n",
    "## save transformed targets:\n",
    "dpt.save(datasets = [ targets['y_train'], targets['y_test'] ], \\\n",
    "             types = ['array', 'array'], \\\n",
    "             names = ['text_data_transformed_y_train', 'text_data_transformed_y_test'], \\\n",
    "              path = preprocessing_path, doit = False, verbose = True )\n",
    "\n",
    "## save tranformers:\n",
    "dpt.save(datasets = [ text_transformer['token_len_scaler'], text_transformer['language_encoder'],\\\n",
    "                     text_transformer['lemmas_vectorizer'], target_transformer], \\\n",
    "             types = ['transformer', 'transformer','transformer', 'transformer'], \\\n",
    "             names = ['token_len_scaler','language_encoder', 'lemmas_vectorizer', 'target_encoder'], \\\n",
    "              path = preprocessing_path, doit = False, verbose = True )\n"
   ]
  },
  {
   "cell_type": "markdown",
   "id": "28f8badd",
   "metadata": {},
   "source": [
    "### Load transformed data (Optional)\n",
    "Start from here if RAM is limited"
   ]
  },
  {
   "cell_type": "markdown",
   "id": "026c0eb8",
   "metadata": {},
   "source": [
    "**Features**"
   ]
  },
  {
   "cell_type": "code",
   "execution_count": 5,
   "id": "6d3b0940",
   "metadata": {},
   "outputs": [],
   "source": [
    "from scipy import sparse\n",
    "\n",
    "text_data = {}\n",
    "\n",
    "text_data['X_train'] = sparse.load_npz(\"../Preprocessed_data/2308141825_text_data_transformed_X_train.npz\")\n",
    "text_data['X_test'] = sparse.load_npz(\"../Preprocessed_data/2308141825_text_data_transformed_X_test.npz\")"
   ]
  },
  {
   "cell_type": "markdown",
   "id": "6408b173",
   "metadata": {},
   "source": [
    "**Targets**"
   ]
  },
  {
   "cell_type": "code",
   "execution_count": 6,
   "id": "5554b2cc",
   "metadata": {},
   "outputs": [],
   "source": [
    "targets = {}\n",
    "targets['y_train'] = np.load(\"../Preprocessed_data/2308141825_text_data_transformed_y_train.npy\")\n",
    "targets['y_test'] = np.load(\"../Preprocessed_data/2308141825_text_data_transformed_y_test.npy\")"
   ]
  },
  {
   "cell_type": "markdown",
   "id": "0d5ceb40",
   "metadata": {},
   "source": [
    "**Transformers**"
   ]
  },
  {
   "cell_type": "code",
   "execution_count": 54,
   "id": "ffa8f4ba",
   "metadata": {},
   "outputs": [],
   "source": [
    "import joblib\n",
    "\n",
    "# token_len_scaler = joblib.load(\"../Preprocessed_data/2308141825_token_len_scaler\")\n",
    "# language_encoder = joblib.load(\"../Preprocessed_data/2308141825_language_encoder\")\n",
    "# lemmas_vectorizer = joblib.load(\"../Preprocessed_data/2308141825_lemmas_vectorizer\")\n",
    "target_encoder = joblib.load(\"../Preprocessed_data/2308141825_target_encoder\")"
   ]
  },
  {
   "cell_type": "code",
   "execution_count": null,
   "id": "f5134e49",
   "metadata": {},
   "outputs": [],
   "source": []
  },
  {
   "cell_type": "markdown",
   "id": "94559231",
   "metadata": {},
   "source": [
    "## 2.3 Text modeling"
   ]
  },
  {
   "cell_type": "markdown",
   "id": "0a6496c1",
   "metadata": {},
   "source": [
    "### Initialize text model"
   ]
  },
  {
   "cell_type": "code",
   "execution_count": 42,
   "id": "82dbeb99",
   "metadata": {},
   "outputs": [
    {
     "name": "stdout",
     "output_type": "stream",
     "text": [
      "Model: \"model_3\"\n",
      "_________________________________________________________________\n",
      " Layer (type)                Output Shape              Param #   \n",
      "=================================================================\n",
      " input (InputLayer)          [(None, 5035)]            0         \n",
      "                                                                 \n",
      " dense_1 (Dense)             (None, 256)               1289216   \n",
      "                                                                 \n",
      " dense_2 (Dense)             (None, 27)                6939      \n",
      "                                                                 \n",
      "=================================================================\n",
      "Total params: 1,296,155\n",
      "Trainable params: 1,296,155\n",
      "Non-trainable params: 0\n",
      "_________________________________________________________________\n"
     ]
    },
    {
     "data": {
      "text/plain": [
       "None"
      ]
     },
     "metadata": {},
     "output_type": "display_data"
    }
   ],
   "source": [
    "## intialize text model:\n",
    "\n",
    "text_model = dpt.initialize_text_model(model_type  = \"NN\", \\\n",
    "                             Nb_features = text_data['X_train'].shape[1], \\\n",
    "                             Nb_classes  = targets['y_train'].shape[1])"
   ]
  },
  {
   "cell_type": "markdown",
   "id": "e1227981",
   "metadata": {},
   "source": [
    "### Fit text model "
   ]
  },
  {
   "cell_type": "code",
   "execution_count": 43,
   "id": "bf3541a5",
   "metadata": {
    "scrolled": true
   },
   "outputs": [
    {
     "name": "stdout",
     "output_type": "stream",
     "text": [
      "Epoch 1/10\n",
      "272/272 [==============================] - 10s 13ms/step - loss: 2.3462 - accuracy: 0.4036 - val_loss: 1.4892 - val_accuracy: 0.6494\n",
      "Epoch 2/10\n",
      "272/272 [==============================] - 3s 11ms/step - loss: 1.1589 - accuracy: 0.7077 - val_loss: 0.9890 - val_accuracy: 0.7308\n",
      "Epoch 3/10\n",
      "272/272 [==============================] - 3s 11ms/step - loss: 0.8498 - accuracy: 0.7653 - val_loss: 0.8485 - val_accuracy: 0.7542\n",
      "Epoch 4/10\n",
      "272/272 [==============================] - 3s 11ms/step - loss: 0.7177 - accuracy: 0.7931 - val_loss: 0.7875 - val_accuracy: 0.7623\n",
      "Epoch 5/10\n",
      "272/272 [==============================] - 3s 11ms/step - loss: 0.6371 - accuracy: 0.8124 - val_loss: 0.7556 - val_accuracy: 0.7670\n",
      "Epoch 6/10\n",
      "272/272 [==============================] - 3s 11ms/step - loss: 0.5788 - accuracy: 0.8276 - val_loss: 0.7380 - val_accuracy: 0.7718\n",
      "Epoch 7/10\n",
      "272/272 [==============================] - 3s 11ms/step - loss: 0.5334 - accuracy: 0.8412 - val_loss: 0.7294 - val_accuracy: 0.7749\n",
      "Epoch 8/10\n",
      "272/272 [==============================] - 3s 11ms/step - loss: 0.4961 - accuracy: 0.8511 - val_loss: 0.7302 - val_accuracy: 0.7717\n",
      "Epoch 9/10\n",
      "272/272 [==============================] - 3s 11ms/step - loss: 0.4645 - accuracy: 0.8608 - val_loss: 0.7273 - val_accuracy: 0.7763\n",
      "Epoch 10/10\n",
      "272/272 [==============================] - 3s 11ms/step - loss: 0.4368 - accuracy: 0.8691 - val_loss: 0.7318 - val_accuracy: 0.7767\n"
     ]
    }
   ],
   "source": [
    "## train model\n",
    "\n",
    "epochs = 10\n",
    "\n",
    "training_history = text_model.fit(text_data[\"X_train\"].toarray(), targets[\"y_train\"],\n",
    "                                  epochs = epochs,\n",
    "                                  batch_size = 200,\n",
    "                                  validation_split = 0.2)    ## \n"
   ]
  },
  {
   "cell_type": "markdown",
   "id": "a0f1a4a2",
   "metadata": {},
   "source": [
    "### Evaluate text model"
   ]
  },
  {
   "cell_type": "code",
   "execution_count": 47,
   "id": "02dac60f",
   "metadata": {},
   "outputs": [],
   "source": [
    "epochs = epochs\n",
    "x_epochs = np.arange(1,epochs + 1,1)\n",
    "\n",
    "train_acc = training_history.history['accuracy']\n",
    "val_acc = training_history.history['val_accuracy']"
   ]
  },
  {
   "cell_type": "code",
   "execution_count": 48,
   "id": "19a3e161",
   "metadata": {
    "scrolled": false
   },
   "outputs": [
    {
     "data": {
      "text/plain": [
       "(0.0, 1.0)"
      ]
     },
     "execution_count": 48,
     "metadata": {},
     "output_type": "execute_result"
    },
    {
     "data": {
      "image/png": "[encoded data removed]",
      "text/plain": [
       "<Figure size 800x600 with 1 Axes>"
      ]
     },
     "metadata": {},
     "output_type": "display_data"
    }
   ],
   "source": [
    "import matplotlib.pyplot as plt\n",
    "import seaborn as sns\n",
    "sns.set()\n",
    "\n",
    "plt.figure(figsize=(8,6))\n",
    "\n",
    "sns.lineplot(x = x_epochs, y = train_acc, marker = 'o', label = 'Training Accuracy')\n",
    "sns.lineplot(x = x_epochs, y = val_acc, marker = 'o', label = 'Validation Accuracy')\n",
    "\n",
    "plt.xlabel('Epochs')\n",
    "plt.ylabel('Accuracy')\n",
    "plt.title('Accuracy Evolution during training: NN_clf')\n",
    "plt.legend(loc='lower right')#loc='right'\n",
    "plt.ylim(0,1)\n",
    "# plt.ylim(0.3,0.5)\n",
    "# plt.xlim(0,50)"
   ]
  },
  {
   "cell_type": "code",
   "execution_count": 49,
   "id": "5df883b3",
   "metadata": {},
   "outputs": [
    {
     "name": "stdout",
     "output_type": "stream",
     "text": [
      "531/531 [==============================] - 2s 3ms/step - loss: 0.7672 - accuracy: 0.7664\n",
      "Test  set accuracy = 0.766 and loss function = 0.77\n"
     ]
    }
   ],
   "source": [
    "loss_test, NN_accuracy_test = text_model.evaluate(text_data[\"X_test\"].toarray(), targets[\"y_test\"])\n",
    "print(\"Test  set accuracy = %0.3f and loss function = %0.2f\" %(NN_accuracy_test, loss_test))"
   ]
  },
  {
   "cell_type": "code",
   "execution_count": null,
   "id": "32e8a51d",
   "metadata": {},
   "outputs": [],
   "source": []
  },
  {
   "cell_type": "code",
   "execution_count": null,
   "id": "a2e92cd5",
   "metadata": {},
   "outputs": [],
   "source": []
  },
  {
   "cell_type": "code",
   "execution_count": null,
   "id": "399c7d95",
   "metadata": {},
   "outputs": [],
   "source": []
  },
  {
   "cell_type": "code",
   "execution_count": null,
   "id": "4936da49",
   "metadata": {},
   "outputs": [],
   "source": []
  },
  {
   "cell_type": "markdown",
   "id": "ddeb6e8f",
   "metadata": {},
   "source": [
    "# 3 - _Image data_\n",
    "\n",
    "* preprocess image data: crop, resize, vectorize\n",
    "* save prpprocessed image_dataset\n",
    "* transform image data: scale pixels, reshape for CNN\n",
    "* initialize model (using tranformed data dimensions)\n",
    "* save trained model\n",
    "* reload trained model\n"
   ]
  },
  {
   "cell_type": "markdown",
   "id": "b6e8a140",
   "metadata": {},
   "source": [
    "## 3.1 - Preprocess image data\n",
    "* crop\n",
    "* resize\n",
    "* vectorize"
   ]
  },
  {
   "cell_type": "code",
   "execution_count": 5,
   "id": "7e6feee3",
   "metadata": {},
   "outputs": [
    {
     "name": "stdout",
     "output_type": "stream",
     "text": [
      "0 images at time 0.00 minutes\n",
      "1000 images at time 0.13 minutes\n",
      "2000 images at time 0.26 minutes\n",
      "3000 images at time 0.39 minutes\n",
      "4000 images at time 0.53 minutes\n",
      "5000 images at time 0.66 minutes\n",
      "10000 images at time 1.31 minutes\n",
      "15000 images at time 1.96 minutes\n",
      "20000 images at time 2.62 minutes\n",
      "25000 images at time 3.27 minutes\n",
      "30000 images at time 3.92 minutes\n",
      "35000 images at time 4.57 minutes\n",
      "40000 images at time 5.20 minutes\n",
      "45000 images at time 5.84 minutes\n",
      "50000 images at time 6.49 minutes\n",
      "55000 images at time 7.13 minutes\n",
      "60000 images at time 7.78 minutes\n",
      "65000 images at time 8.44 minutes\n",
      "Vectorization of 67932 images takes 8.82 minutes\n"
     ]
    }
   ],
   "source": [
    "\n",
    "image_train_preprocess = dpt.preprocess_image_data(df_X_train_preprocess, \n",
    "                                                     threshold = 230, \n",
    "                                                     new_pixel_nb = 100,\n",
    "                                                     path = images_path,                                                     \n",
    "                                                     output = 'array',\n",
    "                                                     verbose = True)\n"
   ]
  },
  {
   "cell_type": "code",
   "execution_count": 6,
   "id": "7efb0ccb",
   "metadata": {
    "scrolled": true
   },
   "outputs": [
    {
     "name": "stdout",
     "output_type": "stream",
     "text": [
      "0 images at time 0.00 minutes\n",
      "1000 images at time 0.13 minutes\n",
      "2000 images at time 0.25 minutes\n",
      "3000 images at time 0.38 minutes\n",
      "4000 images at time 0.51 minutes\n",
      "5000 images at time 0.63 minutes\n",
      "10000 images at time 1.28 minutes\n",
      "15000 images at time 1.92 minutes\n",
      "Vectorization of 16984 images takes 2.18 minutes\n"
     ]
    }
   ],
   "source": [
    "image_test_preprocess = dpt.preprocess_image_data(df_X_test_preprocess, \n",
    "                                                     threshold = 230, \n",
    "                                                     new_pixel_nb = 100,\n",
    "                                                     path = images_path,\n",
    "                                                     output = 'array',\n",
    "                                                     verbose = True)\n"
   ]
  },
  {
   "cell_type": "markdown",
   "id": "888ff53f",
   "metadata": {},
   "source": [
    "### Save preprocessed image data"
   ]
  },
  {
   "cell_type": "code",
   "execution_count": 8,
   "id": "bad78900",
   "metadata": {
    "scrolled": false
   },
   "outputs": [
    {
     "name": "stdout",
     "output_type": "stream",
     "text": [
      "Saved dataset: ../Preprocessed_data/2308151632_image_train_preprocess_200px.npy\n",
      "Saved dataset: ../Preprocessed_data/2308151632_image_test_preprocess_200px.npy\n"
     ]
    }
   ],
   "source": [
    "dpt.save(datasets = [image_train_preprocess, image_test_preprocess], \\\n",
    "            types = ['array', 'array'], \\\n",
    "             names = ['image_train_preprocess_200px', 'image_test_preprocess_200px'], \\\n",
    "              path = preprocessing_path, doit = False, verbose = True)"
   ]
  },
  {
   "cell_type": "markdown",
   "id": "9e787dab",
   "metadata": {},
   "source": [
    "### Load preprocessed image data\n",
    "Optional. It helps to free processing memory if restarting the kernel and loading the followinf datasets."
   ]
  },
  {
   "cell_type": "code",
   "execution_count": 8,
   "id": "204b15b2",
   "metadata": {},
   "outputs": [],
   "source": [
    "# df_X_train_preprocess = pd.read_csv('./Preprocessed_data/2308102210_df_image_train_preprocess.csv', header = 0, index_col = 0, sep = ',')\n",
    "# df_X_test_preprocess = pd.read_csv('./Preprocessed_data/2308102210_df_image_test_preprocess.csv', header = 0, index_col = 0, sep = ',')\n",
    "\n",
    "\n",
    "## reload saved numpy array for preprocessed image data\n",
    "import os\n",
    "## small dataset 100 px by 100 px\n",
    "image_train_preprocess = np.load(os.path.join(preprocessing_path, '2308141850_df_image_train_preprocess.npy'))\n",
    "image_test_preprocess = np.load(os.path.join(preprocessing_path, '2308141850_df_image_test_preprocess.npy'))\n",
    "## large dataset: 200 px by 200 px\n",
    "# image_train_preprocess = np.load(os.path.join(preprocessing_path, '2308151632_image_train_preprocess_200px.npy'))\n",
    "# image_test_preprocess = np.load(os.path.join(preprocessing_path, '2308151632_image_test_preprocess_200px.npy'))\n",
    "\n",
    "\n",
    "## targets are in dataframes\n",
    "# df_y_train = pd.read_csv(splitting_path + '2308141811_df_y_train.csv', header = 0, index_col = 0, sep = ',')\n",
    "# df_y_test = pd.read_csv(splitting_path + '2308141811_df_y_test.csv', header = 0, index_col = 0, sep = ',')\n"
   ]
  },
  {
   "cell_type": "code",
   "execution_count": null,
   "id": "b03cae8c",
   "metadata": {},
   "outputs": [],
   "source": []
  },
  {
   "cell_type": "code",
   "execution_count": null,
   "id": "d970b1e2",
   "metadata": {},
   "outputs": [],
   "source": []
  },
  {
   "cell_type": "markdown",
   "id": "e028c3c6",
   "metadata": {},
   "source": [
    "## 3.2 Transform image data\n",
    "* In a format accepted by ML models: np.arrays.\n",
    "* encode categeorical features\n",
    "* normalize numerical features\n",
    "* vectorize tokens\n",
    "* encode target"
   ]
  },
  {
   "cell_type": "code",
   "execution_count": 9,
   "id": "229ddf76",
   "metadata": {},
   "outputs": [
    {
     "data": {
      "text/plain": [
       "(67932, 30000)"
      ]
     },
     "execution_count": 9,
     "metadata": {},
     "output_type": "execute_result"
    }
   ],
   "source": [
    "image_train_preprocess.shape"
   ]
  },
  {
   "cell_type": "code",
   "execution_count": 10,
   "id": "747f9bc0",
   "metadata": {},
   "outputs": [],
   "source": [
    "image_data = dpt.get_image_data(image_train_preprocess, image_test_preprocess, pixel_per_side = 100, scale = 255)"
   ]
  },
  {
   "cell_type": "markdown",
   "id": "f9675981",
   "metadata": {},
   "source": [
    "### Save transformed image data"
   ]
  },
  {
   "cell_type": "code",
   "execution_count": 38,
   "id": "23d52b57",
   "metadata": {},
   "outputs": [
    {
     "name": "stdout",
     "output_type": "stream",
     "text": [
      "Saved compressed large array: ../Preprocessed_data/2308141953_image_train_transformed.npz\n",
      "Saved compressed large array: ../Preprocessed_data/2308141953_image_test_transformed.npz\n"
     ]
    }
   ],
   "source": [
    "## THIS takes about 5 - 7 minutes\n",
    "\n",
    "dpt.save(datasets = [ image_data['train'], image_data['test'] ], \\\n",
    "            types = ['arrayXL', 'arrayXL'], \\\n",
    "             names = ['image_train_transformed', 'image_test_transformed'], \\\n",
    "              path = preprocessing_path, doit = False, verbose = True)"
   ]
  },
  {
   "cell_type": "markdown",
   "id": "359eb2c3",
   "metadata": {},
   "source": [
    "### Load transformed image data (optional)"
   ]
  },
  {
   "cell_type": "markdown",
   "id": "f119a3fb",
   "metadata": {},
   "source": [
    "**Features**"
   ]
  },
  {
   "cell_type": "code",
   "execution_count": 4,
   "id": "6ce59e64",
   "metadata": {},
   "outputs": [
    {
     "name": "stdout",
     "output_type": "stream",
     "text": [
      "Loading arrays takes 36.41 seconds\n"
     ]
    }
   ],
   "source": [
    "t0 = time.time()\n",
    "\n",
    "image_data = {}\n",
    "\n",
    "image_data['train'] = np.load(\"../Preprocessed_data/2308141953_image_train_transformed.npz\")['array']\n",
    "image_data['test'] = np.load(\"../Preprocessed_data/2308141953_image_test_transformed.npz\")['array']\n",
    "\n",
    "t1 = time.time()\n",
    "print(\"Loading arrays takes %0.2f seconds\" %(t1-t0))"
   ]
  },
  {
   "cell_type": "markdown",
   "id": "ac40c1a2",
   "metadata": {},
   "source": [
    "**Targets**"
   ]
  },
  {
   "cell_type": "code",
   "execution_count": 11,
   "id": "241f00f8",
   "metadata": {},
   "outputs": [],
   "source": [
    "targets = {}\n",
    "targets['y_train'] = np.load(\"../Preprocessed_data/2308141825_text_data_transformed_y_train.npy\")\n",
    "targets['y_test'] = np.load(\"../Preprocessed_data/2308141825_text_data_transformed_y_test.npy\")\n"
   ]
  },
  {
   "cell_type": "markdown",
   "id": "757a5920",
   "metadata": {},
   "source": [
    "**Transformers**"
   ]
  },
  {
   "cell_type": "code",
   "execution_count": 13,
   "id": "b73f32de",
   "metadata": {},
   "outputs": [],
   "source": [
    "import joblib\n",
    "\n",
    "# token_len_scaler = joblib.load(\"../Preprocessed_data/2308141825_token_len_scaler\")\n",
    "# language_encoder = joblib.load(\"../Preprocessed_data/2308141825_language_encoder\")\n",
    "# lemmas_vectorizer = joblib.load(\"../Preprocessed_data/2308141825_lemmas_vectorizer\")\n",
    "target_encoder = joblib.load(\"../Preprocessed_data/2308141825_target_encoder\")"
   ]
  },
  {
   "cell_type": "markdown",
   "id": "a24df2b7",
   "metadata": {},
   "source": [
    "## 3.3 Image model"
   ]
  },
  {
   "cell_type": "markdown",
   "id": "4585ca44",
   "metadata": {},
   "source": [
    "### initialize image model"
   ]
  },
  {
   "cell_type": "code",
   "execution_count": 14,
   "id": "e0f23ca5",
   "metadata": {},
   "outputs": [
    {
     "name": "stdout",
     "output_type": "stream",
     "text": [
      "Model: \"model\"\n",
      "_________________________________________________________________\n",
      " Layer (type)                Output Shape              Param #   \n",
      "=================================================================\n",
      " input (InputLayer)          [(None, 100, 100, 3)]     0         \n",
      "                                                                 \n",
      " conv2d (Conv2D)             (None, 100, 100, 8)       224       \n",
      "                                                                 \n",
      " max_pooling2d (MaxPooling2D  (None, 50, 50, 8)        0         \n",
      " )                                                               \n",
      "                                                                 \n",
      " conv2d_1 (Conv2D)           (None, 23, 23, 32)        6432      \n",
      "                                                                 \n",
      " max_pooling2d_1 (MaxPooling  (None, 11, 11, 32)       0         \n",
      " 2D)                                                             \n",
      "                                                                 \n",
      " dropout (Dropout)           (None, 11, 11, 32)        0         \n",
      "                                                                 \n",
      " flatten (Flatten)           (None, 3872)              0         \n",
      "                                                                 \n",
      " dense (Dense)               (None, 512)               1982976   \n",
      "                                                                 \n",
      " dropout_1 (Dropout)         (None, 512)               0         \n",
      "                                                                 \n",
      " dense_1 (Dense)             (None, 128)               65664     \n",
      "                                                                 \n",
      " dense_2 (Dense)             (None, 27)                3483      \n",
      "                                                                 \n",
      "=================================================================\n",
      "Total params: 2,058,779\n",
      "Trainable params: 2,058,779\n",
      "Non-trainable params: 0\n",
      "_________________________________________________________________\n"
     ]
    }
   ],
   "source": [
    "## intialize image model:\n",
    "\n",
    "image_model = dpt.initialize_image_model(model_type  = \"CNN\", \n",
    "                             image_shape = image_data['train'].shape[1:], \n",
    "                             Nb_classes  = targets['y_train'].shape[1])\n"
   ]
  },
  {
   "cell_type": "markdown",
   "id": "694680d0",
   "metadata": {},
   "source": [
    "### Fit image model"
   ]
  },
  {
   "cell_type": "code",
   "execution_count": 15,
   "id": "883d2f0c",
   "metadata": {
    "scrolled": true
   },
   "outputs": [
    {
     "name": "stdout",
     "output_type": "stream",
     "text": [
      "Epoch 1/25\n",
      "136/136 [==============================] - 63s 428ms/step - loss: 2.8720 - accuracy: 0.1835 - val_loss: 2.5430 - val_accuracy: 0.2761\n",
      "Epoch 2/25\n",
      "136/136 [==============================] - 38s 278ms/step - loss: 2.5319 - accuracy: 0.2750 - val_loss: 2.3603 - val_accuracy: 0.3204\n",
      "Epoch 3/25\n",
      "136/136 [==============================] - 35s 259ms/step - loss: 2.4090 - accuracy: 0.3038 - val_loss: 2.2878 - val_accuracy: 0.3357\n",
      "Epoch 4/25\n",
      "136/136 [==============================] - 36s 268ms/step - loss: 2.3358 - accuracy: 0.3265 - val_loss: 2.2239 - val_accuracy: 0.3550\n",
      "Epoch 5/25\n",
      "136/136 [==============================] - 39s 285ms/step - loss: 2.2669 - accuracy: 0.3430 - val_loss: 2.1648 - val_accuracy: 0.3773\n",
      "Epoch 6/25\n",
      "136/136 [==============================] - 39s 285ms/step - loss: 2.2131 - accuracy: 0.3596 - val_loss: 2.1175 - val_accuracy: 0.3874\n",
      "Epoch 7/25\n",
      "136/136 [==============================] - 38s 280ms/step - loss: 2.1736 - accuracy: 0.3692 - val_loss: 2.0860 - val_accuracy: 0.3956\n",
      "Epoch 8/25\n",
      "136/136 [==============================] - 38s 279ms/step - loss: 2.1315 - accuracy: 0.3786 - val_loss: 2.0487 - val_accuracy: 0.4045\n",
      "Epoch 9/25\n",
      "136/136 [==============================] - 39s 288ms/step - loss: 2.0930 - accuracy: 0.3897 - val_loss: 2.0451 - val_accuracy: 0.4081\n",
      "Epoch 10/25\n",
      "136/136 [==============================] - 37s 272ms/step - loss: 2.0651 - accuracy: 0.3962 - val_loss: 2.0287 - val_accuracy: 0.4087\n",
      "Epoch 11/25\n",
      "136/136 [==============================] - 36s 263ms/step - loss: 2.0330 - accuracy: 0.4036 - val_loss: 2.0027 - val_accuracy: 0.4193\n",
      "Epoch 12/25\n",
      "136/136 [==============================] - 38s 279ms/step - loss: 2.0040 - accuracy: 0.4107 - val_loss: 1.9937 - val_accuracy: 0.4174\n",
      "Epoch 13/25\n",
      "136/136 [==============================] - 39s 286ms/step - loss: 1.9801 - accuracy: 0.4165 - val_loss: 1.9617 - val_accuracy: 0.4284\n",
      "Epoch 14/25\n",
      "136/136 [==============================] - 38s 278ms/step - loss: 1.9508 - accuracy: 0.4243 - val_loss: 1.9513 - val_accuracy: 0.4321\n",
      "Epoch 15/25\n",
      "136/136 [==============================] - 37s 272ms/step - loss: 1.9330 - accuracy: 0.4291 - val_loss: 1.9476 - val_accuracy: 0.4342\n",
      "Epoch 16/25\n",
      "136/136 [==============================] - 36s 263ms/step - loss: 1.9042 - accuracy: 0.4366 - val_loss: 1.9303 - val_accuracy: 0.4423\n",
      "Epoch 17/25\n",
      "136/136 [==============================] - 37s 270ms/step - loss: 1.8846 - accuracy: 0.4427 - val_loss: 1.9202 - val_accuracy: 0.4406\n",
      "Epoch 18/25\n",
      "136/136 [==============================] - 37s 270ms/step - loss: 1.8690 - accuracy: 0.4422 - val_loss: 1.9188 - val_accuracy: 0.4458\n",
      "Epoch 19/25\n",
      "136/136 [==============================] - 36s 268ms/step - loss: 1.8524 - accuracy: 0.4493 - val_loss: 1.9090 - val_accuracy: 0.4476\n",
      "Epoch 20/25\n",
      "136/136 [==============================] - 36s 268ms/step - loss: 1.8432 - accuracy: 0.4497 - val_loss: 1.9024 - val_accuracy: 0.4454\n",
      "Epoch 21/25\n",
      "136/136 [==============================] - 36s 264ms/step - loss: 1.8096 - accuracy: 0.4578 - val_loss: 1.8932 - val_accuracy: 0.4465\n",
      "Epoch 22/25\n",
      "136/136 [==============================] - 37s 271ms/step - loss: 1.7962 - accuracy: 0.4632 - val_loss: 1.9007 - val_accuracy: 0.4483\n",
      "Epoch 23/25\n",
      "136/136 [==============================] - 36s 268ms/step - loss: 1.7852 - accuracy: 0.4648 - val_loss: 1.8942 - val_accuracy: 0.4470\n",
      "Epoch 24/25\n",
      "136/136 [==============================] - 36s 264ms/step - loss: 1.7665 - accuracy: 0.4706 - val_loss: 1.8957 - val_accuracy: 0.4504\n",
      "Epoch 25/25\n",
      "136/136 [==============================] - 36s 268ms/step - loss: 1.7516 - accuracy: 0.4759 - val_loss: 1.8948 - val_accuracy: 0.4509\n",
      "For 67932 observations, training time = 1018.64 seconds\n"
     ]
    },
    {
     "ename": "NameError",
     "evalue": "name 'fm' is not defined",
     "output_type": "error",
     "traceback": [
      "\u001b[1;31m--------------------------------------------------\u001b[0m",
      "\u001b[1;31mNameError\u001b[0m        Traceback (most recent call last)",
      "Cell \u001b[1;32mIn[15], line 13\u001b[0m\n\u001b[0;32m     10\u001b[0m t1 \u001b[38;5;241m=\u001b[39m time\u001b[38;5;241m.\u001b[39mtime()\n\u001b[0;32m     11\u001b[0m \u001b[38;5;28mprint\u001b[39m(\u001b[38;5;124m\"\u001b[39m\u001b[38;5;124mFor \u001b[39m\u001b[38;5;132;01m%d\u001b[39;00m\u001b[38;5;124m observations, training time = \u001b[39m\u001b[38;5;132;01m%0.2f\u001b[39;00m\u001b[38;5;124m seconds\u001b[39m\u001b[38;5;124m\"\u001b[39m \u001b[38;5;241m%\u001b[39m(image_data[\u001b[38;5;124m\"\u001b[39m\u001b[38;5;124mtrain\u001b[39m\u001b[38;5;124m\"\u001b[39m]\u001b[38;5;241m.\u001b[39mshape[\u001b[38;5;241m0\u001b[39m], (t1\u001b[38;5;241m-\u001b[39mt0) ) )\n\u001b[1;32m---> 13\u001b[0m model_date_time \u001b[38;5;241m=\u001b[39m \u001b[43mfm\u001b[49m\u001b[38;5;241m.\u001b[39mdate_time()\n\u001b[0;32m     14\u001b[0m \u001b[38;5;28mprint\u001b[39m(model_date_time)\n",
      "\u001b[1;31mNameError\u001b[0m: name 'fm' is not defined"
     ]
    }
   ],
   "source": [
    "import time\n",
    "t0 = time.time()\n",
    "\n",
    "training_history = image_model.fit(image_data[\"train\"], targets[\"y_train\"],\n",
    "                             validation_split = 0.2,\n",
    "                             epochs = 25,\n",
    "                             batch_size = 400)\n",
    "\n",
    "\n",
    "t1 = time.time()\n",
    "print(\"For %d observations, training time = %0.2f seconds\" %(image_data[\"train\"].shape[0], (t1-t0) ) )\n",
    "\n",
    "model_date_time = dpt.date_time()\n",
    "print(model_date_time)"
   ]
  },
  {
   "cell_type": "code",
   "execution_count": 16,
   "id": "f1b6c1f6",
   "metadata": {},
   "outputs": [
    {
     "name": "stdout",
     "output_type": "stream",
     "text": [
      "For 67932 observations, training time = 1018.64 seconds\n",
      "2309021934\n"
     ]
    }
   ],
   "source": []
  },
  {
   "cell_type": "code",
   "execution_count": null,
   "id": "ae492a7c",
   "metadata": {},
   "outputs": [],
   "source": [
    "### The following is preliminary overview (PUT INTO AFUNCTION)"
   ]
  },
  {
   "cell_type": "code",
   "execution_count": 17,
   "id": "ef88b3ee",
   "metadata": {},
   "outputs": [],
   "source": [
    "epochs = 25\n",
    "x_epochs = np.arange(1,epochs + 1,1)\n",
    "\n",
    "train_acc = training_history.history['accuracy']\n",
    "val_acc = training_history.history['val_accuracy']"
   ]
  },
  {
   "cell_type": "code",
   "execution_count": 19,
   "id": "4afccef7",
   "metadata": {
    "scrolled": false
   },
   "outputs": [
    {
     "data": {
      "text/plain": [
       "(0.0, 1.0)"
      ]
     },
     "execution_count": 19,
     "metadata": {},
     "output_type": "execute_result"
    },
    {
     "data": {
      "image/png": "[encoded data removed]",
      "text/plain": [
       "<Figure size 800x600 with 1 Axes>"
      ]
     },
     "metadata": {},
     "output_type": "display_data"
    }
   ],
   "source": [
    "import matplotlib.pyplot as plt\n",
    "import seaborn as sns\n",
    "sns.set()\n",
    "\n",
    "plt.figure(figsize=(8,6))\n",
    "\n",
    "sns.lineplot(x = x_epochs, y = train_acc, marker = 'o', label = 'Training Accuracy')\n",
    "sns.lineplot(x = x_epochs, y = val_acc, marker = 'o', label = 'Validation Accuracy')\n",
    "\n",
    "plt.xlabel('Epochs')\n",
    "plt.ylabel('Accuracy')\n",
    "plt.title('Accuracy Evolution during training: NN_clf')\n",
    "plt.legend(loc='lower right')#loc='right'\n",
    "plt.ylim(0,1)\n",
    "# plt.ylim(0.3,0.5)\n",
    "# plt.xlim(0,50)"
   ]
  },
  {
   "cell_type": "code",
   "execution_count": null,
   "id": "5b1324f2",
   "metadata": {},
   "outputs": [],
   "source": []
  },
  {
   "cell_type": "code",
   "execution_count": null,
   "id": "399cbcb9",
   "metadata": {},
   "outputs": [],
   "source": []
  },
  {
   "cell_type": "code",
   "execution_count": null,
   "id": "a907f7fc",
   "metadata": {},
   "outputs": [],
   "source": []
  },
  {
   "cell_type": "code",
   "execution_count": null,
   "id": "a98d1209",
   "metadata": {},
   "outputs": [],
   "source": []
  }
 ],
 "metadata": {
  "kernelspec": {
   "display_name": "Python 3 (ipykernel)",
   "language": "python",
   "name": "python3"
  },
  "language_info": {
   "codemirror_mode": {
    "name": "ipython",
    "version": 3
   },
   "file_extension": ".py",
   "mimetype": "text/x-python",
   "name": "python",
   "nbconvert_exporter": "python",
   "pygments_lexer": "ipython3",
   "version": "3.10.9"
  }
 },
 "nbformat": 4,
 "nbformat_minor": 5
}
