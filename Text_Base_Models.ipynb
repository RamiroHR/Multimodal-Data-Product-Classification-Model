{
 "cells": [
  {
   "cell_type": "markdown",
   "id": "61e4c3c6",
   "metadata": {},
   "source": [
    "# Libraries & Global variables"
   ]
  },
  {
   "cell_type": "code",
   "execution_count": 1,
   "id": "747a32d6",
   "metadata": {},
   "outputs": [],
   "source": [
    "import pandas as pd\n",
    "import numpy as np\n",
    "\n",
    "import matplotlib.pyplot as plt\n",
    "import seaborn as sns\n",
    "sns.set()\n",
    "\n",
    "import cv2\n",
    "import json\n",
    "\n",
    "import os\n",
    "import time\n",
    "\n",
    "# from sklearn.model_selection import train_test_split\n",
    "\n",
    "# %load_ext autoreload\n",
    "# %autoreload 2\n",
    "# import FusionModel_tools as fm\n",
    "# import importlib\n",
    "# importlib.reload(fm)\n",
    "\n",
    "# import nltk\n",
    "# nltk.download('popular', quiet = True)\n"
   ]
  },
  {
   "cell_type": "code",
   "execution_count": 50,
   "id": "13bcdd0b",
   "metadata": {},
   "outputs": [],
   "source": [
    "## define general parameters\n",
    "\n",
    "myseed = 123\n",
    "\n",
    "splitting_path = '../Splitted_datasets/'\n",
    "preprocessing_path = '../Preprocessed_data/'\n",
    "training_path = '../Trained_models_and_metrics/'\n"
   ]
  },
  {
   "cell_type": "markdown",
   "id": "ebd8ea66",
   "metadata": {},
   "source": [
    "# Reloading datasets: \n",
    "**Chose at which stage the dataset is goind to be imported:**\n",
    "* Raw data after train - test splitting.  \n",
    "* Preprocessed datasets after cleaning and feature engineering.  \n",
    "* Transformed datasets into np.arrays and/or sparce matrices ready to feed into the ML models"
   ]
  },
  {
   "cell_type": "markdown",
   "id": "d3c64f2b",
   "metadata": {},
   "source": [
    "## Option_1: Raw datasets after train - test spliting"
   ]
  },
  {
   "cell_type": "code",
   "execution_count": 3,
   "id": "2f8ce7d8",
   "metadata": {},
   "outputs": [],
   "source": [
    "# df_X_train = pd.read_csv(splitting_path + '2308141811_df_X_train.csv', index_col = 0, header = 0)\n",
    "# df_X_test = pd.read_csv(splitting_path + '2308141811_df_X_test.csv', index_col = 0, header = 0)\n",
    "df_y_train = pd.read_csv(splitting_path + '2308141811_df_y_train.csv', index_col = 0, header = 0)\n",
    "df_y_test = pd.read_csv(splitting_path + '2308141811_df_y_test.csv', index_col = 0, header = 0)"
   ]
  },
  {
   "cell_type": "code",
   "execution_count": 4,
   "id": "55a90498",
   "metadata": {},
   "outputs": [],
   "source": [
    "# print(df_X_train.index)\n",
    "# df_X_train.head()"
   ]
  },
  {
   "cell_type": "code",
   "execution_count": 5,
   "id": "26dba23b",
   "metadata": {},
   "outputs": [],
   "source": [
    "# print(df_X_test.index)\n",
    "# df_X_test.head()"
   ]
  },
  {
   "cell_type": "code",
   "execution_count": 6,
   "id": "6276a6aa",
   "metadata": {},
   "outputs": [],
   "source": [
    "# print(df_y_train.index)\n",
    "# df_y_train.head()"
   ]
  },
  {
   "cell_type": "code",
   "execution_count": 7,
   "id": "f174898e",
   "metadata": {},
   "outputs": [],
   "source": [
    "# print(df_y_test.index)\n",
    "# df_y_test.head()"
   ]
  },
  {
   "cell_type": "code",
   "execution_count": null,
   "id": "1bd6e1e6",
   "metadata": {},
   "outputs": [],
   "source": []
  },
  {
   "cell_type": "markdown",
   "id": "cdd14550",
   "metadata": {},
   "source": [
    "## Option_2: preprocessed dataset after feature engineering\n",
    "Include target dataset if not imported before."
   ]
  },
  {
   "cell_type": "code",
   "execution_count": 8,
   "id": "e76ea2b8",
   "metadata": {},
   "outputs": [],
   "source": [
    "# df_X_train_preprocess = pd.read_csv(preprocessing_path+'2308141824_df_X_train_preprocess.csv', header = 0, index_col = 0, sep = ',')\n",
    "# df_X_test_preprocess = pd.read_csv(preprocessing_path+'2308141824_df_X_test_preprocess.csv', header = 0, index_col = 0, sep = ',')\n",
    "# # df_y_train = pd.read_csv( splitting_path+'2308141811_df_y_train.csv', header = 0, index_col = 0, sep = ',')\n",
    "# # df_y_test = pd.read_csv( splitting_path+'2308141811_df_y_test.csv', header = 0, index_col = 0, sep = ',')"
   ]
  },
  {
   "cell_type": "code",
   "execution_count": 9,
   "id": "1570e883",
   "metadata": {},
   "outputs": [],
   "source": [
    "# print(df_X_train_preprocess.index)\n",
    "# df_X_train_preprocess.head()"
   ]
  },
  {
   "cell_type": "code",
   "execution_count": 10,
   "id": "8f028e1d",
   "metadata": {},
   "outputs": [],
   "source": [
    "# print(df_X_test_preprocess.index)\n",
    "# df_X_test_preprocess.head()"
   ]
  },
  {
   "cell_type": "code",
   "execution_count": null,
   "id": "dbb23dd5",
   "metadata": {},
   "outputs": [],
   "source": []
  },
  {
   "cell_type": "markdown",
   "id": "aad68166",
   "metadata": {},
   "source": [
    "## Option_3: Transformed data, ready to feed into the ML models\n",
    "Uncomment cells below to verify consistency of the imported datasets or the properties of the associated transformers"
   ]
  },
  {
   "cell_type": "markdown",
   "id": "026c0eb8",
   "metadata": {},
   "source": [
    "**Features**"
   ]
  },
  {
   "cell_type": "code",
   "execution_count": 10,
   "id": "6d3b0940",
   "metadata": {},
   "outputs": [],
   "source": [
    "from scipy import sparse\n",
    "\n",
    "text_data = {}\n",
    "\n",
    "text_data['X_train'] = sparse.load_npz(\"../Preprocessed_data/2308141825_text_data_transformed_X_train.npz\")\n",
    "text_data['X_test'] = sparse.load_npz(\"../Preprocessed_data/2308141825_text_data_transformed_X_test.npz\")"
   ]
  },
  {
   "cell_type": "code",
   "execution_count": 12,
   "id": "02d80257",
   "metadata": {},
   "outputs": [],
   "source": [
    "# print(text_data['X_train'].shape)\n",
    "# text_data['X_train'].toarray()[14,:25]"
   ]
  },
  {
   "cell_type": "code",
   "execution_count": 13,
   "id": "18eb0fea",
   "metadata": {},
   "outputs": [],
   "source": [
    "# print(text_data['X_test'].shape)\n",
    "# text_data['X_test'].toarray()[14,:25]"
   ]
  },
  {
   "cell_type": "markdown",
   "id": "6408b173",
   "metadata": {},
   "source": [
    "**Targets**"
   ]
  },
  {
   "cell_type": "code",
   "execution_count": 14,
   "id": "5554b2cc",
   "metadata": {},
   "outputs": [],
   "source": [
    "# targets = {}\n",
    "# targets['y_train'] = np.load(\"../Preprocessed_data/2308141825_text_data_transformed_y_train.npy\")\n",
    "# targets['y_test'] = np.load(\"../Preprocessed_data/2308141825_text_data_transformed_y_test.npy\")"
   ]
  },
  {
   "cell_type": "code",
   "execution_count": 15,
   "id": "f2886225",
   "metadata": {},
   "outputs": [],
   "source": [
    "# print(targets['y_train'].shape)\n",
    "# print(targets['y_train'][:5,:])\n",
    "# print(targets['y_train'][:5,:].argmax(axis = 1))"
   ]
  },
  {
   "cell_type": "code",
   "execution_count": 16,
   "id": "81fa6979",
   "metadata": {},
   "outputs": [],
   "source": [
    "# print(targets['y_test'].shape)\n",
    "# print(targets['y_test'][:5,:])\n",
    "# print(targets['y_test'][:5,:].argmax(axis = 1))"
   ]
  },
  {
   "cell_type": "markdown",
   "id": "0d5ceb40",
   "metadata": {},
   "source": [
    "**Transformers**"
   ]
  },
  {
   "cell_type": "code",
   "execution_count": 17,
   "id": "ffa8f4ba",
   "metadata": {},
   "outputs": [],
   "source": [
    "# import joblib\n",
    "\n",
    "# token_len_scaler = joblib.load(\"../Preprocessed_data/2308141825_token_len_scaler\")\n",
    "# language_encoder = joblib.load(\"../Preprocessed_data/2308141825_language_encoder\")\n",
    "# lemmas_vectorizer = joblib.load(\"../Preprocessed_data/2308141825_lemmas_vectorizer\")\n",
    "# target_encoder = joblib.load(\"../Preprocessed_data/2308141825_target_encoder\")"
   ]
  },
  {
   "cell_type": "code",
   "execution_count": 18,
   "id": "c9b42825",
   "metadata": {},
   "outputs": [],
   "source": [
    "# print(token_len_scaler.data_min_)\n",
    "# print(token_len_scaler.data_max_)\n",
    "# print(token_len_scaler.scale_)\n",
    "# print(token_len_scaler.n_features_in_)\n",
    "# print(token_len_scaler.n_samples_seen_)\n",
    "# print(token_len_scaler.feature_names_in_)"
   ]
  },
  {
   "cell_type": "code",
   "execution_count": 19,
   "id": "316d6fa6",
   "metadata": {},
   "outputs": [],
   "source": [
    "# print(language_encoder.categories_)\n",
    "# print(language_encoder.n_features_in_)\n",
    "# print(language_encoder.feature_names_in_)"
   ]
  },
  {
   "cell_type": "code",
   "execution_count": 20,
   "id": "5f45d821",
   "metadata": {},
   "outputs": [],
   "source": [
    "# print(len(lemmas_vectorizer.vocabulary_),'\\n')\n",
    "# print(dict(list(lemmas_vectorizer.vocabulary_.items() )[:25]),'\\n' )\n",
    "# print(list(lemmas_vectorizer.stop_words_)[:25])"
   ]
  },
  {
   "cell_type": "code",
   "execution_count": 21,
   "id": "b7fbbb63",
   "metadata": {},
   "outputs": [],
   "source": [
    "# print(target_encoder.classes_)"
   ]
  },
  {
   "cell_type": "code",
   "execution_count": null,
   "id": "fd72d94e",
   "metadata": {},
   "outputs": [],
   "source": []
  },
  {
   "cell_type": "markdown",
   "id": "e5d233d1",
   "metadata": {},
   "source": [
    "## product categories"
   ]
  },
  {
   "cell_type": "code",
   "execution_count": 11,
   "id": "d87f5d65",
   "metadata": {},
   "outputs": [
    {
     "name": "stdout",
     "output_type": "stream",
     "text": [
      "(27, 3)\n"
     ]
    },
    {
     "data": {
      "text/html": [
       "<div>\n",
       "<style scoped>\n",
       "    .dataframe tbody tr th:only-of-type {\n",
       "        vertical-align: middle;\n",
       "    }\n",
       "\n",
       "    .dataframe tbody tr th {\n",
       "        vertical-align: top;\n",
       "    }\n",
       "\n",
       "    .dataframe thead th {\n",
       "        text-align: right;\n",
       "    }\n",
       "</style>\n",
       "<table border=\"1\" class=\"dataframe\">\n",
       "  <thead>\n",
       "    <tr style=\"text-align: right;\">\n",
       "      <th></th>\n",
       "      <th>target</th>\n",
       "      <th>prdtypecode</th>\n",
       "      <th>prodtype</th>\n",
       "    </tr>\n",
       "  </thead>\n",
       "  <tbody>\n",
       "    <tr>\n",
       "      <th>0</th>\n",
       "      <td>0</td>\n",
       "      <td>10</td>\n",
       "      <td>livres_adulte</td>\n",
       "    </tr>\n",
       "    <tr>\n",
       "      <th>1</th>\n",
       "      <td>24</td>\n",
       "      <td>40</td>\n",
       "      <td>jeux_videos_import</td>\n",
       "    </tr>\n",
       "    <tr>\n",
       "      <th>2</th>\n",
       "      <td>25</td>\n",
       "      <td>50</td>\n",
       "      <td>accessoires_jeux_videos</td>\n",
       "    </tr>\n",
       "    <tr>\n",
       "      <th>3</th>\n",
       "      <td>26</td>\n",
       "      <td>60</td>\n",
       "      <td>jeux_et_consoles_retro</td>\n",
       "    </tr>\n",
       "    <tr>\n",
       "      <th>4</th>\n",
       "      <td>1</td>\n",
       "      <td>1140</td>\n",
       "      <td>goodies_geek</td>\n",
       "    </tr>\n",
       "  </tbody>\n",
       "</table>\n",
       "</div>"
      ],
      "text/plain": [
       "   target  prdtypecode                 prodtype\n",
       "0       0           10            livres_adulte\n",
       "1      24           40       jeux_videos_import\n",
       "2      25           50  accessoires_jeux_videos\n",
       "3      26           60   jeux_et_consoles_retro\n",
       "4       1         1140             goodies_geek"
      ]
     },
     "execution_count": 11,
     "metadata": {},
     "output_type": "execute_result"
    }
   ],
   "source": [
    "product_class = pd.read_csv('../datasets/product_class.csv', sep = ';')\n",
    "print(product_class.shape)\n",
    "product_class.head()"
   ]
  },
  {
   "cell_type": "markdown",
   "id": "0b74d0b0",
   "metadata": {},
   "source": [
    "# Text Models"
   ]
  },
  {
   "cell_type": "code",
   "execution_count": 52,
   "id": "79d53972",
   "metadata": {},
   "outputs": [],
   "source": [
    "from datetime import date, datetime\n",
    "\n",
    "def date_time():\n",
    "    '''\n",
    "    get date and time in string format '_yymmdd_hhmm'\n",
    "    at the moment the function is called.\n",
    "    '''\n",
    "    from datetime import date, datetime\n",
    "    \n",
    "    today = date.today()\n",
    "    now = datetime.now() \n",
    "\n",
    "    return today.strftime(\"%Y%m%d\")[2:] + now.strftime(\"%H%M\")"
   ]
  },
  {
   "cell_type": "markdown",
   "id": "ece75d67",
   "metadata": {},
   "source": [
    "# Random Forest"
   ]
  },
  {
   "cell_type": "code",
   "execution_count": 13,
   "id": "176adcb2",
   "metadata": {},
   "outputs": [],
   "source": [
    "X_train = text_data['X_train']\n",
    "X_test = text_data['X_test']\n",
    "\n",
    "y_train = df_y_train.squeeze()\n",
    "y_test = df_y_test.squeeze()"
   ]
  },
  {
   "cell_type": "code",
   "execution_count": 14,
   "id": "09638424",
   "metadata": {},
   "outputs": [
    {
     "name": "stdout",
     "output_type": "stream",
     "text": [
      "<class 'scipy.sparse._coo.coo_matrix'>\n",
      "<class 'scipy.sparse._coo.coo_matrix'>\n",
      "<class 'pandas.core.series.Series'>\n",
      "<class 'pandas.core.series.Series'>\n"
     ]
    }
   ],
   "source": [
    "print(type(X_train))\n",
    "print(type(X_test))\n",
    "print(type(y_train))\n",
    "print(type(y_test))"
   ]
  },
  {
   "cell_type": "code",
   "execution_count": 59,
   "id": "98e16bd4",
   "metadata": {},
   "outputs": [
    {
     "name": "stdout",
     "output_type": "stream",
     "text": [
      "For 67932 observations, training time = 54.93 seconds\n",
      "2308142209\n"
     ]
    }
   ],
   "source": [
    "from sklearn.ensemble import RandomForestClassifier\n",
    "from sklearn.model_selection import GridSearchCV\n",
    "\n",
    "## estimator\n",
    "rf_clf = RandomForestClassifier(n_jobs = -1, random_state = 123) # max_depth = 20, \n",
    "\n",
    "## GridSearch\n",
    "# params = {'max_depth' : [60,70,80,90]} \n",
    "\n",
    "# grid_rf = GridSearchCV(estimator = rf_clf, param_grid = params, scoring = 'accuracy', n_jobs = -1,\\\n",
    "#                        return_train_score=True, verbose = 2)\n",
    "\n",
    "## training (timed)\n",
    "t0 = time.time()\n",
    "\n",
    "rf_clf.fit(X_train, y_train)\n",
    "# grid_rf.fit(X_train, y_train)\n",
    "\n",
    "t1 = time.time()\n",
    "print(\"For %d observations, training time = %0.2f seconds\" %(X_train.shape[0], (t1-t0) ) )\n",
    "\n",
    "model_date_time = date_time()\n",
    "print(model_date_time)"
   ]
  },
  {
   "cell_type": "code",
   "execution_count": 61,
   "id": "3bf8d413",
   "metadata": {},
   "outputs": [
    {
     "data": {
      "text/plain": [
       "{'bootstrap': True,\n",
       " 'ccp_alpha': 0.0,\n",
       " 'class_weight': None,\n",
       " 'criterion': 'gini',\n",
       " 'max_depth': None,\n",
       " 'max_features': 'sqrt',\n",
       " 'max_leaf_nodes': None,\n",
       " 'max_samples': None,\n",
       " 'min_impurity_decrease': 0.0,\n",
       " 'min_samples_leaf': 1,\n",
       " 'min_samples_split': 2,\n",
       " 'min_weight_fraction_leaf': 0.0,\n",
       " 'n_estimators': 100,\n",
       " 'n_jobs': -1,\n",
       " 'oob_score': False,\n",
       " 'random_state': 123,\n",
       " 'verbose': 0,\n",
       " 'warm_start': False}"
      ]
     },
     "execution_count": 61,
     "metadata": {},
     "output_type": "execute_result"
    }
   ],
   "source": [
    "rf_clf.get_params()\n",
    "# grid_rf.get_params()"
   ]
  },
  {
   "cell_type": "code",
   "execution_count": 69,
   "id": "8bc9f797",
   "metadata": {},
   "outputs": [
    {
     "data": {
      "text/plain": [
       "1019"
      ]
     },
     "execution_count": 69,
     "metadata": {},
     "output_type": "execute_result"
    }
   ],
   "source": [
    "## maximum tree depth in the forest\n",
    "max((e.tree_.max_depth for e in rf_clf.estimators_))"
   ]
  },
  {
   "cell_type": "markdown",
   "id": "64adb2b5",
   "metadata": {},
   "source": [
    "**Grid optimization**"
   ]
  },
  {
   "cell_type": "code",
   "execution_count": 51,
   "id": "04758bcf",
   "metadata": {},
   "outputs": [
    {
     "name": "stdout",
     "output_type": "stream",
     "text": [
      "Best estimator: {'max_depth': 90}\n",
      "../Trained_models_and_metrics/20230814_2159_grid_rf_cv_results.csv\n"
     ]
    }
   ],
   "source": [
    "## Best estimators\n",
    "print(\"Best estimator:\", grid_rf.best_params_)\n",
    "\n",
    "\n",
    "## Grid evaluation:\n",
    "to_display = ['params', 'mean_test_score', 'std_test_score', 'mean_train_score', 'std_train_score']\n",
    "grid_rf_optimization = pd.DataFrame.from_dict(grid_rf.cv_results_).loc[:,to_display]\n",
    "#print(grid_rf_optimization)\n",
    "\n",
    "\n",
    "## export grid_cv_results\n",
    "export = False\n",
    "time_stamp = model_date_time\n",
    "if export:\n",
    "    filename = training_path + time_stamp + '_grid_rf_cv_results' + '.csv'\n",
    "    pd.DataFrame.from_dict(grid_rf.cv_results_).to_csv(filename, header=True, index=False)\n",
    "    print(filename)"
   ]
  },
  {
   "cell_type": "code",
   "execution_count": 45,
   "id": "b1f5fde5",
   "metadata": {},
   "outputs": [
    {
     "data": {
      "text/html": [
       "<div>\n",
       "<style scoped>\n",
       "    .dataframe tbody tr th:only-of-type {\n",
       "        vertical-align: middle;\n",
       "    }\n",
       "\n",
       "    .dataframe tbody tr th {\n",
       "        vertical-align: top;\n",
       "    }\n",
       "\n",
       "    .dataframe thead th {\n",
       "        text-align: right;\n",
       "    }\n",
       "</style>\n",
       "<table border=\"1\" class=\"dataframe\">\n",
       "  <thead>\n",
       "    <tr style=\"text-align: right;\">\n",
       "      <th></th>\n",
       "      <th>params</th>\n",
       "      <th>mean_test_score</th>\n",
       "      <th>std_test_score</th>\n",
       "      <th>mean_train_score</th>\n",
       "      <th>std_train_score</th>\n",
       "      <th>max_depth</th>\n",
       "    </tr>\n",
       "  </thead>\n",
       "  <tbody>\n",
       "    <tr>\n",
       "      <th>0</th>\n",
       "      <td>{'max_depth': 60}</td>\n",
       "      <td>0.705191</td>\n",
       "      <td>0.003330</td>\n",
       "      <td>0.828829</td>\n",
       "      <td>0.001555</td>\n",
       "      <td>60</td>\n",
       "    </tr>\n",
       "    <tr>\n",
       "      <th>1</th>\n",
       "      <td>{'max_depth': 70}</td>\n",
       "      <td>0.713066</td>\n",
       "      <td>0.002463</td>\n",
       "      <td>0.845562</td>\n",
       "      <td>0.000962</td>\n",
       "      <td>70</td>\n",
       "    </tr>\n",
       "    <tr>\n",
       "      <th>2</th>\n",
       "      <td>{'max_depth': 80}</td>\n",
       "      <td>0.717718</td>\n",
       "      <td>0.001581</td>\n",
       "      <td>0.859179</td>\n",
       "      <td>0.000241</td>\n",
       "      <td>80</td>\n",
       "    </tr>\n",
       "    <tr>\n",
       "      <th>3</th>\n",
       "      <td>{'max_depth': 90}</td>\n",
       "      <td>0.722620</td>\n",
       "      <td>0.001851</td>\n",
       "      <td>0.872578</td>\n",
       "      <td>0.001564</td>\n",
       "      <td>90</td>\n",
       "    </tr>\n",
       "  </tbody>\n",
       "</table>\n",
       "</div>"
      ],
      "text/plain": [
       "              params  mean_test_score  std_test_score  mean_train_score  \\\n",
       "0  {'max_depth': 60}         0.705191        0.003330          0.828829   \n",
       "1  {'max_depth': 70}         0.713066        0.002463          0.845562   \n",
       "2  {'max_depth': 80}         0.717718        0.001581          0.859179   \n",
       "3  {'max_depth': 90}         0.722620        0.001851          0.872578   \n",
       "\n",
       "   std_train_score  max_depth  \n",
       "0         0.001555         60  \n",
       "1         0.000962         70  \n",
       "2         0.000241         80  \n",
       "3         0.001564         90  "
      ]
     },
     "execution_count": 45,
     "metadata": {},
     "output_type": "execute_result"
    }
   ],
   "source": [
    "## Formating into dataframe: \n",
    "\n",
    "for key in params.keys():\n",
    "    grid_rf_optimization[key] = [val[key] for val in grid_rf_optimization['params']]\n",
    "\n",
    "#grid_rf_optimization = grid_rf_optimization.drop('params', axis = 1)\n",
    "\n",
    "grid_rf_optimization"
   ]
  },
  {
   "cell_type": "markdown",
   "id": "48730387",
   "metadata": {},
   "source": [
    "**Plot optimization of current model**"
   ]
  },
  {
   "cell_type": "code",
   "execution_count": 48,
   "id": "8b3d18f4",
   "metadata": {},
   "outputs": [
    {
     "data": {
      "text/plain": [
       "Text(0.5, 0.98, 'Optimization: Random Forest on meanRGB')"
      ]
     },
     "execution_count": 48,
     "metadata": {},
     "output_type": "execute_result"
    },
    {
     "data": {
      "image/png": "[encoded data removed]",
      "text/plain": [
       "<Figure size 1200x400 with 2 Axes>"
      ]
     },
     "metadata": {},
     "output_type": "display_data"
    }
   ],
   "source": [
    "fig, axs = plt.subplots(1,2,figsize = (12,4))\n",
    "#sns.lineplot(x = 'max_depth', y='mean_test_score', data = grid_rf_optimization, hue = 'criterion', style='max_features', marker = 'o')\n",
    "\n",
    "\n",
    "sns.lineplot(x = 'max_depth', y='mean_test_score', data = grid_rf_optimization, \\\n",
    "             marker = 'o', ax= axs[0])\n",
    "\n",
    "# sns.lineplot(x = 'max_depth', y='mean_test_score', data = grid_rf_v0, hue = 'C',\\\n",
    "#              marker = '*', ax= axs[0], ls = ':', palette=\"crest\")\n",
    "\n",
    "\n",
    "sns.lineplot(x = 'max_depth', y='mean_train_score', data = grid_rf_optimization, \\\n",
    "             marker = 'o', ax= axs[1])\n",
    "\n",
    "# sns.lineplot(x = 'max_depth', y='mean_train_score', data = grid_rf_v0, hue = 'C',\\\n",
    "#              marker = '*', ax= axs[1], ls = ':', palette=\"crest\")\n",
    "\n",
    "for ax in axs:\n",
    "    ax.set_ylim(0.7,0.95)\n",
    "#     ax.set_xscale(\"log\")\n",
    "#     leg = ax.legend()\n",
    "#     leg_lines = leg.get_lines()\n",
    "# #     leg_lines[1].set_linestyle(\":\")\n",
    "#     leg_lines[2].set_linestyle(\":\")\n",
    "#     leg_lines[3].set_linestyle(\":\")\n",
    "    \n",
    "#plt.legend(title='Day of Week')\n",
    "# plt.legend(labels = ['a', 'F', 'S', 'y'])\n",
    "fig.suptitle(\"Optimization: Random Forest on meanRGB\")"
   ]
  },
  {
   "cell_type": "markdown",
   "id": "3f27674e",
   "metadata": {},
   "source": [
    "**Train-Test accuracy**"
   ]
  },
  {
   "cell_type": "code",
   "execution_count": 70,
   "id": "0404865e",
   "metadata": {},
   "outputs": [
    {
     "name": "stdout",
     "output_type": "stream",
     "text": [
      "Train set accuracy 0.977\n",
      "Test  set accuracy 0.751\n"
     ]
    }
   ],
   "source": [
    "rf_accuracy_train = rf_clf.score(X_train, y_train)\n",
    "rf_accuracy_test = rf_clf.score(X_test, y_test)\n",
    "\n",
    "# rf_accuracy_train = grid_rf.score(X_train, y_train)\n",
    "# rf_accuracy_test = grid_rf.score(X_test, y_test)\n",
    "\n",
    "print(\"Train set accuracy %0.3f\" % rf_accuracy_train)\n",
    "print(\"Test  set accuracy %0.3f\" % rf_accuracy_test)"
   ]
  },
  {
   "cell_type": "markdown",
   "id": "2b8fd17d",
   "metadata": {},
   "source": [
    "**Predictions**"
   ]
  },
  {
   "cell_type": "code",
   "execution_count": 71,
   "id": "1f20bf0c",
   "metadata": {},
   "outputs": [],
   "source": [
    "y_pred = rf_clf.predict(X_test)\n",
    "# y_pred = grid_rf.predict(X_test)"
   ]
  },
  {
   "cell_type": "code",
   "execution_count": 72,
   "id": "a42de257",
   "metadata": {},
   "outputs": [],
   "source": [
    "categories = product_class['prdtypecode'].tolist()\n",
    "\n",
    "yy_pred = pd.Categorical(y_pred, categories = categories)\n",
    "yy_test = pd.Categorical(y_test, categories = categories)\n",
    "\n",
    "cm = pd.crosstab(yy_test, yy_pred, rownames=['Reality'], colnames=['Predictions'], dropna = False)"
   ]
  },
  {
   "cell_type": "code",
   "execution_count": 74,
   "id": "0e6a1a24",
   "metadata": {},
   "outputs": [
    {
     "name": "stdout",
     "output_type": "stream",
     "text": [
      "(27, 27)\n"
     ]
    },
    {
     "data": {
      "image/png": "[encoded data removed]",
      "text/plain": [
       "<Figure size 1800x1000 with 2 Axes>"
      ]
     },
     "metadata": {},
     "output_type": "display_data"
    }
   ],
   "source": [
    "print(cm.shape)\n",
    "\n",
    "fig, ax = plt.subplots(figsize = (18,10))\n",
    "sns.heatmap(cm, annot = True, ax=ax, cmap='Greens', fmt ='d', vmin = 0, vmax = 100)\n",
    "\n",
    "ax.xaxis.set_ticks_position('top')\n",
    "ax.xaxis.set_tick_params(length = 0)\n",
    "ax.xaxis.set_label_position('top')"
   ]
  },
  {
   "cell_type": "markdown",
   "id": "c3d19ded",
   "metadata": {},
   "source": [
    "**Save confusion matrix**"
   ]
  },
  {
   "cell_type": "code",
   "execution_count": 75,
   "id": "7cae51c3",
   "metadata": {},
   "outputs": [
    {
     "name": "stdout",
     "output_type": "stream",
     "text": [
      "../Trained_models_and_metrics/2308142209_text_rf_confusionMatrix.csv\n"
     ]
    }
   ],
   "source": [
    "export = False\n",
    "\n",
    "if export:\n",
    "    filename = training_path + model_date_time + '_text_rf' + '_confusionMatrix.csv'\n",
    "    \n",
    "    with open(filename, 'w') as file:\n",
    "        cm.to_csv(filename, header = True, index = True)\n",
    "        print(filename)"
   ]
  },
  {
   "cell_type": "markdown",
   "id": "eb3bffda",
   "metadata": {},
   "source": [
    "**Classification Report: macro & micro**"
   ]
  },
  {
   "cell_type": "code",
   "execution_count": 76,
   "id": "0be03665",
   "metadata": {},
   "outputs": [],
   "source": [
    "from sklearn.metrics import classification_report \n",
    "\n",
    "cr = classification_report(y_test, y_pred, output_dict = True)\n",
    "cr.update({\"accuracy\": {\"precision\": None, \"recall\": None, \"f1-score\": cr[\"accuracy\"], \"support\": cr['macro avg']['support']}})\n",
    "\n",
    "micro_rf = pd.DataFrame(cr).transpose().reset_index().rename(columns={'index': 'prdtypecode'}).iloc[:-3,:]\n",
    "macro_rf = pd.DataFrame(cr).transpose().reset_index().rename(columns={'index': 'metrics'}).iloc[-3:,:]\n",
    "\n",
    "# display(micro_dt)\n",
    "# display(macro_dt)"
   ]
  },
  {
   "cell_type": "code",
   "execution_count": 77,
   "id": "6d311560",
   "metadata": {},
   "outputs": [
    {
     "name": "stdout",
     "output_type": "stream",
     "text": [
      "              precision    recall  f1-score   support\n",
      "\n",
      "          10       0.36      0.45      0.40       623\n",
      "          40       0.69      0.56      0.62       502\n",
      "          50       0.80      0.70      0.75       336\n",
      "          60       0.93      0.86      0.89       166\n",
      "        1140       0.72      0.72      0.72       534\n",
      "        1160       0.65      0.85      0.74       791\n",
      "        1180       0.68      0.37      0.48       153\n",
      "        1280       0.68      0.63      0.66       974\n",
      "        1281       0.59      0.45      0.51       414\n",
      "        1300       0.82      0.88      0.85      1009\n",
      "        1301       0.90      0.81      0.85       161\n",
      "        1302       0.87      0.65      0.75       498\n",
      "        1320       0.77      0.64      0.70       648\n",
      "        1560       0.74      0.80      0.77      1015\n",
      "        1920       0.89      0.88      0.89       861\n",
      "        1940       0.84      0.68      0.75       161\n",
      "        2060       0.74      0.79      0.77       999\n",
      "        2220       0.89      0.62      0.73       165\n",
      "        2280       0.57      0.73      0.64       952\n",
      "        2403       0.70      0.67      0.68       955\n",
      "        2462       0.70      0.70      0.70       284\n",
      "        2522       0.85      0.86      0.86       998\n",
      "        2582       0.82      0.65      0.73       518\n",
      "        2583       0.93      0.97      0.95      2042\n",
      "        2585       0.81      0.66      0.73       499\n",
      "        2705       0.69      0.64      0.66       552\n",
      "        2905       0.99      1.00      1.00       174\n",
      "\n",
      "    accuracy                           0.75     16984\n",
      "   macro avg       0.76      0.71      0.73     16984\n",
      "weighted avg       0.76      0.75      0.75     16984\n",
      "\n"
     ]
    }
   ],
   "source": [
    "print(classification_report(y_test, y_pred))"
   ]
  },
  {
   "cell_type": "markdown",
   "id": "ac14ffd7",
   "metadata": {},
   "source": [
    "**Top Classified Categories**"
   ]
  },
  {
   "cell_type": "code",
   "execution_count": 78,
   "id": "878ea860",
   "metadata": {},
   "outputs": [
    {
     "data": {
      "text/html": [
       "<div>\n",
       "<style scoped>\n",
       "    .dataframe tbody tr th:only-of-type {\n",
       "        vertical-align: middle;\n",
       "    }\n",
       "\n",
       "    .dataframe tbody tr th {\n",
       "        vertical-align: top;\n",
       "    }\n",
       "\n",
       "    .dataframe thead th {\n",
       "        text-align: right;\n",
       "    }\n",
       "</style>\n",
       "<table border=\"1\" class=\"dataframe\">\n",
       "  <thead>\n",
       "    <tr style=\"text-align: right;\">\n",
       "      <th></th>\n",
       "      <th>prdtypecode</th>\n",
       "      <th>precision</th>\n",
       "      <th>recall</th>\n",
       "      <th>f1-score</th>\n",
       "      <th>support</th>\n",
       "    </tr>\n",
       "  </thead>\n",
       "  <tbody>\n",
       "    <tr>\n",
       "      <th>26</th>\n",
       "      <td>2905</td>\n",
       "      <td>0.994286</td>\n",
       "      <td>1.000000</td>\n",
       "      <td>0.997135</td>\n",
       "      <td>174.0</td>\n",
       "    </tr>\n",
       "    <tr>\n",
       "      <th>23</th>\n",
       "      <td>2583</td>\n",
       "      <td>0.928739</td>\n",
       "      <td>0.970127</td>\n",
       "      <td>0.948982</td>\n",
       "      <td>2042.0</td>\n",
       "    </tr>\n",
       "    <tr>\n",
       "      <th>3</th>\n",
       "      <td>60</td>\n",
       "      <td>0.934211</td>\n",
       "      <td>0.855422</td>\n",
       "      <td>0.893082</td>\n",
       "      <td>166.0</td>\n",
       "    </tr>\n",
       "    <tr>\n",
       "      <th>14</th>\n",
       "      <td>1920</td>\n",
       "      <td>0.893192</td>\n",
       "      <td>0.883856</td>\n",
       "      <td>0.888500</td>\n",
       "      <td>861.0</td>\n",
       "    </tr>\n",
       "    <tr>\n",
       "      <th>21</th>\n",
       "      <td>2522</td>\n",
       "      <td>0.849654</td>\n",
       "      <td>0.860721</td>\n",
       "      <td>0.855152</td>\n",
       "      <td>998.0</td>\n",
       "    </tr>\n",
       "  </tbody>\n",
       "</table>\n",
       "</div>"
      ],
      "text/plain": [
       "   prdtypecode  precision    recall  f1-score  support\n",
       "26        2905   0.994286  1.000000  0.997135    174.0\n",
       "23        2583   0.928739  0.970127  0.948982   2042.0\n",
       "3           60   0.934211  0.855422  0.893082    166.0\n",
       "14        1920   0.893192  0.883856  0.888500    861.0\n",
       "21        2522   0.849654  0.860721  0.855152    998.0"
      ]
     },
     "execution_count": 78,
     "metadata": {},
     "output_type": "execute_result"
    }
   ],
   "source": [
    "micro_rf.sort_values(by = 'f1-score', ascending=False).head(5)"
   ]
  },
  {
   "cell_type": "markdown",
   "id": "1513e37b",
   "metadata": {},
   "source": [
    "**Worst Classified Categories**"
   ]
  },
  {
   "cell_type": "code",
   "execution_count": 79,
   "id": "2b251bde",
   "metadata": {},
   "outputs": [
    {
     "data": {
      "text/html": [
       "<div>\n",
       "<style scoped>\n",
       "    .dataframe tbody tr th:only-of-type {\n",
       "        vertical-align: middle;\n",
       "    }\n",
       "\n",
       "    .dataframe tbody tr th {\n",
       "        vertical-align: top;\n",
       "    }\n",
       "\n",
       "    .dataframe thead th {\n",
       "        text-align: right;\n",
       "    }\n",
       "</style>\n",
       "<table border=\"1\" class=\"dataframe\">\n",
       "  <thead>\n",
       "    <tr style=\"text-align: right;\">\n",
       "      <th></th>\n",
       "      <th>prdtypecode</th>\n",
       "      <th>precision</th>\n",
       "      <th>recall</th>\n",
       "      <th>f1-score</th>\n",
       "      <th>support</th>\n",
       "    </tr>\n",
       "  </thead>\n",
       "  <tbody>\n",
       "    <tr>\n",
       "      <th>0</th>\n",
       "      <td>10</td>\n",
       "      <td>0.357868</td>\n",
       "      <td>0.452648</td>\n",
       "      <td>0.399717</td>\n",
       "      <td>623.0</td>\n",
       "    </tr>\n",
       "    <tr>\n",
       "      <th>6</th>\n",
       "      <td>1180</td>\n",
       "      <td>0.682927</td>\n",
       "      <td>0.366013</td>\n",
       "      <td>0.476596</td>\n",
       "      <td>153.0</td>\n",
       "    </tr>\n",
       "    <tr>\n",
       "      <th>8</th>\n",
       "      <td>1281</td>\n",
       "      <td>0.588608</td>\n",
       "      <td>0.449275</td>\n",
       "      <td>0.509589</td>\n",
       "      <td>414.0</td>\n",
       "    </tr>\n",
       "    <tr>\n",
       "      <th>1</th>\n",
       "      <td>40</td>\n",
       "      <td>0.686275</td>\n",
       "      <td>0.557769</td>\n",
       "      <td>0.615385</td>\n",
       "      <td>502.0</td>\n",
       "    </tr>\n",
       "    <tr>\n",
       "      <th>18</th>\n",
       "      <td>2280</td>\n",
       "      <td>0.571311</td>\n",
       "      <td>0.732143</td>\n",
       "      <td>0.641805</td>\n",
       "      <td>952.0</td>\n",
       "    </tr>\n",
       "  </tbody>\n",
       "</table>\n",
       "</div>"
      ],
      "text/plain": [
       "   prdtypecode  precision    recall  f1-score  support\n",
       "0           10   0.357868  0.452648  0.399717    623.0\n",
       "6         1180   0.682927  0.366013  0.476596    153.0\n",
       "8         1281   0.588608  0.449275  0.509589    414.0\n",
       "1           40   0.686275  0.557769  0.615385    502.0\n",
       "18        2280   0.571311  0.732143  0.641805    952.0"
      ]
     },
     "execution_count": 79,
     "metadata": {},
     "output_type": "execute_result"
    }
   ],
   "source": [
    "micro_rf.sort_values(by = 'f1-score', ascending=True).head(5)"
   ]
  },
  {
   "cell_type": "markdown",
   "id": "0352447c",
   "metadata": {},
   "source": [
    "**Less represented categories scores**"
   ]
  },
  {
   "cell_type": "code",
   "execution_count": 80,
   "id": "d91f749e",
   "metadata": {},
   "outputs": [
    {
     "data": {
      "text/html": [
       "<div>\n",
       "<style scoped>\n",
       "    .dataframe tbody tr th:only-of-type {\n",
       "        vertical-align: middle;\n",
       "    }\n",
       "\n",
       "    .dataframe tbody tr th {\n",
       "        vertical-align: top;\n",
       "    }\n",
       "\n",
       "    .dataframe thead th {\n",
       "        text-align: right;\n",
       "    }\n",
       "</style>\n",
       "<table border=\"1\" class=\"dataframe\">\n",
       "  <thead>\n",
       "    <tr style=\"text-align: right;\">\n",
       "      <th></th>\n",
       "      <th>prdtypecode</th>\n",
       "      <th>precision</th>\n",
       "      <th>recall</th>\n",
       "      <th>f1-score</th>\n",
       "      <th>support</th>\n",
       "    </tr>\n",
       "  </thead>\n",
       "  <tbody>\n",
       "    <tr>\n",
       "      <th>6</th>\n",
       "      <td>1180</td>\n",
       "      <td>0.682927</td>\n",
       "      <td>0.366013</td>\n",
       "      <td>0.476596</td>\n",
       "      <td>153.0</td>\n",
       "    </tr>\n",
       "    <tr>\n",
       "      <th>10</th>\n",
       "      <td>1301</td>\n",
       "      <td>0.897260</td>\n",
       "      <td>0.813665</td>\n",
       "      <td>0.853420</td>\n",
       "      <td>161.0</td>\n",
       "    </tr>\n",
       "    <tr>\n",
       "      <th>15</th>\n",
       "      <td>1940</td>\n",
       "      <td>0.844961</td>\n",
       "      <td>0.677019</td>\n",
       "      <td>0.751724</td>\n",
       "      <td>161.0</td>\n",
       "    </tr>\n",
       "    <tr>\n",
       "      <th>17</th>\n",
       "      <td>2220</td>\n",
       "      <td>0.887931</td>\n",
       "      <td>0.624242</td>\n",
       "      <td>0.733096</td>\n",
       "      <td>165.0</td>\n",
       "    </tr>\n",
       "    <tr>\n",
       "      <th>3</th>\n",
       "      <td>60</td>\n",
       "      <td>0.934211</td>\n",
       "      <td>0.855422</td>\n",
       "      <td>0.893082</td>\n",
       "      <td>166.0</td>\n",
       "    </tr>\n",
       "  </tbody>\n",
       "</table>\n",
       "</div>"
      ],
      "text/plain": [
       "   prdtypecode  precision    recall  f1-score  support\n",
       "6         1180   0.682927  0.366013  0.476596    153.0\n",
       "10        1301   0.897260  0.813665  0.853420    161.0\n",
       "15        1940   0.844961  0.677019  0.751724    161.0\n",
       "17        2220   0.887931  0.624242  0.733096    165.0\n",
       "3           60   0.934211  0.855422  0.893082    166.0"
      ]
     },
     "execution_count": 80,
     "metadata": {},
     "output_type": "execute_result"
    }
   ],
   "source": [
    "micro_rf.sort_values(by = 'support', ascending=True).head(5)"
   ]
  },
  {
   "cell_type": "markdown",
   "id": "3c490be3",
   "metadata": {},
   "source": [
    "**Save Classification Report**"
   ]
  },
  {
   "cell_type": "code",
   "execution_count": 81,
   "id": "414ee7ad",
   "metadata": {},
   "outputs": [
    {
     "name": "stdout",
     "output_type": "stream",
     "text": [
      "../Trained_models_and_metrics/2308142209_text_rf_classificationReport.txt\n"
     ]
    }
   ],
   "source": [
    "export = True\n",
    "\n",
    "if export:\n",
    "    filename = training_path + model_date_time +'_text_rf' + '_classificationReport.txt'\n",
    "    \n",
    "    with open(filename, 'w') as file:\n",
    "        file.write(classification_report(y_test, y_pred))\n",
    "        print(filename)"
   ]
  },
  {
   "cell_type": "markdown",
   "id": "0b6616f8",
   "metadata": {},
   "source": [
    "**Save trained model**"
   ]
  },
  {
   "cell_type": "code",
   "execution_count": 124,
   "id": "1d7f5ea7",
   "metadata": {},
   "outputs": [
    {
     "name": "stdout",
     "output_type": "stream",
     "text": [
      "textModel_rf_trainedModel_20230807_2330.txt\n"
     ]
    }
   ],
   "source": [
    "export = True\n",
    "\n",
    "if export:\n",
    "    filename = 'textModel_rf_trainedModel' + model_date_time + '.txt'\n",
    "    print(filename)\n",
    "    \n",
    "    with open(filename, 'w') as file:\n",
    "        file.write(json.dumps(rf_clf.get_params()))"
   ]
  },
  {
   "cell_type": "markdown",
   "id": "aa4e93a5",
   "metadata": {},
   "source": [
    "**Load pre-Trained model**"
   ]
  },
  {
   "cell_type": "code",
   "execution_count": 89,
   "id": "4f44393f",
   "metadata": {
    "scrolled": true
   },
   "outputs": [],
   "source": [
    "export = False\n",
    "\n",
    "if export:\n",
    "    filename = 'textModel_rf_trainedModel' + learnCurve_date_time + '.txt'\n",
    "    \n",
    "    with open(filename, 'r') as file:\n",
    "        reloadedModel = json.load(file)\n",
    "        \n",
    "    reloadedModel"
   ]
  },
  {
   "cell_type": "code",
   "execution_count": null,
   "id": "a25df702",
   "metadata": {},
   "outputs": [],
   "source": []
  },
  {
   "cell_type": "code",
   "execution_count": null,
   "id": "fa10b7b3",
   "metadata": {},
   "outputs": [],
   "source": []
  },
  {
   "cell_type": "code",
   "execution_count": null,
   "id": "01d72d74",
   "metadata": {},
   "outputs": [],
   "source": []
  },
  {
   "cell_type": "code",
   "execution_count": null,
   "id": "9b918491",
   "metadata": {},
   "outputs": [],
   "source": []
  },
  {
   "cell_type": "code",
   "execution_count": null,
   "id": "cd57d60c",
   "metadata": {},
   "outputs": [],
   "source": []
  },
  {
   "cell_type": "code",
   "execution_count": null,
   "id": "5273592e",
   "metadata": {},
   "outputs": [],
   "source": []
  },
  {
   "cell_type": "code",
   "execution_count": null,
   "id": "4156d900",
   "metadata": {},
   "outputs": [],
   "source": []
  },
  {
   "cell_type": "code",
   "execution_count": null,
   "id": "99f60e31",
   "metadata": {},
   "outputs": [],
   "source": []
  },
  {
   "cell_type": "code",
   "execution_count": null,
   "id": "e71a6877",
   "metadata": {},
   "outputs": [],
   "source": []
  },
  {
   "cell_type": "code",
   "execution_count": null,
   "id": "3a5f9682",
   "metadata": {},
   "outputs": [],
   "source": []
  },
  {
   "cell_type": "code",
   "execution_count": null,
   "id": "439a8b59",
   "metadata": {},
   "outputs": [],
   "source": []
  },
  {
   "cell_type": "code",
   "execution_count": null,
   "id": "080fdddd",
   "metadata": {},
   "outputs": [],
   "source": []
  },
  {
   "cell_type": "code",
   "execution_count": null,
   "id": "f4bf5a46",
   "metadata": {},
   "outputs": [],
   "source": []
  },
  {
   "cell_type": "code",
   "execution_count": null,
   "id": "148fad1b",
   "metadata": {},
   "outputs": [],
   "source": []
  },
  {
   "cell_type": "code",
   "execution_count": null,
   "id": "9bc9d1b6",
   "metadata": {},
   "outputs": [],
   "source": []
  },
  {
   "cell_type": "code",
   "execution_count": null,
   "id": "c5b5e1e9",
   "metadata": {},
   "outputs": [],
   "source": []
  },
  {
   "cell_type": "code",
   "execution_count": null,
   "id": "483cb7e4",
   "metadata": {},
   "outputs": [],
   "source": []
  },
  {
   "cell_type": "code",
   "execution_count": null,
   "id": "33f213cb",
   "metadata": {},
   "outputs": [],
   "source": []
  },
  {
   "cell_type": "code",
   "execution_count": null,
   "id": "ac00a601",
   "metadata": {},
   "outputs": [],
   "source": []
  },
  {
   "cell_type": "code",
   "execution_count": null,
   "id": "b160a845",
   "metadata": {},
   "outputs": [],
   "source": []
  },
  {
   "cell_type": "code",
   "execution_count": null,
   "id": "0a16604f",
   "metadata": {},
   "outputs": [],
   "source": []
  },
  {
   "cell_type": "code",
   "execution_count": null,
   "id": "fdd571c8",
   "metadata": {},
   "outputs": [],
   "source": []
  },
  {
   "cell_type": "code",
   "execution_count": null,
   "id": "f30198a5",
   "metadata": {},
   "outputs": [],
   "source": []
  },
  {
   "cell_type": "code",
   "execution_count": null,
   "id": "728b5e31",
   "metadata": {},
   "outputs": [],
   "source": []
  },
  {
   "cell_type": "code",
   "execution_count": null,
   "id": "8adda8f9",
   "metadata": {},
   "outputs": [],
   "source": []
  },
  {
   "cell_type": "code",
   "execution_count": null,
   "id": "6f1f9f42",
   "metadata": {},
   "outputs": [],
   "source": []
  },
  {
   "cell_type": "code",
   "execution_count": null,
   "id": "145284ce",
   "metadata": {},
   "outputs": [],
   "source": []
  }
 ],
 "metadata": {
  "kernelspec": {
   "display_name": "Python 3 (ipykernel)",
   "language": "python",
   "name": "python3"
  },
  "language_info": {
   "codemirror_mode": {
    "name": "ipython",
    "version": 3
   },
   "file_extension": ".py",
   "mimetype": "text/x-python",
   "name": "python",
   "nbconvert_exporter": "python",
   "pygments_lexer": "ipython3",
   "version": "3.10.9"
  }
 },
 "nbformat": 4,
 "nbformat_minor": 5
}
