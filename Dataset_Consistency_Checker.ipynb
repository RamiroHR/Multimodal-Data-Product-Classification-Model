{
 "cells": [
  {
   "cell_type": "markdown",
   "id": "ebd8ea66",
   "metadata": {},
   "source": [
    "# reloading datasets: original, preprocess & transformed:"
   ]
  },
  {
   "cell_type": "code",
   "execution_count": 49,
   "id": "747a32d6",
   "metadata": {},
   "outputs": [],
   "source": [
    "import pandas as pd\n",
    "import numpy as np\n",
    "import matplotlib.pyplot as plt\n",
    "\n",
    "# from sklearn.model_selection import train_test_split\n",
    "\n",
    "# %load_ext autoreload\n",
    "# %autoreload 2\n",
    "# import FusionModel_tools as fm\n",
    "# import importlib\n",
    "# importlib.reload(fm)\n",
    "\n",
    "# import nltk\n",
    "# nltk.download('popular', quiet = True)\n",
    "\n",
    "import os\n",
    "import time\n"
   ]
  },
  {
   "cell_type": "code",
   "execution_count": 2,
   "id": "13bcdd0b",
   "metadata": {},
   "outputs": [],
   "source": [
    "## define general parameters\n",
    "\n",
    "myseed = 123\n",
    "\n",
    "splitting_path = '../Splitted_datasets/'\n",
    "preprocessing_path = '../Preprocessed_data/'\n",
    "training_path = '../Trained_models_and_metrics/'\n"
   ]
  },
  {
   "cell_type": "markdown",
   "id": "d3c64f2b",
   "metadata": {},
   "source": [
    "## original: splitings"
   ]
  },
  {
   "cell_type": "code",
   "execution_count": 3,
   "id": "2f8ce7d8",
   "metadata": {},
   "outputs": [],
   "source": [
    "df_X_train = pd.read_csv(splitting_path + '2308141811_df_X_train.csv', index_col = 0, header = 0)\n",
    "df_X_test = pd.read_csv(splitting_path + '2308141811_df_X_test.csv', index_col = 0, header = 0)\n",
    "df_y_train = pd.read_csv(splitting_path + '2308141811_df_y_train.csv', index_col = 0, header = 0)\n",
    "df_y_test = pd.read_csv(splitting_path + '2308141811_df_y_test.csv', index_col = 0, header = 0)"
   ]
  },
  {
   "cell_type": "code",
   "execution_count": 4,
   "id": "55a90498",
   "metadata": {},
   "outputs": [
    {
     "name": "stdout",
     "output_type": "stream",
     "text": [
      "Int64Index([ 9263, 50884, 73788, 34901, 81204, 26065, 46256, 70161, 24947,\n",
      "            32350,\n",
      "            ...\n",
      "            29427,  6336, 69930, 71944, 18110, 19372, 79662, 38386, 84570,\n",
      "            60763],\n",
      "           dtype='int64', length=67932)\n"
     ]
    },
    {
     "data": {
      "text/html": [
       "<div>\n",
       "<style scoped>\n",
       "    .dataframe tbody tr th:only-of-type {\n",
       "        vertical-align: middle;\n",
       "    }\n",
       "\n",
       "    .dataframe tbody tr th {\n",
       "        vertical-align: top;\n",
       "    }\n",
       "\n",
       "    .dataframe thead th {\n",
       "        text-align: right;\n",
       "    }\n",
       "</style>\n",
       "<table border=\"1\" class=\"dataframe\">\n",
       "  <thead>\n",
       "    <tr style=\"text-align: right;\">\n",
       "      <th></th>\n",
       "      <th>designation</th>\n",
       "      <th>description</th>\n",
       "      <th>productid</th>\n",
       "      <th>imageid</th>\n",
       "    </tr>\n",
       "  </thead>\n",
       "  <tbody>\n",
       "    <tr>\n",
       "      <th>9263</th>\n",
       "      <td>Lot 3 Livres - Contes Merveilleux</td>\n",
       "      <td>NaN</td>\n",
       "      <td>3618603061</td>\n",
       "      <td>1228606644</td>\n",
       "    </tr>\n",
       "    <tr>\n",
       "      <th>50884</th>\n",
       "      <td>Amiibo Splatoon Calamar Inkling Violet Néon</td>\n",
       "      <td>NaN</td>\n",
       "      <td>1997652852</td>\n",
       "      <td>1119376033</td>\n",
       "    </tr>\n",
       "    <tr>\n",
       "      <th>73788</th>\n",
       "      <td>Atterrissage Prolongée Vitesse De Jambe D'appu...</td>\n",
       "      <td>NOUVEAU Landing Gear Extended Leg support Prot...</td>\n",
       "      <td>4197675553</td>\n",
       "      <td>1313430830</td>\n",
       "    </tr>\n",
       "    <tr>\n",
       "      <th>34901</th>\n",
       "      <td>Rideau D'ameublement À Effet Chenille</td>\n",
       "      <td>Rideau de 140 x 260 cm qui saura mettre en ava...</td>\n",
       "      <td>3601180051</td>\n",
       "      <td>1226564377</td>\n",
       "    </tr>\n",
       "    <tr>\n",
       "      <th>81204</th>\n",
       "      <td>Porte-Cartes De Visites Magnetoplan</td>\n",
       "      <td>magnetoplan porte-cartes de visite transparent...</td>\n",
       "      <td>278813457</td>\n",
       "      <td>977811081</td>\n",
       "    </tr>\n",
       "  </tbody>\n",
       "</table>\n",
       "</div>"
      ],
      "text/plain": [
       "                                             designation  \\\n",
       "9263                   Lot 3 Livres - Contes Merveilleux   \n",
       "50884        Amiibo Splatoon Calamar Inkling Violet Néon   \n",
       "73788  Atterrissage Prolongée Vitesse De Jambe D'appu...   \n",
       "34901              Rideau D'ameublement À Effet Chenille   \n",
       "81204                Porte-Cartes De Visites Magnetoplan   \n",
       "\n",
       "                                             description   productid  \\\n",
       "9263                                                 NaN  3618603061   \n",
       "50884                                                NaN  1997652852   \n",
       "73788  NOUVEAU Landing Gear Extended Leg support Prot...  4197675553   \n",
       "34901  Rideau de 140 x 260 cm qui saura mettre en ava...  3601180051   \n",
       "81204  magnetoplan porte-cartes de visite transparent...   278813457   \n",
       "\n",
       "          imageid  \n",
       "9263   1228606644  \n",
       "50884  1119376033  \n",
       "73788  1313430830  \n",
       "34901  1226564377  \n",
       "81204   977811081  "
      ]
     },
     "execution_count": 4,
     "metadata": {},
     "output_type": "execute_result"
    }
   ],
   "source": [
    "print(df_X_train.index)\n",
    "df_X_train.head()"
   ]
  },
  {
   "cell_type": "code",
   "execution_count": 5,
   "id": "26dba23b",
   "metadata": {},
   "outputs": [
    {
     "name": "stdout",
     "output_type": "stream",
     "text": [
      "Int64Index([76291, 35651, 23689, 27954, 53964, 25569,   462, 76121, 81032,\n",
      "            80184,\n",
      "            ...\n",
      "            43294, 23597, 28244,  7725, 20720, 84173, 53364, 62653, 33334,\n",
      "            83750],\n",
      "           dtype='int64', length=16984)\n"
     ]
    },
    {
     "data": {
      "text/html": [
       "<div>\n",
       "<style scoped>\n",
       "    .dataframe tbody tr th:only-of-type {\n",
       "        vertical-align: middle;\n",
       "    }\n",
       "\n",
       "    .dataframe tbody tr th {\n",
       "        vertical-align: top;\n",
       "    }\n",
       "\n",
       "    .dataframe thead th {\n",
       "        text-align: right;\n",
       "    }\n",
       "</style>\n",
       "<table border=\"1\" class=\"dataframe\">\n",
       "  <thead>\n",
       "    <tr style=\"text-align: right;\">\n",
       "      <th></th>\n",
       "      <th>designation</th>\n",
       "      <th>description</th>\n",
       "      <th>productid</th>\n",
       "      <th>imageid</th>\n",
       "    </tr>\n",
       "  </thead>\n",
       "  <tbody>\n",
       "    <tr>\n",
       "      <th>76291</th>\n",
       "      <td>Fullmetal Alchemist Figurine Riza Hawkeye 10 Cm</td>\n",
       "      <td>Trading figurine d'une taille de 10 cm environ...</td>\n",
       "      <td>304773553</td>\n",
       "      <td>996061500</td>\n",
       "    </tr>\n",
       "    <tr>\n",
       "      <th>35651</th>\n",
       "      <td>Mebby Biberon Vetro 270ml Lattice Blu</td>\n",
       "      <td>NaN</td>\n",
       "      <td>1233521151</td>\n",
       "      <td>1233288653</td>\n",
       "    </tr>\n",
       "    <tr>\n",
       "      <th>23689</th>\n",
       "      <td>Chaise De Plage Hwc-A11 Mer Du Nord Bâche Incl...</td>\n",
       "      <td>Chaise de plage HWC-A11 mer du Nord bâche incl...</td>\n",
       "      <td>3738732335</td>\n",
       "      <td>1239669685</td>\n",
       "    </tr>\n",
       "    <tr>\n",
       "      <th>27954</th>\n",
       "      <td>Mini Fc 129 Console De Jeu Vidéo Rétro Jeu Min...</td>\n",
       "      <td>Numéro du modèle:Handheld retro Players&lt;br /&gt;A...</td>\n",
       "      <td>4200877059</td>\n",
       "      <td>1316192545</td>\n",
       "    </tr>\n",
       "    <tr>\n",
       "      <th>53964</th>\n",
       "      <td>Brosses à lamelles R9022 Zodiac Vortex 4 - La ...</td>\n",
       "      <td>Utilisation des brosses à lamelles R9022 Zodia...</td>\n",
       "      <td>207257892</td>\n",
       "      <td>941677156</td>\n",
       "    </tr>\n",
       "  </tbody>\n",
       "</table>\n",
       "</div>"
      ],
      "text/plain": [
       "                                             designation  \\\n",
       "76291    Fullmetal Alchemist Figurine Riza Hawkeye 10 Cm   \n",
       "35651              Mebby Biberon Vetro 270ml Lattice Blu   \n",
       "23689  Chaise De Plage Hwc-A11 Mer Du Nord Bâche Incl...   \n",
       "27954  Mini Fc 129 Console De Jeu Vidéo Rétro Jeu Min...   \n",
       "53964  Brosses à lamelles R9022 Zodiac Vortex 4 - La ...   \n",
       "\n",
       "                                             description   productid  \\\n",
       "76291  Trading figurine d'une taille de 10 cm environ...   304773553   \n",
       "35651                                                NaN  1233521151   \n",
       "23689  Chaise de plage HWC-A11 mer du Nord bâche incl...  3738732335   \n",
       "27954  Numéro du modèle:Handheld retro Players<br />A...  4200877059   \n",
       "53964  Utilisation des brosses à lamelles R9022 Zodia...   207257892   \n",
       "\n",
       "          imageid  \n",
       "76291   996061500  \n",
       "35651  1233288653  \n",
       "23689  1239669685  \n",
       "27954  1316192545  \n",
       "53964   941677156  "
      ]
     },
     "execution_count": 5,
     "metadata": {},
     "output_type": "execute_result"
    }
   ],
   "source": [
    "print(df_X_test.index)\n",
    "df_X_test.head()"
   ]
  },
  {
   "cell_type": "code",
   "execution_count": 6,
   "id": "6276a6aa",
   "metadata": {},
   "outputs": [
    {
     "name": "stdout",
     "output_type": "stream",
     "text": [
      "Int64Index([ 9263, 50884, 73788, 34901, 81204, 26065, 46256, 70161, 24947,\n",
      "            32350,\n",
      "            ...\n",
      "            29427,  6336, 69930, 71944, 18110, 19372, 79662, 38386, 84570,\n",
      "            60763],\n",
      "           dtype='int64', length=67932)\n"
     ]
    },
    {
     "data": {
      "text/html": [
       "<div>\n",
       "<style scoped>\n",
       "    .dataframe tbody tr th:only-of-type {\n",
       "        vertical-align: middle;\n",
       "    }\n",
       "\n",
       "    .dataframe tbody tr th {\n",
       "        vertical-align: top;\n",
       "    }\n",
       "\n",
       "    .dataframe thead th {\n",
       "        text-align: right;\n",
       "    }\n",
       "</style>\n",
       "<table border=\"1\" class=\"dataframe\">\n",
       "  <thead>\n",
       "    <tr style=\"text-align: right;\">\n",
       "      <th></th>\n",
       "      <th>prdtypecode</th>\n",
       "    </tr>\n",
       "  </thead>\n",
       "  <tbody>\n",
       "    <tr>\n",
       "      <th>9263</th>\n",
       "      <td>2403</td>\n",
       "    </tr>\n",
       "    <tr>\n",
       "      <th>50884</th>\n",
       "      <td>50</td>\n",
       "    </tr>\n",
       "    <tr>\n",
       "      <th>73788</th>\n",
       "      <td>1300</td>\n",
       "    </tr>\n",
       "    <tr>\n",
       "      <th>34901</th>\n",
       "      <td>1920</td>\n",
       "    </tr>\n",
       "    <tr>\n",
       "      <th>81204</th>\n",
       "      <td>2522</td>\n",
       "    </tr>\n",
       "  </tbody>\n",
       "</table>\n",
       "</div>"
      ],
      "text/plain": [
       "       prdtypecode\n",
       "9263          2403\n",
       "50884           50\n",
       "73788         1300\n",
       "34901         1920\n",
       "81204         2522"
      ]
     },
     "execution_count": 6,
     "metadata": {},
     "output_type": "execute_result"
    }
   ],
   "source": [
    "print(df_y_train.index)\n",
    "df_y_train.head()"
   ]
  },
  {
   "cell_type": "code",
   "execution_count": 7,
   "id": "f174898e",
   "metadata": {},
   "outputs": [
    {
     "name": "stdout",
     "output_type": "stream",
     "text": [
      "Int64Index([76291, 35651, 23689, 27954, 53964, 25569,   462, 76121, 81032,\n",
      "            80184,\n",
      "            ...\n",
      "            43294, 23597, 28244,  7725, 20720, 84173, 53364, 62653, 33334,\n",
      "            83750],\n",
      "           dtype='int64', length=16984)\n"
     ]
    },
    {
     "data": {
      "text/html": [
       "<div>\n",
       "<style scoped>\n",
       "    .dataframe tbody tr th:only-of-type {\n",
       "        vertical-align: middle;\n",
       "    }\n",
       "\n",
       "    .dataframe tbody tr th {\n",
       "        vertical-align: top;\n",
       "    }\n",
       "\n",
       "    .dataframe thead th {\n",
       "        text-align: right;\n",
       "    }\n",
       "</style>\n",
       "<table border=\"1\" class=\"dataframe\">\n",
       "  <thead>\n",
       "    <tr style=\"text-align: right;\">\n",
       "      <th></th>\n",
       "      <th>prdtypecode</th>\n",
       "    </tr>\n",
       "  </thead>\n",
       "  <tbody>\n",
       "    <tr>\n",
       "      <th>76291</th>\n",
       "      <td>1140</td>\n",
       "    </tr>\n",
       "    <tr>\n",
       "      <th>35651</th>\n",
       "      <td>1320</td>\n",
       "    </tr>\n",
       "    <tr>\n",
       "      <th>23689</th>\n",
       "      <td>2582</td>\n",
       "    </tr>\n",
       "    <tr>\n",
       "      <th>27954</th>\n",
       "      <td>60</td>\n",
       "    </tr>\n",
       "    <tr>\n",
       "      <th>53964</th>\n",
       "      <td>2583</td>\n",
       "    </tr>\n",
       "  </tbody>\n",
       "</table>\n",
       "</div>"
      ],
      "text/plain": [
       "       prdtypecode\n",
       "76291         1140\n",
       "35651         1320\n",
       "23689         2582\n",
       "27954           60\n",
       "53964         2583"
      ]
     },
     "execution_count": 7,
     "metadata": {},
     "output_type": "execute_result"
    }
   ],
   "source": [
    "print(df_y_test.index)\n",
    "df_y_test.head()"
   ]
  },
  {
   "cell_type": "markdown",
   "id": "cdd14550",
   "metadata": {},
   "source": [
    "## preprocessed dataset: X"
   ]
  },
  {
   "cell_type": "code",
   "execution_count": 8,
   "id": "e76ea2b8",
   "metadata": {},
   "outputs": [],
   "source": [
    "df_X_train_preprocess = pd.read_csv(preprocessing_path+'2308141824_df_X_train_preprocess.csv', header = 0, index_col = 0, sep = ',')\n",
    "df_X_test_preprocess = pd.read_csv(preprocessing_path+'2308141824_df_X_test_preprocess.csv', header = 0, index_col = 0, sep = ',')\n",
    "# df_y_train = pd.read_csv( splitting_path+'2308121827_df_y_train.csv', header = 0, index_col = 0, sep = ',')\n",
    "# df_y_test = pd.read_csv( splitting_path+'2308121827_df_y_test.csv', header = 0, index_col = 0, sep = ',')"
   ]
  },
  {
   "cell_type": "code",
   "execution_count": 9,
   "id": "1570e883",
   "metadata": {},
   "outputs": [
    {
     "name": "stdout",
     "output_type": "stream",
     "text": [
      "Int64Index([ 9263, 50884, 73788, 34901, 81204, 26065, 46256, 70161, 24947,\n",
      "            32350,\n",
      "            ...\n",
      "            29427,  6336, 69930, 71944, 18110, 19372, 79662, 38386, 84570,\n",
      "            60763],\n",
      "           dtype='int64', length=67932)\n"
     ]
    },
    {
     "data": {
      "text/html": [
       "<div>\n",
       "<style scoped>\n",
       "    .dataframe tbody tr th:only-of-type {\n",
       "        vertical-align: middle;\n",
       "    }\n",
       "\n",
       "    .dataframe tbody tr th {\n",
       "        vertical-align: top;\n",
       "    }\n",
       "\n",
       "    .dataframe thead th {\n",
       "        text-align: right;\n",
       "    }\n",
       "</style>\n",
       "<table border=\"1\" class=\"dataframe\">\n",
       "  <thead>\n",
       "    <tr style=\"text-align: right;\">\n",
       "      <th></th>\n",
       "      <th>title</th>\n",
       "      <th>description</th>\n",
       "      <th>productid</th>\n",
       "      <th>imageid</th>\n",
       "      <th>title_descr</th>\n",
       "      <th>lemma_tokens</th>\n",
       "      <th>language</th>\n",
       "      <th>text_token_len</th>\n",
       "    </tr>\n",
       "  </thead>\n",
       "  <tbody>\n",
       "    <tr>\n",
       "      <th>9263</th>\n",
       "      <td>Lot 3 Livres - Contes Merveilleux</td>\n",
       "      <td>NaN</td>\n",
       "      <td>3618603061</td>\n",
       "      <td>1228606644</td>\n",
       "      <td>lot 3 livres - contes merveilleux \\n</td>\n",
       "      <td>['lot', 'livres', 'contes', 'merveilleux']</td>\n",
       "      <td>fr</td>\n",
       "      <td>4</td>\n",
       "    </tr>\n",
       "    <tr>\n",
       "      <th>50884</th>\n",
       "      <td>Amiibo Splatoon Calamar Inkling Violet Néon</td>\n",
       "      <td>NaN</td>\n",
       "      <td>1997652852</td>\n",
       "      <td>1119376033</td>\n",
       "      <td>amiibo splatoon calamar inkling violet néon \\n</td>\n",
       "      <td>['amiibo', 'splatoon', 'calamar', 'inkling', '...</td>\n",
       "      <td>en</td>\n",
       "      <td>6</td>\n",
       "    </tr>\n",
       "    <tr>\n",
       "      <th>73788</th>\n",
       "      <td>Atterrissage Prolongée Vitesse De Jambe D'appu...</td>\n",
       "      <td>NOUVEAU Landing Gear Extended Leg support Prot...</td>\n",
       "      <td>4197675553</td>\n",
       "      <td>1313430830</td>\n",
       "      <td>atterrissage prolongée vitesse de jambe d'appu...</td>\n",
       "      <td>['atterrissage', 'prolongée', 'vitesse', 'jamb...</td>\n",
       "      <td>fr</td>\n",
       "      <td>54</td>\n",
       "    </tr>\n",
       "    <tr>\n",
       "      <th>34901</th>\n",
       "      <td>Rideau D'ameublement À Effet Chenille</td>\n",
       "      <td>Rideau de 140 x 260 cm qui saura mettre en ava...</td>\n",
       "      <td>3601180051</td>\n",
       "      <td>1226564377</td>\n",
       "      <td>rideau d'ameublement à effet chenille \\n ridea...</td>\n",
       "      <td>['rideau', 'ameublement', 'chenille', '140', '...</td>\n",
       "      <td>fr</td>\n",
       "      <td>66</td>\n",
       "    </tr>\n",
       "    <tr>\n",
       "      <th>81204</th>\n",
       "      <td>Porte-Cartes De Visites Magnetoplan</td>\n",
       "      <td>magnetoplan porte-cartes de visite transparent...</td>\n",
       "      <td>278813457</td>\n",
       "      <td>977811081</td>\n",
       "      <td>porte-cartes de visites magnetoplan \\n magneto...</td>\n",
       "      <td>['porte', 'carte', 'visites', 'magnetoplan', '...</td>\n",
       "      <td>fr</td>\n",
       "      <td>8</td>\n",
       "    </tr>\n",
       "  </tbody>\n",
       "</table>\n",
       "</div>"
      ],
      "text/plain": [
       "                                                   title  \\\n",
       "9263                   Lot 3 Livres - Contes Merveilleux   \n",
       "50884        Amiibo Splatoon Calamar Inkling Violet Néon   \n",
       "73788  Atterrissage Prolongée Vitesse De Jambe D'appu...   \n",
       "34901              Rideau D'ameublement À Effet Chenille   \n",
       "81204                Porte-Cartes De Visites Magnetoplan   \n",
       "\n",
       "                                             description   productid  \\\n",
       "9263                                                 NaN  3618603061   \n",
       "50884                                                NaN  1997652852   \n",
       "73788  NOUVEAU Landing Gear Extended Leg support Prot...  4197675553   \n",
       "34901  Rideau de 140 x 260 cm qui saura mettre en ava...  3601180051   \n",
       "81204  magnetoplan porte-cartes de visite transparent...   278813457   \n",
       "\n",
       "          imageid                                        title_descr  \\\n",
       "9263   1228606644              lot 3 livres - contes merveilleux \\n    \n",
       "50884  1119376033    amiibo splatoon calamar inkling violet néon \\n    \n",
       "73788  1313430830  atterrissage prolongée vitesse de jambe d'appu...   \n",
       "34901  1226564377  rideau d'ameublement à effet chenille \\n ridea...   \n",
       "81204   977811081  porte-cartes de visites magnetoplan \\n magneto...   \n",
       "\n",
       "                                            lemma_tokens language  \\\n",
       "9263          ['lot', 'livres', 'contes', 'merveilleux']       fr   \n",
       "50884  ['amiibo', 'splatoon', 'calamar', 'inkling', '...       en   \n",
       "73788  ['atterrissage', 'prolongée', 'vitesse', 'jamb...       fr   \n",
       "34901  ['rideau', 'ameublement', 'chenille', '140', '...       fr   \n",
       "81204  ['porte', 'carte', 'visites', 'magnetoplan', '...       fr   \n",
       "\n",
       "       text_token_len  \n",
       "9263                4  \n",
       "50884               6  \n",
       "73788              54  \n",
       "34901              66  \n",
       "81204               8  "
      ]
     },
     "execution_count": 9,
     "metadata": {},
     "output_type": "execute_result"
    }
   ],
   "source": [
    "print(df_X_train_preprocess.index)\n",
    "df_X_train_preprocess.head()"
   ]
  },
  {
   "cell_type": "code",
   "execution_count": 10,
   "id": "8f028e1d",
   "metadata": {},
   "outputs": [
    {
     "name": "stdout",
     "output_type": "stream",
     "text": [
      "Int64Index([76291, 35651, 23689, 27954, 53964, 25569,   462, 76121, 81032,\n",
      "            80184,\n",
      "            ...\n",
      "            43294, 23597, 28244,  7725, 20720, 84173, 53364, 62653, 33334,\n",
      "            83750],\n",
      "           dtype='int64', length=16984)\n"
     ]
    },
    {
     "data": {
      "text/html": [
       "<div>\n",
       "<style scoped>\n",
       "    .dataframe tbody tr th:only-of-type {\n",
       "        vertical-align: middle;\n",
       "    }\n",
       "\n",
       "    .dataframe tbody tr th {\n",
       "        vertical-align: top;\n",
       "    }\n",
       "\n",
       "    .dataframe thead th {\n",
       "        text-align: right;\n",
       "    }\n",
       "</style>\n",
       "<table border=\"1\" class=\"dataframe\">\n",
       "  <thead>\n",
       "    <tr style=\"text-align: right;\">\n",
       "      <th></th>\n",
       "      <th>title</th>\n",
       "      <th>description</th>\n",
       "      <th>productid</th>\n",
       "      <th>imageid</th>\n",
       "      <th>title_descr</th>\n",
       "      <th>lemma_tokens</th>\n",
       "      <th>language</th>\n",
       "      <th>text_token_len</th>\n",
       "    </tr>\n",
       "  </thead>\n",
       "  <tbody>\n",
       "    <tr>\n",
       "      <th>76291</th>\n",
       "      <td>Fullmetal Alchemist Figurine Riza Hawkeye 10 Cm</td>\n",
       "      <td>Trading figurine d'une taille de 10 cm environ...</td>\n",
       "      <td>304773553</td>\n",
       "      <td>996061500</td>\n",
       "      <td>fullmetal alchemist figurine riza hawkeye 10 c...</td>\n",
       "      <td>['fullmetal', 'alchemist', 'figurine', 'riza',...</td>\n",
       "      <td>fr</td>\n",
       "      <td>8</td>\n",
       "    </tr>\n",
       "    <tr>\n",
       "      <th>35651</th>\n",
       "      <td>Mebby Biberon Vetro 270ml Lattice Blu</td>\n",
       "      <td>NaN</td>\n",
       "      <td>1233521151</td>\n",
       "      <td>1233288653</td>\n",
       "      <td>mebby biberon vetro 270ml lattice blu \\n</td>\n",
       "      <td>['mebby', 'biberon', 'vetro', '270ml', 'lattic...</td>\n",
       "      <td>en</td>\n",
       "      <td>6</td>\n",
       "    </tr>\n",
       "    <tr>\n",
       "      <th>23689</th>\n",
       "      <td>Chaise De Plage Hwc-A11 Mer Du Nord Bâche Incl...</td>\n",
       "      <td>Chaise de plage HWC-A11 mer du Nord bâche incl...</td>\n",
       "      <td>3738732335</td>\n",
       "      <td>1239669685</td>\n",
       "      <td>chaise de plage hwc-a11 mer du nord bâche incl...</td>\n",
       "      <td>['chaise', 'plage', 'hwc', 'a11', 'mer', 'nord...</td>\n",
       "      <td>fr</td>\n",
       "      <td>143</td>\n",
       "    </tr>\n",
       "    <tr>\n",
       "      <th>27954</th>\n",
       "      <td>Mini Fc 129 Console De Jeu Vidéo Rétro Jeu Min...</td>\n",
       "      <td>Numéro du modèle:Handheld retro Players&lt;br /&gt;A...</td>\n",
       "      <td>4200877059</td>\n",
       "      <td>1316192545</td>\n",
       "      <td>mini fc 129 console de jeu vidéo rétro jeu min...</td>\n",
       "      <td>['mini', '129', 'console', 'jeu', 'vidéo', 'ré...</td>\n",
       "      <td>fr</td>\n",
       "      <td>39</td>\n",
       "    </tr>\n",
       "    <tr>\n",
       "      <th>53964</th>\n",
       "      <td>Brosses à lamelles R9022 Zodiac Vortex 4 - La ...</td>\n",
       "      <td>Utilisation des brosses à lamelles R9022 Zodia...</td>\n",
       "      <td>207257892</td>\n",
       "      <td>941677156</td>\n",
       "      <td>brosses à lamelles r9022 zodiac vortex 4 - la ...</td>\n",
       "      <td>['brosses', 'lamelles', 'r9022', 'zodiac', 'vo...</td>\n",
       "      <td>fr</td>\n",
       "      <td>16</td>\n",
       "    </tr>\n",
       "  </tbody>\n",
       "</table>\n",
       "</div>"
      ],
      "text/plain": [
       "                                                   title  \\\n",
       "76291    Fullmetal Alchemist Figurine Riza Hawkeye 10 Cm   \n",
       "35651              Mebby Biberon Vetro 270ml Lattice Blu   \n",
       "23689  Chaise De Plage Hwc-A11 Mer Du Nord Bâche Incl...   \n",
       "27954  Mini Fc 129 Console De Jeu Vidéo Rétro Jeu Min...   \n",
       "53964  Brosses à lamelles R9022 Zodiac Vortex 4 - La ...   \n",
       "\n",
       "                                             description   productid  \\\n",
       "76291  Trading figurine d'une taille de 10 cm environ...   304773553   \n",
       "35651                                                NaN  1233521151   \n",
       "23689  Chaise de plage HWC-A11 mer du Nord bâche incl...  3738732335   \n",
       "27954  Numéro du modèle:Handheld retro Players<br />A...  4200877059   \n",
       "53964  Utilisation des brosses à lamelles R9022 Zodia...   207257892   \n",
       "\n",
       "          imageid                                        title_descr  \\\n",
       "76291   996061500  fullmetal alchemist figurine riza hawkeye 10 c...   \n",
       "35651  1233288653          mebby biberon vetro 270ml lattice blu \\n    \n",
       "23689  1239669685  chaise de plage hwc-a11 mer du nord bâche incl...   \n",
       "27954  1316192545  mini fc 129 console de jeu vidéo rétro jeu min...   \n",
       "53964   941677156  brosses à lamelles r9022 zodiac vortex 4 - la ...   \n",
       "\n",
       "                                            lemma_tokens language  \\\n",
       "76291  ['fullmetal', 'alchemist', 'figurine', 'riza',...       fr   \n",
       "35651  ['mebby', 'biberon', 'vetro', '270ml', 'lattic...       en   \n",
       "23689  ['chaise', 'plage', 'hwc', 'a11', 'mer', 'nord...       fr   \n",
       "27954  ['mini', '129', 'console', 'jeu', 'vidéo', 'ré...       fr   \n",
       "53964  ['brosses', 'lamelles', 'r9022', 'zodiac', 'vo...       fr   \n",
       "\n",
       "       text_token_len  \n",
       "76291               8  \n",
       "35651               6  \n",
       "23689             143  \n",
       "27954              39  \n",
       "53964              16  "
      ]
     },
     "execution_count": 10,
     "metadata": {},
     "output_type": "execute_result"
    }
   ],
   "source": [
    "print(df_X_test_preprocess.index)\n",
    "df_X_test_preprocess.head()"
   ]
  },
  {
   "cell_type": "code",
   "execution_count": null,
   "id": "dbb23dd5",
   "metadata": {},
   "outputs": [],
   "source": []
  },
  {
   "cell_type": "markdown",
   "id": "aad68166",
   "metadata": {},
   "source": [
    "## Transformed data"
   ]
  },
  {
   "cell_type": "code",
   "execution_count": 11,
   "id": "6d3b0940",
   "metadata": {},
   "outputs": [],
   "source": [
    "from scipy import sparse\n",
    "\n",
    "text_data = {}\n",
    "\n",
    "text_data['X_train'] = sparse.load_npz(\"../Preprocessed_data/2308141825_text_data_transformed_X_train.npz\")\n",
    "text_data['X_test'] = sparse.load_npz(\"../Preprocessed_data/2308141825_text_data_transformed_X_test.npz\")\n"
   ]
  },
  {
   "cell_type": "code",
   "execution_count": 12,
   "id": "02d80257",
   "metadata": {},
   "outputs": [
    {
     "name": "stdout",
     "output_type": "stream",
     "text": [
      "(67932, 5035)\n"
     ]
    },
    {
     "data": {
      "text/plain": [
       "array([0.02524272, 0.        , 0.        , 0.        , 0.        ,\n",
       "       0.        , 0.        , 0.        , 0.        , 0.        ,\n",
       "       0.        , 0.        , 0.        , 0.        , 1.        ,\n",
       "       0.        , 0.        , 0.        , 0.        , 0.        ,\n",
       "       0.        , 0.        , 0.        , 0.        , 0.        ])"
      ]
     },
     "execution_count": 12,
     "metadata": {},
     "output_type": "execute_result"
    }
   ],
   "source": [
    "print(text_data['X_train'].shape)\n",
    "text_data['X_train'].toarray()[14,:25]\n"
   ]
  },
  {
   "cell_type": "code",
   "execution_count": 13,
   "id": "18eb0fea",
   "metadata": {},
   "outputs": [
    {
     "name": "stdout",
     "output_type": "stream",
     "text": [
      "(16984, 5035)\n"
     ]
    },
    {
     "data": {
      "text/plain": [
       "array([0.09320388, 0.        , 0.        , 0.        , 0.        ,\n",
       "       0.        , 0.        , 0.        , 1.        , 0.        ,\n",
       "       0.        , 0.        , 0.        , 0.        , 0.        ,\n",
       "       0.        , 0.        , 0.        , 0.        , 0.        ,\n",
       "       0.        , 0.        , 0.        , 0.        , 0.        ])"
      ]
     },
     "execution_count": 13,
     "metadata": {},
     "output_type": "execute_result"
    }
   ],
   "source": [
    "print(text_data['X_test'].shape)\n",
    "text_data['X_test'].toarray()[14,:25]"
   ]
  },
  {
   "cell_type": "markdown",
   "id": "6408b173",
   "metadata": {},
   "source": [
    "**Targets**"
   ]
  },
  {
   "cell_type": "code",
   "execution_count": 14,
   "id": "5554b2cc",
   "metadata": {},
   "outputs": [],
   "source": [
    "targets = {}\n",
    "targets['y_train'] = np.load(\"../Preprocessed_data/2308141825_text_data_transformed_y_train.npy\")\n",
    "targets['y_test'] = np.load(\"../Preprocessed_data/2308141825_text_data_transformed_y_test.npy\")"
   ]
  },
  {
   "cell_type": "code",
   "execution_count": 15,
   "id": "f2886225",
   "metadata": {},
   "outputs": [
    {
     "name": "stdout",
     "output_type": "stream",
     "text": [
      "(67932, 27)\n",
      "[[0 0 0 0 0 0 0 0 0 0 0 0 0 0 0 0 0 0 0 1 0 0 0 0 0 0 0]\n",
      " [0 0 1 0 0 0 0 0 0 0 0 0 0 0 0 0 0 0 0 0 0 0 0 0 0 0 0]\n",
      " [0 0 0 0 0 0 0 0 0 1 0 0 0 0 0 0 0 0 0 0 0 0 0 0 0 0 0]\n",
      " [0 0 0 0 0 0 0 0 0 0 0 0 0 0 1 0 0 0 0 0 0 0 0 0 0 0 0]\n",
      " [0 0 0 0 0 0 0 0 0 0 0 0 0 0 0 0 0 0 0 0 0 1 0 0 0 0 0]]\n",
      "[19  2  9 14 21]\n"
     ]
    }
   ],
   "source": [
    "print(targets['y_train'].shape)\n",
    "print(targets['y_train'][:5,:])\n",
    "print(targets['y_train'][:5,:].argmax(axis = 1))"
   ]
  },
  {
   "cell_type": "code",
   "execution_count": 16,
   "id": "81fa6979",
   "metadata": {},
   "outputs": [
    {
     "name": "stdout",
     "output_type": "stream",
     "text": [
      "(16984, 27)\n",
      "[[0 0 0 0 1 0 0 0 0 0 0 0 0 0 0 0 0 0 0 0 0 0 0 0 0 0 0]\n",
      " [0 0 0 0 0 0 0 0 0 0 0 0 1 0 0 0 0 0 0 0 0 0 0 0 0 0 0]\n",
      " [0 0 0 0 0 0 0 0 0 0 0 0 0 0 0 0 0 0 0 0 0 0 1 0 0 0 0]\n",
      " [0 0 0 1 0 0 0 0 0 0 0 0 0 0 0 0 0 0 0 0 0 0 0 0 0 0 0]\n",
      " [0 0 0 0 0 0 0 0 0 0 0 0 0 0 0 0 0 0 0 0 0 0 0 1 0 0 0]]\n",
      "[ 4 12 22  3 23]\n"
     ]
    }
   ],
   "source": [
    "print(targets['y_test'].shape)\n",
    "print(targets['y_test'][:5,:])\n",
    "print(targets['y_test'][:5,:].argmax(axis = 1))"
   ]
  },
  {
   "cell_type": "markdown",
   "id": "0d5ceb40",
   "metadata": {},
   "source": [
    "**Transformers**"
   ]
  },
  {
   "cell_type": "code",
   "execution_count": 17,
   "id": "ffa8f4ba",
   "metadata": {},
   "outputs": [],
   "source": [
    "import joblib\n",
    "\n",
    "token_len_scaler = joblib.load(\"../Preprocessed_data/2308141825_token_len_scaler\")\n",
    "language_encoder = joblib.load(\"../Preprocessed_data/2308141825_language_encoder\")\n",
    "lemmas_vectorizer = joblib.load(\"../Preprocessed_data/2308141825_lemmas_vectorizer\")\n",
    "target_encoder = joblib.load(\"../Preprocessed_data/2308141825_target_encoder\")"
   ]
  },
  {
   "cell_type": "code",
   "execution_count": 18,
   "id": "c9b42825",
   "metadata": {},
   "outputs": [
    {
     "name": "stdout",
     "output_type": "stream",
     "text": [
      "[0.]\n",
      "[515.]\n",
      "[0.00194175]\n",
      "1\n",
      "67932\n",
      "['text_token_len']\n"
     ]
    }
   ],
   "source": [
    "print(token_len_scaler.data_min_)\n",
    "print(token_len_scaler.data_max_)\n",
    "print(token_len_scaler.scale_)\n",
    "print(token_len_scaler.n_features_in_)\n",
    "print(token_len_scaler.n_samples_seen_)\n",
    "print(token_len_scaler.feature_names_in_)"
   ]
  },
  {
   "cell_type": "code",
   "execution_count": 19,
   "id": "316d6fa6",
   "metadata": {},
   "outputs": [
    {
     "name": "stdout",
     "output_type": "stream",
     "text": [
      "[array(['af', 'an', 'br', 'ca', 'cy', 'da', 'de', 'en', 'eo', 'es', 'et',\n",
      "       'eu', 'fi', 'fr', 'ga', 'ht', 'hu', 'id', 'it', 'jv', 'la', 'lb',\n",
      "       'lt', 'mg', 'nl', 'no', 'oc', 'pl', 'pt', 'qu', 'ro', 'sw', 'tl',\n",
      "       'wa'], dtype=object)]\n",
      "1\n",
      "['language']\n"
     ]
    }
   ],
   "source": [
    "print(language_encoder.categories_)\n",
    "print(language_encoder.n_features_in_)\n",
    "print(language_encoder.feature_names_in_)"
   ]
  },
  {
   "cell_type": "code",
   "execution_count": 20,
   "id": "5f45d821",
   "metadata": {},
   "outputs": [
    {
     "name": "stdout",
     "output_type": "stream",
     "text": [
      "5000 \n",
      "\n",
      "{'lot': 2751, 'livres': 2731, 'merveilleux': 2896, 'violet': 4773, 'atterrissage': 632, 'prolongée': 3663, 'vitesse': 4785, 'appui': 541, 'protector': 3681, 'extension': 1907, 'dji': 1575, 'pro': 3628, 'mavic': 2872, 'générique': 2282, 'landing': 2635, 'gear': 2185, 'support': 4379, 'description': 1495, '100': 7, 'neuf': 3100, 'haute': 2307, 'qualité': 3756, 'augmente': 642, 'sécurité': 4413, 'hauteur': 2310} \n",
      "\n",
      "['19x4x7cm', 'itanti', '6970audio', 'rac', 'gt4', 'n1kc', '0029échelle', '250v', '14x7x9cm', '2v80mahbattery', 'calomnies', 'visualeffects', 'déverrouille', 'ecw', 'a51', 'grandmont', 'ventilécorps', 'naissant', 'kitchenhpp13726', '11227909920', 'gustave', 'heuresapplicable', 'flybest', 'astralle', 'réservée']\n"
     ]
    }
   ],
   "source": [
    "print(len(lemmas_vectorizer.vocabulary_),'\\n')\n",
    "print(dict(list(lemmas_vectorizer.vocabulary_.items() )[:25]),'\\n' )\n",
    "print(list(lemmas_vectorizer.stop_words_)[:25])"
   ]
  },
  {
   "cell_type": "code",
   "execution_count": 21,
   "id": "b7fbbb63",
   "metadata": {},
   "outputs": [
    {
     "name": "stdout",
     "output_type": "stream",
     "text": [
      "[  10   40   50   60 1140 1160 1180 1280 1281 1300 1301 1302 1320 1560\n",
      " 1920 1940 2060 2220 2280 2403 2462 2522 2582 2583 2585 2705 2905]\n"
     ]
    }
   ],
   "source": [
    "print(target_encoder.classes_)"
   ]
  },
  {
   "cell_type": "markdown",
   "id": "134a5be9",
   "metadata": {},
   "source": [
    "## image data preprocessed\n",
    "Computed for each item in \"df_X_train_preprocess\" and \"df_X_test_preprocess\".  \n",
    "So indexes belong to these dataframes"
   ]
  },
  {
   "cell_type": "code",
   "execution_count": 22,
   "id": "4d5630d7",
   "metadata": {},
   "outputs": [],
   "source": [
    "image_train_preprocess = np.load(\"../Preprocessed_data/2308141850_df_image_train_preprocess.npy\")\n",
    "image_test_preprocess = np.load(\"../Preprocessed_data/2308141850_df_image_test_preprocess.npy\")"
   ]
  },
  {
   "cell_type": "code",
   "execution_count": 25,
   "id": "79d53972",
   "metadata": {},
   "outputs": [
    {
     "name": "stdout",
     "output_type": "stream",
     "text": [
      "(67932, 30000)\n",
      "[255 255 255 255 255 255 255 255 255 255 255 255 255 255 255 255 255 255\n",
      " 255 255 255 255 255 255 255 255 255 255 255 255 251 255 254 255 248 255\n",
      "  48  42  99  50  44 115  57  52 121  45  41 107  39  41]\n"
     ]
    }
   ],
   "source": [
    "print(image_train_preprocess.shape)\n",
    "print(image_train_preprocess[0,:50])"
   ]
  },
  {
   "cell_type": "code",
   "execution_count": 46,
   "id": "1eb81510",
   "metadata": {},
   "outputs": [
    {
     "name": "stdout",
     "output_type": "stream",
     "text": [
      "[9263, 50884, 73788, 34901, 81204, 26065, 46256, 70161, 24947, 32350, 38334, 13255, 74781, 26466, 67566, 62073, 10878, 78873, 54625, 72433, 19434, 31164, 64340, 11740, 16505, 26723, 46990, 27898, 13313, 10332, 8445, 36349, 44167, 44392, 79117, 19289, 7975, 1532, 45923, 42445, 31657, 17914, 29574, 44309, 51061, 46774, 41479, 31, 30602, 78871]\n"
     ]
    }
   ],
   "source": [
    "## train images idexes\n",
    "print(list(df_X_train_preprocess.index)[:50])"
   ]
  },
  {
   "cell_type": "code",
   "execution_count": 45,
   "id": "c42d958b",
   "metadata": {},
   "outputs": [
    {
     "name": "stdout",
     "output_type": "stream",
     "text": [
      "(16984, 30000)\n",
      "[255 255 255 255 255 255 255 255 255 255 255 255 255 255 255 255 255 255\n",
      " 255 255 255 255 255 255 255 255 255 255 255 255 253 255 255 255 255 251\n",
      " 116 136 161  94 124 159  90 117 151  95 116 147  76 103]\n"
     ]
    }
   ],
   "source": [
    "print(image_test_preprocess.shape)\n",
    "print(image_test_preprocess[3535,:50])"
   ]
  },
  {
   "cell_type": "code",
   "execution_count": 47,
   "id": "138ea135",
   "metadata": {},
   "outputs": [
    {
     "name": "stdout",
     "output_type": "stream",
     "text": [
      "[76291, 35651, 23689, 27954, 53964, 25569, 462, 76121, 81032, 80184, 55236, 37176, 39826, 38238, 71212, 19785, 8964, 84720, 24405, 30751, 81304, 6922, 67037, 46196, 79995, 27693, 45397, 7546, 38960, 63984, 20123, 25096, 5784, 42674, 10532, 27063, 25947, 78713, 21406, 61376, 71897, 75174, 38954, 50284, 8624, 81739, 78115, 78261, 68455, 56559]\n"
     ]
    }
   ],
   "source": [
    "## train images idexes\n",
    "print(list(df_X_test_preprocess.index)[:50])"
   ]
  },
  {
   "cell_type": "markdown",
   "id": "b5d32d38",
   "metadata": {},
   "source": [
    "## image data transformed"
   ]
  },
  {
   "cell_type": "code",
   "execution_count": null,
   "id": "8468c6fd",
   "metadata": {
    "scrolled": true
   },
   "outputs": [],
   "source": [
    "t0 = time.time()\n",
    "\n",
    "image_train_transformed = np.load(\"../Preprocessed_data/2308141953_image_train_transformed.npz\")['array']\n",
    "image_test_transformed = np.load(\"../Preprocessed_data/2308141953_image_test_transformed.npz\")['array']\n",
    "\n",
    "t1 = time.time()\n",
    "print(\"Loading arrays takes %0.2f seconds\" %(t1-t0))"
   ]
  },
  {
   "cell_type": "code",
   "execution_count": 51,
   "id": "42a9d70a",
   "metadata": {},
   "outputs": [
    {
     "name": "stdout",
     "output_type": "stream",
     "text": [
      "Loading arrays takes 47.08 seconds\n"
     ]
    }
   ],
   "source": []
  },
  {
   "cell_type": "code",
   "execution_count": 52,
   "id": "26cb2146",
   "metadata": {},
   "outputs": [
    {
     "name": "stdout",
     "output_type": "stream",
     "text": [
      "(67932, 100, 100, 3)\n",
      "[1.         1.         1.         1.         1.         1.\n",
      " 1.         1.         1.         1.         0.98431373 1.\n",
      " 0.18823529 0.19607843 0.22352941 0.17647059 0.15294118 0.14509804\n",
      " 0.16862745 0.18431373 0.17254902 0.15686275 0.18431373 0.21568627\n",
      " 0.22352941 0.21176471 0.21176471 0.17254902 0.24705882 0.23529412\n",
      " 0.19215686 0.17647059 0.21176471 0.22352941 0.19215686 0.21960784\n",
      " 0.20392157 0.2627451  0.23529412 0.23921569 0.23921569 0.23137255\n",
      " 0.28235294 0.30980392 0.33333333 0.28627451 0.28627451 0.28627451\n",
      " 0.25490196 0.23137255]\n"
     ]
    }
   ],
   "source": [
    "print(image_train_transformed.shape)\n",
    "print(image_train_transformed[0,0,:50,0])"
   ]
  },
  {
   "cell_type": "code",
   "execution_count": 54,
   "id": "362d32d8",
   "metadata": {},
   "outputs": [
    {
     "name": "stdout",
     "output_type": "stream",
     "text": [
      "(16984, 100, 100, 3)\n",
      "[1.         1.         1.         1.         1.         1.\n",
      " 1.         1.         1.         1.         1.         1.\n",
      " 1.         1.         1.         1.         1.         1.\n",
      " 1.         1.         1.         1.         1.         0.99607843\n",
      " 1.         0.98431373 0.85098039 0.79607843 0.80784314 0.80784314\n",
      " 0.80784314 0.80784314 0.80784314 0.80784314 0.80784314 0.80784314\n",
      " 0.80784314 0.80784314 0.80784314 0.80784314 0.80784314 0.80784314\n",
      " 0.80784314 0.80392157 0.80392157 0.80392157 0.80784314 0.80392157\n",
      " 0.8        0.79607843]\n"
     ]
    }
   ],
   "source": [
    "print(image_test_transformed.shape)\n",
    "print(image_test_transformed[0,0,:50,0])"
   ]
  },
  {
   "cell_type": "code",
   "execution_count": null,
   "id": "07bd8cc4",
   "metadata": {},
   "outputs": [],
   "source": []
  }
 ],
 "metadata": {
  "kernelspec": {
   "display_name": "Python 3 (ipykernel)",
   "language": "python",
   "name": "python3"
  },
  "language_info": {
   "codemirror_mode": {
    "name": "ipython",
    "version": 3
   },
   "file_extension": ".py",
   "mimetype": "text/x-python",
   "name": "python",
   "nbconvert_exporter": "python",
   "pygments_lexer": "ipython3",
   "version": "3.10.9"
  }
 },
 "nbformat": 4,
 "nbformat_minor": 5
}
