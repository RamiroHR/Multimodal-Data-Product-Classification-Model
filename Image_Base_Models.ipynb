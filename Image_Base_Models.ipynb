{
 "cells": [
  {
   "cell_type": "markdown",
   "id": "61e4c3c6",
   "metadata": {},
   "source": [
    "# Libraries & Global variables"
   ]
  },
  {
   "cell_type": "code",
   "execution_count": 1,
   "id": "747a32d6",
   "metadata": {},
   "outputs": [],
   "source": [
    "import pandas as pd\n",
    "import numpy as np\n",
    "\n",
    "import matplotlib.pyplot as plt\n",
    "import seaborn as sns\n",
    "sns.set()\n",
    "\n",
    "import cv2\n",
    "import json\n",
    "\n",
    "import os\n",
    "import time\n",
    "\n",
    "# from sklearn.model_selection import train_test_split\n",
    "\n",
    "# %load_ext autoreload\n",
    "# %autoreload 2\n",
    "# import FusionModel_tools as fm\n",
    "# import importlib\n",
    "# importlib.reload(fm)\n",
    "\n",
    "# import nltk\n",
    "# nltk.download('popular', quiet = True)\n"
   ]
  },
  {
   "cell_type": "code",
   "execution_count": 2,
   "id": "13bcdd0b",
   "metadata": {},
   "outputs": [],
   "source": [
    "## define general parameters\n",
    "\n",
    "myseed = 123\n",
    "\n",
    "splitting_path = '../Splitted_datasets/'\n",
    "preprocessing_path = '../Preprocessed_data/'\n",
    "training_path = '../Trained_models_and_metrics/'\n"
   ]
  },
  {
   "cell_type": "markdown",
   "id": "ebd8ea66",
   "metadata": {},
   "source": [
    "# Reloading datasets: \n",
    "**Chose at which stage the dataset is goind to be imported:**\n",
    "* Raw data after train - test splitting.  \n",
    "* Preprocessed datasets after cleaning and feature engineering.  \n",
    "* Transformed datasets into np.arrays and/or sparce matrices ready to feed into the ML models"
   ]
  },
  {
   "cell_type": "markdown",
   "id": "d3c64f2b",
   "metadata": {},
   "source": [
    "## Option_1: Raw datasets after train - test spliting"
   ]
  },
  {
   "cell_type": "code",
   "execution_count": 3,
   "id": "2f8ce7d8",
   "metadata": {},
   "outputs": [],
   "source": [
    "# df_X_train = pd.read_csv(splitting_path + '2308141811_df_X_train.csv', index_col = 0, header = 0)\n",
    "# df_X_test = pd.read_csv(splitting_path + '2308141811_df_X_test.csv', index_col = 0, header = 0)\n",
    "# df_y_train = pd.read_csv(splitting_path + '2308141811_df_y_train.csv', index_col = 0, header = 0)\n",
    "# df_y_test = pd.read_csv(splitting_path + '2308141811_df_y_test.csv', index_col = 0, header = 0)"
   ]
  },
  {
   "cell_type": "code",
   "execution_count": 4,
   "id": "55a90498",
   "metadata": {},
   "outputs": [],
   "source": [
    "# print(df_X_train.index)\n",
    "# df_X_train.head()"
   ]
  },
  {
   "cell_type": "code",
   "execution_count": 5,
   "id": "26dba23b",
   "metadata": {},
   "outputs": [],
   "source": [
    "# print(df_X_test.index)\n",
    "# df_X_test.head()"
   ]
  },
  {
   "cell_type": "code",
   "execution_count": 6,
   "id": "6276a6aa",
   "metadata": {},
   "outputs": [],
   "source": [
    "# print(df_y_train.index)\n",
    "# df_y_train.head()"
   ]
  },
  {
   "cell_type": "code",
   "execution_count": 7,
   "id": "f174898e",
   "metadata": {},
   "outputs": [],
   "source": [
    "# print(df_y_test.index)\n",
    "# df_y_test.head()"
   ]
  },
  {
   "cell_type": "code",
   "execution_count": null,
   "id": "1bd6e1e6",
   "metadata": {},
   "outputs": [],
   "source": []
  },
  {
   "cell_type": "markdown",
   "id": "cdd14550",
   "metadata": {},
   "source": [
    "## Option_2: preprocessed dataset after feature engineering\n",
    "Include target dataset if not imported before."
   ]
  },
  {
   "cell_type": "code",
   "execution_count": 8,
   "id": "e76ea2b8",
   "metadata": {},
   "outputs": [],
   "source": [
    "# df_X_train_preprocess = pd.read_csv(preprocessing_path+'2308141824_df_X_train_preprocess.csv', header = 0, index_col = 0, sep = ',')\n",
    "# df_X_test_preprocess = pd.read_csv(preprocessing_path+'2308141824_df_X_test_preprocess.csv', header = 0, index_col = 0, sep = ',')\n",
    "# # df_y_train = pd.read_csv( splitting_path+'2308141811_df_y_train.csv', header = 0, index_col = 0, sep = ',')\n",
    "# # df_y_test = pd.read_csv( splitting_path+'2308141811_df_y_test.csv', header = 0, index_col = 0, sep = ',')"
   ]
  },
  {
   "cell_type": "code",
   "execution_count": 9,
   "id": "1570e883",
   "metadata": {},
   "outputs": [],
   "source": [
    "# print(df_X_train_preprocess.index)\n",
    "# df_X_train_preprocess.head()"
   ]
  },
  {
   "cell_type": "code",
   "execution_count": 10,
   "id": "8f028e1d",
   "metadata": {},
   "outputs": [],
   "source": [
    "# print(df_X_test_preprocess.index)\n",
    "# df_X_test_preprocess.head()"
   ]
  },
  {
   "cell_type": "code",
   "execution_count": null,
   "id": "dbb23dd5",
   "metadata": {},
   "outputs": [],
   "source": []
  },
  {
   "cell_type": "markdown",
   "id": "aad68166",
   "metadata": {},
   "source": [
    "## Option_3: Transformed data, ready to feed into the ML models\n",
    "Uncomment cells below to verify consistency of the imported datasets or the properties of the associated transformers"
   ]
  },
  {
   "cell_type": "markdown",
   "id": "026c0eb8",
   "metadata": {},
   "source": [
    "**Features**"
   ]
  },
  {
   "cell_type": "code",
   "execution_count": 10,
   "id": "6d3b0940",
   "metadata": {},
   "outputs": [],
   "source": [
    "# from scipy import sparse\n",
    "\n",
    "# text_data = {}\n",
    "\n",
    "# text_data['X_train'] = sparse.load_npz(\"../Preprocessed_data/2308141825_text_data_transformed_X_train.npz\")\n",
    "# text_data['X_test'] = sparse.load_npz(\"../Preprocessed_data/2308141825_text_data_transformed_X_test.npz\")"
   ]
  },
  {
   "cell_type": "code",
   "execution_count": 12,
   "id": "02d80257",
   "metadata": {},
   "outputs": [],
   "source": [
    "# print(text_data['X_train'].shape)\n",
    "# text_data['X_train'].toarray()[14,:25]"
   ]
  },
  {
   "cell_type": "code",
   "execution_count": 13,
   "id": "18eb0fea",
   "metadata": {},
   "outputs": [],
   "source": [
    "# print(text_data['X_test'].shape)\n",
    "# text_data['X_test'].toarray()[14,:25]"
   ]
  },
  {
   "cell_type": "markdown",
   "id": "6408b173",
   "metadata": {},
   "source": [
    "**Targets**"
   ]
  },
  {
   "cell_type": "code",
   "execution_count": 3,
   "id": "5554b2cc",
   "metadata": {},
   "outputs": [],
   "source": [
    "targets = {}\n",
    "targets['y_train'] = np.load(\"../Preprocessed_data/2308141825_text_data_transformed_y_train.npy\")\n",
    "targets['y_test'] = np.load(\"../Preprocessed_data/2308141825_text_data_transformed_y_test.npy\")"
   ]
  },
  {
   "cell_type": "code",
   "execution_count": 15,
   "id": "f2886225",
   "metadata": {},
   "outputs": [],
   "source": [
    "# print(targets['y_train'].shape)\n",
    "# print(targets['y_train'][:5,:])\n",
    "# print(targets['y_train'][:5,:].argmax(axis = 1))"
   ]
  },
  {
   "cell_type": "code",
   "execution_count": 16,
   "id": "81fa6979",
   "metadata": {},
   "outputs": [],
   "source": [
    "# print(targets['y_test'].shape)\n",
    "# print(targets['y_test'][:5,:])\n",
    "# print(targets['y_test'][:5,:].argmax(axis = 1))"
   ]
  },
  {
   "cell_type": "markdown",
   "id": "0d5ceb40",
   "metadata": {},
   "source": [
    "**Transformers**"
   ]
  },
  {
   "cell_type": "code",
   "execution_count": 17,
   "id": "ffa8f4ba",
   "metadata": {},
   "outputs": [],
   "source": [
    "# import joblib\n",
    "\n",
    "# token_len_scaler = joblib.load(\"../Preprocessed_data/2308141825_token_len_scaler\")\n",
    "# language_encoder = joblib.load(\"../Preprocessed_data/2308141825_language_encoder\")\n",
    "# lemmas_vectorizer = joblib.load(\"../Preprocessed_data/2308141825_lemmas_vectorizer\")\n",
    "# target_encoder = joblib.load(\"../Preprocessed_data/2308141825_target_encoder\")"
   ]
  },
  {
   "cell_type": "code",
   "execution_count": 18,
   "id": "c9b42825",
   "metadata": {},
   "outputs": [],
   "source": [
    "# print(token_len_scaler.data_min_)\n",
    "# print(token_len_scaler.data_max_)\n",
    "# print(token_len_scaler.scale_)\n",
    "# print(token_len_scaler.n_features_in_)\n",
    "# print(token_len_scaler.n_samples_seen_)\n",
    "# print(token_len_scaler.feature_names_in_)"
   ]
  },
  {
   "cell_type": "code",
   "execution_count": 19,
   "id": "316d6fa6",
   "metadata": {},
   "outputs": [],
   "source": [
    "# print(language_encoder.categories_)\n",
    "# print(language_encoder.n_features_in_)\n",
    "# print(language_encoder.feature_names_in_)"
   ]
  },
  {
   "cell_type": "code",
   "execution_count": 20,
   "id": "5f45d821",
   "metadata": {},
   "outputs": [],
   "source": [
    "# print(len(lemmas_vectorizer.vocabulary_),'\\n')\n",
    "# print(dict(list(lemmas_vectorizer.vocabulary_.items() )[:25]),'\\n' )\n",
    "# print(list(lemmas_vectorizer.stop_words_)[:25])"
   ]
  },
  {
   "cell_type": "code",
   "execution_count": 21,
   "id": "b7fbbb63",
   "metadata": {},
   "outputs": [],
   "source": [
    "# print(target_encoder.classes_)"
   ]
  },
  {
   "cell_type": "markdown",
   "id": "134a5be9",
   "metadata": {},
   "source": [
    "## image data preprocessed\n",
    "Computed for each item in \"df_X_train_preprocess\" and \"df_X_test_preprocess\".  \n",
    "So indexes belong to these dataframes"
   ]
  },
  {
   "cell_type": "code",
   "execution_count": 4,
   "id": "4d5630d7",
   "metadata": {},
   "outputs": [],
   "source": [
    "# image_train_preprocess = np.load(\"../Preprocessed_data/2308141850_df_image_train_preprocess.npy\")\n",
    "# image_test_preprocess = np.load(\"../Preprocessed_data/2308141850_df_image_test_preprocess.npy\")"
   ]
  },
  {
   "cell_type": "code",
   "execution_count": 5,
   "id": "79d53972",
   "metadata": {},
   "outputs": [
    {
     "name": "stdout",
     "output_type": "stream",
     "text": [
      "(67932, 30000)\n",
      "[255 255 255 255 255 255 255 255 255 255 255 255 255 255 255 255 255 255\n",
      " 255 255 255 255 255 255 255 255 255 255 255 255 251 255 254 255 248 255\n",
      "  48  42  99  50  44 115  57  52 121  45  41 107  39  41]\n"
     ]
    }
   ],
   "source": [
    "# print(image_train_preprocess.shape)\n",
    "# print(image_train_preprocess[0,:50])"
   ]
  },
  {
   "cell_type": "code",
   "execution_count": 46,
   "id": "1eb81510",
   "metadata": {},
   "outputs": [
    {
     "name": "stdout",
     "output_type": "stream",
     "text": [
      "[9263, 50884, 73788, 34901, 81204, 26065, 46256, 70161, 24947, 32350, 38334, 13255, 74781, 26466, 67566, 62073, 10878, 78873, 54625, 72433, 19434, 31164, 64340, 11740, 16505, 26723, 46990, 27898, 13313, 10332, 8445, 36349, 44167, 44392, 79117, 19289, 7975, 1532, 45923, 42445, 31657, 17914, 29574, 44309, 51061, 46774, 41479, 31, 30602, 78871]\n"
     ]
    }
   ],
   "source": [
    "# ## train images idexes\n",
    "# print(list(df_X_train_preprocess.index)[:50])"
   ]
  },
  {
   "cell_type": "code",
   "execution_count": 45,
   "id": "c42d958b",
   "metadata": {},
   "outputs": [
    {
     "name": "stdout",
     "output_type": "stream",
     "text": [
      "(16984, 30000)\n",
      "[255 255 255 255 255 255 255 255 255 255 255 255 255 255 255 255 255 255\n",
      " 255 255 255 255 255 255 255 255 255 255 255 255 253 255 255 255 255 251\n",
      " 116 136 161  94 124 159  90 117 151  95 116 147  76 103]\n"
     ]
    }
   ],
   "source": [
    "# print(image_test_preprocess.shape)\n",
    "# print(image_test_preprocess[3535,:50])"
   ]
  },
  {
   "cell_type": "code",
   "execution_count": 47,
   "id": "138ea135",
   "metadata": {},
   "outputs": [
    {
     "name": "stdout",
     "output_type": "stream",
     "text": [
      "[76291, 35651, 23689, 27954, 53964, 25569, 462, 76121, 81032, 80184, 55236, 37176, 39826, 38238, 71212, 19785, 8964, 84720, 24405, 30751, 81304, 6922, 67037, 46196, 79995, 27693, 45397, 7546, 38960, 63984, 20123, 25096, 5784, 42674, 10532, 27063, 25947, 78713, 21406, 61376, 71897, 75174, 38954, 50284, 8624, 81739, 78115, 78261, 68455, 56559]\n"
     ]
    }
   ],
   "source": [
    "# ## train images idexes\n",
    "# print(list(df_X_test_preprocess.index)[:50])"
   ]
  },
  {
   "cell_type": "markdown",
   "id": "b5d32d38",
   "metadata": {},
   "source": [
    "## image data transformed"
   ]
  },
  {
   "cell_type": "code",
   "execution_count": 4,
   "id": "8468c6fd",
   "metadata": {
    "scrolled": true
   },
   "outputs": [
    {
     "name": "stdout",
     "output_type": "stream",
     "text": [
      "Loading arrays takes 36.29 seconds\n"
     ]
    }
   ],
   "source": [
    "t0 = time.time()\n",
    "\n",
    "image_train_transformed = np.load(\"../Preprocessed_data/2308141953_image_train_transformed.npz\")['array']\n",
    "image_test_transformed = np.load(\"../Preprocessed_data/2308141953_image_test_transformed.npz\")['array']\n",
    "\n",
    "t1 = time.time()\n",
    "print(\"Loading arrays takes %0.2f seconds\" %(t1-t0))"
   ]
  },
  {
   "cell_type": "code",
   "execution_count": 52,
   "id": "26cb2146",
   "metadata": {},
   "outputs": [
    {
     "name": "stdout",
     "output_type": "stream",
     "text": [
      "(67932, 100, 100, 3)\n",
      "[1.         1.         1.         1.         1.         1.\n",
      " 1.         1.         1.         1.         0.98431373 1.\n",
      " 0.18823529 0.19607843 0.22352941 0.17647059 0.15294118 0.14509804\n",
      " 0.16862745 0.18431373 0.17254902 0.15686275 0.18431373 0.21568627\n",
      " 0.22352941 0.21176471 0.21176471 0.17254902 0.24705882 0.23529412\n",
      " 0.19215686 0.17647059 0.21176471 0.22352941 0.19215686 0.21960784\n",
      " 0.20392157 0.2627451  0.23529412 0.23921569 0.23921569 0.23137255\n",
      " 0.28235294 0.30980392 0.33333333 0.28627451 0.28627451 0.28627451\n",
      " 0.25490196 0.23137255]\n"
     ]
    }
   ],
   "source": [
    "# print(image_train_transformed.shape)\n",
    "# print(image_train_transformed[0,0,:50,0])"
   ]
  },
  {
   "cell_type": "code",
   "execution_count": 54,
   "id": "362d32d8",
   "metadata": {},
   "outputs": [
    {
     "name": "stdout",
     "output_type": "stream",
     "text": [
      "(16984, 100, 100, 3)\n",
      "[1.         1.         1.         1.         1.         1.\n",
      " 1.         1.         1.         1.         1.         1.\n",
      " 1.         1.         1.         1.         1.         1.\n",
      " 1.         1.         1.         1.         1.         0.99607843\n",
      " 1.         0.98431373 0.85098039 0.79607843 0.80784314 0.80784314\n",
      " 0.80784314 0.80784314 0.80784314 0.80784314 0.80784314 0.80784314\n",
      " 0.80784314 0.80784314 0.80784314 0.80784314 0.80784314 0.80784314\n",
      " 0.80784314 0.80392157 0.80392157 0.80392157 0.80784314 0.80392157\n",
      " 0.8        0.79607843]\n"
     ]
    }
   ],
   "source": [
    "# print(image_test_transformed.shape)\n",
    "# print(image_test_transformed[0,0,:50,0])"
   ]
  },
  {
   "cell_type": "code",
   "execution_count": null,
   "id": "07bd8cc4",
   "metadata": {},
   "outputs": [],
   "source": []
  },
  {
   "cell_type": "code",
   "execution_count": null,
   "id": "fd72d94e",
   "metadata": {},
   "outputs": [],
   "source": []
  },
  {
   "cell_type": "markdown",
   "id": "e5d233d1",
   "metadata": {},
   "source": [
    "## product categories"
   ]
  },
  {
   "cell_type": "code",
   "execution_count": 16,
   "id": "d87f5d65",
   "metadata": {},
   "outputs": [
    {
     "name": "stdout",
     "output_type": "stream",
     "text": [
      "(27, 3)\n"
     ]
    },
    {
     "data": {
      "text/html": [
       "<div>\n",
       "<style scoped>\n",
       "    .dataframe tbody tr th:only-of-type {\n",
       "        vertical-align: middle;\n",
       "    }\n",
       "\n",
       "    .dataframe tbody tr th {\n",
       "        vertical-align: top;\n",
       "    }\n",
       "\n",
       "    .dataframe thead th {\n",
       "        text-align: right;\n",
       "    }\n",
       "</style>\n",
       "<table border=\"1\" class=\"dataframe\">\n",
       "  <thead>\n",
       "    <tr style=\"text-align: right;\">\n",
       "      <th></th>\n",
       "      <th>target</th>\n",
       "      <th>prdtypecode</th>\n",
       "      <th>prodtype</th>\n",
       "    </tr>\n",
       "  </thead>\n",
       "  <tbody>\n",
       "    <tr>\n",
       "      <th>0</th>\n",
       "      <td>0</td>\n",
       "      <td>10</td>\n",
       "      <td>livres_adulte</td>\n",
       "    </tr>\n",
       "    <tr>\n",
       "      <th>1</th>\n",
       "      <td>24</td>\n",
       "      <td>40</td>\n",
       "      <td>jeux_videos_import</td>\n",
       "    </tr>\n",
       "    <tr>\n",
       "      <th>2</th>\n",
       "      <td>25</td>\n",
       "      <td>50</td>\n",
       "      <td>accessoires_jeux_videos</td>\n",
       "    </tr>\n",
       "    <tr>\n",
       "      <th>3</th>\n",
       "      <td>26</td>\n",
       "      <td>60</td>\n",
       "      <td>jeux_et_consoles_retro</td>\n",
       "    </tr>\n",
       "    <tr>\n",
       "      <th>4</th>\n",
       "      <td>1</td>\n",
       "      <td>1140</td>\n",
       "      <td>goodies_geek</td>\n",
       "    </tr>\n",
       "  </tbody>\n",
       "</table>\n",
       "</div>"
      ],
      "text/plain": [
       "   target  prdtypecode                 prodtype\n",
       "0       0           10            livres_adulte\n",
       "1      24           40       jeux_videos_import\n",
       "2      25           50  accessoires_jeux_videos\n",
       "3      26           60   jeux_et_consoles_retro\n",
       "4       1         1140             goodies_geek"
      ]
     },
     "execution_count": 16,
     "metadata": {},
     "output_type": "execute_result"
    }
   ],
   "source": [
    "product_class = pd.read_csv('../datasets/product_class.csv', sep = ';')\n",
    "print(product_class.shape)\n",
    "product_class.head()"
   ]
  },
  {
   "cell_type": "markdown",
   "id": "0b74d0b0",
   "metadata": {},
   "source": [
    "# Image Models"
   ]
  },
  {
   "cell_type": "code",
   "execution_count": 5,
   "id": "8be69048",
   "metadata": {},
   "outputs": [],
   "source": [
    "from datetime import date, datetime\n",
    "\n",
    "def date_time():\n",
    "    '''\n",
    "    get date and time in string format '_yymmdd_hhmm'\n",
    "    at the moment the function is called.\n",
    "    '''\n",
    "    from datetime import date, datetime\n",
    "    \n",
    "    \n",
    "    today = date.today()\n",
    "    now = datetime.now() \n",
    "\n",
    "    return today.strftime(\"%Y%m%d\")[2:] + now.strftime(\"%H%M\")"
   ]
  },
  {
   "cell_type": "markdown",
   "id": "ece75d67",
   "metadata": {},
   "source": [
    "# Random Forest"
   ]
  },
  {
   "cell_type": "code",
   "execution_count": 6,
   "id": "176adcb2",
   "metadata": {},
   "outputs": [],
   "source": [
    "X_train = image_train_preprocess / 255\n",
    "X_test = image_test_preprocess / 255\n",
    "\n",
    "y_train = df_y_train.squeeze()\n",
    "y_test = df_y_test.squeeze()"
   ]
  },
  {
   "cell_type": "code",
   "execution_count": 7,
   "id": "09638424",
   "metadata": {},
   "outputs": [
    {
     "name": "stdout",
     "output_type": "stream",
     "text": [
      "<class 'numpy.ndarray'>\n",
      "<class 'numpy.ndarray'>\n",
      "<class 'pandas.core.series.Series'>\n",
      "<class 'pandas.core.series.Series'>\n"
     ]
    }
   ],
   "source": [
    "print(type(X_train))\n",
    "print(type(X_test))\n",
    "print(type(y_train))\n",
    "print(type(y_test))"
   ]
  },
  {
   "cell_type": "code",
   "execution_count": 8,
   "id": "98e16bd4",
   "metadata": {},
   "outputs": [
    {
     "name": "stdout",
     "output_type": "stream",
     "text": [
      "For 67932 observations, training time = 317.30 seconds\n"
     ]
    },
    {
     "ename": "NameError",
     "evalue": "name 'date_time' is not defined",
     "output_type": "error",
     "traceback": [
      "\u001b[1;31m---------------------------------------------------------------------------\u001b[0m",
      "\u001b[1;31mNameError\u001b[0m                                 Traceback (most recent call last)",
      "Cell \u001b[1;32mIn[8], line 22\u001b[0m\n\u001b[0;32m     19\u001b[0m t1 \u001b[38;5;241m=\u001b[39m time\u001b[38;5;241m.\u001b[39mtime()\n\u001b[0;32m     20\u001b[0m \u001b[38;5;28mprint\u001b[39m(\u001b[38;5;124m\"\u001b[39m\u001b[38;5;124mFor \u001b[39m\u001b[38;5;132;01m%d\u001b[39;00m\u001b[38;5;124m observations, training time = \u001b[39m\u001b[38;5;132;01m%0.2f\u001b[39;00m\u001b[38;5;124m seconds\u001b[39m\u001b[38;5;124m\"\u001b[39m \u001b[38;5;241m%\u001b[39m(X_train\u001b[38;5;241m.\u001b[39mshape[\u001b[38;5;241m0\u001b[39m], (t1\u001b[38;5;241m-\u001b[39mt0) ) )\n\u001b[1;32m---> 22\u001b[0m model_date_time \u001b[38;5;241m=\u001b[39m \u001b[43mdate_time\u001b[49m()\n\u001b[0;32m     23\u001b[0m \u001b[38;5;28mprint\u001b[39m(model_date_time)\n",
      "\u001b[1;31mNameError\u001b[0m: name 'date_time' is not defined"
     ]
    }
   ],
   "source": [
    "from sklearn.ensemble import RandomForestClassifier\n",
    "from sklearn.model_selection import GridSearchCV\n",
    "\n",
    "## estimator\n",
    "rf_clf = RandomForestClassifier(n_jobs = -1, random_state = 123) # max_depth = 20, \n",
    "\n",
    "## GridSearch\n",
    "# params = {'max_depth' : [60,70,80,90]} \n",
    "\n",
    "# grid_rf = GridSearchCV(estimator = rf_clf, param_grid = params, scoring = 'accuracy', n_jobs = -1,\\\n",
    "#                        return_train_score=True, verbose = 2)\n",
    "\n",
    "## training (timed)\n",
    "t0 = time.time()\n",
    "\n",
    "rf_clf.fit(X_train, y_train)\n",
    "# grid_rf.fit(X_train, y_train)\n",
    "\n",
    "t1 = time.time()\n",
    "print(\"For %d observations, training time = %0.2f seconds\" %(X_train.shape[0], (t1-t0) ) )\n",
    "\n",
    "model_date_time = date_time()\n",
    "print(model_date_time)"
   ]
  },
  {
   "cell_type": "code",
   "execution_count": 20,
   "id": "3bf8d413",
   "metadata": {},
   "outputs": [
    {
     "data": {
      "text/plain": [
       "{'bootstrap': True,\n",
       " 'ccp_alpha': 0.0,\n",
       " 'class_weight': None,\n",
       " 'criterion': 'gini',\n",
       " 'max_depth': None,\n",
       " 'max_features': 'sqrt',\n",
       " 'max_leaf_nodes': None,\n",
       " 'max_samples': None,\n",
       " 'min_impurity_decrease': 0.0,\n",
       " 'min_samples_leaf': 1,\n",
       " 'min_samples_split': 2,\n",
       " 'min_weight_fraction_leaf': 0.0,\n",
       " 'n_estimators': 100,\n",
       " 'n_jobs': -1,\n",
       " 'oob_score': False,\n",
       " 'random_state': 123,\n",
       " 'verbose': 0,\n",
       " 'warm_start': False}"
      ]
     },
     "execution_count": 20,
     "metadata": {},
     "output_type": "execute_result"
    }
   ],
   "source": [
    "rf_clf.get_params()\n",
    "# grid_rf.get_params()"
   ]
  },
  {
   "cell_type": "code",
   "execution_count": 21,
   "id": "8bc9f797",
   "metadata": {},
   "outputs": [
    {
     "data": {
      "text/plain": [
       "72"
      ]
     },
     "execution_count": 21,
     "metadata": {},
     "output_type": "execute_result"
    }
   ],
   "source": [
    "## maximum tree depth in the forest\n",
    "max((e.tree_.max_depth for e in rf_clf.estimators_))"
   ]
  },
  {
   "cell_type": "markdown",
   "id": "64adb2b5",
   "metadata": {},
   "source": [
    "**Grid optimization**"
   ]
  },
  {
   "cell_type": "code",
   "execution_count": 51,
   "id": "04758bcf",
   "metadata": {},
   "outputs": [
    {
     "name": "stdout",
     "output_type": "stream",
     "text": [
      "Best estimator: {'max_depth': 90}\n",
      "../Trained_models_and_metrics/20230814_2159_grid_rf_cv_results.csv\n"
     ]
    }
   ],
   "source": [
    "## Best estimators\n",
    "print(\"Best estimator:\", grid_rf.best_params_)\n",
    "\n",
    "\n",
    "## Grid evaluation:\n",
    "to_display = ['params', 'mean_test_score', 'std_test_score', 'mean_train_score', 'std_train_score']\n",
    "grid_rf_optimization = pd.DataFrame.from_dict(grid_rf.cv_results_).loc[:,to_display]\n",
    "#print(grid_rf_optimization)\n",
    "\n",
    "\n",
    "## export grid_cv_results\n",
    "export = False\n",
    "time_stamp = model_date_time\n",
    "if export:\n",
    "    filename = training_path + time_stamp + '_grid_rf_cv_results' + '.csv'\n",
    "    pd.DataFrame.from_dict(grid_rf.cv_results_).to_csv(filename, header=True, index=False)\n",
    "    print(filename)"
   ]
  },
  {
   "cell_type": "code",
   "execution_count": 45,
   "id": "b1f5fde5",
   "metadata": {},
   "outputs": [
    {
     "data": {
      "text/html": [
       "<div>\n",
       "<style scoped>\n",
       "    .dataframe tbody tr th:only-of-type {\n",
       "        vertical-align: middle;\n",
       "    }\n",
       "\n",
       "    .dataframe tbody tr th {\n",
       "        vertical-align: top;\n",
       "    }\n",
       "\n",
       "    .dataframe thead th {\n",
       "        text-align: right;\n",
       "    }\n",
       "</style>\n",
       "<table border=\"1\" class=\"dataframe\">\n",
       "  <thead>\n",
       "    <tr style=\"text-align: right;\">\n",
       "      <th></th>\n",
       "      <th>params</th>\n",
       "      <th>mean_test_score</th>\n",
       "      <th>std_test_score</th>\n",
       "      <th>mean_train_score</th>\n",
       "      <th>std_train_score</th>\n",
       "      <th>max_depth</th>\n",
       "    </tr>\n",
       "  </thead>\n",
       "  <tbody>\n",
       "    <tr>\n",
       "      <th>0</th>\n",
       "      <td>{'max_depth': 60}</td>\n",
       "      <td>0.705191</td>\n",
       "      <td>0.003330</td>\n",
       "      <td>0.828829</td>\n",
       "      <td>0.001555</td>\n",
       "      <td>60</td>\n",
       "    </tr>\n",
       "    <tr>\n",
       "      <th>1</th>\n",
       "      <td>{'max_depth': 70}</td>\n",
       "      <td>0.713066</td>\n",
       "      <td>0.002463</td>\n",
       "      <td>0.845562</td>\n",
       "      <td>0.000962</td>\n",
       "      <td>70</td>\n",
       "    </tr>\n",
       "    <tr>\n",
       "      <th>2</th>\n",
       "      <td>{'max_depth': 80}</td>\n",
       "      <td>0.717718</td>\n",
       "      <td>0.001581</td>\n",
       "      <td>0.859179</td>\n",
       "      <td>0.000241</td>\n",
       "      <td>80</td>\n",
       "    </tr>\n",
       "    <tr>\n",
       "      <th>3</th>\n",
       "      <td>{'max_depth': 90}</td>\n",
       "      <td>0.722620</td>\n",
       "      <td>0.001851</td>\n",
       "      <td>0.872578</td>\n",
       "      <td>0.001564</td>\n",
       "      <td>90</td>\n",
       "    </tr>\n",
       "  </tbody>\n",
       "</table>\n",
       "</div>"
      ],
      "text/plain": [
       "              params  mean_test_score  std_test_score  mean_train_score  \\\n",
       "0  {'max_depth': 60}         0.705191        0.003330          0.828829   \n",
       "1  {'max_depth': 70}         0.713066        0.002463          0.845562   \n",
       "2  {'max_depth': 80}         0.717718        0.001581          0.859179   \n",
       "3  {'max_depth': 90}         0.722620        0.001851          0.872578   \n",
       "\n",
       "   std_train_score  max_depth  \n",
       "0         0.001555         60  \n",
       "1         0.000962         70  \n",
       "2         0.000241         80  \n",
       "3         0.001564         90  "
      ]
     },
     "execution_count": 45,
     "metadata": {},
     "output_type": "execute_result"
    }
   ],
   "source": [
    "## Formating into dataframe: \n",
    "\n",
    "for key in params.keys():\n",
    "    grid_rf_optimization[key] = [val[key] for val in grid_rf_optimization['params']]\n",
    "\n",
    "#grid_rf_optimization = grid_rf_optimization.drop('params', axis = 1)\n",
    "\n",
    "grid_rf_optimization"
   ]
  },
  {
   "cell_type": "markdown",
   "id": "48730387",
   "metadata": {},
   "source": [
    "**Plot optimization of current model**"
   ]
  },
  {
   "cell_type": "code",
   "execution_count": 48,
   "id": "8b3d18f4",
   "metadata": {},
   "outputs": [
    {
     "data": {
      "text/plain": [
       "Text(0.5, 0.98, 'Optimization: Random Forest on meanRGB')"
      ]
     },
     "execution_count": 48,
     "metadata": {},
     "output_type": "execute_result"
    },
    {
     "data": {
      "image/png": "[encoded data removed]",
      "text/plain": [
       "<Figure size 1200x400 with 2 Axes>"
      ]
     },
     "metadata": {},
     "output_type": "display_data"
    }
   ],
   "source": [
    "fig, axs = plt.subplots(1,2,figsize = (12,4))\n",
    "#sns.lineplot(x = 'max_depth', y='mean_test_score', data = grid_rf_optimization, hue = 'criterion', style='max_features', marker = 'o')\n",
    "\n",
    "\n",
    "sns.lineplot(x = 'max_depth', y='mean_test_score', data = grid_rf_optimization, \\\n",
    "             marker = 'o', ax= axs[0])\n",
    "\n",
    "# sns.lineplot(x = 'max_depth', y='mean_test_score', data = grid_rf_v0, hue = 'C',\\\n",
    "#              marker = '*', ax= axs[0], ls = ':', palette=\"crest\")\n",
    "\n",
    "\n",
    "sns.lineplot(x = 'max_depth', y='mean_train_score', data = grid_rf_optimization, \\\n",
    "             marker = 'o', ax= axs[1])\n",
    "\n",
    "# sns.lineplot(x = 'max_depth', y='mean_train_score', data = grid_rf_v0, hue = 'C',\\\n",
    "#              marker = '*', ax= axs[1], ls = ':', palette=\"crest\")\n",
    "\n",
    "for ax in axs:\n",
    "    ax.set_ylim(0.7,0.95)\n",
    "#     ax.set_xscale(\"log\")\n",
    "#     leg = ax.legend()\n",
    "#     leg_lines = leg.get_lines()\n",
    "# #     leg_lines[1].set_linestyle(\":\")\n",
    "#     leg_lines[2].set_linestyle(\":\")\n",
    "#     leg_lines[3].set_linestyle(\":\")\n",
    "    \n",
    "#plt.legend(title='Day of Week')\n",
    "# plt.legend(labels = ['a', 'F', 'S', 'y'])\n",
    "fig.suptitle(\"Optimization: Random Forest on meanRGB\")"
   ]
  },
  {
   "cell_type": "markdown",
   "id": "3f27674e",
   "metadata": {},
   "source": [
    "**Train-Test accuracy**"
   ]
  },
  {
   "cell_type": "code",
   "execution_count": 13,
   "id": "0404865e",
   "metadata": {},
   "outputs": [
    {
     "name": "stdout",
     "output_type": "stream",
     "text": [
      "Train set accuracy 0.995\n",
      "Test  set accuracy 0.448\n"
     ]
    }
   ],
   "source": [
    "rf_accuracy_train = rf_clf.score(X_train, y_train)\n",
    "rf_accuracy_test = rf_clf.score(X_test, y_test)\n",
    "\n",
    "# rf_accuracy_train = grid_rf.score(X_train, y_train)\n",
    "# rf_accuracy_test = grid_rf.score(X_test, y_test)\n",
    "\n",
    "print(\"Train set accuracy %0.3f\" % rf_accuracy_train)\n",
    "print(\"Test  set accuracy %0.3f\" % rf_accuracy_test)"
   ]
  },
  {
   "cell_type": "markdown",
   "id": "2b8fd17d",
   "metadata": {},
   "source": [
    "**Predictions**"
   ]
  },
  {
   "cell_type": "code",
   "execution_count": 22,
   "id": "1f20bf0c",
   "metadata": {},
   "outputs": [],
   "source": [
    "y_pred = rf_clf.predict(X_test)\n",
    "# y_pred = grid_rf.predict(X_test)"
   ]
  },
  {
   "cell_type": "code",
   "execution_count": 23,
   "id": "a42de257",
   "metadata": {},
   "outputs": [],
   "source": [
    "categories = product_class['prdtypecode'].tolist()\n",
    "\n",
    "yy_pred = pd.Categorical(y_pred, categories = categories)\n",
    "yy_test = pd.Categorical(y_test, categories = categories)\n",
    "\n",
    "cm = pd.crosstab(yy_test, yy_pred, rownames=['Reality'], colnames=['Predictions'], dropna = False)"
   ]
  },
  {
   "cell_type": "code",
   "execution_count": 24,
   "id": "0e6a1a24",
   "metadata": {},
   "outputs": [
    {
     "name": "stdout",
     "output_type": "stream",
     "text": [
      "(27, 27)\n"
     ]
    },
    {
     "data": {
      "image/png": "[encoded data removed]",
      "text/plain": [
       "<Figure size 1800x1000 with 2 Axes>"
      ]
     },
     "metadata": {},
     "output_type": "display_data"
    }
   ],
   "source": [
    "print(cm.shape)\n",
    "\n",
    "fig, ax = plt.subplots(figsize = (18,10))\n",
    "sns.heatmap(cm, annot = True, ax=ax, cmap='Greens', fmt ='d', vmin = 0, vmax = 100)\n",
    "\n",
    "ax.xaxis.set_ticks_position('top')\n",
    "ax.xaxis.set_tick_params(length = 0)\n",
    "ax.xaxis.set_label_position('top')"
   ]
  },
  {
   "cell_type": "markdown",
   "id": "c3d19ded",
   "metadata": {},
   "source": [
    "**Save confusion matrix**"
   ]
  },
  {
   "cell_type": "code",
   "execution_count": 25,
   "id": "7cae51c3",
   "metadata": {},
   "outputs": [
    {
     "name": "stdout",
     "output_type": "stream",
     "text": [
      "../Trained_models_and_metrics/2308130550_img_rf_confusionMatrix.csv\n"
     ]
    }
   ],
   "source": [
    "export = True\n",
    "\n",
    "if export:\n",
    "    filename = training_path + model_date_time + '_img_rf' + '_confusionMatrix.csv'\n",
    "    \n",
    "    with open(filename, 'w') as file:\n",
    "        cm.to_csv(filename, header = True, index = True)\n",
    "        print(filename)"
   ]
  },
  {
   "cell_type": "markdown",
   "id": "eb3bffda",
   "metadata": {},
   "source": [
    "**Classification Report: macro & micro**"
   ]
  },
  {
   "cell_type": "code",
   "execution_count": 26,
   "id": "0be03665",
   "metadata": {},
   "outputs": [],
   "source": [
    "from sklearn.metrics import classification_report \n",
    "\n",
    "cr = classification_report(y_test, y_pred, output_dict = True)\n",
    "cr.update({\"accuracy\": {\"precision\": None, \"recall\": None, \"f1-score\": cr[\"accuracy\"], \"support\": cr['macro avg']['support']}})\n",
    "\n",
    "micro_rf = pd.DataFrame(cr).transpose().reset_index().rename(columns={'index': 'prdtypecode'}).iloc[:-3,:]\n",
    "macro_rf = pd.DataFrame(cr).transpose().reset_index().rename(columns={'index': 'metrics'}).iloc[-3:,:]\n",
    "\n",
    "# display(micro_dt)\n",
    "# display(macro_dt)"
   ]
  },
  {
   "cell_type": "code",
   "execution_count": 27,
   "id": "6d311560",
   "metadata": {},
   "outputs": [
    {
     "name": "stdout",
     "output_type": "stream",
     "text": [
      "              precision    recall  f1-score   support\n",
      "\n",
      "          10       0.36      0.33      0.35       623\n",
      "          40       0.56      0.32      0.41       502\n",
      "          50       0.57      0.17      0.27       336\n",
      "          60       0.90      0.21      0.34       166\n",
      "        1140       0.45      0.24      0.31       534\n",
      "        1160       0.68      0.74      0.70       791\n",
      "        1180       0.75      0.06      0.11       153\n",
      "        1280       0.20      0.16      0.18       974\n",
      "        1281       0.35      0.03      0.06       414\n",
      "        1300       0.36      0.54      0.43      1009\n",
      "        1301       0.85      0.29      0.44       161\n",
      "        1302       0.56      0.13      0.22       498\n",
      "        1320       0.36      0.21      0.26       648\n",
      "        1560       0.38      0.40      0.39      1015\n",
      "        1920       0.80      0.67      0.73       861\n",
      "        1940       0.76      0.17      0.28       161\n",
      "        2060       0.34      0.45      0.38       999\n",
      "        2220       0.92      0.07      0.12       165\n",
      "        2280       0.43      0.65      0.52       952\n",
      "        2403       0.32      0.55      0.40       955\n",
      "        2462       0.60      0.21      0.32       284\n",
      "        2522       0.70      0.49      0.58       998\n",
      "        2582       0.63      0.17      0.27       518\n",
      "        2583       0.45      0.83      0.59      2042\n",
      "        2585       0.70      0.22      0.34       499\n",
      "        2705       0.49      0.57      0.53       552\n",
      "        2905       0.64      0.46      0.54       174\n",
      "\n",
      "    accuracy                           0.45     16984\n",
      "   macro avg       0.56      0.35      0.37     16984\n",
      "weighted avg       0.49      0.45      0.42     16984\n",
      "\n"
     ]
    }
   ],
   "source": [
    "print(classification_report(y_test, y_pred))"
   ]
  },
  {
   "cell_type": "markdown",
   "id": "ac14ffd7",
   "metadata": {},
   "source": [
    "**Top Classified Categories**"
   ]
  },
  {
   "cell_type": "code",
   "execution_count": 28,
   "id": "878ea860",
   "metadata": {},
   "outputs": [
    {
     "data": {
      "text/html": [
       "<div>\n",
       "<style scoped>\n",
       "    .dataframe tbody tr th:only-of-type {\n",
       "        vertical-align: middle;\n",
       "    }\n",
       "\n",
       "    .dataframe tbody tr th {\n",
       "        vertical-align: top;\n",
       "    }\n",
       "\n",
       "    .dataframe thead th {\n",
       "        text-align: right;\n",
       "    }\n",
       "</style>\n",
       "<table border=\"1\" class=\"dataframe\">\n",
       "  <thead>\n",
       "    <tr style=\"text-align: right;\">\n",
       "      <th></th>\n",
       "      <th>prdtypecode</th>\n",
       "      <th>precision</th>\n",
       "      <th>recall</th>\n",
       "      <th>f1-score</th>\n",
       "      <th>support</th>\n",
       "    </tr>\n",
       "  </thead>\n",
       "  <tbody>\n",
       "    <tr>\n",
       "      <th>14</th>\n",
       "      <td>1920</td>\n",
       "      <td>0.799722</td>\n",
       "      <td>0.667828</td>\n",
       "      <td>0.727848</td>\n",
       "      <td>861.0</td>\n",
       "    </tr>\n",
       "    <tr>\n",
       "      <th>5</th>\n",
       "      <td>1160</td>\n",
       "      <td>0.675550</td>\n",
       "      <td>0.737042</td>\n",
       "      <td>0.704958</td>\n",
       "      <td>791.0</td>\n",
       "    </tr>\n",
       "    <tr>\n",
       "      <th>23</th>\n",
       "      <td>2583</td>\n",
       "      <td>0.451297</td>\n",
       "      <td>0.834966</td>\n",
       "      <td>0.585911</td>\n",
       "      <td>2042.0</td>\n",
       "    </tr>\n",
       "    <tr>\n",
       "      <th>21</th>\n",
       "      <td>2522</td>\n",
       "      <td>0.695346</td>\n",
       "      <td>0.493988</td>\n",
       "      <td>0.577622</td>\n",
       "      <td>998.0</td>\n",
       "    </tr>\n",
       "    <tr>\n",
       "      <th>26</th>\n",
       "      <td>2905</td>\n",
       "      <td>0.640000</td>\n",
       "      <td>0.459770</td>\n",
       "      <td>0.535117</td>\n",
       "      <td>174.0</td>\n",
       "    </tr>\n",
       "  </tbody>\n",
       "</table>\n",
       "</div>"
      ],
      "text/plain": [
       "   prdtypecode  precision    recall  f1-score  support\n",
       "14        1920   0.799722  0.667828  0.727848    861.0\n",
       "5         1160   0.675550  0.737042  0.704958    791.0\n",
       "23        2583   0.451297  0.834966  0.585911   2042.0\n",
       "21        2522   0.695346  0.493988  0.577622    998.0\n",
       "26        2905   0.640000  0.459770  0.535117    174.0"
      ]
     },
     "execution_count": 28,
     "metadata": {},
     "output_type": "execute_result"
    }
   ],
   "source": [
    "micro_rf.sort_values(by = 'f1-score', ascending=False).head(5)"
   ]
  },
  {
   "cell_type": "markdown",
   "id": "1513e37b",
   "metadata": {},
   "source": [
    "**Worst Classified Categories**"
   ]
  },
  {
   "cell_type": "code",
   "execution_count": 29,
   "id": "2b251bde",
   "metadata": {},
   "outputs": [
    {
     "data": {
      "text/html": [
       "<div>\n",
       "<style scoped>\n",
       "    .dataframe tbody tr th:only-of-type {\n",
       "        vertical-align: middle;\n",
       "    }\n",
       "\n",
       "    .dataframe tbody tr th {\n",
       "        vertical-align: top;\n",
       "    }\n",
       "\n",
       "    .dataframe thead th {\n",
       "        text-align: right;\n",
       "    }\n",
       "</style>\n",
       "<table border=\"1\" class=\"dataframe\">\n",
       "  <thead>\n",
       "    <tr style=\"text-align: right;\">\n",
       "      <th></th>\n",
       "      <th>prdtypecode</th>\n",
       "      <th>precision</th>\n",
       "      <th>recall</th>\n",
       "      <th>f1-score</th>\n",
       "      <th>support</th>\n",
       "    </tr>\n",
       "  </thead>\n",
       "  <tbody>\n",
       "    <tr>\n",
       "      <th>8</th>\n",
       "      <td>1281</td>\n",
       "      <td>0.351351</td>\n",
       "      <td>0.031401</td>\n",
       "      <td>0.057650</td>\n",
       "      <td>414.0</td>\n",
       "    </tr>\n",
       "    <tr>\n",
       "      <th>6</th>\n",
       "      <td>1180</td>\n",
       "      <td>0.750000</td>\n",
       "      <td>0.058824</td>\n",
       "      <td>0.109091</td>\n",
       "      <td>153.0</td>\n",
       "    </tr>\n",
       "    <tr>\n",
       "      <th>17</th>\n",
       "      <td>2220</td>\n",
       "      <td>0.916667</td>\n",
       "      <td>0.066667</td>\n",
       "      <td>0.124294</td>\n",
       "      <td>165.0</td>\n",
       "    </tr>\n",
       "    <tr>\n",
       "      <th>7</th>\n",
       "      <td>1280</td>\n",
       "      <td>0.200000</td>\n",
       "      <td>0.164271</td>\n",
       "      <td>0.180383</td>\n",
       "      <td>974.0</td>\n",
       "    </tr>\n",
       "    <tr>\n",
       "      <th>11</th>\n",
       "      <td>1302</td>\n",
       "      <td>0.558333</td>\n",
       "      <td>0.134538</td>\n",
       "      <td>0.216828</td>\n",
       "      <td>498.0</td>\n",
       "    </tr>\n",
       "  </tbody>\n",
       "</table>\n",
       "</div>"
      ],
      "text/plain": [
       "   prdtypecode  precision    recall  f1-score  support\n",
       "8         1281   0.351351  0.031401  0.057650    414.0\n",
       "6         1180   0.750000  0.058824  0.109091    153.0\n",
       "17        2220   0.916667  0.066667  0.124294    165.0\n",
       "7         1280   0.200000  0.164271  0.180383    974.0\n",
       "11        1302   0.558333  0.134538  0.216828    498.0"
      ]
     },
     "execution_count": 29,
     "metadata": {},
     "output_type": "execute_result"
    }
   ],
   "source": [
    "micro_rf.sort_values(by = 'f1-score', ascending=True).head(5)"
   ]
  },
  {
   "cell_type": "markdown",
   "id": "0352447c",
   "metadata": {},
   "source": [
    "**Less represented categories scores**"
   ]
  },
  {
   "cell_type": "code",
   "execution_count": 30,
   "id": "d91f749e",
   "metadata": {},
   "outputs": [
    {
     "data": {
      "text/html": [
       "<div>\n",
       "<style scoped>\n",
       "    .dataframe tbody tr th:only-of-type {\n",
       "        vertical-align: middle;\n",
       "    }\n",
       "\n",
       "    .dataframe tbody tr th {\n",
       "        vertical-align: top;\n",
       "    }\n",
       "\n",
       "    .dataframe thead th {\n",
       "        text-align: right;\n",
       "    }\n",
       "</style>\n",
       "<table border=\"1\" class=\"dataframe\">\n",
       "  <thead>\n",
       "    <tr style=\"text-align: right;\">\n",
       "      <th></th>\n",
       "      <th>prdtypecode</th>\n",
       "      <th>precision</th>\n",
       "      <th>recall</th>\n",
       "      <th>f1-score</th>\n",
       "      <th>support</th>\n",
       "    </tr>\n",
       "  </thead>\n",
       "  <tbody>\n",
       "    <tr>\n",
       "      <th>6</th>\n",
       "      <td>1180</td>\n",
       "      <td>0.750000</td>\n",
       "      <td>0.058824</td>\n",
       "      <td>0.109091</td>\n",
       "      <td>153.0</td>\n",
       "    </tr>\n",
       "    <tr>\n",
       "      <th>10</th>\n",
       "      <td>1301</td>\n",
       "      <td>0.854545</td>\n",
       "      <td>0.291925</td>\n",
       "      <td>0.435185</td>\n",
       "      <td>161.0</td>\n",
       "    </tr>\n",
       "    <tr>\n",
       "      <th>15</th>\n",
       "      <td>1940</td>\n",
       "      <td>0.756757</td>\n",
       "      <td>0.173913</td>\n",
       "      <td>0.282828</td>\n",
       "      <td>161.0</td>\n",
       "    </tr>\n",
       "    <tr>\n",
       "      <th>17</th>\n",
       "      <td>2220</td>\n",
       "      <td>0.916667</td>\n",
       "      <td>0.066667</td>\n",
       "      <td>0.124294</td>\n",
       "      <td>165.0</td>\n",
       "    </tr>\n",
       "    <tr>\n",
       "      <th>3</th>\n",
       "      <td>60</td>\n",
       "      <td>0.897436</td>\n",
       "      <td>0.210843</td>\n",
       "      <td>0.341463</td>\n",
       "      <td>166.0</td>\n",
       "    </tr>\n",
       "  </tbody>\n",
       "</table>\n",
       "</div>"
      ],
      "text/plain": [
       "   prdtypecode  precision    recall  f1-score  support\n",
       "6         1180   0.750000  0.058824  0.109091    153.0\n",
       "10        1301   0.854545  0.291925  0.435185    161.0\n",
       "15        1940   0.756757  0.173913  0.282828    161.0\n",
       "17        2220   0.916667  0.066667  0.124294    165.0\n",
       "3           60   0.897436  0.210843  0.341463    166.0"
      ]
     },
     "execution_count": 30,
     "metadata": {},
     "output_type": "execute_result"
    }
   ],
   "source": [
    "micro_rf.sort_values(by = 'support', ascending=True).head(5)"
   ]
  },
  {
   "cell_type": "markdown",
   "id": "3c490be3",
   "metadata": {},
   "source": [
    "**Save Classification Report**"
   ]
  },
  {
   "cell_type": "code",
   "execution_count": 31,
   "id": "414ee7ad",
   "metadata": {},
   "outputs": [
    {
     "name": "stdout",
     "output_type": "stream",
     "text": [
      "../Trained_models_and_metrics/2308130550_img_rf_classificationReport.txt\n"
     ]
    }
   ],
   "source": [
    "export = True\n",
    "\n",
    "if export:\n",
    "    filename = training_path + model_date_time +'_img_rf' + '_classificationReport.txt'\n",
    "    \n",
    "    with open(filename, 'w') as file:\n",
    "        file.write(classification_report(y_test, y_pred))\n",
    "        print(filename)"
   ]
  },
  {
   "cell_type": "markdown",
   "id": "42f89000",
   "metadata": {},
   "source": [
    "**Save / Load trained model ready to use**"
   ]
  },
  {
   "cell_type": "code",
   "execution_count": 34,
   "id": "a64e847b",
   "metadata": {},
   "outputs": [
    {
     "name": "stdout",
     "output_type": "stream",
     "text": [
      "Saved trained model: ../Trained_models_and_metrics/2308130550_img_rf_trained.joblib\n"
     ]
    }
   ],
   "source": [
    "save = True\n",
    "reload = False\n",
    "\n",
    "saved_model = training_path + model_date_time +'_img_rf_trained' + '.joblib'\n",
    "\n",
    "from joblib import dump, load\n",
    "\n",
    "if save:\n",
    "    dump(rf_clf, saved_model) #\n",
    "    print(\"Saved trained model:\", saved_model)\n",
    "\n",
    "if reload:\n",
    "    svc_clf=load(saved_model)\n",
    "    print(\"reloaded model: \", saved_model)"
   ]
  },
  {
   "cell_type": "code",
   "execution_count": null,
   "id": "8611ad65",
   "metadata": {},
   "outputs": [],
   "source": []
  },
  {
   "cell_type": "markdown",
   "id": "75c06960",
   "metadata": {},
   "source": [
    "# Support Vectors Machine - SVC"
   ]
  },
  {
   "cell_type": "code",
   "execution_count": null,
   "id": "fa10b7b3",
   "metadata": {},
   "outputs": [],
   "source": [
    "from sklearn import svm\n",
    "from sklearn.model_selection import GridSearchCV\n",
    "\n",
    "## estimator\n",
    "svc_clf = svm.SVC(C = 10, kernel = 'rbf', gamma=1e-9) #kernel = 'poly', gamma = 0.01\n",
    "\n",
    "## GridSearch\n",
    "# params = {'gamma' : [1e-11,1e-10,1e-9,1e-8,1e-7,1e-6]}#,\n",
    "# #          'C' : [1e3,1e4,1e5,1e6] }\n",
    "\n",
    "# grid_svc = GridSearchCV(estimator = svc_clf, param_grid = params, scoring = 'accuracy', n_jobs = -1, cv = 3,\\\n",
    "#                           return_train_score=True, verbose = 3)\n",
    "\n",
    "## training (timed)\n",
    "t0 = time.time()\n",
    "\n",
    "svc_clf.fit(X_train, y_train)\n",
    "# grid_svc.fit(X_train, y_train)\n",
    "\n",
    "t1 = time.time()\n",
    "print(\"For %d observations, training time = %0.2f seconds\" %(X_train.shape[0], (t1-t0) ) )\n",
    "\n",
    "model_date_time = date_time()\n",
    "print(model_date_time)"
   ]
  },
  {
   "cell_type": "code",
   "execution_count": null,
   "id": "ca78003f",
   "metadata": {},
   "outputs": [],
   "source": [
    "# my_model.get_params()\n",
    "svc_clf.get_params()"
   ]
  },
  {
   "cell_type": "markdown",
   "id": "91296e6c",
   "metadata": {},
   "source": [
    "**Grid optimization evaluation**"
   ]
  },
  {
   "cell_type": "code",
   "execution_count": 479,
   "id": "9cefbb76",
   "metadata": {},
   "outputs": [
    {
     "name": "stdout",
     "output_type": "stream",
     "text": [
      "Best estimator: {'gamma': 1e-08}\n",
      "grid_svc_cv_results_20230802_1920.csv\n"
     ]
    }
   ],
   "source": [
    "## Best estimators\n",
    "print(\"Best estimator:\", grid_svc.best_params_)\n",
    "\n",
    "\n",
    "## Grid evaluation:\n",
    "to_display = ['params', 'mean_test_score', 'std_test_score', 'mean_train_score', 'std_train_score']\n",
    "grid_svc_optimization = pd.DataFrame.from_dict(grid_svc.cv_results_).loc[:,to_display]\n",
    "\n",
    "\n",
    "## export grid_cv_results\n",
    "export = True\n",
    "time_stamp = model_date_time\n",
    "if export:\n",
    "    filename = 'grid_svc_cv_results' + time_stamp + '.csv'\n",
    "    pd.DataFrame.from_dict(grid_svc.cv_results_).to_csv(filename, header=True, index=False)\n",
    "    print(filename)"
   ]
  },
  {
   "cell_type": "code",
   "execution_count": 480,
   "id": "fe18ad82",
   "metadata": {
    "scrolled": true
   },
   "outputs": [
    {
     "data": {
      "text/html": [
       "<div>\n",
       "<style scoped>\n",
       "    .dataframe tbody tr th:only-of-type {\n",
       "        vertical-align: middle;\n",
       "    }\n",
       "\n",
       "    .dataframe tbody tr th {\n",
       "        vertical-align: top;\n",
       "    }\n",
       "\n",
       "    .dataframe thead th {\n",
       "        text-align: right;\n",
       "    }\n",
       "</style>\n",
       "<table border=\"1\" class=\"dataframe\">\n",
       "  <thead>\n",
       "    <tr style=\"text-align: right;\">\n",
       "      <th></th>\n",
       "      <th>params</th>\n",
       "      <th>mean_test_score</th>\n",
       "      <th>std_test_score</th>\n",
       "      <th>mean_train_score</th>\n",
       "      <th>std_train_score</th>\n",
       "      <th>gamma</th>\n",
       "    </tr>\n",
       "  </thead>\n",
       "  <tbody>\n",
       "    <tr>\n",
       "      <th>0</th>\n",
       "      <td>{'gamma': 1e-11}</td>\n",
       "      <td>0.190250</td>\n",
       "      <td>0.002007</td>\n",
       "      <td>0.195063</td>\n",
       "      <td>0.004597</td>\n",
       "      <td>1.000000e-11</td>\n",
       "    </tr>\n",
       "    <tr>\n",
       "      <th>1</th>\n",
       "      <td>{'gamma': 1e-10}</td>\n",
       "      <td>0.256625</td>\n",
       "      <td>0.002129</td>\n",
       "      <td>0.289938</td>\n",
       "      <td>0.001034</td>\n",
       "      <td>1.000000e-10</td>\n",
       "    </tr>\n",
       "    <tr>\n",
       "      <th>2</th>\n",
       "      <td>{'gamma': 1e-09}</td>\n",
       "      <td>0.315125</td>\n",
       "      <td>0.001485</td>\n",
       "      <td>0.748937</td>\n",
       "      <td>0.002726</td>\n",
       "      <td>1.000000e-09</td>\n",
       "    </tr>\n",
       "    <tr>\n",
       "      <th>3</th>\n",
       "      <td>{'gamma': 1e-08}</td>\n",
       "      <td>0.325500</td>\n",
       "      <td>0.005168</td>\n",
       "      <td>0.996438</td>\n",
       "      <td>0.000405</td>\n",
       "      <td>1.000000e-08</td>\n",
       "    </tr>\n",
       "    <tr>\n",
       "      <th>4</th>\n",
       "      <td>{'gamma': 1e-07}</td>\n",
       "      <td>0.142000</td>\n",
       "      <td>0.001735</td>\n",
       "      <td>0.999750</td>\n",
       "      <td>0.000088</td>\n",
       "      <td>1.000000e-07</td>\n",
       "    </tr>\n",
       "    <tr>\n",
       "      <th>5</th>\n",
       "      <td>{'gamma': 1e-06}</td>\n",
       "      <td>0.126125</td>\n",
       "      <td>0.001137</td>\n",
       "      <td>0.999750</td>\n",
       "      <td>0.000088</td>\n",
       "      <td>1.000000e-06</td>\n",
       "    </tr>\n",
       "  </tbody>\n",
       "</table>\n",
       "</div>"
      ],
      "text/plain": [
       "             params  mean_test_score  std_test_score  mean_train_score  \\\n",
       "0  {'gamma': 1e-11}         0.190250        0.002007          0.195063   \n",
       "1  {'gamma': 1e-10}         0.256625        0.002129          0.289938   \n",
       "2  {'gamma': 1e-09}         0.315125        0.001485          0.748937   \n",
       "3  {'gamma': 1e-08}         0.325500        0.005168          0.996438   \n",
       "4  {'gamma': 1e-07}         0.142000        0.001735          0.999750   \n",
       "5  {'gamma': 1e-06}         0.126125        0.001137          0.999750   \n",
       "\n",
       "   std_train_score         gamma  \n",
       "0         0.004597  1.000000e-11  \n",
       "1         0.001034  1.000000e-10  \n",
       "2         0.002726  1.000000e-09  \n",
       "3         0.000405  1.000000e-08  \n",
       "4         0.000088  1.000000e-07  \n",
       "5         0.000088  1.000000e-06  "
      ]
     },
     "execution_count": 480,
     "metadata": {},
     "output_type": "execute_result"
    }
   ],
   "source": [
    "## Formating into dataframe: \n",
    "\n",
    "for key in params.keys():\n",
    "    grid_svc_optimization[key] = [val[key] for val in grid_svc_optimization['params']]\n",
    "\n",
    "#grid_svc_optimization = grid_svc_optimization.drop('params', axis = 1)\n",
    "\n",
    "grid_svc_optimization"
   ]
  },
  {
   "cell_type": "markdown",
   "id": "57d99465",
   "metadata": {},
   "source": [
    "**Compare to previous models ?**"
   ]
  },
  {
   "cell_type": "code",
   "execution_count": null,
   "id": "c0f0b61b",
   "metadata": {
    "scrolled": false
   },
   "outputs": [],
   "source": [
    "### load params from previous model for comparison (or skip)\n",
    "\n",
    "grid_svc_v0 = pd.read_csv('grid_svc_cv_results_20230801_1553.csv')\n",
    "\n",
    "import json\n",
    "\n",
    "for key in ['C','gamma']:\n",
    "#for key in params.keys():\n",
    "    print(key)\n",
    "    grid_svc_v0[key] = [json.loads(val.replace(\"'\",'\"'))[key] for val in grid_svc_v0['params']]\n",
    "\n",
    "grid_svc_v0"
   ]
  },
  {
   "cell_type": "markdown",
   "id": "02d6972a",
   "metadata": {},
   "source": [
    "**Plot Optimization of current model**"
   ]
  },
  {
   "cell_type": "code",
   "execution_count": 536,
   "id": "c19b97ed",
   "metadata": {
    "scrolled": false
   },
   "outputs": [
    {
     "data": {
      "text/plain": [
       "Text(0.5, 0.98, 'Optimization: SVM.SVC on meanRGB')"
      ]
     },
     "execution_count": 536,
     "metadata": {},
     "output_type": "execute_result"
    },
    {
     "data": {
      "image/png": "[encoded data removed]",
      "text/plain": [
       "<Figure size 1200x400 with 2 Axes>"
      ]
     },
     "metadata": {},
     "output_type": "display_data"
    }
   ],
   "source": [
    "fig, axs = plt.subplots(1,2,figsize = (12,4))\n",
    "#sns.lineplot(x = 'max_depth', y='mean_test_score', data = grid_rf_optimization, hue = 'criterion', style='max_features', marker = 'o')\n",
    "\n",
    "\n",
    "sns.lineplot(x = 'gamma', y='mean_test_score', data = grid_svc_optimization,\\\n",
    "             marker = 'o', ax= axs[0], label = 'C=10, large dataset')\n",
    "\n",
    "# sns.lineplot(x = 'gamma', y='mean_test_score', data = grid_svc_v0, hue = 'C',\\\n",
    "#              marker = '*', ax= axs[0], ls = ':', palette=\"crest\")\n",
    "\n",
    "\n",
    "\n",
    "sns.lineplot(x = 'gamma', y='mean_train_score', data = grid_svc_optimization,\\\n",
    "             marker = 'o', ax= axs[1], label = 'C=10, large dataset')\n",
    "\n",
    "# sns.lineplot(x = 'gamma', y='mean_train_score', data = grid_svc_v0, hue = 'C',\\\n",
    "#              marker = '*', ax= axs[1], ls = ':', palette=\"crest\")\n",
    "\n",
    "for ax in axs:\n",
    "    ax.set_ylim(0,1.05)\n",
    "    ax.set_xscale(\"log\")\n",
    "    leg = ax.legend()\n",
    "    leg_lines = leg.get_lines()\n",
    "    leg_lines[1].set_linestyle(\":\")\n",
    "    leg_lines[2].set_linestyle(\":\")\n",
    "    leg_lines[3].set_linestyle(\":\")\n",
    "    \n",
    "#plt.legend(title='Day of Week')\n",
    "# plt.legend(labels = ['a', 'F', 'S', 'y'])\n",
    "fig.suptitle(\"Optimization: SVM.SVC on meanRGB\")"
   ]
  },
  {
   "cell_type": "code",
   "execution_count": 155,
   "id": "4e3802c4",
   "metadata": {},
   "outputs": [],
   "source": [
    "# fig, axs = plt.subplots(1,2,figsize = (12,4), sharey = False)\n",
    "\n",
    "# model_A = grid_svc_optimization[grid_svc_optimization['kernel']=='linear']\n",
    "# sns.lineplot(x = 'C', y='mean_test_score', data = model_A, marker = 'o', ax= axs[0])\n",
    "# sns.lineplot(x = 'C', y='mean_train_score', data = model_A, marker = 'o', ax= axs[0])\n",
    "# axs[0].set_title(\"linear kernel\")\n",
    "\n",
    "# model_B = grid_svc_optimization[grid_svc_optimization['kernel']=='rbf']\n",
    "# sns.lineplot(x = 'C', y='mean_test_score', data = model_B, marker = 'o', ax= axs[1])\n",
    "# sns.lineplot(x = 'C', y='mean_train_score', data = model_B, marker = 'o', ax= axs[1])\n",
    "# axs[1].set_title(\"rbf kernel\")\n",
    "\n",
    "# for ax in axs:\n",
    "#     ax.set_ylim(0,1.05)\n",
    "\n",
    "# fig.suptitle(\"Optimization: SVM.SVC vectorized images\")"
   ]
  },
  {
   "cell_type": "markdown",
   "id": "c61c7181",
   "metadata": {},
   "source": [
    "### Single Model Evaluation"
   ]
  },
  {
   "cell_type": "markdown",
   "id": "ee90bd4b",
   "metadata": {},
   "source": [
    "**Train-Test accuracy**"
   ]
  },
  {
   "cell_type": "code",
   "execution_count": 13,
   "id": "f9d80874",
   "metadata": {},
   "outputs": [
    {
     "name": "stdout",
     "output_type": "stream",
     "text": [
      "Train set accuracy 0.654\n",
      "Test  set accuracy 0.375\n"
     ]
    }
   ],
   "source": [
    "svc_accuracy_train = svc_clf.score(X_train, y_train)\n",
    "svc_accuracy_test = svc_clf.score(X_test, y_test)\n",
    "\n",
    "# svc_accuracy_train = grid_svc.score(X_train, y_train)\n",
    "# svc_accuracy_test = grid_svc.score(X_test, y_test)\n",
    "\n",
    "print(\"Train set accuracy %0.3f\" % svc_accuracy_train)\n",
    "print(\"Test  set accuracy %0.3f\" % svc_accuracy_test)"
   ]
  },
  {
   "cell_type": "markdown",
   "id": "7bffdf1a",
   "metadata": {},
   "source": [
    "**Predictions**"
   ]
  },
  {
   "cell_type": "code",
   "execution_count": 18,
   "id": "45dddc8a",
   "metadata": {
    "scrolled": false
   },
   "outputs": [
    {
     "name": "stdout",
     "output_type": "stream",
     "text": [
      "Done in 7146.98\n"
     ]
    }
   ],
   "source": [
    "t0 = time.time()\n",
    "\n",
    "y_pred = svc_clf.predict(X_test)\n",
    "#y_pred = grid_svc.predict(X_test)\n",
    "\n",
    "t1 = time.time()\n",
    "print(\"Done in %0.2f\" %(t1-t0))"
   ]
  },
  {
   "cell_type": "code",
   "execution_count": 23,
   "id": "184ca43d",
   "metadata": {},
   "outputs": [],
   "source": [
    "categories = product_class['prdtypecode'].tolist()\n",
    "\n",
    "yy_pred = pd.Categorical(y_pred, categories = categories)\n",
    "yy_test = pd.Categorical(y_test, categories = categories)\n",
    "\n",
    "cm = pd.crosstab(yy_test, yy_pred, rownames=['Reality'], colnames=['Predictions'], dropna = False)"
   ]
  },
  {
   "cell_type": "code",
   "execution_count": null,
   "id": "82301b81",
   "metadata": {
    "scrolled": true
   },
   "outputs": [],
   "source": [
    "print(cm.shape)\n",
    "\n",
    "fig, ax = plt.subplots(figsize = (18,10))\n",
    "sns.heatmap(cm, annot = True, ax=ax, cmap='Greens', fmt ='d', vmin = 0, vmax = 100)\n",
    "\n",
    "ax.xaxis.set_ticks_position('top')\n",
    "ax.xaxis.set_tick_params(length = 0)\n",
    "ax.xaxis.set_label_position('top')"
   ]
  },
  {
   "cell_type": "markdown",
   "id": "7e8e01ab",
   "metadata": {},
   "source": [
    "**Save confusion matrix**"
   ]
  },
  {
   "cell_type": "code",
   "execution_count": null,
   "id": "c5afbdc0",
   "metadata": {},
   "outputs": [],
   "source": [
    "export = False\n",
    "\n",
    "if export:\n",
    "    filename = training_path + model_date_time + '_img_svc' + '_confusionMatrix.csv'\n",
    "    \n",
    "    with open(filename, 'w') as file:\n",
    "        cm.to_csv(filename, header = True, index = True)\n",
    "        print(filename)"
   ]
  },
  {
   "cell_type": "markdown",
   "id": "7ec99b7a",
   "metadata": {},
   "source": [
    "**Classification Report: macro & micro**"
   ]
  },
  {
   "cell_type": "code",
   "execution_count": 26,
   "id": "891ca473",
   "metadata": {},
   "outputs": [],
   "source": [
    "from sklearn.metrics import classification_report \n",
    "\n",
    "cr = classification_report(y_test, y_pred, output_dict = True)\n",
    "cr.update({\"accuracy\": {\"precision\": None, \"recall\": None, \"f1-score\": cr[\"accuracy\"], \"support\": cr['macro avg']['support']}})\n",
    "\n",
    "micro_rf = pd.DataFrame(cr).transpose().reset_index().rename(columns={'index': 'prdtypecode'}).iloc[:-3,:]\n",
    "macro_rf = pd.DataFrame(cr).transpose().reset_index().rename(columns={'index': 'metrics'}).iloc[-3:,:]\n",
    "\n",
    "# display(micro_dt)\n",
    "# display(macro_dt)"
   ]
  },
  {
   "cell_type": "code",
   "execution_count": 27,
   "id": "325c1088",
   "metadata": {},
   "outputs": [
    {
     "name": "stdout",
     "output_type": "stream",
     "text": [
      "              precision    recall  f1-score   support\n",
      "\n",
      "          10       0.36      0.33      0.35       623\n",
      "          40       0.56      0.32      0.41       502\n",
      "          50       0.57      0.17      0.27       336\n",
      "          60       0.90      0.21      0.34       166\n",
      "        1140       0.45      0.24      0.31       534\n",
      "        1160       0.68      0.74      0.70       791\n",
      "        1180       0.75      0.06      0.11       153\n",
      "        1280       0.20      0.16      0.18       974\n",
      "        1281       0.35      0.03      0.06       414\n",
      "        1300       0.36      0.54      0.43      1009\n",
      "        1301       0.85      0.29      0.44       161\n",
      "        1302       0.56      0.13      0.22       498\n",
      "        1320       0.36      0.21      0.26       648\n",
      "        1560       0.38      0.40      0.39      1015\n",
      "        1920       0.80      0.67      0.73       861\n",
      "        1940       0.76      0.17      0.28       161\n",
      "        2060       0.34      0.45      0.38       999\n",
      "        2220       0.92      0.07      0.12       165\n",
      "        2280       0.43      0.65      0.52       952\n",
      "        2403       0.32      0.55      0.40       955\n",
      "        2462       0.60      0.21      0.32       284\n",
      "        2522       0.70      0.49      0.58       998\n",
      "        2582       0.63      0.17      0.27       518\n",
      "        2583       0.45      0.83      0.59      2042\n",
      "        2585       0.70      0.22      0.34       499\n",
      "        2705       0.49      0.57      0.53       552\n",
      "        2905       0.64      0.46      0.54       174\n",
      "\n",
      "    accuracy                           0.45     16984\n",
      "   macro avg       0.56      0.35      0.37     16984\n",
      "weighted avg       0.49      0.45      0.42     16984\n",
      "\n"
     ]
    }
   ],
   "source": [
    "print(classification_report(y_test, y_pred))"
   ]
  },
  {
   "cell_type": "markdown",
   "id": "4c745830",
   "metadata": {},
   "source": [
    "**Top Classified Categories**"
   ]
  },
  {
   "cell_type": "code",
   "execution_count": 28,
   "id": "1a3c7dc6",
   "metadata": {},
   "outputs": [
    {
     "data": {
      "text/html": [
       "<div>\n",
       "<style scoped>\n",
       "    .dataframe tbody tr th:only-of-type {\n",
       "        vertical-align: middle;\n",
       "    }\n",
       "\n",
       "    .dataframe tbody tr th {\n",
       "        vertical-align: top;\n",
       "    }\n",
       "\n",
       "    .dataframe thead th {\n",
       "        text-align: right;\n",
       "    }\n",
       "</style>\n",
       "<table border=\"1\" class=\"dataframe\">\n",
       "  <thead>\n",
       "    <tr style=\"text-align: right;\">\n",
       "      <th></th>\n",
       "      <th>prdtypecode</th>\n",
       "      <th>precision</th>\n",
       "      <th>recall</th>\n",
       "      <th>f1-score</th>\n",
       "      <th>support</th>\n",
       "    </tr>\n",
       "  </thead>\n",
       "  <tbody>\n",
       "    <tr>\n",
       "      <th>14</th>\n",
       "      <td>1920</td>\n",
       "      <td>0.799722</td>\n",
       "      <td>0.667828</td>\n",
       "      <td>0.727848</td>\n",
       "      <td>861.0</td>\n",
       "    </tr>\n",
       "    <tr>\n",
       "      <th>5</th>\n",
       "      <td>1160</td>\n",
       "      <td>0.675550</td>\n",
       "      <td>0.737042</td>\n",
       "      <td>0.704958</td>\n",
       "      <td>791.0</td>\n",
       "    </tr>\n",
       "    <tr>\n",
       "      <th>23</th>\n",
       "      <td>2583</td>\n",
       "      <td>0.451297</td>\n",
       "      <td>0.834966</td>\n",
       "      <td>0.585911</td>\n",
       "      <td>2042.0</td>\n",
       "    </tr>\n",
       "    <tr>\n",
       "      <th>21</th>\n",
       "      <td>2522</td>\n",
       "      <td>0.695346</td>\n",
       "      <td>0.493988</td>\n",
       "      <td>0.577622</td>\n",
       "      <td>998.0</td>\n",
       "    </tr>\n",
       "    <tr>\n",
       "      <th>26</th>\n",
       "      <td>2905</td>\n",
       "      <td>0.640000</td>\n",
       "      <td>0.459770</td>\n",
       "      <td>0.535117</td>\n",
       "      <td>174.0</td>\n",
       "    </tr>\n",
       "  </tbody>\n",
       "</table>\n",
       "</div>"
      ],
      "text/plain": [
       "   prdtypecode  precision    recall  f1-score  support\n",
       "14        1920   0.799722  0.667828  0.727848    861.0\n",
       "5         1160   0.675550  0.737042  0.704958    791.0\n",
       "23        2583   0.451297  0.834966  0.585911   2042.0\n",
       "21        2522   0.695346  0.493988  0.577622    998.0\n",
       "26        2905   0.640000  0.459770  0.535117    174.0"
      ]
     },
     "execution_count": 28,
     "metadata": {},
     "output_type": "execute_result"
    }
   ],
   "source": [
    "micro_rf.sort_values(by = 'f1-score', ascending=False).head(5)"
   ]
  },
  {
   "cell_type": "markdown",
   "id": "2b313947",
   "metadata": {},
   "source": [
    "**Worst Classified Categories**"
   ]
  },
  {
   "cell_type": "code",
   "execution_count": 29,
   "id": "b538e110",
   "metadata": {},
   "outputs": [
    {
     "data": {
      "text/html": [
       "<div>\n",
       "<style scoped>\n",
       "    .dataframe tbody tr th:only-of-type {\n",
       "        vertical-align: middle;\n",
       "    }\n",
       "\n",
       "    .dataframe tbody tr th {\n",
       "        vertical-align: top;\n",
       "    }\n",
       "\n",
       "    .dataframe thead th {\n",
       "        text-align: right;\n",
       "    }\n",
       "</style>\n",
       "<table border=\"1\" class=\"dataframe\">\n",
       "  <thead>\n",
       "    <tr style=\"text-align: right;\">\n",
       "      <th></th>\n",
       "      <th>prdtypecode</th>\n",
       "      <th>precision</th>\n",
       "      <th>recall</th>\n",
       "      <th>f1-score</th>\n",
       "      <th>support</th>\n",
       "    </tr>\n",
       "  </thead>\n",
       "  <tbody>\n",
       "    <tr>\n",
       "      <th>8</th>\n",
       "      <td>1281</td>\n",
       "      <td>0.351351</td>\n",
       "      <td>0.031401</td>\n",
       "      <td>0.057650</td>\n",
       "      <td>414.0</td>\n",
       "    </tr>\n",
       "    <tr>\n",
       "      <th>6</th>\n",
       "      <td>1180</td>\n",
       "      <td>0.750000</td>\n",
       "      <td>0.058824</td>\n",
       "      <td>0.109091</td>\n",
       "      <td>153.0</td>\n",
       "    </tr>\n",
       "    <tr>\n",
       "      <th>17</th>\n",
       "      <td>2220</td>\n",
       "      <td>0.916667</td>\n",
       "      <td>0.066667</td>\n",
       "      <td>0.124294</td>\n",
       "      <td>165.0</td>\n",
       "    </tr>\n",
       "    <tr>\n",
       "      <th>7</th>\n",
       "      <td>1280</td>\n",
       "      <td>0.200000</td>\n",
       "      <td>0.164271</td>\n",
       "      <td>0.180383</td>\n",
       "      <td>974.0</td>\n",
       "    </tr>\n",
       "    <tr>\n",
       "      <th>11</th>\n",
       "      <td>1302</td>\n",
       "      <td>0.558333</td>\n",
       "      <td>0.134538</td>\n",
       "      <td>0.216828</td>\n",
       "      <td>498.0</td>\n",
       "    </tr>\n",
       "  </tbody>\n",
       "</table>\n",
       "</div>"
      ],
      "text/plain": [
       "   prdtypecode  precision    recall  f1-score  support\n",
       "8         1281   0.351351  0.031401  0.057650    414.0\n",
       "6         1180   0.750000  0.058824  0.109091    153.0\n",
       "17        2220   0.916667  0.066667  0.124294    165.0\n",
       "7         1280   0.200000  0.164271  0.180383    974.0\n",
       "11        1302   0.558333  0.134538  0.216828    498.0"
      ]
     },
     "execution_count": 29,
     "metadata": {},
     "output_type": "execute_result"
    }
   ],
   "source": [
    "micro_rf.sort_values(by = 'f1-score', ascending=True).head(5)"
   ]
  },
  {
   "cell_type": "markdown",
   "id": "71322c6e",
   "metadata": {},
   "source": [
    "**Less represented categories scores**"
   ]
  },
  {
   "cell_type": "code",
   "execution_count": 30,
   "id": "3d05f1cf",
   "metadata": {},
   "outputs": [
    {
     "data": {
      "text/html": [
       "<div>\n",
       "<style scoped>\n",
       "    .dataframe tbody tr th:only-of-type {\n",
       "        vertical-align: middle;\n",
       "    }\n",
       "\n",
       "    .dataframe tbody tr th {\n",
       "        vertical-align: top;\n",
       "    }\n",
       "\n",
       "    .dataframe thead th {\n",
       "        text-align: right;\n",
       "    }\n",
       "</style>\n",
       "<table border=\"1\" class=\"dataframe\">\n",
       "  <thead>\n",
       "    <tr style=\"text-align: right;\">\n",
       "      <th></th>\n",
       "      <th>prdtypecode</th>\n",
       "      <th>precision</th>\n",
       "      <th>recall</th>\n",
       "      <th>f1-score</th>\n",
       "      <th>support</th>\n",
       "    </tr>\n",
       "  </thead>\n",
       "  <tbody>\n",
       "    <tr>\n",
       "      <th>6</th>\n",
       "      <td>1180</td>\n",
       "      <td>0.750000</td>\n",
       "      <td>0.058824</td>\n",
       "      <td>0.109091</td>\n",
       "      <td>153.0</td>\n",
       "    </tr>\n",
       "    <tr>\n",
       "      <th>10</th>\n",
       "      <td>1301</td>\n",
       "      <td>0.854545</td>\n",
       "      <td>0.291925</td>\n",
       "      <td>0.435185</td>\n",
       "      <td>161.0</td>\n",
       "    </tr>\n",
       "    <tr>\n",
       "      <th>15</th>\n",
       "      <td>1940</td>\n",
       "      <td>0.756757</td>\n",
       "      <td>0.173913</td>\n",
       "      <td>0.282828</td>\n",
       "      <td>161.0</td>\n",
       "    </tr>\n",
       "    <tr>\n",
       "      <th>17</th>\n",
       "      <td>2220</td>\n",
       "      <td>0.916667</td>\n",
       "      <td>0.066667</td>\n",
       "      <td>0.124294</td>\n",
       "      <td>165.0</td>\n",
       "    </tr>\n",
       "    <tr>\n",
       "      <th>3</th>\n",
       "      <td>60</td>\n",
       "      <td>0.897436</td>\n",
       "      <td>0.210843</td>\n",
       "      <td>0.341463</td>\n",
       "      <td>166.0</td>\n",
       "    </tr>\n",
       "  </tbody>\n",
       "</table>\n",
       "</div>"
      ],
      "text/plain": [
       "   prdtypecode  precision    recall  f1-score  support\n",
       "6         1180   0.750000  0.058824  0.109091    153.0\n",
       "10        1301   0.854545  0.291925  0.435185    161.0\n",
       "15        1940   0.756757  0.173913  0.282828    161.0\n",
       "17        2220   0.916667  0.066667  0.124294    165.0\n",
       "3           60   0.897436  0.210843  0.341463    166.0"
      ]
     },
     "execution_count": 30,
     "metadata": {},
     "output_type": "execute_result"
    }
   ],
   "source": [
    "micro_rf.sort_values(by = 'support', ascending=True).head(5)"
   ]
  },
  {
   "cell_type": "markdown",
   "id": "e51e4dca",
   "metadata": {},
   "source": [
    "**Save Classification Report**"
   ]
  },
  {
   "cell_type": "code",
   "execution_count": 31,
   "id": "c077b965",
   "metadata": {},
   "outputs": [
    {
     "name": "stdout",
     "output_type": "stream",
     "text": [
      "../Trained_models_and_metrics/2308130550_img_rf_classificationReport.txt\n"
     ]
    }
   ],
   "source": [
    "export = False\n",
    "\n",
    "if export:\n",
    "    filename = training_path + model_date_time +'_img_svc' + '_classificationReport.txt'\n",
    "    \n",
    "    with open(filename, 'w') as file:\n",
    "        file.write(classification_report(y_test, y_pred))\n",
    "        print(filename)"
   ]
  },
  {
   "cell_type": "markdown",
   "id": "56b63595",
   "metadata": {},
   "source": [
    "**Save / Load trained model ready to use**"
   ]
  },
  {
   "cell_type": "code",
   "execution_count": 34,
   "id": "1b739b1a",
   "metadata": {},
   "outputs": [
    {
     "name": "stdout",
     "output_type": "stream",
     "text": [
      "Saved trained model: ../Trained_models_and_metrics/2308130550_img_rf_trained.joblib\n"
     ]
    }
   ],
   "source": [
    "save = True\n",
    "reload = False\n",
    "\n",
    "saved_model = training_path + model_date_time +'_img_svc_trained' + '.joblib'\n",
    "\n",
    "from joblib import dump, load\n",
    "\n",
    "if save:\n",
    "    dump(rf_clf, saved_model) #\n",
    "    print(\"Saved trained model:\", saved_model)\n",
    "\n",
    "if reload:\n",
    "    svc_clf=load(saved_model)\n",
    "    print(\"reloaded model: \", saved_model)"
   ]
  },
  {
   "cell_type": "code",
   "execution_count": null,
   "id": "1e1da743",
   "metadata": {},
   "outputs": [],
   "source": []
  },
  {
   "cell_type": "code",
   "execution_count": null,
   "id": "ab99db6e",
   "metadata": {},
   "outputs": [],
   "source": []
  },
  {
   "cell_type": "markdown",
   "id": "95037708",
   "metadata": {},
   "source": [
    "# Convolution Neural Network"
   ]
  },
  {
   "cell_type": "code",
   "execution_count": 6,
   "id": "f81755bc",
   "metadata": {},
   "outputs": [],
   "source": [
    "XX_train = image_train_transformed\n",
    "XX_test = image_test_transformed\n",
    "\n",
    "yy_train = targets['y_train']\n",
    "yy_test = targets['y_test']"
   ]
  },
  {
   "cell_type": "code",
   "execution_count": 7,
   "id": "9f67430f",
   "metadata": {},
   "outputs": [],
   "source": [
    "N_px, N_px, N_ch = XX_train.shape[1:]"
   ]
  },
  {
   "cell_type": "markdown",
   "id": "04306d36",
   "metadata": {},
   "source": [
    "### Define model : CNN layers"
   ]
  },
  {
   "cell_type": "code",
   "execution_count": 8,
   "id": "f9110061",
   "metadata": {},
   "outputs": [],
   "source": [
    "from tensorflow.keras.layers import Input, Dense\n",
    "from tensorflow.keras.models import Model\n",
    "from tensorflow.keras.layers import Dropout \n",
    "from tensorflow.keras.layers import Flatten\n",
    "from tensorflow.keras.layers import Conv2D \n",
    "from tensorflow.keras.layers import MaxPooling2D\n",
    "from keras.utils import to_categorical\n",
    "\n",
    "\n",
    "## data dimensions\n",
    "# Nb_features = X_train.shape[1]\n",
    "Nb_classes = yy_train.shape[1]\n",
    "\n",
    "\n",
    "## instantiate layers\n",
    "\n",
    "inputs = Input(shape = (N_px, N_px, N_ch), name = \"Input\")\n",
    "\n",
    "first_layer = Conv2D(filters = 32,\n",
    "                     kernel_size = (5, 5),\n",
    "                     padding = 'valid',\n",
    "                     activation = 'relu')\n",
    "\n",
    "second_layer = MaxPooling2D(pool_size = (2, 2))\n",
    "\n",
    "third_layer = Dropout(rate = 0.2)\n",
    "\n",
    "fourth_layer = Flatten()\n",
    "\n",
    "fifth_layer = Dense(units = 128,\n",
    "                    activation = 'relu')\n",
    "\n",
    "output_layer = Dense(units = Nb_classes,\n",
    "                     activation='softmax')\n",
    "\n",
    "\n",
    "\n",
    "## link layers & model\n",
    "\n",
    "x=first_layer(inputs)\n",
    "x=second_layer(x)\n",
    "\n",
    "x=third_layer(x)\n",
    "x=fourth_layer(x)\n",
    "x=fifth_layer(x)\n",
    "\n",
    "outputs=output_layer(x)\n",
    "\n",
    "\n",
    "CNN_clf = Model(inputs = inputs, outputs = outputs)"
   ]
  },
  {
   "cell_type": "markdown",
   "id": "dd76810f",
   "metadata": {},
   "source": [
    "**Define training process**"
   ]
  },
  {
   "cell_type": "code",
   "execution_count": 9,
   "id": "7daba444",
   "metadata": {},
   "outputs": [
    {
     "name": "stdout",
     "output_type": "stream",
     "text": [
      "Model: \"model\"\n",
      "_________________________________________________________________\n",
      " Layer (type)                Output Shape              Param #   \n",
      "=================================================================\n",
      " Input (InputLayer)          [(None, 100, 100, 3)]     0         \n",
      "                                                                 \n",
      " conv2d (Conv2D)             (None, 96, 96, 32)        2432      \n",
      "                                                                 \n",
      " max_pooling2d (MaxPooling2D  (None, 48, 48, 32)       0         \n",
      " )                                                               \n",
      "                                                                 \n",
      " dropout (Dropout)           (None, 48, 48, 32)        0         \n",
      "                                                                 \n",
      " flatten (Flatten)           (None, 73728)             0         \n",
      "                                                                 \n",
      " dense (Dense)               (None, 128)               9437312   \n",
      "                                                                 \n",
      " dense_1 (Dense)             (None, 27)                3483      \n",
      "                                                                 \n",
      "=================================================================\n",
      "Total params: 9,443,227\n",
      "Trainable params: 9,443,227\n",
      "Non-trainable params: 0\n",
      "_________________________________________________________________\n"
     ]
    }
   ],
   "source": [
    "CNN_clf.compile(loss='categorical_crossentropy',\n",
    "              optimizer='adam',                \n",
    "              metrics=['accuracy'])\n",
    "\n",
    "## display architecture\n",
    "CNN_clf.summary()"
   ]
  },
  {
   "cell_type": "markdown",
   "id": "d743c16a",
   "metadata": {},
   "source": [
    "**Train Model**"
   ]
  },
  {
   "cell_type": "code",
   "execution_count": null,
   "id": "c251ade5",
   "metadata": {},
   "outputs": [
    {
     "name": "stdout",
     "output_type": "stream",
     "text": [
      "Epoch 1/5\n",
      "272/272 [==============================] - 133s 481ms/step - loss: 2.9890 - accuracy: 0.2285 - val_loss: 2.4736 - val_accuracy: 0.3007\n",
      "Epoch 2/5\n",
      "272/272 [==============================] - 112s 411ms/step - loss: 2.3010 - accuracy: 0.3461 - val_loss: 2.3056 - val_accuracy: 0.3499\n",
      "Epoch 3/5\n",
      "272/272 [==============================] - 109s 400ms/step - loss: 2.0982 - accuracy: 0.4003 - val_loss: 2.2285 - val_accuracy: 0.3751\n",
      "Epoch 4/5\n",
      "272/272 [==============================] - 109s 401ms/step - loss: 1.9129 - accuracy: 0.4450 - val_loss: 2.2053 - val_accuracy: 0.3810\n",
      "Epoch 5/5\n",
      "198/272 [====================>.........] - ETA: 28s - loss: 1.7220 - accuracy: 0.4979"
     ]
    }
   ],
   "source": [
    "t0 = time.time()\n",
    "\n",
    "training_history = CNN_clf.fit(XX_train, yy_train,\n",
    "                             validation_split = 0.2,\n",
    "                             epochs = 5,\n",
    "                             batch_size = 200)\n",
    "\n",
    "t1 = time.time()\n",
    "print(\"For %d observations, training time = %0.2f seconds\" %(X_train.shape[0], (t1-t0) ) )\n",
    "\n",
    "model_date_time = date_time()\n",
    "print(model_date_time)"
   ]
  },
  {
   "cell_type": "code",
   "execution_count": 14,
   "id": "bde13a0c",
   "metadata": {},
   "outputs": [
    {
     "name": "stdout",
     "output_type": "stream",
     "text": [
      "For 67932 observations, training time = 1346.98 seconds\n",
      "2308130756\n"
     ]
    }
   ],
   "source": [
    "print(\"For %d observations, training time = %0.2f seconds\" %(XX_train.shape[0], (t1-t0) ) )\n",
    "\n",
    "model_date_time = date_time()\n",
    "print(model_date_time)"
   ]
  },
  {
   "cell_type": "code",
   "execution_count": 15,
   "id": "02dac60f",
   "metadata": {},
   "outputs": [],
   "source": [
    "x_epochs = 10\n",
    "\n",
    "train_acc = training_history.history['accuracy']\n",
    "val_acc = training_history.history['val_accuracy']"
   ]
  },
  {
   "cell_type": "code",
   "execution_count": null,
   "id": "19a3e161",
   "metadata": {},
   "outputs": [],
   "source": [
    "plt.figure(figsize=(8,6))\n",
    "\n",
    "sns.lineplot(x = x_epochs, y = train_acc, marker = 'o', label = 'Training Accuracy')\n",
    "sns.lineplot(x = x_epochs, y = val_acc, marker = 'o', label = 'Validation Accuracy')\n",
    "\n",
    "plt.xlabel('Epochs')\n",
    "plt.ylabel('Accuracy')\n",
    "plt.title('Accuracy Evolution during training: NN_clf')\n",
    "plt.legend(loc='right')"
   ]
  },
  {
   "cell_type": "markdown",
   "id": "b6bbc298",
   "metadata": {},
   "source": [
    "**train test accuracy**"
   ]
  },
  {
   "cell_type": "code",
   "execution_count": 69,
   "id": "05412439",
   "metadata": {},
   "outputs": [
    {
     "name": "stdout",
     "output_type": "stream",
     "text": [
      "213/213 [==============================] - 4s 20ms/step - loss: 0.8621 - accuracy: 0.8317\n",
      "54/54 [==============================] - 1s 23ms/step - loss: 3.3037 - accuracy: 0.3214\n",
      "Train set accuracy = 0.832 and loss function = 0.86\n",
      "Test  set accuracy = 0.321 and loss function = 3.30\n"
     ]
    }
   ],
   "source": [
    "loss_train, NN_accuracy_train = CNN_clf.evaluate(XX_train, yy_train)\n",
    "loss_test, NN_accuracy_test = CNN_clf.evaluate(XX_test, yy_test)\n",
    "\n",
    "# svc_accuracy_train = grid_svc.score(X_train, y_train)\n",
    "# svc_accuracy_test = grid_svc.score(X_test, y_test)\n",
    "\n",
    "print(\"Train set accuracy = %0.3f and loss function = %0.2f\" %(NN_accuracy_train, loss_train) )\n",
    "print(\"Test  set accuracy = %0.3f and loss function = %0.2f\" %(NN_accuracy_test, loss_test))"
   ]
  },
  {
   "cell_type": "markdown",
   "id": "d2af8e51",
   "metadata": {},
   "source": [
    "**predictions**"
   ]
  },
  {
   "cell_type": "code",
   "execution_count": 70,
   "id": "cac273f8",
   "metadata": {},
   "outputs": [
    {
     "name": "stdout",
     "output_type": "stream",
     "text": [
      "54/54 [==============================] - 2s 23ms/step\n"
     ]
    }
   ],
   "source": [
    "y_pred_vectors = CNN_clf.predict(XX_test)\n",
    "\n",
    "## reverse One-hot-encoding\n",
    "y_pred_class = y_pred_vectors.argmax(axis = 1)\n",
    "yy_test_class = yy_test.argmax(axis = 1)\n",
    "\n",
    "## reverse label encoder\n",
    "y_pred = target_encoder.inverse_transform(y_pred_class)\n",
    "yy_test_prdCode = target_encoder.inverse_transform(yy_test_class)   # should be equal to y_test\n"
   ]
  },
  {
   "cell_type": "code",
   "execution_count": 71,
   "id": "7f8e869d",
   "metadata": {},
   "outputs": [
    {
     "name": "stdout",
     "output_type": "stream",
     "text": [
      "[2522   50 1160 ... 2280 2585 1280]\n",
      "[2522   50 1160 ... 2280 2585 1280]\n"
     ]
    }
   ],
   "source": [
    "print(yy_test_prdCode)\n",
    "print(y_test.values)"
   ]
  },
  {
   "cell_type": "code",
   "execution_count": null,
   "id": "f75621ab",
   "metadata": {},
   "outputs": [],
   "source": []
  },
  {
   "cell_type": "code",
   "execution_count": 72,
   "id": "27f4fa50",
   "metadata": {},
   "outputs": [],
   "source": [
    "cm = pd.crosstab(y_test, y_pred, rownames=['Reality'], colnames=['Predictions'])\n",
    "#print(cm.shape)\n",
    "#display(cm)"
   ]
  },
  {
   "cell_type": "code",
   "execution_count": 73,
   "id": "97ce6fd5",
   "metadata": {},
   "outputs": [
    {
     "name": "stdout",
     "output_type": "stream",
     "text": [
      "(27, 27)\n"
     ]
    },
    {
     "data": {
      "image/png": "[encoded data removed]",
      "text/plain": [
       "<Figure size 1800x1000 with 2 Axes>"
      ]
     },
     "metadata": {},
     "output_type": "display_data"
    }
   ],
   "source": [
    "print(cm.shape)\n",
    "\n",
    "fig, ax = plt.subplots(figsize = (18,10))\n",
    "sns.heatmap(cm, annot = True, ax=ax, cmap='Greens', fmt ='d', vmin = 0, vmax = 50)\n",
    "\n",
    "ax.xaxis.set_ticks_position('top')\n",
    "ax.xaxis.set_tick_params(length = 0)\n",
    "ax.xaxis.set_label_position('top')"
   ]
  },
  {
   "cell_type": "markdown",
   "id": "af5e5157",
   "metadata": {},
   "source": [
    "### Parameter tunning"
   ]
  },
  {
   "cell_type": "markdown",
   "id": "239bb525",
   "metadata": {},
   "source": [
    "**My grid search**"
   ]
  },
  {
   "cell_type": "code",
   "execution_count": null,
   "id": "909b1b03",
   "metadata": {},
   "outputs": [],
   "source": [
    "def my_grid_search(params, X_train, y_train, X_test, y_test, Nepoch = 200, batch_sz = 200):\n",
    "    \n",
    "    '''\n",
    "    params : d1_unit, d1_act\n",
    "    '''\n",
    "    \n",
    "    ## build model\n",
    "    Nb_features = X_train.shape[1]\n",
    "    Nb_classes = y_train.shape[1]\n",
    "    \n",
    "    param_trained = []\n",
    "    train_histories = []\n",
    "    \n",
    "    acc_train = []\n",
    "    acc_test = []\n",
    "\n",
    "    losses_train = []\n",
    "    losses_test = []\n",
    "\n",
    "    \n",
    "    for l1_filter in params['l1_filter']:\n",
    "        for l1_kernel in params['l1_kernel']:\n",
    "            for l1_act in params['l1_act']:\n",
    "                for l3_rate in params['l3_rate']:\n",
    "                    for l5_units in params['l5_units']:\n",
    "                        for l5_act in params['l5_act']:\n",
    "            \n",
    "                            param_trained.append( (l1_filter, l1_kernel, l1_act, l3_rate, l5_units, l5_act) ) \n",
    "                            CNN_clf = initialize_model(img_shape, Nb_classes, \\\n",
    "                                                         l1_filters = l1_filter, l1_kernel = l1_kernel, l1_act=l1_act, \\\n",
    "                                                         l3_rate = l3_rate, \\\n",
    "                                                         l5_units = l5_units, l5_act = l5_act)\n",
    "\n",
    "                            ## train model\n",
    "                            training_history = CNN_clf.fit(X_train.toarray(), y_train,          \n",
    "                                             epochs = Nepoch,               \n",
    "                                             batch_size = batch_sz,          \n",
    "                                             validation_split = 0.2)\n",
    "\n",
    "                            train_histories.append(training_history)\n",
    "\n",
    "                            ## train test accuracy\n",
    "                            loss_train, accuracy_train = NN_clf.evaluate(X_train.toarray(), y_train)\n",
    "                            loss_test, accuracy_test = NN_clf.evaluate(X_test.toarray(), y_test)\n",
    "\n",
    "                            losses_train.append(loss_train)\n",
    "                            losses_test.append(loss_test)\n",
    "\n",
    "                            acc_train.append(accuracy_train)\n",
    "                            acc_test.append(accuracy_test)\n",
    "            \n",
    "    results = {'param_trained' : param_trained,\n",
    "               'train_histories' : train_histories,\n",
    "               'accuracy_train' : acc_train,\n",
    "               'accuracy_test' : acc_test,\n",
    "               'loss_train' : losses_train,\n",
    "               'loss_test' : losses_test}\n",
    "            \n",
    "\n",
    "    return results\n",
    "\n",
    "\n",
    "def initialize_model(img_shape, Nb_classes, \\\n",
    "                     l1_filters = 32, l1_kernel = (5,5), l1_act='relu', \\\n",
    "                     l3_rate = 0.2, \\\n",
    "                     l5_units = 128, l5_act = 'relu'):\n",
    "\n",
    "    ## instantiate layers\n",
    "\n",
    "    inputs = Input(shape = img_shape, name = \"Input\")\n",
    "\n",
    "    first_layer = Conv2D(filters = l1_filters,\n",
    "                         kernel_size = l1_kernel,\n",
    "                         padding = 'valid',\n",
    "                         activation = l1_act)\n",
    "    \n",
    "    second_layer = MaxPooling2D(pool_size = (2, 2))\n",
    "    third_layer = Dropout(rate = l3_rate)\n",
    "    fourth_layer = Flatten()\n",
    "    \n",
    "    fifth_layer = Dense(units = l5_units,\n",
    "                        activation = l5_act)\n",
    "    \n",
    "    output_layer = Dense(units = Nb_classes,\n",
    "                         activation='softmax')\n",
    "\n",
    "\n",
    "\n",
    "    ## link layers & model\n",
    "\n",
    "    x=first_layer(inputs)\n",
    "    x=second_layer(x)\n",
    "    x=third_layer(x)\n",
    "    x=fourth_layer(x)\n",
    "    x=fifth_layer(x)\n",
    "    outputs=output_layer(x)\n",
    "\n",
    "    CNN_clf = Model(inputs = inputs, outputs = outputs)\n",
    "\n",
    "    \n",
    "    ## compile\n",
    "    CNN_clf.compile(loss='categorical_crossentropy',\n",
    "              optimizer='adam',                \n",
    "              metrics=['accuracy'])\n",
    "    \n",
    "    return CNN_clf\n"
   ]
  },
  {
   "cell_type": "code",
   "execution_count": null,
   "id": "1da10ef5",
   "metadata": {},
   "outputs": [],
   "source": [
    "t0 = time.time()\n",
    "\n",
    "parameters = {'d1_units' : [16,32,45,64,75,100,128],\n",
    "              'd1_act' : ['relu']}\n",
    "\n",
    "#X_train =X_train, y_train = yy_train, X_test = X_test, y_test=yy_test\n",
    "#X_train, yy_train, X_test, yy_test\n",
    "grid_results = my_grid_search(params = parameters, \n",
    "                              X_train = X_train, y_train = yy_train, \n",
    "                              X_test = X_test, y_test = yy_test,\n",
    "                              Nepoch = 200, batch_sz = 200)\n",
    "\n",
    "t1 = time.time()\n",
    "print(\"For %d observations, training time = %0.2f seconds\" %(X_train.shape[0], (t1-t0) ) )"
   ]
  },
  {
   "cell_type": "markdown",
   "id": "e332a7fa",
   "metadata": {},
   "source": [
    "**train test accuracy**"
   ]
  },
  {
   "cell_type": "code",
   "execution_count": null,
   "id": "b99ac823",
   "metadata": {},
   "outputs": [],
   "source": [
    "d1_units = [ item[0] for item in grid_results['param_trained']]\n",
    "d1_act = [ item[1] for item in grid_results['param_trained']]\n",
    "accuracy_train = grid_results['accuracy_train']\n",
    "accuracy_test = grid_results['accuracy_test']"
   ]
  },
  {
   "cell_type": "code",
   "execution_count": null,
   "id": "93af5fb8",
   "metadata": {},
   "outputs": [],
   "source": [
    "sns.lineplot(x = d1_units, y = accuracy_test, marker = 'o')"
   ]
  },
  {
   "cell_type": "markdown",
   "id": "c46375c0",
   "metadata": {},
   "source": [
    "**Learning curve**"
   ]
  },
  {
   "cell_type": "code",
   "execution_count": null,
   "id": "02d97348",
   "metadata": {},
   "outputs": [],
   "source": [
    "grid_results['train_histories']"
   ]
  },
  {
   "cell_type": "code",
   "execution_count": null,
   "id": "21ae9986",
   "metadata": {},
   "outputs": [],
   "source": [
    "Nepoch = 200\n",
    "x_epochs = np.arange(1,Nepoch,1)\n",
    "training_history = grid_results['train_histories']"
   ]
  },
  {
   "cell_type": "code",
   "execution_count": null,
   "id": "6a37892e",
   "metadata": {},
   "outputs": [],
   "source": [
    "plt.figure(figsize=(10,8))\n",
    "\n",
    "for i in range(len(training_history)):\n",
    "    \n",
    "    train_acc_hist = training_history[i].history['accuracy']\n",
    "    val_acc_hist = training_history[i].history['val_accuracy']\n",
    "    hist_params = str(grid_results['param_trained'][i])\n",
    "    \n",
    "    color =  sns.color_palette()[i]\n",
    "    sns.lineplot(x = x_epochs, y = train_acc_hist, color = color, ls = ':', label = 'Training Accuracy - ' + hist_params)\n",
    "    sns.lineplot(x = x_epochs, y = val_acc_hist, color = color, marker = 'o', label = 'Validation Accuracy - ' + hist_params)\n",
    "\n",
    "plt.xlabel('Epochs')\n",
    "plt.ylabel('Accuracy')\n",
    "plt.title('Accuracy Evolution during training: NN_clf')\n",
    "plt.legend()#"
   ]
  },
  {
   "cell_type": "code",
   "execution_count": null,
   "id": "01d72d74",
   "metadata": {},
   "outputs": [],
   "source": []
  },
  {
   "cell_type": "code",
   "execution_count": null,
   "id": "9b918491",
   "metadata": {},
   "outputs": [],
   "source": []
  },
  {
   "cell_type": "code",
   "execution_count": null,
   "id": "cd57d60c",
   "metadata": {},
   "outputs": [],
   "source": []
  },
  {
   "cell_type": "code",
   "execution_count": null,
   "id": "5273592e",
   "metadata": {},
   "outputs": [],
   "source": []
  },
  {
   "cell_type": "code",
   "execution_count": null,
   "id": "4156d900",
   "metadata": {},
   "outputs": [],
   "source": []
  },
  {
   "cell_type": "code",
   "execution_count": null,
   "id": "99f60e31",
   "metadata": {},
   "outputs": [],
   "source": []
  },
  {
   "cell_type": "code",
   "execution_count": null,
   "id": "e71a6877",
   "metadata": {},
   "outputs": [],
   "source": []
  },
  {
   "cell_type": "code",
   "execution_count": null,
   "id": "3a5f9682",
   "metadata": {},
   "outputs": [],
   "source": []
  },
  {
   "cell_type": "code",
   "execution_count": null,
   "id": "439a8b59",
   "metadata": {},
   "outputs": [],
   "source": []
  },
  {
   "cell_type": "code",
   "execution_count": null,
   "id": "080fdddd",
   "metadata": {},
   "outputs": [],
   "source": []
  },
  {
   "cell_type": "code",
   "execution_count": null,
   "id": "f4bf5a46",
   "metadata": {},
   "outputs": [],
   "source": []
  },
  {
   "cell_type": "code",
   "execution_count": null,
   "id": "148fad1b",
   "metadata": {},
   "outputs": [],
   "source": []
  },
  {
   "cell_type": "code",
   "execution_count": null,
   "id": "9bc9d1b6",
   "metadata": {},
   "outputs": [],
   "source": []
  },
  {
   "cell_type": "code",
   "execution_count": null,
   "id": "c5b5e1e9",
   "metadata": {},
   "outputs": [],
   "source": []
  },
  {
   "cell_type": "code",
   "execution_count": null,
   "id": "483cb7e4",
   "metadata": {},
   "outputs": [],
   "source": []
  },
  {
   "cell_type": "code",
   "execution_count": null,
   "id": "33f213cb",
   "metadata": {},
   "outputs": [],
   "source": []
  },
  {
   "cell_type": "code",
   "execution_count": null,
   "id": "ac00a601",
   "metadata": {},
   "outputs": [],
   "source": []
  },
  {
   "cell_type": "code",
   "execution_count": null,
   "id": "b160a845",
   "metadata": {},
   "outputs": [],
   "source": []
  },
  {
   "cell_type": "code",
   "execution_count": null,
   "id": "0a16604f",
   "metadata": {},
   "outputs": [],
   "source": []
  },
  {
   "cell_type": "code",
   "execution_count": null,
   "id": "fdd571c8",
   "metadata": {},
   "outputs": [],
   "source": []
  },
  {
   "cell_type": "code",
   "execution_count": null,
   "id": "f30198a5",
   "metadata": {},
   "outputs": [],
   "source": []
  },
  {
   "cell_type": "code",
   "execution_count": null,
   "id": "728b5e31",
   "metadata": {},
   "outputs": [],
   "source": []
  },
  {
   "cell_type": "code",
   "execution_count": null,
   "id": "8adda8f9",
   "metadata": {},
   "outputs": [],
   "source": []
  },
  {
   "cell_type": "code",
   "execution_count": null,
   "id": "6f1f9f42",
   "metadata": {},
   "outputs": [],
   "source": []
  },
  {
   "cell_type": "code",
   "execution_count": null,
   "id": "145284ce",
   "metadata": {},
   "outputs": [],
   "source": []
  }
 ],
 "metadata": {
  "kernelspec": {
   "display_name": "Python 3 (ipykernel)",
   "language": "python",
   "name": "python3"
  },
  "language_info": {
   "codemirror_mode": {
    "name": "ipython",
    "version": 3
   },
   "file_extension": ".py",
   "mimetype": "text/x-python",
   "name": "python",
   "nbconvert_exporter": "python",
   "pygments_lexer": "ipython3",
   "version": "3.10.9"
  }
 },
 "nbformat": 4,
 "nbformat_minor": 5
}
