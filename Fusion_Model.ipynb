{
 "cells": [
  {
   "cell_type": "markdown",
   "id": "53e257de",
   "metadata": {},
   "source": [
    "# Main workflow:\n",
    "* Modular implementation.  \n",
    "* High level programming (layer architecture).  \n",
    "* Import low level functions from a python script.  "
   ]
  },
  {
   "cell_type": "code",
   "execution_count": 1,
   "id": "e7d74f58",
   "metadata": {
    "collapsed": true
   },
   "outputs": [
    {
     "ename": "NameError",
     "evalue": "name 'initialize_text_model' is not defined",
     "output_type": "error",
     "traceback": [
      "\u001b[1;31m------------------------------------------------------------------\u001b[0m",
      "\u001b[1;31mNameError\u001b[0m                        Traceback (most recent call last)",
      "Cell \u001b[1;32mIn[1], line 5\u001b[0m\n\u001b[0;32m      1\u001b[0m \u001b[38;5;66;03m##################################----This is pseudo code----##################################\u001b[39;00m\n\u001b[0;32m      2\u001b[0m \n\u001b[0;32m      3\u001b[0m \u001b[38;5;66;03m### Initial steps\u001b[39;00m\n\u001b[1;32m----> 5\u001b[0m text \u001b[38;5;241m=\u001b[39m \u001b[43minitialize_text_model\u001b[49m()\n\u001b[0;32m      6\u001b[0m text_data \u001b[38;5;241m=\u001b[39m get_text_data()\n\u001b[0;32m      8\u001b[0m text\u001b[38;5;241m.\u001b[39mfit(text_data[\u001b[38;5;124m\"\u001b[39m\u001b[38;5;124mtrain\u001b[39m\u001b[38;5;124m\"\u001b[39m])\n",
      "\u001b[1;31mNameError\u001b[0m: name 'initialize_text_model' is not defined"
     ]
    }
   ],
   "source": [
    "##################################----This is pseudo code----##################################\n",
    "\n",
    "### define train test datasets\n",
    "raw_data = pd.read_csv(\"...\")\n",
    "raw_text_train, raw_text_test = split_raw_data(raw_data)\n",
    "\n",
    "### Initial steps\n",
    "\n",
    "text = initialize_text_model()    ## return a NN\n",
    "text_data = get_text_data(raw_text_train)     ## return ready to train text data (from raw text to X_train, X_test text data)\n",
    "\n",
    "text.fit(text_data[\"train\"])    ## \n",
    "text.save(\"...\")\n",
    "\n",
    "\n",
    "image = initialize_image_model()\n",
    "image_data = get_image_data()\n",
    "\n",
    "image.fit(image_data[\"train\"])\n",
    "image.save(\"...\")\n",
    "\n",
    "\n",
    "\n",
    "### Train fusion model\n",
    "\n",
    "text_data = get_text_data()\n",
    "image_data = get_image_data()\n",
    "\n",
    "image_model = initialize_image_model()\n",
    "text_model = initialize_text_model()\n",
    "\n",
    "headless_image_model = remove_classification_head(image_model)\n",
    "headless_text_model = remove_classification_head(text_model)\n",
    "headless_text_model.save(\"...\")\n",
    "headless_image_model.save(\"...\")\n",
    "\n",
    "headless_X_train_image = headless_image_model.predict(image_data[\"train\"])\n",
    "headless_X_train_text = headless_text_model.predict(text_data[\"train\"])\n",
    "\n",
    "X_train = concatenate(headless_X_train_text, headless_X_train_image)\n",
    "\n",
    "fusion_model = build_fusion_model()\n",
    "fusion_model.fit(X_train)\n",
    "fusion_model.save(\"...\")\n",
    "# same with the test data\n",
    "\n",
    "\n",
    "### Prediction\n",
    "\n",
    "new_text_sample, new_image_sample = get_new_samples()\n",
    "\n",
    "hl_image_model = load_model(\"...\")\n",
    "hl_text_model = load_model(\"...\")\n",
    "\n",
    "sample = concatenate(hl_text_model.predict(new_text_sample), hl_image_model.predict(new_image_sample))\n",
    "fusion_model = load_model(\"...\")\n",
    "fusion_model.predict(sample)\n"
   ]
  },
  {
   "cell_type": "markdown",
   "id": "9e1392d4",
   "metadata": {},
   "source": [
    "# Import libraries"
   ]
  },
  {
   "cell_type": "code",
   "execution_count": 3,
   "id": "76b35d97",
   "metadata": {},
   "outputs": [],
   "source": [
    "import pandas as pd\n",
    "\n",
    "from FusionModel_tools import *\n",
    "\n",
    "from sklearn.model_selection import train_test_split"
   ]
  },
  {
   "cell_type": "code",
   "execution_count": 8,
   "id": "5b36d2f8",
   "metadata": {},
   "outputs": [],
   "source": [
    "## define general parameters\n",
    "\n",
    "myseed = 123"
   ]
  },
  {
   "cell_type": "markdown",
   "id": "b9f19ff0",
   "metadata": {},
   "source": [
    "# Initialize raw dataset\n",
    "* Split entire dataset once here to avoid any issues (information leak, etc)"
   ]
  },
  {
   "cell_type": "code",
   "execution_count": 10,
   "id": "ff8b939d",
   "metadata": {},
   "outputs": [
    {
     "name": "stdout",
     "output_type": "stream",
     "text": [
      "Datasets were not saved locally. Set doit = True to save datasets\n"
     ]
    }
   ],
   "source": [
    "## import raw datasets: features and target\n",
    "df_X = pd.read_csv('./datasets/X_train_update.csv', index_col = 0)\n",
    "df_y = pd.read_csv('./datasets/Y_train_CVw08PX.csv', index_col = 0)\n",
    "\n",
    "\n",
    "## train-test split raw data\n",
    "df_X_train, df_X_test, df_y_train, df_y_test = train_test_split(df_X, df_y, test_size = 0.2, \\\n",
    "                                                                random_state = myseed, stratify = df_y)\n",
    "\n",
    "## merge features and targets\n",
    "df_train = pd.concat([df_y_train,df_X_train], axis = 1)\n",
    "df_test = pd.concat([df_y_test,df_X_test], axis = 1)\n",
    "\n",
    "\n",
    "## save splitted dataframes\n",
    "save(df_train, df_test, doit = False)"
   ]
  },
  {
   "attachments": {},
   "cell_type": "markdown",
   "id": "c0a0b97e",
   "metadata": {},
   "source": [
    "<div class=\"alert alert-info\">\n",
    "<i class=\"fa fa-info-circle\"></i> &emsp; \n",
    "    From now on, the <b>test dataset</b> will only be used to asses the models performance\n",
    "</div>"
   ]
  },
  {
   "cell_type": "code",
   "execution_count": 12,
   "id": "8c436400",
   "metadata": {},
   "outputs": [
    {
     "name": "stdout",
     "output_type": "stream",
     "text": [
      "(67932, 5)\n"
     ]
    },
    {
     "data": {
      "text/html": [
       "<div>\n",
       "<style scoped>\n",
       "    .dataframe tbody tr th:only-of-type {\n",
       "        vertical-align: middle;\n",
       "    }\n",
       "\n",
       "    .dataframe tbody tr th {\n",
       "        vertical-align: top;\n",
       "    }\n",
       "\n",
       "    .dataframe thead th {\n",
       "        text-align: right;\n",
       "    }\n",
       "</style>\n",
       "<table border=\"1\" class=\"dataframe\">\n",
       "  <thead>\n",
       "    <tr style=\"text-align: right;\">\n",
       "      <th></th>\n",
       "      <th>prdtypecode</th>\n",
       "      <th>designation</th>\n",
       "      <th>description</th>\n",
       "      <th>productid</th>\n",
       "      <th>imageid</th>\n",
       "    </tr>\n",
       "  </thead>\n",
       "  <tbody>\n",
       "    <tr>\n",
       "      <th>45347</th>\n",
       "      <td>1920</td>\n",
       "      <td>Linen Lovers Series Confession Saint Valentin ...</td>\n",
       "      <td>Linge de maison Lovers Confession Série Saint ...</td>\n",
       "      <td>4004066770</td>\n",
       "      <td>1275045193</td>\n",
       "    </tr>\n",
       "    <tr>\n",
       "      <th>20881</th>\n",
       "      <td>2220</td>\n",
       "      <td>Collier 14/35 Black Tan</td>\n",
       "      <td>NaN</td>\n",
       "      <td>1183437294</td>\n",
       "      <td>1082390908</td>\n",
       "    </tr>\n",
       "    <tr>\n",
       "      <th>51967</th>\n",
       "      <td>2705</td>\n",
       "      <td>Les Vacances Du Lundi</td>\n",
       "      <td>NaN</td>\n",
       "      <td>1462151044</td>\n",
       "      <td>1268554280</td>\n",
       "    </tr>\n",
       "    <tr>\n",
       "      <th>79012</th>\n",
       "      <td>2583</td>\n",
       "      <td>Bâche hiver pour piscine 4 x 250m</td>\n",
       "      <td>&lt;p&gt;Bâche hiver pour piscine bois rectangle 4 p...</td>\n",
       "      <td>3690228573</td>\n",
       "      <td>1234768137</td>\n",
       "    </tr>\n",
       "    <tr>\n",
       "      <th>58343</th>\n",
       "      <td>1280</td>\n",
       "      <td>Steiff Fynn Teddy Bear Plush Animal Toy Beige</td>\n",
       "      <td>ulliPremium Quality Plush to Enjoy Everyday - ...</td>\n",
       "      <td>3470153950</td>\n",
       "      <td>1215429975</td>\n",
       "    </tr>\n",
       "  </tbody>\n",
       "</table>\n",
       "</div>"
      ],
      "text/plain": [
       "       prdtypecode                                        designation  \\\n",
       "45347         1920  Linen Lovers Series Confession Saint Valentin ...   \n",
       "20881         2220                            Collier 14/35 Black Tan   \n",
       "51967         2705                              Les Vacances Du Lundi   \n",
       "79012         2583                  Bâche hiver pour piscine 4 x 250m   \n",
       "58343         1280      Steiff Fynn Teddy Bear Plush Animal Toy Beige   \n",
       "\n",
       "                                             description   productid  \\\n",
       "45347  Linge de maison Lovers Confession Série Saint ...  4004066770   \n",
       "20881                                                NaN  1183437294   \n",
       "51967                                                NaN  1462151044   \n",
       "79012  <p>Bâche hiver pour piscine bois rectangle 4 p...  3690228573   \n",
       "58343  ulliPremium Quality Plush to Enjoy Everyday - ...  3470153950   \n",
       "\n",
       "          imageid  \n",
       "45347  1275045193  \n",
       "20881  1082390908  \n",
       "51967  1268554280  \n",
       "79012  1234768137  \n",
       "58343  1215429975  "
      ]
     },
     "metadata": {},
     "output_type": "display_data"
    },
    {
     "name": "stdout",
     "output_type": "stream",
     "text": [
      "(16984, 5)\n"
     ]
    },
    {
     "data": {
      "text/html": [
       "<div>\n",
       "<style scoped>\n",
       "    .dataframe tbody tr th:only-of-type {\n",
       "        vertical-align: middle;\n",
       "    }\n",
       "\n",
       "    .dataframe tbody tr th {\n",
       "        vertical-align: top;\n",
       "    }\n",
       "\n",
       "    .dataframe thead th {\n",
       "        text-align: right;\n",
       "    }\n",
       "</style>\n",
       "<table border=\"1\" class=\"dataframe\">\n",
       "  <thead>\n",
       "    <tr style=\"text-align: right;\">\n",
       "      <th></th>\n",
       "      <th>prdtypecode</th>\n",
       "      <th>designation</th>\n",
       "      <th>description</th>\n",
       "      <th>productid</th>\n",
       "      <th>imageid</th>\n",
       "    </tr>\n",
       "  </thead>\n",
       "  <tbody>\n",
       "    <tr>\n",
       "      <th>35666</th>\n",
       "      <td>2583</td>\n",
       "      <td>Spa 5 places Calios - Spalnéa - Acrylique Blan...</td>\n",
       "      <td>Dimensions : 215 x 185 x 93 cm //// Nombre et ...</td>\n",
       "      <td>1926714940</td>\n",
       "      <td>1113061652</td>\n",
       "    </tr>\n",
       "    <tr>\n",
       "      <th>19651</th>\n",
       "      <td>1320</td>\n",
       "      <td>New Flame Coupe Humidifier Night Light Mute Bu...</td>\n",
       "      <td>New Flame Coupe Humidifier Night Light Mute Bu...</td>\n",
       "      <td>4220470182</td>\n",
       "      <td>1319055786</td>\n",
       "    </tr>\n",
       "    <tr>\n",
       "      <th>50216</th>\n",
       "      <td>2060</td>\n",
       "      <td>Voice Control Calendar Thermometer Wooden Led ...</td>\n",
       "      <td>Voice ControlCalendar Thermometer Wooden LED D...</td>\n",
       "      <td>4079113221</td>\n",
       "      <td>1287738265</td>\n",
       "    </tr>\n",
       "    <tr>\n",
       "      <th>32733</th>\n",
       "      <td>2583</td>\n",
       "      <td>Enrouleur Télescopique A. PRO \"NEW LINE\" Modèl...</td>\n",
       "      <td>Utilisation de l'Enrouleur Télescopique A. PRO...</td>\n",
       "      <td>228489648</td>\n",
       "      <td>958568141</td>\n",
       "    </tr>\n",
       "    <tr>\n",
       "      <th>67840</th>\n",
       "      <td>1560</td>\n",
       "      <td>Chaise De Bureau Inclinable Cuir Artificiel Rouge</td>\n",
       "      <td>&lt;p&gt;Cette luxueuse chaise de bureau inclinable ...</td>\n",
       "      <td>3929324475</td>\n",
       "      <td>1265058699</td>\n",
       "    </tr>\n",
       "  </tbody>\n",
       "</table>\n",
       "</div>"
      ],
      "text/plain": [
       "       prdtypecode                                        designation  \\\n",
       "35666         2583  Spa 5 places Calios - Spalnéa - Acrylique Blan...   \n",
       "19651         1320  New Flame Coupe Humidifier Night Light Mute Bu...   \n",
       "50216         2060  Voice Control Calendar Thermometer Wooden Led ...   \n",
       "32733         2583  Enrouleur Télescopique A. PRO \"NEW LINE\" Modèl...   \n",
       "67840         1560  Chaise De Bureau Inclinable Cuir Artificiel Rouge   \n",
       "\n",
       "                                             description   productid  \\\n",
       "35666  Dimensions : 215 x 185 x 93 cm //// Nombre et ...  1926714940   \n",
       "19651  New Flame Coupe Humidifier Night Light Mute Bu...  4220470182   \n",
       "50216  Voice ControlCalendar Thermometer Wooden LED D...  4079113221   \n",
       "32733  Utilisation de l'Enrouleur Télescopique A. PRO...   228489648   \n",
       "67840  <p>Cette luxueuse chaise de bureau inclinable ...  3929324475   \n",
       "\n",
       "          imageid  \n",
       "35666  1113061652  \n",
       "19651  1319055786  \n",
       "50216  1287738265  \n",
       "32733   958568141  \n",
       "67840  1265058699  "
      ]
     },
     "metadata": {},
     "output_type": "display_data"
    }
   ],
   "source": [
    "## Visualize splitted datasets\n",
    "\n",
    "print(df_train.shape)\n",
    "display(df_train.head())\n",
    "\n",
    "print(df_test.shape)\n",
    "display(df_test.head())"
   ]
  },
  {
   "cell_type": "markdown",
   "id": "1958492c",
   "metadata": {},
   "source": [
    "# Initialize Text model\n"
   ]
  },
  {
   "cell_type": "code",
   "execution_count": null,
   "id": "bee47ca4",
   "metadata": {},
   "outputs": [],
   "source": [
    "text = initialize_text_model()\n",
    "\n",
    "text_data = get_text_data(raw_text_train)"
   ]
  },
  {
   "cell_type": "code",
   "execution_count": null,
   "id": "9f2d7432",
   "metadata": {},
   "outputs": [],
   "source": []
  },
  {
   "cell_type": "code",
   "execution_count": null,
   "id": "e41ffa25",
   "metadata": {},
   "outputs": [],
   "source": []
  },
  {
   "cell_type": "code",
   "execution_count": null,
   "id": "c8952295",
   "metadata": {},
   "outputs": [],
   "source": []
  },
  {
   "cell_type": "code",
   "execution_count": null,
   "id": "9fcf8147",
   "metadata": {},
   "outputs": [],
   "source": []
  },
  {
   "cell_type": "code",
   "execution_count": null,
   "id": "337ded38",
   "metadata": {},
   "outputs": [],
   "source": []
  },
  {
   "cell_type": "code",
   "execution_count": null,
   "id": "b3a9937f",
   "metadata": {},
   "outputs": [],
   "source": []
  },
  {
   "cell_type": "code",
   "execution_count": null,
   "id": "d685bde6",
   "metadata": {},
   "outputs": [],
   "source": []
  },
  {
   "cell_type": "code",
   "execution_count": null,
   "id": "0e038dea",
   "metadata": {},
   "outputs": [],
   "source": []
  },
  {
   "cell_type": "code",
   "execution_count": null,
   "id": "c61f59d4",
   "metadata": {},
   "outputs": [],
   "source": []
  },
  {
   "cell_type": "code",
   "execution_count": null,
   "id": "17ce7f45",
   "metadata": {},
   "outputs": [],
   "source": []
  },
  {
   "cell_type": "code",
   "execution_count": null,
   "id": "e0f23ca5",
   "metadata": {},
   "outputs": [],
   "source": []
  },
  {
   "cell_type": "code",
   "execution_count": null,
   "id": "c42a51b5",
   "metadata": {},
   "outputs": [],
   "source": []
  },
  {
   "cell_type": "code",
   "execution_count": null,
   "id": "5481ebab",
   "metadata": {},
   "outputs": [],
   "source": []
  },
  {
   "cell_type": "code",
   "execution_count": null,
   "id": "883d2f0c",
   "metadata": {},
   "outputs": [],
   "source": []
  },
  {
   "cell_type": "code",
   "execution_count": null,
   "id": "9534a592",
   "metadata": {},
   "outputs": [],
   "source": []
  },
  {
   "cell_type": "code",
   "execution_count": null,
   "id": "f0f7df51",
   "metadata": {},
   "outputs": [],
   "source": []
  }
 ],
 "metadata": {
  "kernelspec": {
   "display_name": "Python 3 (ipykernel)",
   "language": "python",
   "name": "python3"
  },
  "language_info": {
   "codemirror_mode": {
    "name": "ipython",
    "version": 3
   },
   "file_extension": ".py",
   "mimetype": "text/x-python",
   "name": "python",
   "nbconvert_exporter": "python",
   "pygments_lexer": "ipython3",
   "version": "3.10.9"
  }
 },
 "nbformat": 4,
 "nbformat_minor": 5
}
