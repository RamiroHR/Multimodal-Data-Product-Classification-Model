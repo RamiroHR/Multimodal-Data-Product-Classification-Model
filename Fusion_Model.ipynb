{
 "cells": [
  {
   "cell_type": "markdown",
   "id": "53e257de",
   "metadata": {},
   "source": [
    "# Main workflow:\n",
    "* Modular implementation.  \n",
    "* High level programming (layer architecture).  \n",
    "* Import low level functions from a python script.  "
   ]
  },
  {
   "cell_type": "raw",
   "id": "274c2c58",
   "metadata": {
    "collapsed": true
   },
   "source": [
    "##################################----This is pseudo code----##################################\n",
    "\n",
    "### define train test datasets\n",
    "raw_data = pd.read_csv(\"...\")\n",
    "raw_text_train, raw_text_test = split_raw_data(raw_data)\n",
    "\n",
    "### Initial steps: train model on text and model on image data separately.\n",
    "\n",
    "text = initialize_text_model()    ## return a NN\n",
    "text_data = get_text_data(raw_text_train)     ## return ready to train text data (from raw text to X_train, X_test text data)\n",
    "\n",
    "text.fit(text_data[\"train\"])    ## \n",
    "text.save(\"...\")\n",
    "\n",
    "\n",
    "image = initialize_image_model()\n",
    "image_data = get_image_data()\n",
    "\n",
    "image.fit(image_data[\"train\"])\n",
    "image.save(\"...\")\n",
    "\n",
    "\n",
    "\n",
    "### Train fusion model\n",
    "\n",
    "text_data = get_text_data()\n",
    "image_data = get_image_data()\n",
    "\n",
    "image_model = initialize_image_model()\n",
    "text_model = initialize_text_model()\n",
    "\n",
    "headless_image_model = remove_classification_head(image_model)\n",
    "headless_text_model = remove_classification_head(text_model)\n",
    "headless_text_model.save(\"...\")\n",
    "headless_image_model.save(\"...\")\n",
    "\n",
    "headless_X_train_image = headless_image_model.predict(image_data[\"train\"])\n",
    "headless_X_train_text = headless_text_model.predict(text_data[\"train\"])\n",
    "\n",
    "X_train = concatenate(headless_X_train_text, headless_X_train_image)\n",
    "\n",
    "fusion_model = build_fusion_model()\n",
    "fusion_model.fit(X_train)\n",
    "fusion_model.save(\"...\")\n",
    "# same with the test data\n",
    "\n",
    "\n",
    "### Prediction\n",
    "\n",
    "new_text_sample, new_image_sample = get_new_samples()\n",
    "\n",
    "hl_image_model = load_model(\"...\")\n",
    "hl_text_model = load_model(\"...\")\n",
    "\n",
    "sample = concatenate(hl_text_model.predict(new_text_sample), hl_image_model.predict(new_image_sample))\n",
    "fusion_model = load_model(\"...\")\n",
    "fusion_model.predict(sample)\n"
   ]
  },
  {
   "cell_type": "markdown",
   "id": "9e1392d4",
   "metadata": {},
   "source": [
    "# Import libraries"
   ]
  },
  {
   "cell_type": "code",
   "execution_count": 505,
   "id": "76b35d97",
   "metadata": {
    "scrolled": true
   },
   "outputs": [
    {
     "name": "stdout",
     "output_type": "stream",
     "text": [
      "The autoreload extension is already loaded. To reload it, use:\n",
      "  %reload_ext autoreload\n"
     ]
    }
   ],
   "source": [
    "import pandas as pd\n",
    "import numpy as np\n",
    "\n",
    "%load_ext autoreload\n",
    "%autoreload 2\n",
    "import FusionModel_tools as fm\n",
    "import importlib\n",
    "importlib.reload(fm)\n",
    "\n",
    "import nltk\n",
    "nltk.download('popular', quiet = True)\n",
    "\n",
    "import os\n",
    "import time"
   ]
  },
  {
   "cell_type": "code",
   "execution_count": 2,
   "id": "5b36d2f8",
   "metadata": {},
   "outputs": [],
   "source": [
    "## define general parameters\n",
    "\n",
    "myseed = 123\n",
    "\n",
    "splitting_path = '../Splitted_datasets/'\n",
    "preprocessing_path = '../Preprocessed_data/'\n",
    "training_path = '../Trained_models_and_metrics/'\n",
    "images_path = '../datasets/image_train/'\n",
    "\n",
    "fusion_path = '../Fusion_models_and_data/'"
   ]
  },
  {
   "cell_type": "markdown",
   "id": "e5d233d1",
   "metadata": {},
   "source": [
    "### product categories"
   ]
  },
  {
   "cell_type": "code",
   "execution_count": 112,
   "id": "d87f5d65",
   "metadata": {},
   "outputs": [
    {
     "name": "stdout",
     "output_type": "stream",
     "text": [
      "(27, 3)\n"
     ]
    },
    {
     "data": {
      "text/html": [
       "<div>\n",
       "<style scoped>\n",
       "    .dataframe tbody tr th:only-of-type {\n",
       "        vertical-align: middle;\n",
       "    }\n",
       "\n",
       "    .dataframe tbody tr th {\n",
       "        vertical-align: top;\n",
       "    }\n",
       "\n",
       "    .dataframe thead th {\n",
       "        text-align: right;\n",
       "    }\n",
       "</style>\n",
       "<table border=\"1\" class=\"dataframe\">\n",
       "  <thead>\n",
       "    <tr style=\"text-align: right;\">\n",
       "      <th></th>\n",
       "      <th>target</th>\n",
       "      <th>prdtypecode</th>\n",
       "      <th>prodtype</th>\n",
       "    </tr>\n",
       "  </thead>\n",
       "  <tbody>\n",
       "    <tr>\n",
       "      <th>0</th>\n",
       "      <td>0</td>\n",
       "      <td>10</td>\n",
       "      <td>livres_adulte</td>\n",
       "    </tr>\n",
       "    <tr>\n",
       "      <th>1</th>\n",
       "      <td>24</td>\n",
       "      <td>40</td>\n",
       "      <td>jeux_videos_import</td>\n",
       "    </tr>\n",
       "    <tr>\n",
       "      <th>2</th>\n",
       "      <td>25</td>\n",
       "      <td>50</td>\n",
       "      <td>accessoires_jeux_videos</td>\n",
       "    </tr>\n",
       "    <tr>\n",
       "      <th>3</th>\n",
       "      <td>26</td>\n",
       "      <td>60</td>\n",
       "      <td>jeux_et_consoles_retro</td>\n",
       "    </tr>\n",
       "    <tr>\n",
       "      <th>4</th>\n",
       "      <td>1</td>\n",
       "      <td>1140</td>\n",
       "      <td>goodies_geek</td>\n",
       "    </tr>\n",
       "  </tbody>\n",
       "</table>\n",
       "</div>"
      ],
      "text/plain": [
       "   target  prdtypecode                 prodtype\n",
       "0       0           10            livres_adulte\n",
       "1      24           40       jeux_videos_import\n",
       "2      25           50  accessoires_jeux_videos\n",
       "3      26           60   jeux_et_consoles_retro\n",
       "4       1         1140             goodies_geek"
      ]
     },
     "execution_count": 112,
     "metadata": {},
     "output_type": "execute_result"
    }
   ],
   "source": [
    "product_class = pd.read_csv('../datasets/product_class.csv', sep = ';')\n",
    "print(product_class.shape)\n",
    "product_class.head()"
   ]
  },
  {
   "cell_type": "code",
   "execution_count": null,
   "id": "2cd4f4ff",
   "metadata": {},
   "outputs": [],
   "source": []
  },
  {
   "cell_type": "markdown",
   "id": "b9f19ff0",
   "metadata": {},
   "source": [
    "# 1 - Import raw dataset (Optional)\n",
    "* Define train & test splits\n",
    "* Split entire dataset once here to avoid any issues (information leak, etc)"
   ]
  },
  {
   "cell_type": "markdown",
   "id": "f96db39c",
   "metadata": {},
   "source": [
    "### Import raw datasets: features and targets"
   ]
  },
  {
   "cell_type": "code",
   "execution_count": 10,
   "id": "4f8fde64",
   "metadata": {},
   "outputs": [
    {
     "name": "stdout",
     "output_type": "stream",
     "text": [
      "<class 'pandas.core.frame.DataFrame'> <class 'pandas.core.series.Series'>\n"
     ]
    }
   ],
   "source": [
    "## import raw datasets: features and target\n",
    "df_X = pd.read_csv('../datasets/X_train_update.csv', index_col = 0)\n",
    "df_y = pd.read_csv('../datasets/Y_train_CVw08PX.csv', index_col = 0).squeeze()  ## for correct splitting\n",
    "\n",
    "print(type(df_X), type(df_y))"
   ]
  },
  {
   "cell_type": "code",
   "execution_count": 4,
   "id": "5c6a89ce",
   "metadata": {},
   "outputs": [
    {
     "data": {
      "text/html": [
       "<div>\n",
       "<style scoped>\n",
       "    .dataframe tbody tr th:only-of-type {\n",
       "        vertical-align: middle;\n",
       "    }\n",
       "\n",
       "    .dataframe tbody tr th {\n",
       "        vertical-align: top;\n",
       "    }\n",
       "\n",
       "    .dataframe thead th {\n",
       "        text-align: right;\n",
       "    }\n",
       "</style>\n",
       "<table border=\"1\" class=\"dataframe\">\n",
       "  <thead>\n",
       "    <tr style=\"text-align: right;\">\n",
       "      <th></th>\n",
       "      <th>designation</th>\n",
       "      <th>description</th>\n",
       "      <th>productid</th>\n",
       "      <th>imageid</th>\n",
       "    </tr>\n",
       "  </thead>\n",
       "  <tbody>\n",
       "    <tr>\n",
       "      <th>0</th>\n",
       "      <td>Olivia: Personalisiertes Notizbuch / 150 Seite...</td>\n",
       "      <td>NaN</td>\n",
       "      <td>3804725264</td>\n",
       "      <td>1263597046</td>\n",
       "    </tr>\n",
       "    <tr>\n",
       "      <th>1</th>\n",
       "      <td>Journal Des Arts (Le) N° 133 Du 28/09/2001 - L...</td>\n",
       "      <td>NaN</td>\n",
       "      <td>436067568</td>\n",
       "      <td>1008141237</td>\n",
       "    </tr>\n",
       "    <tr>\n",
       "      <th>2</th>\n",
       "      <td>Grand Stylet Ergonomique Bleu Gamepad Nintendo...</td>\n",
       "      <td>PILOT STYLE Touch Pen de marque Speedlink est ...</td>\n",
       "      <td>201115110</td>\n",
       "      <td>938777978</td>\n",
       "    </tr>\n",
       "    <tr>\n",
       "      <th>3</th>\n",
       "      <td>Peluche Donald - Europe - Disneyland 2000 (Mar...</td>\n",
       "      <td>NaN</td>\n",
       "      <td>50418756</td>\n",
       "      <td>457047496</td>\n",
       "    </tr>\n",
       "    <tr>\n",
       "      <th>4</th>\n",
       "      <td>La Guerre Des Tuques</td>\n",
       "      <td>Luc a des id&amp;eacute;es de grandeur. Il veut or...</td>\n",
       "      <td>278535884</td>\n",
       "      <td>1077757786</td>\n",
       "    </tr>\n",
       "  </tbody>\n",
       "</table>\n",
       "</div>"
      ],
      "text/plain": [
       "                                         designation  \\\n",
       "0  Olivia: Personalisiertes Notizbuch / 150 Seite...   \n",
       "1  Journal Des Arts (Le) N° 133 Du 28/09/2001 - L...   \n",
       "2  Grand Stylet Ergonomique Bleu Gamepad Nintendo...   \n",
       "3  Peluche Donald - Europe - Disneyland 2000 (Mar...   \n",
       "4                               La Guerre Des Tuques   \n",
       "\n",
       "                                         description   productid     imageid  \n",
       "0                                                NaN  3804725264  1263597046  \n",
       "1                                                NaN   436067568  1008141237  \n",
       "2  PILOT STYLE Touch Pen de marque Speedlink est ...   201115110   938777978  \n",
       "3                                                NaN    50418756   457047496  \n",
       "4  Luc a des id&eacute;es de grandeur. Il veut or...   278535884  1077757786  "
      ]
     },
     "metadata": {},
     "output_type": "display_data"
    },
    {
     "name": "stdout",
     "output_type": "stream",
     "text": [
      "Int64Index([    0,     1,     2,     3,     4,     5,     6,     7,     8,\n",
      "                9,\n",
      "            ...\n",
      "            84906, 84907, 84908, 84909, 84910, 84911, 84912, 84913, 84914,\n",
      "            84915],\n",
      "           dtype='int64', length=84916)\n"
     ]
    }
   ],
   "source": [
    "display(df_X.head())\n",
    "print(df_X.index)"
   ]
  },
  {
   "cell_type": "code",
   "execution_count": 5,
   "id": "9af810bc",
   "metadata": {},
   "outputs": [
    {
     "data": {
      "text/plain": [
       "0      10\n",
       "1    2280\n",
       "2      50\n",
       "3    1280\n",
       "4    2705\n",
       "Name: prdtypecode, dtype: int64"
      ]
     },
     "metadata": {},
     "output_type": "display_data"
    },
    {
     "name": "stdout",
     "output_type": "stream",
     "text": [
      "Int64Index([    0,     1,     2,     3,     4,     5,     6,     7,     8,\n",
      "                9,\n",
      "            ...\n",
      "            84906, 84907, 84908, 84909, 84910, 84911, 84912, 84913, 84914,\n",
      "            84915],\n",
      "           dtype='int64', length=84916)\n"
     ]
    }
   ],
   "source": [
    "display(df_y.head())\n",
    "print(df_y.index)"
   ]
  },
  {
   "cell_type": "markdown",
   "id": "f5eb0c9f",
   "metadata": {},
   "source": [
    "### Define train test splitting"
   ]
  },
  {
   "cell_type": "code",
   "execution_count": null,
   "id": "ff8b939d",
   "metadata": {},
   "outputs": [],
   "source": [
    "from sklearn.model_selection import train_test_split\n",
    "\n",
    "## train-test split raw data\n",
    "df_X_train, df_X_test, df_y_train, df_y_test = train_test_split(df_X, df_y, test_size = 0.2, \\\n",
    "                                                                random_state = myseed, stratify = df_y)\n",
    "\n",
    "## tranforms dataset to feed into the models"
   ]
  },
  {
   "cell_type": "code",
   "execution_count": 10,
   "id": "84a3304a",
   "metadata": {},
   "outputs": [
    {
     "data": {
      "text/plain": [
       "Int64Index([ 9263, 50884, 73788, 34901, 81204, 26065, 46256, 70161, 24947,\n",
       "            32350,\n",
       "            ...\n",
       "            29427,  6336, 69930, 71944, 18110, 19372, 79662, 38386, 84570,\n",
       "            60763],\n",
       "           dtype='int64', length=67932)"
      ]
     },
     "execution_count": 10,
     "metadata": {},
     "output_type": "execute_result"
    }
   ],
   "source": [
    "df_X_train.index"
   ]
  },
  {
   "cell_type": "code",
   "execution_count": 11,
   "id": "0271e2f2",
   "metadata": {},
   "outputs": [
    {
     "data": {
      "text/plain": [
       "Int64Index([76291, 35651, 23689, 27954, 53964, 25569,   462, 76121, 81032,\n",
       "            80184,\n",
       "            ...\n",
       "            43294, 23597, 28244,  7725, 20720, 84173, 53364, 62653, 33334,\n",
       "            83750],\n",
       "           dtype='int64', length=16984)"
      ]
     },
     "execution_count": 11,
     "metadata": {},
     "output_type": "execute_result"
    }
   ],
   "source": [
    "df_y_test.index"
   ]
  },
  {
   "cell_type": "markdown",
   "id": "3cdbfc26",
   "metadata": {},
   "source": [
    "### Save splitted datasets"
   ]
  },
  {
   "cell_type": "code",
   "execution_count": null,
   "id": "8a872e8e",
   "metadata": {},
   "outputs": [],
   "source": [
    "## save splitted dataframes\n",
    "fm.save(datasets = [df_X_train, df_X_test, df_y_train, df_y_test], \\\n",
    "             types = ['dataframe', 'dataframe', 'dataframe', 'dataframe'], \\\n",
    "             names = ['df_X_train', 'df_X_test', 'df_y_train', 'df_y_test'], \\\n",
    "              path = splitting_path, doit = False, verbose = True)\n"
   ]
  },
  {
   "cell_type": "markdown",
   "id": "c0a0b97e",
   "metadata": {},
   "source": [
    "<div class=\"alert alert-info\">\n",
    "<i class=\"fa fa-info-circle\"></i> &emsp; \n",
    "    From now on, the <b>test dataset</b> will only be used to asses the models performance\n",
    "</div>"
   ]
  },
  {
   "cell_type": "markdown",
   "id": "7eabaa78",
   "metadata": {},
   "source": [
    "# 2 - _Text data_"
   ]
  },
  {
   "cell_type": "markdown",
   "id": "1958492c",
   "metadata": {},
   "source": [
    "## 2.1 - Preprocess Text Data\n",
    "* Clean data\n",
    "* Feature engineering\n",
    "* Address NaNs"
   ]
  },
  {
   "cell_type": "code",
   "execution_count": 11,
   "id": "bee47ca4",
   "metadata": {},
   "outputs": [
    {
     "name": "stdout",
     "output_type": "stream",
     "text": [
      "Column 'designation' has been renamed as 'title' \n",
      "\n",
      "Columns 'title' and 'description' have been concatenated in a new variable 'title_descr' \n",
      "\n",
      "Column 'title_descr' has been successfully HTML parsed and decapitalized.\n",
      "\t HTML parsing takes 20.42 seconds \n",
      "\n",
      "Column 'title_descr' has been successfully tokenized.\n",
      "\t Tokenization + Lemmatization takes 27.33 seconds \n",
      "\n",
      "Main language detection takes 3.73 minutes.\n",
      "\t Language detection correction takes 3.17 seconds \n",
      "\n",
      "Removing stop-words takes 28.84 seconds. \n",
      "\n",
      "Token counting takes 0.03 seconds. \n",
      "\n",
      "Column 'designation' has been renamed as 'title' \n",
      "\n",
      "Columns 'title' and 'description' have been concatenated in a new variable 'title_descr' \n",
      "\n",
      "Column 'title_descr' has been successfully HTML parsed and decapitalized.\n",
      "\t HTML parsing takes 4.36 seconds \n",
      "\n",
      "Column 'title_descr' has been successfully tokenized.\n",
      "\t Tokenization + Lemmatization takes 5.30 seconds \n",
      "\n",
      "Main language detection takes 0.92 minutes.\n",
      "\t Language detection correction takes 2.22 seconds \n",
      "\n",
      "Removing stop-words takes 4.41 seconds. \n",
      "\n",
      "Token counting takes 0.01 seconds. \n",
      "\n"
     ]
    }
   ],
   "source": [
    "## preprocess datasets: Data cleaning & Feature engineering\n",
    "\n",
    "df_X_train_preprocess = fm.preprocess_text_data(df_X_train, verbose = True)\n",
    "df_X_test_preprocess = fm.preprocess_text_data(df_X_test, verbose = True)\n"
   ]
  },
  {
   "cell_type": "code",
   "execution_count": 13,
   "id": "0f5f1b5f",
   "metadata": {},
   "outputs": [
    {
     "data": {
      "text/plain": [
       "Int64Index([ 9263, 50884, 73788, 34901, 81204, 26065, 46256, 70161, 24947,\n",
       "            32350,\n",
       "            ...\n",
       "            29427,  6336, 69930, 71944, 18110, 19372, 79662, 38386, 84570,\n",
       "            60763],\n",
       "           dtype='int64', length=67932)"
      ]
     },
     "execution_count": 13,
     "metadata": {},
     "output_type": "execute_result"
    }
   ],
   "source": [
    "df_X_train_preprocess.head()\n",
    "df_X_train_preprocess.index"
   ]
  },
  {
   "cell_type": "markdown",
   "id": "befbe68d",
   "metadata": {},
   "source": [
    "### Save Preprocessed datasets"
   ]
  },
  {
   "cell_type": "code",
   "execution_count": 12,
   "id": "df851632",
   "metadata": {},
   "outputs": [
    {
     "name": "stdout",
     "output_type": "stream",
     "text": [
      "Saved dataset: ../Preprocessed_data/2308141824_df_X_train_preprocess.csv\n",
      "Saved dataset: ../Preprocessed_data/2308141824_df_X_test_preprocess.csv\n"
     ]
    }
   ],
   "source": [
    "fm.save(datasets = [df_X_train_preprocess, df_X_test_preprocess], \n",
    "             types = ['dataframe', 'dataframe'],\n",
    "             names = ['df_X_train_preprocess', 'df_X_test_preprocess'], \n",
    "              path = preprocessing_path, doit = False, verbose = True)\n"
   ]
  },
  {
   "cell_type": "markdown",
   "id": "989a735c",
   "metadata": {},
   "source": [
    "### Load preprocessed data (Optional)\n",
    "It helps to free processing memory if restarting the kernel and loading the followinf datasets."
   ]
  },
  {
   "cell_type": "code",
   "execution_count": 3,
   "id": "7f2c2ce4",
   "metadata": {},
   "outputs": [],
   "source": [
    "df_X_train_preprocess = pd.read_csv(preprocessing_path+'2308141824_df_X_train_preprocess.csv', header = 0, index_col = 0, sep = ',')\n",
    "df_X_test_preprocess = pd.read_csv(preprocessing_path+'2308141824_df_X_test_preprocess.csv', header = 0, index_col = 0, sep = ',')\n",
    "# df_y_train = pd.read_csv( splitting_path+'2308141824_df_y_train.csv', header = 0, index_col = 0, sep = ',')\n",
    "# df_y_test = pd.read_csv( splitting_path+'2308141824_df_y_test.csv', header = 0, index_col = 0, sep = ',')\n",
    "\n",
    "# df_X_train_preprocess.head()"
   ]
  },
  {
   "cell_type": "code",
   "execution_count": null,
   "id": "6ddbf5fb",
   "metadata": {},
   "outputs": [],
   "source": []
  },
  {
   "cell_type": "markdown",
   "id": "2e284e19",
   "metadata": {},
   "source": [
    "## 2.2 Transform text data"
   ]
  },
  {
   "cell_type": "markdown",
   "id": "a4f8e70e",
   "metadata": {},
   "source": [
    "### Transform text data\n",
    "* In a format accepted by ML models: np.arrays.\n",
    "* encode categeorical features\n",
    "* normalize numerical features\n",
    "* vectorize tokens\n",
    "* encode target"
   ]
  },
  {
   "cell_type": "code",
   "execution_count": 15,
   "id": "f31e780c",
   "metadata": {
    "scrolled": false
   },
   "outputs": [
    {
     "name": "stdout",
     "output_type": "stream",
     "text": [
      "Vectorizer Vocabulary contains : 5000 terms\n",
      "First Vocabulary terms : {'lot': 2751, 'livres': 2731, 'merveilleux': 2896, 'violet': 4773, 'atterrissage': 632, 'prolongée': 3663, 'vitesse': 4785, 'appui': 541, 'protector': 3681, 'extension': 1907}\n"
     ]
    }
   ],
   "source": [
    "## transform dataset to feed into model\n",
    "\n",
    "text_data, targets, text_transformer, target_transformer = fm.get_text_data(df_X_train_preprocess, df_X_test_preprocess, \n",
    "                                                                            df_y_train, df_y_test)\n",
    "\n"
   ]
  },
  {
   "cell_type": "markdown",
   "id": "1917585e",
   "metadata": {},
   "source": [
    "### Save transformed datasets, transformers and encoder objects"
   ]
  },
  {
   "cell_type": "code",
   "execution_count": 16,
   "id": "21fa70d0",
   "metadata": {},
   "outputs": [
    {
     "name": "stdout",
     "output_type": "stream",
     "text": [
      "Saved sparseMatrix : ../Preprocessed_data/2308141825_text_data_transformed_X_train.npz\n",
      "Saved sparseMatrix : ../Preprocessed_data/2308141825_text_data_transformed_X_test.npz\n",
      "Saved dataset: ../Preprocessed_data/2308141825_text_data_transformed_y_train.npy\n",
      "Saved dataset: ../Preprocessed_data/2308141825_text_data_transformed_y_test.npy\n",
      "Saved transformer: ../Preprocessed_data/2308141825_token_len_scaler\n",
      "Saved transformer: ../Preprocessed_data/2308141825_language_encoder\n",
      "Saved transformer: ../Preprocessed_data/2308141825_lemmas_vectorizer\n",
      "Saved transformer: ../Preprocessed_data/2308141825_target_encoder\n"
     ]
    }
   ],
   "source": [
    "\n",
    "## Save transformed features:\n",
    "fm.save(datasets = [text_data['X_train'], text_data['X_test'] ], \\\n",
    "             types = ['sparseMatrix', 'sparseMatrix'], \\\n",
    "             names = ['text_data_transformed_X_train', 'text_data_transformed_X_test'], \\\n",
    "              path = preprocessing_path, doit = False, verbose = True )\n",
    "\n",
    "## save transformed targets:\n",
    "fm.save(datasets = [ targets['y_train'], targets['y_test'] ], \\\n",
    "             types = ['array', 'array'], \\\n",
    "             names = ['text_data_transformed_y_train', 'text_data_transformed_y_test'], \\\n",
    "              path = preprocessing_path, doit = False, verbose = True )\n",
    "\n",
    "## save tranformers:\n",
    "fm.save(datasets = [ text_transformer['token_len_scaler'], text_transformer['language_encoder'],\\\n",
    "                     text_transformer['lemmas_vectorizer'], target_transformer], \\\n",
    "             types = ['transformer', 'transformer','transformer', 'transformer'], \\\n",
    "             names = ['token_len_scaler','language_encoder', 'lemmas_vectorizer', 'target_encoder'], \\\n",
    "              path = preprocessing_path, doit = False, verbose = True )\n"
   ]
  },
  {
   "cell_type": "markdown",
   "id": "28f8badd",
   "metadata": {},
   "source": [
    "### Load transformed data (Optional)\n",
    "Start from here if RAM is limited"
   ]
  },
  {
   "cell_type": "markdown",
   "id": "026c0eb8",
   "metadata": {},
   "source": [
    "**Features**"
   ]
  },
  {
   "cell_type": "code",
   "execution_count": 5,
   "id": "6d3b0940",
   "metadata": {},
   "outputs": [],
   "source": [
    "from scipy import sparse\n",
    "\n",
    "text_data = {}\n",
    "\n",
    "text_data['X_train'] = sparse.load_npz(\"../Preprocessed_data/2308141825_text_data_transformed_X_train.npz\")\n",
    "text_data['X_test'] = sparse.load_npz(\"../Preprocessed_data/2308141825_text_data_transformed_X_test.npz\")"
   ]
  },
  {
   "cell_type": "markdown",
   "id": "6408b173",
   "metadata": {},
   "source": [
    "**Targets**"
   ]
  },
  {
   "cell_type": "code",
   "execution_count": 6,
   "id": "5554b2cc",
   "metadata": {},
   "outputs": [],
   "source": [
    "targets = {}\n",
    "targets['y_train'] = np.load(\"../Preprocessed_data/2308141825_text_data_transformed_y_train.npy\")\n",
    "targets['y_test'] = np.load(\"../Preprocessed_data/2308141825_text_data_transformed_y_test.npy\")"
   ]
  },
  {
   "cell_type": "markdown",
   "id": "0d5ceb40",
   "metadata": {},
   "source": [
    "**Transformers**"
   ]
  },
  {
   "cell_type": "code",
   "execution_count": 18,
   "id": "ffa8f4ba",
   "metadata": {},
   "outputs": [],
   "source": [
    "import joblib\n",
    "\n",
    "# token_len_scaler = joblib.load(\"../Preprocessed_data/2308141825_token_len_scaler\")\n",
    "# language_encoder = joblib.load(\"../Preprocessed_data/2308141825_language_encoder\")\n",
    "# lemmas_vectorizer = joblib.load(\"../Preprocessed_data/2308141825_lemmas_vectorizer\")\n",
    "# target_encoder = joblib.load(\"../Preprocessed_data/2308141825_target_encoder\")"
   ]
  },
  {
   "cell_type": "code",
   "execution_count": null,
   "id": "f5134e49",
   "metadata": {},
   "outputs": [],
   "source": []
  },
  {
   "cell_type": "markdown",
   "id": "94559231",
   "metadata": {},
   "source": [
    "## 2.3 Text modeling"
   ]
  },
  {
   "cell_type": "markdown",
   "id": "0a6496c1",
   "metadata": {},
   "source": [
    "### Initialize text model"
   ]
  },
  {
   "cell_type": "code",
   "execution_count": 7,
   "id": "82dbeb99",
   "metadata": {},
   "outputs": [
    {
     "name": "stdout",
     "output_type": "stream",
     "text": [
      "Model: \"model\"\n",
      "_________________________________________________________________\n",
      " Layer (type)                Output Shape              Param #   \n",
      "=================================================================\n",
      " input (InputLayer)          [(None, 5035)]            0         \n",
      "                                                                 \n",
      " dense_1 (Dense)             (None, 256)               1289216   \n",
      "                                                                 \n",
      " dense_2 (Dense)             (None, 27)                6939      \n",
      "                                                                 \n",
      "=================================================================\n",
      "Total params: 1,296,155\n",
      "Trainable params: 1,296,155\n",
      "Non-trainable params: 0\n",
      "_________________________________________________________________\n"
     ]
    },
    {
     "data": {
      "text/plain": [
       "None"
      ]
     },
     "metadata": {},
     "output_type": "display_data"
    }
   ],
   "source": [
    "## intialize text model:\n",
    "\n",
    "text_model = fm.initialize_text_model(model_type  = \"NN\", \\\n",
    "                             Nb_features = text_data['X_train'].shape[1], \\\n",
    "                             Nb_classes  = targets['y_train'].shape[1])"
   ]
  },
  {
   "cell_type": "markdown",
   "id": "e1227981",
   "metadata": {},
   "source": [
    "### Fit text model "
   ]
  },
  {
   "cell_type": "code",
   "execution_count": 9,
   "id": "bf3541a5",
   "metadata": {
    "scrolled": true
   },
   "outputs": [
    {
     "name": "stdout",
     "output_type": "stream",
     "text": [
      "Epoch 1/5\n",
      "272/272 [==============================] - 4s 12ms/step - loss: 1.8166 - accuracy: 0.5362 - val_loss: 1.0011 - val_accuracy: 0.7279\n",
      "Epoch 2/5\n",
      "272/272 [==============================] - 3s 11ms/step - loss: 0.8173 - accuracy: 0.7671 - val_loss: 0.7917 - val_accuracy: 0.7637\n",
      "Epoch 3/5\n",
      "272/272 [==============================] - 3s 11ms/step - loss: 0.6397 - accuracy: 0.8086 - val_loss: 0.7451 - val_accuracy: 0.7710\n",
      "Epoch 4/5\n",
      "272/272 [==============================] - 3s 11ms/step - loss: 0.5462 - accuracy: 0.8350 - val_loss: 0.7297 - val_accuracy: 0.7774\n",
      "Epoch 5/5\n",
      "272/272 [==============================] - 3s 10ms/step - loss: 0.4817 - accuracy: 0.8542 - val_loss: 0.7337 - val_accuracy: 0.7744\n"
     ]
    },
    {
     "data": {
      "text/plain": [
       "<keras.callbacks.History at 0x19856f76710>"
      ]
     },
     "execution_count": 9,
     "metadata": {},
     "output_type": "execute_result"
    }
   ],
   "source": [
    "## train model\n",
    "text_model.fit(text_data[\"X_train\"].toarray(), targets[\"y_train\"],\n",
    "               epochs = 5,\n",
    "              batch_size = 200,\n",
    "              validation_split = 0.2)    ## \n"
   ]
  },
  {
   "cell_type": "markdown",
   "id": "a0f1a4a2",
   "metadata": {},
   "source": [
    "### Evaluate text model\n",
    "Create a function that returns:  \n",
    "* training evolution plot\n",
    "* train test accuracy\n",
    "* confusion matrix plot\n",
    "* classification report graph\n",
    "\n",
    "Add as options to save:\n",
    "* confusion matrix\n",
    "* classification report"
   ]
  },
  {
   "cell_type": "code",
   "execution_count": null,
   "id": "b5f25349",
   "metadata": {},
   "outputs": [],
   "source": [
    "### The following is preliminary overview (PUT INTO AFUNCTION)"
   ]
  },
  {
   "cell_type": "code",
   "execution_count": 90,
   "id": "02dac60f",
   "metadata": {},
   "outputs": [],
   "source": [
    "epochs = 50\n",
    "x_epochs = np.arange(1,epochs + 1,1)\n",
    "\n",
    "train_acc = training_history.history['accuracy']\n",
    "val_acc = training_history.history['val_accuracy']"
   ]
  },
  {
   "cell_type": "code",
   "execution_count": null,
   "id": "19a3e161",
   "metadata": {
    "scrolled": false
   },
   "outputs": [],
   "source": [
    "plt.figure(figsize=(8,6))\n",
    "\n",
    "sns.lineplot(x = x_epochs, y = train_acc, marker = 'o', label = 'Training Accuracy')\n",
    "sns.lineplot(x = x_epochs, y = val_acc, marker = 'o', label = 'Validation Accuracy')\n",
    "\n",
    "plt.xlabel('Epochs')\n",
    "plt.ylabel('Accuracy')\n",
    "plt.title('Accuracy Evolution during training: NN_clf')\n",
    "plt.legend(loc='lower right')#loc='right'\n",
    "plt.ylim(0,1)\n",
    "# plt.ylim(0.3,0.5)\n",
    "# plt.xlim(0,50)"
   ]
  },
  {
   "cell_type": "code",
   "execution_count": null,
   "id": "5df883b3",
   "metadata": {},
   "outputs": [],
   "source": []
  },
  {
   "cell_type": "markdown",
   "id": "28733272",
   "metadata": {},
   "source": [
    "### Save or Reload trained text model"
   ]
  },
  {
   "cell_type": "code",
   "execution_count": 11,
   "id": "4fb80955",
   "metadata": {},
   "outputs": [
    {
     "name": "stdout",
     "output_type": "stream",
     "text": [
      "Model saved as ../Fusion_models_and_data/2308171443_text_model_trained.keras\n"
     ]
    }
   ],
   "source": [
    "save = False\n",
    "reload = False\n",
    "\n",
    "import tensorflow as tf\n",
    "\n",
    "if save:\n",
    "    fm.save_model(text_model, name = 'text_model_trained', \n",
    "                  path = fusion_path, \n",
    "                  doit = True)\n",
    "    \n",
    "\n",
    "if reload:\n",
    "    text_model = fm.reload_model('model.keras', \n",
    "                       path = fusino_path, \n",
    "                       doit = True)\n",
    "    text_model.summary()"
   ]
  },
  {
   "cell_type": "code",
   "execution_count": null,
   "id": "32e8a51d",
   "metadata": {},
   "outputs": [],
   "source": []
  },
  {
   "cell_type": "markdown",
   "id": "ddeb6e8f",
   "metadata": {},
   "source": [
    "# 3 - _Image data_\n",
    "\n",
    "* preprocess image data: crop, resize, vectorize\n",
    "* save prpprocessed image_dataset\n",
    "* transform image data: scale pixels, reshape for CNN\n",
    "* initialize model (using tranformed data dimensions)\n",
    "* save trained model\n",
    "* reload trained model\n"
   ]
  },
  {
   "cell_type": "markdown",
   "id": "b6e8a140",
   "metadata": {},
   "source": [
    "## 3.1 - Preprocess image data\n",
    "* crop\n",
    "* resize\n",
    "* vectorize"
   ]
  },
  {
   "cell_type": "code",
   "execution_count": 5,
   "id": "7e6feee3",
   "metadata": {},
   "outputs": [
    {
     "name": "stdout",
     "output_type": "stream",
     "text": [
      "0 images at time 0.00 minutes\n",
      "1000 images at time 0.13 minutes\n",
      "2000 images at time 0.26 minutes\n",
      "3000 images at time 0.39 minutes\n",
      "4000 images at time 0.53 minutes\n",
      "5000 images at time 0.66 minutes\n",
      "10000 images at time 1.31 minutes\n",
      "15000 images at time 1.96 minutes\n",
      "20000 images at time 2.62 minutes\n",
      "25000 images at time 3.27 minutes\n",
      "30000 images at time 3.92 minutes\n",
      "35000 images at time 4.57 minutes\n",
      "40000 images at time 5.20 minutes\n",
      "45000 images at time 5.84 minutes\n",
      "50000 images at time 6.49 minutes\n",
      "55000 images at time 7.13 minutes\n",
      "60000 images at time 7.78 minutes\n",
      "65000 images at time 8.44 minutes\n",
      "Vectorization of 67932 images takes 8.82 minutes\n"
     ]
    }
   ],
   "source": [
    "\n",
    "image_train_preprocess = fm.preprocess_image_data(df_X_train_preprocess, \n",
    "                                                     threshold = 230, \n",
    "                                                     new_pixel_nb = 200,\n",
    "                                                     path = images_path,                                                     \n",
    "                                                     output = 'array',\n",
    "                                                     verbose = True)\n"
   ]
  },
  {
   "cell_type": "code",
   "execution_count": 6,
   "id": "7efb0ccb",
   "metadata": {
    "scrolled": true
   },
   "outputs": [
    {
     "name": "stdout",
     "output_type": "stream",
     "text": [
      "0 images at time 0.00 minutes\n",
      "1000 images at time 0.13 minutes\n",
      "2000 images at time 0.25 minutes\n",
      "3000 images at time 0.38 minutes\n",
      "4000 images at time 0.51 minutes\n",
      "5000 images at time 0.63 minutes\n",
      "10000 images at time 1.28 minutes\n",
      "15000 images at time 1.92 minutes\n",
      "Vectorization of 16984 images takes 2.18 minutes\n"
     ]
    }
   ],
   "source": [
    "image_test_preprocess = fm.preprocess_image_data(df_X_test_preprocess, \n",
    "                                                     threshold = 230, \n",
    "                                                     new_pixel_nb = 200,\n",
    "                                                     path = images_path,\n",
    "                                                     output = 'array',\n",
    "                                                     verbose = True)\n"
   ]
  },
  {
   "cell_type": "markdown",
   "id": "888ff53f",
   "metadata": {},
   "source": [
    "### Save preprocessed image data"
   ]
  },
  {
   "cell_type": "code",
   "execution_count": 8,
   "id": "bad78900",
   "metadata": {
    "scrolled": false
   },
   "outputs": [
    {
     "name": "stdout",
     "output_type": "stream",
     "text": [
      "Saved dataset: ../Preprocessed_data/2308151632_image_train_preprocess_200px.npy\n",
      "Saved dataset: ../Preprocessed_data/2308151632_image_test_preprocess_200px.npy\n"
     ]
    }
   ],
   "source": [
    "fm.save(datasets = [image_train_preprocess, image_test_preprocess], \\\n",
    "            types = ['array', 'array'], \\\n",
    "             names = ['image_train_preprocess_200px', 'image_test_preprocess_200px'], \\\n",
    "              path = preprocessing_path, doit = False, verbose = True)"
   ]
  },
  {
   "cell_type": "markdown",
   "id": "9e787dab",
   "metadata": {},
   "source": [
    "### Load preprocessed image data\n",
    "Optional. It helps to free processing memory if restarting the kernel and loading the followinf datasets."
   ]
  },
  {
   "cell_type": "code",
   "execution_count": 3,
   "id": "204b15b2",
   "metadata": {},
   "outputs": [],
   "source": [
    "# df_X_train_preprocess = pd.read_csv('./Preprocessed_data/2308102210_df_image_train_preprocess.csv', header = 0, index_col = 0, sep = ',')\n",
    "# df_X_test_preprocess = pd.read_csv('./Preprocessed_data/2308102210_df_image_test_preprocess.csv', header = 0, index_col = 0, sep = ',')\n",
    "\n",
    "\n",
    "## reload saved numpy array for preprocessed image data\n",
    "import os\n",
    "\n",
    "image_train_preprocess = np.load(os.path.join(preprocessing_path, '2308151632_image_train_preprocess_200px.npy'))\n",
    "image_test_preprocess = np.load(os.path.join(preprocessing_path, '2308151632_image_test_preprocess_200px.npy'))\n",
    "\n",
    "\n",
    "## targets are in dataframes\n",
    "# df_y_train = pd.read_csv(splitting_path + '2308141811_df_y_train.csv', header = 0, index_col = 0, sep = ',')\n",
    "# df_y_test = pd.read_csv(splitting_path + '2308141811_df_y_test.csv', header = 0, index_col = 0, sep = ',')\n"
   ]
  },
  {
   "cell_type": "code",
   "execution_count": null,
   "id": "d970b1e2",
   "metadata": {},
   "outputs": [],
   "source": []
  },
  {
   "cell_type": "markdown",
   "id": "e028c3c6",
   "metadata": {},
   "source": [
    "## 3.2 Transform image data\n",
    "* In a format accepted by ML models: np.arrays.\n",
    "* encode categeorical features\n",
    "* normalize numerical features\n",
    "* vectorize tokens\n",
    "* encode target"
   ]
  },
  {
   "cell_type": "code",
   "execution_count": 11,
   "id": "747f9bc0",
   "metadata": {},
   "outputs": [
    {
     "ename": "MemoryError",
     "evalue": "Unable to allocate 60.7 GiB for an array with shape (67932, 200, 200, 3) and data type float64",
     "output_type": "error",
     "traceback": [
      "\u001b[1;31m--------------------------------------------------\u001b[0m",
      "\u001b[1;31mMemoryError\u001b[0m      Traceback (most recent call last)",
      "Cell \u001b[1;32mIn[11], line 1\u001b[0m\n\u001b[1;32m----> 1\u001b[0m image_data \u001b[38;5;241m=\u001b[39m \u001b[43mfm\u001b[49m\u001b[38;5;241;43m.\u001b[39;49m\u001b[43mget_image_data\u001b[49m\u001b[43m(\u001b[49m\u001b[43mimage_train_preprocess\u001b[49m\u001b[43m,\u001b[49m\u001b[43m \u001b[49m\u001b[43mimage_test_preprocess\u001b[49m\u001b[43m,\u001b[49m\u001b[43m \u001b[49m\u001b[43mpixel_per_side\u001b[49m\u001b[43m \u001b[49m\u001b[38;5;241;43m=\u001b[39;49m\u001b[43m \u001b[49m\u001b[38;5;241;43m200\u001b[39;49m\u001b[43m)\u001b[49m\n",
      "File \u001b[1;32mC:\\Ramiro\\Data Science\\0_DataScientest\\02_DS_project\\Raku_ten_23\\FusionModel_tools.py:785\u001b[0m, in \u001b[0;36mget_image_data\u001b[1;34m(df_image_train, df_image_test, pixel_per_side)\u001b[0m\n\u001b[0;32m    781\u001b[0m     N_ch \u001b[38;5;241m=\u001b[39m \u001b[38;5;241m3\u001b[39m\n\u001b[0;32m    783\u001b[0m \u001b[38;5;66;03m#     XX_train = df_image_train.to_numpy().reshape((N_img_train, N_px, N_px, N_ch))\u001b[39;00m\n\u001b[0;32m    784\u001b[0m \u001b[38;5;66;03m#     XX_test = df_image_test.to_numpy().reshape((N_img_test, N_px, N_px, N_ch))\u001b[39;00m\n\u001b[1;32m--> 785\u001b[0m     XX_train \u001b[38;5;241m=\u001b[39m \u001b[43mdf_image_train\u001b[49m\u001b[38;5;241;43m.\u001b[39;49m\u001b[43mreshape\u001b[49m\u001b[43m(\u001b[49m\u001b[43m(\u001b[49m\u001b[43mN_img_train\u001b[49m\u001b[43m,\u001b[49m\u001b[43m \u001b[49m\u001b[43mN_px\u001b[49m\u001b[43m,\u001b[49m\u001b[43m \u001b[49m\u001b[43mN_px\u001b[49m\u001b[43m,\u001b[49m\u001b[43m \u001b[49m\u001b[43mN_ch\u001b[49m\u001b[43m)\u001b[49m\u001b[43m)\u001b[49m\u001b[43m \u001b[49m\u001b[38;5;241;43m*\u001b[39;49m\u001b[43m(\u001b[49m\u001b[38;5;241;43m1.\u001b[39;49m\u001b[38;5;241;43m/\u001b[39;49m\u001b[43m \u001b[49m\u001b[38;5;241;43m255\u001b[39;49m\u001b[43m)\u001b[49m\n\u001b[0;32m    786\u001b[0m     XX_test \u001b[38;5;241m=\u001b[39m df_image_test\u001b[38;5;241m.\u001b[39mreshape((N_img_test, N_px, N_px, N_ch)) \u001b[38;5;241m*\u001b[39m(\u001b[38;5;241m1.\u001b[39m\u001b[38;5;241m/\u001b[39m \u001b[38;5;241m255\u001b[39m)\n\u001b[0;32m    790\u001b[0m     \u001b[38;5;66;03m## Re normalize pixels intensity range to [0,1]\u001b[39;00m\n\u001b[0;32m    791\u001b[0m \u001b[38;5;66;03m#     XX_train = XX_train / 255\u001b[39;00m\n\u001b[0;32m    792\u001b[0m \u001b[38;5;66;03m#     XX_test = XX_test / 255\u001b[39;00m\n\u001b[0;32m    793\u001b[0m     \n\u001b[0;32m    794\u001b[0m     \u001b[38;5;66;03m## pack data\u001b[39;00m\n",
      "\u001b[1;31mMemoryError\u001b[0m: Unable to allocate 60.7 GiB for an array with shape (67932, 200, 200, 3) and data type float64"
     ]
    }
   ],
   "source": [
    "image_data = fm.get_image_data(image_train_preprocess, image_test_preprocess, pixel_per_side = 200, scale = 255)"
   ]
  },
  {
   "cell_type": "markdown",
   "id": "f9675981",
   "metadata": {},
   "source": [
    "### Save transformed image data"
   ]
  },
  {
   "cell_type": "code",
   "execution_count": 38,
   "id": "23d52b57",
   "metadata": {},
   "outputs": [
    {
     "name": "stdout",
     "output_type": "stream",
     "text": [
      "Saved compressed large array: ../Preprocessed_data/2308141953_image_train_transformed.npz\n",
      "Saved compressed large array: ../Preprocessed_data/2308141953_image_test_transformed.npz\n"
     ]
    }
   ],
   "source": [
    "## THIS takes about 5 - 7 minutes\n",
    "\n",
    "fm.save(datasets = [ image_data['train'], image_data['test'] ], \\\n",
    "            types = ['arrayXL', 'arrayXL'], \\\n",
    "             names = ['image_train_transformed', 'image_test_transformed'], \\\n",
    "              path = preprocessing_path, doit = False, verbose = True)"
   ]
  },
  {
   "cell_type": "markdown",
   "id": "359eb2c3",
   "metadata": {},
   "source": [
    "### Load transformed image data (optional)"
   ]
  },
  {
   "cell_type": "markdown",
   "id": "f119a3fb",
   "metadata": {},
   "source": [
    "**Features**"
   ]
  },
  {
   "cell_type": "code",
   "execution_count": 4,
   "id": "6ce59e64",
   "metadata": {},
   "outputs": [
    {
     "name": "stdout",
     "output_type": "stream",
     "text": [
      "Loading arrays takes 36.41 seconds\n"
     ]
    }
   ],
   "source": [
    "t0 = time.time()\n",
    "\n",
    "image_data = {}\n",
    "\n",
    "image_data['train'] = np.load(\"../Preprocessed_data/2308141953_image_train_transformed.npz\")['array']\n",
    "image_data['test'] = np.load(\"../Preprocessed_data/2308141953_image_test_transformed.npz\")['array']\n",
    "\n",
    "t1 = time.time()\n",
    "print(\"Loading arrays takes %0.2f seconds\" %(t1-t0))"
   ]
  },
  {
   "cell_type": "markdown",
   "id": "ac40c1a2",
   "metadata": {},
   "source": [
    "**Targets**"
   ]
  },
  {
   "cell_type": "code",
   "execution_count": 5,
   "id": "241f00f8",
   "metadata": {},
   "outputs": [],
   "source": [
    "targets = {}\n",
    "targets['y_train'] = np.load(\"../Preprocessed_data/2308141825_text_data_transformed_y_train.npy\")\n",
    "targets['y_test'] = np.load(\"../Preprocessed_data/2308141825_text_data_transformed_y_test.npy\")\n"
   ]
  },
  {
   "cell_type": "markdown",
   "id": "757a5920",
   "metadata": {},
   "source": [
    "**Transformers**"
   ]
  },
  {
   "cell_type": "code",
   "execution_count": 18,
   "id": "b73f32de",
   "metadata": {},
   "outputs": [],
   "source": [
    "# import joblib\n",
    "\n",
    "# token_len_scaler = joblib.load(\"../Preprocessed_data/2308141825_token_len_scaler\")\n",
    "# language_encoder = joblib.load(\"../Preprocessed_data/2308141825_language_encoder\")\n",
    "# lemmas_vectorizer = joblib.load(\"../Preprocessed_data/2308141825_lemmas_vectorizer\")\n",
    "# target_encoder = joblib.load(\"../Preprocessed_data/2308141825_target_encoder\")"
   ]
  },
  {
   "cell_type": "code",
   "execution_count": null,
   "id": "b03cae8c",
   "metadata": {},
   "outputs": [],
   "source": []
  },
  {
   "cell_type": "markdown",
   "id": "a24df2b7",
   "metadata": {},
   "source": [
    "## 3.3 Image model"
   ]
  },
  {
   "cell_type": "markdown",
   "id": "4585ca44",
   "metadata": {},
   "source": [
    "### initialize image model"
   ]
  },
  {
   "cell_type": "code",
   "execution_count": 7,
   "id": "e0f23ca5",
   "metadata": {},
   "outputs": [
    {
     "name": "stdout",
     "output_type": "stream",
     "text": [
      "Model: \"model_1\"\n",
      "_________________________________________________________________\n",
      " Layer (type)                Output Shape              Param #   \n",
      "=================================================================\n",
      " input (InputLayer)          [(None, 100, 100, 3)]     0         \n",
      "                                                                 \n",
      " conv2d_2 (Conv2D)           (None, 100, 100, 8)       224       \n",
      "                                                                 \n",
      " max_pooling2d_2 (MaxPooling  (None, 50, 50, 8)        0         \n",
      " 2D)                                                             \n",
      "                                                                 \n",
      " conv2d_3 (Conv2D)           (None, 23, 23, 32)        6432      \n",
      "                                                                 \n",
      " max_pooling2d_3 (MaxPooling  (None, 11, 11, 32)       0         \n",
      " 2D)                                                             \n",
      "                                                                 \n",
      " dropout_2 (Dropout)         (None, 11, 11, 32)        0         \n",
      "                                                                 \n",
      " flatten_1 (Flatten)         (None, 3872)              0         \n",
      "                                                                 \n",
      " dense_3 (Dense)             (None, 512)               1982976   \n",
      "                                                                 \n",
      " dropout_3 (Dropout)         (None, 512)               0         \n",
      "                                                                 \n",
      " dense_4 (Dense)             (None, 128)               65664     \n",
      "                                                                 \n",
      " dense_5 (Dense)             (None, 27)                3483      \n",
      "                                                                 \n",
      "=================================================================\n",
      "Total params: 2,058,779\n",
      "Trainable params: 2,058,779\n",
      "Non-trainable params: 0\n",
      "_________________________________________________________________\n"
     ]
    }
   ],
   "source": [
    "## intialize image model:\n",
    "\n",
    "image_model = fm.initialize_image_model(model_type  = \"CNN\", \n",
    "                             image_shape = image_data['train'].shape[1:], \n",
    "                             Nb_classes  = targets['y_train'].shape[1])\n"
   ]
  },
  {
   "cell_type": "markdown",
   "id": "694680d0",
   "metadata": {},
   "source": [
    "### Fit image model"
   ]
  },
  {
   "cell_type": "code",
   "execution_count": 8,
   "id": "883d2f0c",
   "metadata": {},
   "outputs": [
    {
     "name": "stdout",
     "output_type": "stream",
     "text": [
      "Epoch 1/40\n",
      "136/136 [==============================] - 64s 449ms/step - loss: 2.8479 - accuracy: 0.1908 - val_loss: 2.5217 - val_accuracy: 0.2759\n",
      "Epoch 2/40\n",
      "136/136 [==============================] - 39s 285ms/step - loss: 2.5378 - accuracy: 0.2726 - val_loss: 2.3813 - val_accuracy: 0.3174\n",
      "Epoch 3/40\n",
      "136/136 [==============================] - 37s 272ms/step - loss: 2.4277 - accuracy: 0.3011 - val_loss: 2.3012 - val_accuracy: 0.3416\n",
      "Epoch 4/40\n",
      "136/136 [==============================] - 38s 278ms/step - loss: 2.3508 - accuracy: 0.3218 - val_loss: 2.2556 - val_accuracy: 0.3500\n",
      "Epoch 5/40\n",
      "136/136 [==============================] - 41s 300ms/step - loss: 2.2835 - accuracy: 0.3418 - val_loss: 2.1868 - val_accuracy: 0.3711\n",
      "Epoch 6/40\n",
      "136/136 [==============================] - 39s 285ms/step - loss: 2.2275 - accuracy: 0.3557 - val_loss: 2.1337 - val_accuracy: 0.3823\n",
      "Epoch 7/40\n",
      "136/136 [==============================] - 39s 287ms/step - loss: 2.1860 - accuracy: 0.3670 - val_loss: 2.1126 - val_accuracy: 0.3882\n",
      "Epoch 8/40\n",
      "136/136 [==============================] - 38s 280ms/step - loss: 2.1382 - accuracy: 0.3806 - val_loss: 2.0644 - val_accuracy: 0.4036\n",
      "Epoch 9/40\n",
      "136/136 [==============================] - 38s 281ms/step - loss: 2.1034 - accuracy: 0.3876 - val_loss: 2.0402 - val_accuracy: 0.4118\n",
      "Epoch 10/40\n",
      "136/136 [==============================] - 38s 280ms/step - loss: 2.0681 - accuracy: 0.3977 - val_loss: 2.0188 - val_accuracy: 0.4189\n",
      "Epoch 11/40\n",
      "136/136 [==============================] - 38s 279ms/step - loss: 2.0339 - accuracy: 0.4069 - val_loss: 1.9900 - val_accuracy: 0.4242\n",
      "Epoch 12/40\n",
      "136/136 [==============================] - 38s 280ms/step - loss: 2.0118 - accuracy: 0.4125 - val_loss: 1.9911 - val_accuracy: 0.4217\n",
      "Epoch 13/40\n",
      "136/136 [==============================] - 38s 280ms/step - loss: 1.9783 - accuracy: 0.4189 - val_loss: 1.9742 - val_accuracy: 0.4261\n",
      "Epoch 14/40\n",
      "136/136 [==============================] - 38s 279ms/step - loss: 1.9521 - accuracy: 0.4234 - val_loss: 1.9497 - val_accuracy: 0.4338\n",
      "Epoch 15/40\n",
      "136/136 [==============================] - 38s 283ms/step - loss: 1.9348 - accuracy: 0.4291 - val_loss: 1.9432 - val_accuracy: 0.4345\n",
      "Epoch 16/40\n",
      "136/136 [==============================] - 40s 296ms/step - loss: 1.9061 - accuracy: 0.4345 - val_loss: 1.9350 - val_accuracy: 0.4389\n",
      "Epoch 17/40\n",
      "136/136 [==============================] - 41s 304ms/step - loss: 1.8829 - accuracy: 0.4407 - val_loss: 1.9225 - val_accuracy: 0.4414\n",
      "Epoch 18/40\n",
      "136/136 [==============================] - 40s 295ms/step - loss: 1.8579 - accuracy: 0.4464 - val_loss: 1.9193 - val_accuracy: 0.4431\n",
      "Epoch 19/40\n",
      "136/136 [==============================] - 41s 304ms/step - loss: 1.8397 - accuracy: 0.4502 - val_loss: 1.9000 - val_accuracy: 0.4466\n",
      "Epoch 20/40\n",
      "136/136 [==============================] - 41s 304ms/step - loss: 1.8199 - accuracy: 0.4554 - val_loss: 1.8987 - val_accuracy: 0.4465\n",
      "Epoch 21/40\n",
      "136/136 [==============================] - 39s 284ms/step - loss: 1.8059 - accuracy: 0.4610 - val_loss: 1.8940 - val_accuracy: 0.4515\n",
      "Epoch 22/40\n",
      "136/136 [==============================] - 38s 283ms/step - loss: 1.7937 - accuracy: 0.4627 - val_loss: 1.8877 - val_accuracy: 0.4484\n",
      "Epoch 23/40\n",
      "136/136 [==============================] - 39s 284ms/step - loss: 1.7764 - accuracy: 0.4681 - val_loss: 1.8799 - val_accuracy: 0.4551\n",
      "Epoch 24/40\n",
      "136/136 [==============================] - 39s 284ms/step - loss: 1.7578 - accuracy: 0.4727 - val_loss: 1.8773 - val_accuracy: 0.4542\n",
      "Epoch 25/40\n",
      "136/136 [==============================] - 39s 285ms/step - loss: 1.7375 - accuracy: 0.4781 - val_loss: 1.8704 - val_accuracy: 0.4570\n",
      "Epoch 26/40\n",
      "136/136 [==============================] - 38s 282ms/step - loss: 1.7252 - accuracy: 0.4818 - val_loss: 1.8691 - val_accuracy: 0.4567\n",
      "Epoch 27/40\n",
      "136/136 [==============================] - 38s 278ms/step - loss: 1.7103 - accuracy: 0.4844 - val_loss: 1.8652 - val_accuracy: 0.4574\n",
      "Epoch 28/40\n",
      "136/136 [==============================] - 39s 289ms/step - loss: 1.7065 - accuracy: 0.4860 - val_loss: 1.8605 - val_accuracy: 0.4606\n",
      "Epoch 29/40\n",
      "136/136 [==============================] - 38s 282ms/step - loss: 1.6807 - accuracy: 0.4935 - val_loss: 1.8543 - val_accuracy: 0.4584\n",
      "Epoch 30/40\n",
      "136/136 [==============================] - 40s 297ms/step - loss: 1.6851 - accuracy: 0.4903 - val_loss: 1.8554 - val_accuracy: 0.4599\n",
      "Epoch 31/40\n",
      "136/136 [==============================] - 41s 303ms/step - loss: 1.6617 - accuracy: 0.5001 - val_loss: 1.8495 - val_accuracy: 0.4615\n",
      "Epoch 32/40\n",
      "136/136 [==============================] - 39s 284ms/step - loss: 1.6504 - accuracy: 0.4997 - val_loss: 1.8512 - val_accuracy: 0.4640\n",
      "Epoch 33/40\n",
      "136/136 [==============================] - 39s 284ms/step - loss: 1.6359 - accuracy: 0.5035 - val_loss: 1.8526 - val_accuracy: 0.4607\n",
      "Epoch 34/40\n",
      "136/136 [==============================] - 38s 282ms/step - loss: 1.6291 - accuracy: 0.5042 - val_loss: 1.8514 - val_accuracy: 0.4621\n",
      "Epoch 35/40\n",
      "136/136 [==============================] - 39s 285ms/step - loss: 1.6185 - accuracy: 0.5098 - val_loss: 1.8454 - val_accuracy: 0.4620\n",
      "Epoch 36/40\n",
      "136/136 [==============================] - 38s 282ms/step - loss: 1.6139 - accuracy: 0.5094 - val_loss: 1.8468 - val_accuracy: 0.4630\n",
      "Epoch 37/40\n",
      "136/136 [==============================] - 39s 286ms/step - loss: 1.6023 - accuracy: 0.5120 - val_loss: 1.8497 - val_accuracy: 0.4660\n",
      "Epoch 38/40\n",
      "136/136 [==============================] - 41s 304ms/step - loss: 1.5843 - accuracy: 0.5151 - val_loss: 1.8407 - val_accuracy: 0.4665\n",
      "Epoch 39/40\n",
      "136/136 [==============================] - 42s 313ms/step - loss: 1.5790 - accuracy: 0.5183 - val_loss: 1.8467 - val_accuracy: 0.4657\n",
      "Epoch 40/40\n",
      "136/136 [==============================] - 40s 295ms/step - loss: 1.5702 - accuracy: 0.5209 - val_loss: 1.8291 - val_accuracy: 0.4736\n"
     ]
    },
    {
     "ename": "NameError",
     "evalue": "name 'XX_train' is not defined",
     "output_type": "error",
     "traceback": [
      "\u001b[1;31m------------------------------------------------------------\u001b[0m",
      "\u001b[1;31mNameError\u001b[0m                  Traceback (most recent call last)",
      "Cell \u001b[1;32mIn[8], line 11\u001b[0m\n\u001b[0;32m      4\u001b[0m training_history \u001b[38;5;241m=\u001b[39m image_model\u001b[38;5;241m.\u001b[39mfit(image_data[\u001b[38;5;124m\"\u001b[39m\u001b[38;5;124mtrain\u001b[39m\u001b[38;5;124m\"\u001b[39m], targets[\u001b[38;5;124m\"\u001b[39m\u001b[38;5;124my_train\u001b[39m\u001b[38;5;124m\"\u001b[39m],\n\u001b[0;32m      5\u001b[0m                              validation_split \u001b[38;5;241m=\u001b[39m \u001b[38;5;241m0.2\u001b[39m,\n\u001b[0;32m      6\u001b[0m                              epochs \u001b[38;5;241m=\u001b[39m \u001b[38;5;241m40\u001b[39m,\n\u001b[0;32m      7\u001b[0m                              batch_size \u001b[38;5;241m=\u001b[39m \u001b[38;5;241m400\u001b[39m)\n\u001b[0;32m     10\u001b[0m t1 \u001b[38;5;241m=\u001b[39m time\u001b[38;5;241m.\u001b[39mtime()\n\u001b[1;32m---> 11\u001b[0m \u001b[38;5;28mprint\u001b[39m(\u001b[38;5;124m\"\u001b[39m\u001b[38;5;124mFor \u001b[39m\u001b[38;5;132;01m%d\u001b[39;00m\u001b[38;5;124m observations, training time = \u001b[39m\u001b[38;5;132;01m%0.2f\u001b[39;00m\u001b[38;5;124m seconds\u001b[39m\u001b[38;5;124m\"\u001b[39m \u001b[38;5;241m%\u001b[39m(\u001b[43mXX_train\u001b[49m\u001b[38;5;241m.\u001b[39mshape[\u001b[38;5;241m0\u001b[39m], (t1\u001b[38;5;241m-\u001b[39mt0) ) )\n\u001b[0;32m     13\u001b[0m model_date_time \u001b[38;5;241m=\u001b[39m fm\u001b[38;5;241m.\u001b[39mdate_time()\n\u001b[0;32m     14\u001b[0m \u001b[38;5;28mprint\u001b[39m(model_date_time)\n",
      "\u001b[1;31mNameError\u001b[0m: name 'XX_train' is not defined"
     ]
    }
   ],
   "source": [
    "import time\n",
    "t0 = time.time()\n",
    "\n",
    "training_history = image_model.fit(image_data[\"train\"], targets[\"y_train\"],\n",
    "                             validation_split = 0.2,\n",
    "                             epochs = 40,\n",
    "                             batch_size = 400)\n",
    "\n",
    "\n",
    "t1 = time.time()\n",
    "print(\"For %d observations, training time = %0.2f seconds\" %(image_data[\"train\"].shape[0], (t1-t0) ) )\n",
    "\n",
    "model_date_time = fm.date_time()\n",
    "print(model_date_time)"
   ]
  },
  {
   "cell_type": "code",
   "execution_count": 9,
   "id": "f1b6c1f6",
   "metadata": {},
   "outputs": [
    {
     "name": "stdout",
     "output_type": "stream",
     "text": [
      "For 67932 observations, training time = 1651.94 seconds\n",
      "2308171600\n"
     ]
    }
   ],
   "source": [
    "print(\"For %d observations, training time = %0.2f seconds\" %(image_data[\"train\"].shape[0], (t1-t0) ) )\n",
    "\n",
    "model_date_time = fm.date_time()\n",
    "print(model_date_time)"
   ]
  },
  {
   "cell_type": "code",
   "execution_count": 10,
   "id": "ae492a7c",
   "metadata": {},
   "outputs": [],
   "source": [
    "### The following is preliminary overview (PUT INTO AFUNCTION)"
   ]
  },
  {
   "cell_type": "code",
   "execution_count": 15,
   "id": "ef88b3ee",
   "metadata": {},
   "outputs": [],
   "source": [
    "epochs = 40\n",
    "x_epochs = np.arange(1,epochs + 1,1)\n",
    "\n",
    "train_acc = training_history.history['accuracy']\n",
    "val_acc = training_history.history['val_accuracy']"
   ]
  },
  {
   "cell_type": "code",
   "execution_count": 18,
   "id": "4afccef7",
   "metadata": {
    "scrolled": false
   },
   "outputs": [
    {
     "data": {
      "text/plain": [
       "(0.3, 0.5)"
      ]
     },
     "execution_count": 18,
     "metadata": {},
     "output_type": "execute_result"
    },
    {
     "data": {
      "image/png": "[encoded data removed]",
      "text/plain": [
       "<Figure size 800x600 with 1 Axes>"
      ]
     },
     "metadata": {},
     "output_type": "display_data"
    }
   ],
   "source": [
    "import matplotlib.pyplot as plt\n",
    "import seaborn as sns\n",
    "sns.set()\n",
    "\n",
    "plt.figure(figsize=(8,6))\n",
    "\n",
    "sns.lineplot(x = x_epochs, y = train_acc, marker = 'o', label = 'Training Accuracy')\n",
    "sns.lineplot(x = x_epochs, y = val_acc, marker = 'o', label = 'Validation Accuracy')\n",
    "\n",
    "plt.xlabel('Epochs')\n",
    "plt.ylabel('Accuracy')\n",
    "plt.title('Accuracy Evolution during training: NN_clf')\n",
    "plt.legend(loc='lower right')#loc='right'\n",
    "plt.ylim(0,1)\n",
    "plt.ylim(0.3,0.5)\n",
    "# plt.xlim(0,50)"
   ]
  },
  {
   "cell_type": "code",
   "execution_count": null,
   "id": "5b1324f2",
   "metadata": {},
   "outputs": [],
   "source": []
  },
  {
   "cell_type": "markdown",
   "id": "e464e37d",
   "metadata": {},
   "source": [
    "### Save or Reload trained image model"
   ]
  },
  {
   "cell_type": "code",
   "execution_count": 19,
   "id": "e8f92a14",
   "metadata": {},
   "outputs": [
    {
     "name": "stdout",
     "output_type": "stream",
     "text": [
      "Model saved as ../Fusion_models_and_data/2308171602_image_model.keras\n"
     ]
    }
   ],
   "source": [
    "save = True\n",
    "reload = False\n",
    "\n",
    "import tensorflow as tf\n",
    "\n",
    "if save:\n",
    "    fm.save_model(image_model, name = 'image_model', \n",
    "              path = fusion_path, \n",
    "              doit = True)\n",
    "    \n",
    "\n",
    "if reload:\n",
    "    image_model = fm.reload_model('2308111739_image_model_trained.keras', \n",
    "                       path = fusion_path, \n",
    "                       doit = True)\n",
    "    \n",
    "    image_model.summary()"
   ]
  },
  {
   "cell_type": "code",
   "execution_count": null,
   "id": "399cbcb9",
   "metadata": {},
   "outputs": [],
   "source": []
  },
  {
   "cell_type": "markdown",
   "id": "383179e6",
   "metadata": {},
   "source": [
    "# 4 - Fusion model\n",
    "\n",
    "**Get training data ready to feed**  \n",
    "text_data = get_text_data()  \n",
    "image_data = get_image_data()  \n",
    "\n",
    "**Define headless models**  \n",
    "image_model = initialize_image_model()  \n",
    "text_model = initialize_text_model()  \n",
    "\n",
    "headless_image_model = remove_classification_head(image_model)  \n",
    "headless_text_model = remove_classification_head(text_model)  \n",
    "headless_text_model.save(\"...\")  \n",
    "headless_image_model.save(\"...\")  \n",
    "\n",
    "**define train data for fusion model**  \n",
    "headless_X_train_image = headless_image_model.predict(image_data[\"train\"])  \n",
    "headless_X_train_text = headless_text_model.predict(text_data[\"train\"])  \n",
    "\n",
    "X_train = concatenate(headless_X_train_text, headless_X_train_image)  \n",
    "\n",
    "**define and train fusion model**  \n",
    "fusion_model = build_fusion_model()  \n",
    "fusion_model.fit(X_train)  \n",
    "fusion_model.save(\"...\")  \n"
   ]
  },
  {
   "cell_type": "code",
   "execution_count": null,
   "id": "1f3163fd",
   "metadata": {},
   "outputs": [],
   "source": []
  },
  {
   "cell_type": "markdown",
   "id": "9bf1b865",
   "metadata": {},
   "source": [
    "## 4.1 Load Transformed text & image data"
   ]
  },
  {
   "cell_type": "markdown",
   "id": "eed5387b",
   "metadata": {},
   "source": [
    "### Reload text data: ready to use"
   ]
  },
  {
   "cell_type": "markdown",
   "id": "df054549",
   "metadata": {},
   "source": [
    "**Features**"
   ]
  },
  {
   "cell_type": "code",
   "execution_count": 21,
   "id": "cb34e560",
   "metadata": {},
   "outputs": [],
   "source": [
    "from scipy import sparse\n",
    "\n",
    "text_data = {}\n",
    "\n",
    "text_data['X_train'] = sparse.load_npz(\"../Preprocessed_data/2308141825_text_data_transformed_X_train.npz\")\n",
    "text_data['X_test'] = sparse.load_npz(\"../Preprocessed_data/2308141825_text_data_transformed_X_test.npz\")"
   ]
  },
  {
   "cell_type": "markdown",
   "id": "0a9ec636",
   "metadata": {},
   "source": [
    "**Targets**"
   ]
  },
  {
   "cell_type": "code",
   "execution_count": 3,
   "id": "4bc8064f",
   "metadata": {},
   "outputs": [],
   "source": [
    "targets = {}\n",
    "targets['y_train'] = np.load(\"../Preprocessed_data/2308141825_text_data_transformed_y_train.npy\")\n",
    "targets['y_test'] = np.load(\"../Preprocessed_data/2308141825_text_data_transformed_y_test.npy\")"
   ]
  },
  {
   "cell_type": "markdown",
   "id": "e29c987c",
   "metadata": {},
   "source": [
    "**Transformers**"
   ]
  },
  {
   "cell_type": "code",
   "execution_count": 18,
   "id": "bc1a03ce",
   "metadata": {},
   "outputs": [],
   "source": [
    "import joblib\n",
    "\n",
    "# token_len_scaler = joblib.load(\"../Preprocessed_data/2308141825_token_len_scaler\")\n",
    "# language_encoder = joblib.load(\"../Preprocessed_data/2308141825_language_encoder\")\n",
    "# lemmas_vectorizer = joblib.load(\"../Preprocessed_data/2308141825_lemmas_vectorizer\")\n",
    "# target_encoder = joblib.load(\"../Preprocessed_data/2308141825_target_encoder\")"
   ]
  },
  {
   "cell_type": "markdown",
   "id": "8d67c583",
   "metadata": {},
   "source": [
    "### Reload image data: ready to use"
   ]
  },
  {
   "cell_type": "markdown",
   "id": "e1931411",
   "metadata": {},
   "source": [
    "**Features**"
   ]
  },
  {
   "cell_type": "code",
   "execution_count": null,
   "id": "6399c0a9",
   "metadata": {},
   "outputs": [],
   "source": [
    "t0 = time.time()\n",
    "\n",
    "image_data = {}\n",
    "\n",
    "image_data['train'] = np.load(\"../Preprocessed_data/2308141953_image_train_transformed.npz\")['array']\n",
    "image_data['test'] = np.load(\"../Preprocessed_data/2308141953_image_test_transformed.npz\")['array']\n",
    "\n",
    "t1 = time.time()\n",
    "print(\"Loading arrays takes %0.2f seconds\" %(t1-t0))"
   ]
  },
  {
   "cell_type": "markdown",
   "id": "7bb59d7a",
   "metadata": {},
   "source": [
    "**Targets**"
   ]
  },
  {
   "cell_type": "code",
   "execution_count": null,
   "id": "014cd461",
   "metadata": {},
   "outputs": [],
   "source": [
    "targets = {}\n",
    "targets['y_train'] = np.load(\"../Preprocessed_data/2308141825_text_data_transformed_y_train.npy\")\n",
    "targets['y_test'] = np.load(\"../Preprocessed_data/2308141825_text_data_transformed_y_test.npy\")\n"
   ]
  },
  {
   "cell_type": "markdown",
   "id": "9572f76e",
   "metadata": {},
   "source": [
    "**Transformers**"
   ]
  },
  {
   "cell_type": "code",
   "execution_count": 107,
   "id": "60d5f332",
   "metadata": {},
   "outputs": [],
   "source": [
    "import joblib\n",
    "\n",
    "# token_len_scaler = joblib.load(\"../Preprocessed_data/2308141825_token_len_scaler\")\n",
    "# language_encoder = joblib.load(\"../Preprocessed_data/2308141825_language_encoder\")\n",
    "# lemmas_vectorizer = joblib.load(\"../Preprocessed_data/2308141825_lemmas_vectorizer\")\n",
    "target_encoder = joblib.load(\"../Preprocessed_data/2308141825_target_encoder\")"
   ]
  },
  {
   "cell_type": "code",
   "execution_count": null,
   "id": "3fd091c8",
   "metadata": {},
   "outputs": [],
   "source": []
  },
  {
   "cell_type": "markdown",
   "id": "3b58d30a",
   "metadata": {},
   "source": [
    "## 4.2 Define headless models"
   ]
  },
  {
   "cell_type": "markdown",
   "id": "3f5af527",
   "metadata": {},
   "source": [
    "### Headless text model"
   ]
  },
  {
   "cell_type": "code",
   "execution_count": 22,
   "id": "07901794",
   "metadata": {},
   "outputs": [
    {
     "name": "stdout",
     "output_type": "stream",
     "text": [
      "Reloaded model from ../Trained_models_and_metrics/../Fusion_models_and_data/2308171443_text_model_trained.keras\n",
      "Model: \"model\"\n",
      "_________________________________________________________________\n",
      " Layer (type)                Output Shape              Param #   \n",
      "=================================================================\n",
      " input (InputLayer)          [(None, 5035)]            0         \n",
      "                                                                 \n",
      " dense_1 (Dense)             (None, 256)               1289216   \n",
      "                                                                 \n",
      " dense_2 (Dense)             (None, 27)                6939      \n",
      "                                                                 \n",
      "=================================================================\n",
      "Total params: 1,296,155\n",
      "Trainable params: 1,296,155\n",
      "Non-trainable params: 0\n",
      "_________________________________________________________________\n"
     ]
    }
   ],
   "source": [
    "## load pretrained text model:  parent model\n",
    "\n",
    "text_model = fm.reload_model('2308171443_text_model_trained.keras', \n",
    "                       path = fusion_path, \n",
    "                       doit = True)\n",
    "\n",
    "text_model.summary()"
   ]
  },
  {
   "cell_type": "code",
   "execution_count": 23,
   "id": "3be30448",
   "metadata": {},
   "outputs": [
    {
     "name": "stdout",
     "output_type": "stream",
     "text": [
      "Model: \"model_2\"\n",
      "_________________________________________________________________\n",
      " Layer (type)                Output Shape              Param #   \n",
      "=================================================================\n",
      " input (InputLayer)          [(None, 5035)]            0         \n",
      "                                                                 \n",
      " dense_1 (Dense)             (None, 256)               1289216   \n",
      "                                                                 \n",
      "=================================================================\n",
      "Total params: 1,289,216\n",
      "Trainable params: 1,289,216\n",
      "Non-trainable params: 0\n",
      "_________________________________________________________________\n"
     ]
    },
    {
     "data": {
      "text/plain": [
       "None"
      ]
     },
     "metadata": {},
     "output_type": "display_data"
    }
   ],
   "source": [
    "## define the headless_model for text\n",
    "\n",
    "headless_text_model = fm.remove_classification_head(text_model)"
   ]
  },
  {
   "cell_type": "code",
   "execution_count": 25,
   "id": "110ab605",
   "metadata": {},
   "outputs": [
    {
     "name": "stdout",
     "output_type": "stream",
     "text": [
      "531/531 [==============================] - 1s 2ms/step\n"
     ]
    },
    {
     "data": {
      "text/plain": [
       "array([[0.14355373, 0.2314612 , 0.16842064, ..., 0.5381603 , 0.21719632,\n",
       "        0.01545572],\n",
       "       [0.00907002, 0.33959135, 0.07482558, ..., 0.31742114, 0.49426466,\n",
       "        0.17289968],\n",
       "       [0.22684482, 0.61842453, 0.01682266, ..., 0.6515656 , 0.5254268 ,\n",
       "        0.22896814],\n",
       "       ...,\n",
       "       [0.34377176, 0.27185744, 0.42233777, ..., 0.29474854, 0.05182475,\n",
       "        0.4816504 ],\n",
       "       [0.2618621 , 0.269788  , 0.16435544, ..., 0.477396  , 0.2943321 ,\n",
       "        0.2629135 ],\n",
       "       [0.2376819 , 0.5492548 , 0.        , ..., 0.25251457, 0.41253412,\n",
       "        0.16980189]], dtype=float32)"
      ]
     },
     "execution_count": 25,
     "metadata": {},
     "output_type": "execute_result"
    }
   ],
   "source": [
    "## verify that is actually works:\n",
    "\n",
    "# headless_text_model.summary()\n",
    "y_pred_txt_hl = headless_text_model.predict(text_data['X_test'].toarray())\n"
   ]
  },
  {
   "cell_type": "code",
   "execution_count": 33,
   "id": "9340884e",
   "metadata": {},
   "outputs": [
    {
     "name": "stdout",
     "output_type": "stream",
     "text": [
      "min output value =  0.0\n",
      "max output value =  1.68827\n"
     ]
    },
    {
     "data": {
      "text/plain": [
       "array([0.14355373, 0.2314612 , 0.16842064, 0.5179336 , 0.22738694,\n",
       "       0.11514097, 0.31201583, 0.06485736, 0.14225712, 0.08956081,\n",
       "       0.4223069 , 0.00448767, 0.33328274, 0.06835212, 0.32794547,\n",
       "       0.12521249, 0.1079537 , 0.15924257, 0.09354137, 0.14374802,\n",
       "       0.20966434, 0.22338541, 0.18610038, 0.2947622 , 0.22579446,\n",
       "       0.00589401, 0.21221761, 0.52639014, 0.40577644, 0.43234372],\n",
       "      dtype=float32)"
      ]
     },
     "execution_count": 33,
     "metadata": {},
     "output_type": "execute_result"
    }
   ],
   "source": [
    "# y_pred_txt_hl.shape\n",
    "print(\"min output value = \",  y_pred_txt_hl[:,:].min())\n",
    "print(\"max output value = \",  y_pred_txt_hl[:,:].max())\n",
    "\n",
    "y_pred_txt_hl[0,:30]"
   ]
  },
  {
   "cell_type": "markdown",
   "id": "3fe08e98",
   "metadata": {},
   "source": [
    "### Headless image model"
   ]
  },
  {
   "cell_type": "code",
   "execution_count": 35,
   "id": "875673dc",
   "metadata": {},
   "outputs": [
    {
     "name": "stdout",
     "output_type": "stream",
     "text": [
      "Reloaded model from ../Fusion_models_and_data/2308171602_image_model_trained.keras\n",
      "Model: \"model_1\"\n",
      "_________________________________________________________________\n",
      " Layer (type)                Output Shape              Param #   \n",
      "=================================================================\n",
      " input (InputLayer)          [(None, 100, 100, 3)]     0         \n",
      "                                                                 \n",
      " conv2d_2 (Conv2D)           (None, 100, 100, 8)       224       \n",
      "                                                                 \n",
      " max_pooling2d_2 (MaxPooling  (None, 50, 50, 8)        0         \n",
      " 2D)                                                             \n",
      "                                                                 \n",
      " conv2d_3 (Conv2D)           (None, 23, 23, 32)        6432      \n",
      "                                                                 \n",
      " max_pooling2d_3 (MaxPooling  (None, 11, 11, 32)       0         \n",
      " 2D)                                                             \n",
      "                                                                 \n",
      " dropout_2 (Dropout)         (None, 11, 11, 32)        0         \n",
      "                                                                 \n",
      " flatten_1 (Flatten)         (None, 3872)              0         \n",
      "                                                                 \n",
      " dense_3 (Dense)             (None, 512)               1982976   \n",
      "                                                                 \n",
      " dropout_3 (Dropout)         (None, 512)               0         \n",
      "                                                                 \n",
      " dense_4 (Dense)             (None, 128)               65664     \n",
      "                                                                 \n",
      " dense_5 (Dense)             (None, 27)                3483      \n",
      "                                                                 \n",
      "=================================================================\n",
      "Total params: 2,058,779\n",
      "Trainable params: 2,058,779\n",
      "Non-trainable params: 0\n",
      "_________________________________________________________________\n"
     ]
    }
   ],
   "source": [
    "## load pretrained image model:  parent model\n",
    "\n",
    "image_model = fm.reload_model('2308171602_image_model_trained.keras', \n",
    "                       path = fusion_path, \n",
    "                       doit = True)\n",
    "\n",
    "image_model.summary()"
   ]
  },
  {
   "cell_type": "code",
   "execution_count": 36,
   "id": "c26dc08c",
   "metadata": {},
   "outputs": [
    {
     "name": "stdout",
     "output_type": "stream",
     "text": [
      "Model: \"model_3\"\n",
      "_________________________________________________________________\n",
      " Layer (type)                Output Shape              Param #   \n",
      "=================================================================\n",
      " input (InputLayer)          [(None, 100, 100, 3)]     0         \n",
      "                                                                 \n",
      " conv2d_2 (Conv2D)           (None, 100, 100, 8)       224       \n",
      "                                                                 \n",
      " max_pooling2d_2 (MaxPooling  (None, 50, 50, 8)        0         \n",
      " 2D)                                                             \n",
      "                                                                 \n",
      " conv2d_3 (Conv2D)           (None, 23, 23, 32)        6432      \n",
      "                                                                 \n",
      " max_pooling2d_3 (MaxPooling  (None, 11, 11, 32)       0         \n",
      " 2D)                                                             \n",
      "                                                                 \n",
      " dropout_2 (Dropout)         (None, 11, 11, 32)        0         \n",
      "                                                                 \n",
      " flatten_1 (Flatten)         (None, 3872)              0         \n",
      "                                                                 \n",
      " dense_3 (Dense)             (None, 512)               1982976   \n",
      "                                                                 \n",
      " dropout_3 (Dropout)         (None, 512)               0         \n",
      "                                                                 \n",
      " dense_4 (Dense)             (None, 128)               65664     \n",
      "                                                                 \n",
      "=================================================================\n",
      "Total params: 2,055,296\n",
      "Trainable params: 2,055,296\n",
      "Non-trainable params: 0\n",
      "_________________________________________________________________\n"
     ]
    },
    {
     "data": {
      "text/plain": [
       "None"
      ]
     },
     "metadata": {},
     "output_type": "display_data"
    }
   ],
   "source": [
    "## define headless model for image data:\n",
    "\n",
    "headless_image_model = fm.remove_classification_head(image_model)"
   ]
  },
  {
   "cell_type": "code",
   "execution_count": 37,
   "id": "5abf4d6c",
   "metadata": {},
   "outputs": [
    {
     "name": "stdout",
     "output_type": "stream",
     "text": [
      "531/531 [==============================] - 4s 7ms/step\n"
     ]
    }
   ],
   "source": [
    "## verify that is actually works:\n",
    "\n",
    "# headless_image_model.summary()\n",
    "y_pred_img_hl = headless_image_model.predict(image_data['test'])\n"
   ]
  },
  {
   "cell_type": "code",
   "execution_count": 38,
   "id": "435faa94",
   "metadata": {},
   "outputs": [
    {
     "name": "stdout",
     "output_type": "stream",
     "text": [
      "min output value =  0.0\n",
      "max output value =  9.310035\n"
     ]
    },
    {
     "data": {
      "text/plain": [
       "array([0.        , 0.5069372 , 0.66847765, 1.265219  , 1.1532193 ,\n",
       "       1.1676522 , 0.        , 1.3428643 , 0.69244057, 0.        ,\n",
       "       0.29369545, 0.        , 0.        , 0.6790802 , 0.8474691 ,\n",
       "       1.5555414 , 0.6988529 , 0.        , 0.23327723, 0.        ,\n",
       "       0.        , 0.07433483, 0.6295829 , 0.12880144, 0.        ,\n",
       "       0.        , 2.118503  , 0.6965375 , 0.        , 1.0092744 ],\n",
       "      dtype=float32)"
      ]
     },
     "execution_count": 38,
     "metadata": {},
     "output_type": "execute_result"
    }
   ],
   "source": [
    "# y_pred_txt_hl.shimg\n",
    "print(\"min output value = \",  y_pred_img_hl[:,:].min())\n",
    "print(\"max output value = \",  y_pred_img_hl[:,:].max())\n",
    "\n",
    "y_pred_img_hl[0,:30]"
   ]
  },
  {
   "cell_type": "code",
   "execution_count": 16,
   "id": "42a21bec",
   "metadata": {},
   "outputs": [],
   "source": []
  },
  {
   "cell_type": "markdown",
   "id": "bc31aa72",
   "metadata": {},
   "source": [
    "### Save text & image headless models"
   ]
  },
  {
   "cell_type": "code",
   "execution_count": 39,
   "id": "2740abf2",
   "metadata": {},
   "outputs": [
    {
     "name": "stdout",
     "output_type": "stream",
     "text": [
      "WARNING:tensorflow:Compiled the loaded model, but the compiled metrics have yet to be built. `model.compile_metrics` will be empty until you train or evaluate the model.\n",
      "Model saved as ../Fusion_models_and_data/2308171614_headless_text_model.keras\n",
      "WARNING:tensorflow:Compiled the loaded model, but the compiled metrics have yet to be built. `model.compile_metrics` will be empty until you train or evaluate the model.\n",
      "Model saved as ../Fusion_models_and_data/2308171614_headless_image_model.keras\n"
     ]
    }
   ],
   "source": [
    "## save both headless models:\n",
    "\n",
    "fm.save_model(headless_text_model, name = 'headless_text_model', \n",
    "              path = fusion_path, \n",
    "              doit = True)\n",
    "\n",
    "fm.save_model(headless_image_model, name = 'headless_image_model', \n",
    "              path = fusion_path, \n",
    "              doit = True)\n"
   ]
  },
  {
   "cell_type": "code",
   "execution_count": null,
   "id": "a52536f6",
   "metadata": {},
   "outputs": [],
   "source": []
  },
  {
   "cell_type": "markdown",
   "id": "f536f0ff",
   "metadata": {},
   "source": [
    "## 4.3 Define train data for fusion model"
   ]
  },
  {
   "cell_type": "code",
   "execution_count": 341,
   "id": "3ef193f9",
   "metadata": {},
   "outputs": [
    {
     "name": "stdout",
     "output_type": "stream",
     "text": [
      "2123/2123 [==============================] - 12s 5ms/step\n",
      "2123/2123 [==============================] - 26s 12ms/step\n"
     ]
    }
   ],
   "source": [
    "\n",
    "headless_X_train_text = headless_text_model.predict(text_data['X_train'].toarray())\n",
    "\n",
    "headless_X_train_image = headless_image_model.predict(image_data['train'])"
   ]
  },
  {
   "cell_type": "markdown",
   "id": "6553f88b",
   "metadata": {},
   "source": [
    "**Non scaled**"
   ]
  },
  {
   "cell_type": "code",
   "execution_count": 331,
   "id": "c1ed0b23",
   "metadata": {},
   "outputs": [
    {
     "name": "stdout",
     "output_type": "stream",
     "text": [
      "done\n"
     ]
    }
   ],
   "source": [
    "# ## concatenate both datasets\n",
    "# X_train = np.hstack((headless_X_train_text,headless_X_train_image))\n",
    "# print(\"done\")"
   ]
  },
  {
   "cell_type": "markdown",
   "id": "9acf310c",
   "metadata": {},
   "source": [
    "**normalize to be between zero and 1**"
   ]
  },
  {
   "cell_type": "code",
   "execution_count": 342,
   "id": "05b7d0e4",
   "metadata": {},
   "outputs": [
    {
     "name": "stdout",
     "output_type": "stream",
     "text": [
      "[0. 0. 0. 0. 0. 0. 0. 0. 0. 0.]\n",
      "[0.9159853  1.0260603  0.9291283  1.2128191  0.87942886 0.9445687\n",
      " 1.2553415  1.2648302  0.8475018  0.8288552 ]\n",
      "[0. 0. 0. 0. 0. 0. 0. 0. 0. 0.]\n",
      "[6.7686505 6.0216846 3.6850863 3.774592  5.844828  3.8148594 7.6610804\n",
      " 3.4858673 3.6970856 3.256486 ]\n"
     ]
    }
   ],
   "source": [
    "from sklearn.preprocessing import MinMaxScaler\n",
    "\n",
    "txt_scaler = MinMaxScaler()\n",
    "headless_X_train_text_scaled = txt_scaler.fit_transform(headless_X_train_text)\n",
    "\n",
    "print(txt_scaler.data_min_[:10])\n",
    "print(txt_scaler.data_max_[:10])\n",
    "\n",
    "\n",
    "img_scaler = MinMaxScaler()\n",
    "headless_X_train_image_scaled = img_scaler.fit_transform(headless_X_train_image)\n",
    "\n",
    "print(img_scaler.data_min_[:10])\n",
    "print(img_scaler.data_max_[:10])"
   ]
  },
  {
   "cell_type": "code",
   "execution_count": 343,
   "id": "be1edb48",
   "metadata": {},
   "outputs": [
    {
     "name": "stdout",
     "output_type": "stream",
     "text": [
      "done\n"
     ]
    }
   ],
   "source": [
    "# ## concatenate both datasets\n",
    "X_train = np.hstack((headless_X_train_text_scaled, headless_X_train_image_scaled))\n",
    "print(\"done\")"
   ]
  },
  {
   "cell_type": "markdown",
   "id": "21dbe4cb",
   "metadata": {},
   "source": [
    "### Save train data for fusion model"
   ]
  },
  {
   "cell_type": "code",
   "execution_count": 257,
   "id": "ce4acef5",
   "metadata": {},
   "outputs": [
    {
     "name": "stdout",
     "output_type": "stream",
     "text": [
      "Saved dataset: ../Fusion_models_and_data/2308171829_concatenated_headless_X_train_scaled.npy\n"
     ]
    }
   ],
   "source": [
    "## save concatenated array\n",
    "fm.save(datasets = [X_train], \\\n",
    "            types = ['array'], \\\n",
    "             names = ['concatenated_headless_X_train_scaled'], \\\n",
    "              path = fusion_path, doit = True, verbose = True)"
   ]
  },
  {
   "cell_type": "code",
   "execution_count": 259,
   "id": "58566f8d",
   "metadata": {},
   "outputs": [
    {
     "name": "stdout",
     "output_type": "stream",
     "text": [
      "(67932, 384)\n"
     ]
    }
   ],
   "source": [
    "print(X_train.shape) ## check "
   ]
  },
  {
   "cell_type": "code",
   "execution_count": 260,
   "id": "875d0e17",
   "metadata": {},
   "outputs": [
    {
     "data": {
      "text/plain": [
       "(0.0, 9.264089)"
      ]
     },
     "execution_count": 260,
     "metadata": {},
     "output_type": "execute_result"
    }
   ],
   "source": [
    "X_train.min(), X_train.max()"
   ]
  },
  {
   "cell_type": "markdown",
   "id": "efd48c2f",
   "metadata": {},
   "source": [
    "## 4.4 Define test data for fusion model"
   ]
  },
  {
   "cell_type": "code",
   "execution_count": 344,
   "id": "c3fcb208",
   "metadata": {},
   "outputs": [
    {
     "name": "stdout",
     "output_type": "stream",
     "text": [
      "531/531 [==============================] - 2s 4ms/step\n",
      "531/531 [==============================] - 4s 8ms/step\n"
     ]
    }
   ],
   "source": [
    "\n",
    "headless_X_test_text = headless_text_model.predict(text_data['X_test'].toarray())\n",
    "\n",
    "headless_X_test_image = headless_image_model.predict(image_data['test'])"
   ]
  },
  {
   "cell_type": "markdown",
   "id": "1dc81465",
   "metadata": {},
   "source": [
    "**not scaled**"
   ]
  },
  {
   "cell_type": "code",
   "execution_count": 333,
   "id": "9b9e223a",
   "metadata": {},
   "outputs": [],
   "source": [
    "# ## concatenate both datasets\n",
    "# X_test = np.hstack((headless_X_test_text,headless_X_test_image))"
   ]
  },
  {
   "cell_type": "markdown",
   "id": "35cb1e05",
   "metadata": {},
   "source": [
    "**To scaled data with transformers**"
   ]
  },
  {
   "cell_type": "code",
   "execution_count": 345,
   "id": "1bf2167b",
   "metadata": {},
   "outputs": [],
   "source": [
    "## scale with previously trained scalers\n",
    "\n",
    "headless_X_test_text_scaled = txt_scaler.transform(headless_X_test_text)\n",
    "\n",
    "headless_X_test_image_scaled = img_scaler.transform(headless_X_test_image)"
   ]
  },
  {
   "cell_type": "code",
   "execution_count": 346,
   "id": "f59ee8ec",
   "metadata": {},
   "outputs": [],
   "source": [
    "X_test = np.hstack((headless_X_test_text_scaled, headless_X_test_image_scaled))"
   ]
  },
  {
   "cell_type": "markdown",
   "id": "7afe179a",
   "metadata": {},
   "source": [
    "### Save test data for fusion model"
   ]
  },
  {
   "cell_type": "code",
   "execution_count": 208,
   "id": "7f6c1b53",
   "metadata": {},
   "outputs": [
    {
     "name": "stdout",
     "output_type": "stream",
     "text": [
      "Saved dataset: ../Fusion_models_and_data/2308171748_concatenated_headless_X_test_scaled.npy\n"
     ]
    }
   ],
   "source": [
    "## save concatenated array\n",
    "fm.save(datasets = [X_test], \\\n",
    "            types = ['array'], \\\n",
    "             names = ['concatenated_headless_X_test_scaled'], \\\n",
    "              path = fusion_path, doit = True, verbose = True)"
   ]
  },
  {
   "cell_type": "code",
   "execution_count": 209,
   "id": "7bb47c59",
   "metadata": {},
   "outputs": [
    {
     "name": "stdout",
     "output_type": "stream",
     "text": [
      "(16984, 384)\n"
     ]
    }
   ],
   "source": [
    "print(X_test.shape) ## check "
   ]
  },
  {
   "cell_type": "code",
   "execution_count": null,
   "id": "790fcbf5",
   "metadata": {},
   "outputs": [],
   "source": []
  },
  {
   "cell_type": "markdown",
   "id": "ce9e6ac9",
   "metadata": {},
   "source": [
    "## 4.5 Define and train fusion model \n",
    "- fusion_model = build_fusion_model()  \n",
    "- fusion_model.fit(X_train)  \n",
    "- fusion_model.save(\"...\")  "
   ]
  },
  {
   "cell_type": "markdown",
   "id": "293d94ff",
   "metadata": {},
   "source": [
    "### Initialize Fusion  Model"
   ]
  },
  {
   "cell_type": "code",
   "execution_count": 485,
   "id": "75af55a8",
   "metadata": {},
   "outputs": [
    {
     "name": "stdout",
     "output_type": "stream",
     "text": [
      "Model: \"model_67\"\n",
      "_________________________________________________________________\n",
      " Layer (type)                Output Shape              Param #   \n",
      "=================================================================\n",
      " input (InputLayer)          [(None, 384)]             0         \n",
      "                                                                 \n",
      " batch_normalization_91 (Bat  (None, 384)              1536      \n",
      " chNormalization)                                                \n",
      "                                                                 \n",
      " dense_1 (Dense)             (None, 256)               98560     \n",
      "                                                                 \n",
      " batch_normalization_92 (Bat  (None, 256)              1024      \n",
      " chNormalization)                                                \n",
      "                                                                 \n",
      " activation_37 (Activation)  (None, 256)               0         \n",
      "                                                                 \n",
      " dropout_91 (Dropout)        (None, 256)               0         \n",
      "                                                                 \n",
      " dense_2 (Dense)             (None, 64)                16448     \n",
      "                                                                 \n",
      " batch_normalization_93 (Bat  (None, 64)               256       \n",
      " chNormalization)                                                \n",
      "                                                                 \n",
      " dropout_92 (Dropout)        (None, 64)                0         \n",
      "                                                                 \n",
      " dense_3 (Dense)             (None, 27)                1755      \n",
      "                                                                 \n",
      "=================================================================\n",
      "Total params: 119,579\n",
      "Trainable params: 118,171\n",
      "Non-trainable params: 1,408\n",
      "_________________________________________________________________\n"
     ]
    },
    {
     "data": {
      "text/plain": [
       "None"
      ]
     },
     "metadata": {},
     "output_type": "display_data"
    }
   ],
   "source": [
    "params_NN = {'Nb_features' : X_train.shape[1],\n",
    "             'Nb_classes'  : targets['y_train'].shape[1]}\n",
    "\n",
    "fusion_model = fm.initialize_fusion_model('NN', params = params_NN)"
   ]
  },
  {
   "cell_type": "code",
   "execution_count": 486,
   "id": "daae6350",
   "metadata": {},
   "outputs": [
    {
     "name": "stdout",
     "output_type": "stream",
     "text": [
      "(67932, 27)\n"
     ]
    }
   ],
   "source": [
    "### I don't need to freeze the model since the other layer are not being trained\n",
    "print(targets['y_train'].shape)"
   ]
  },
  {
   "cell_type": "markdown",
   "id": "56030549",
   "metadata": {},
   "source": [
    "### Train Fusion Model"
   ]
  },
  {
   "cell_type": "code",
   "execution_count": 487,
   "id": "519d56b2",
   "metadata": {
    "scrolled": false
   },
   "outputs": [
    {
     "name": "stdout",
     "output_type": "stream",
     "text": [
      "Epoch 1/20\n",
      "136/136 [==============================] - 3s 11ms/step - loss: 1.3774 - accuracy: 0.6966 - val_loss: 1.8728 - val_accuracy: 0.7727\n",
      "Epoch 2/20\n",
      "136/136 [==============================] - 1s 7ms/step - loss: 0.6235 - accuracy: 0.8428 - val_loss: 0.9077 - val_accuracy: 0.7980\n",
      "Epoch 3/20\n",
      "136/136 [==============================] - 1s 7ms/step - loss: 0.4890 - accuracy: 0.8648 - val_loss: 0.6646 - val_accuracy: 0.8089\n",
      "Epoch 4/20\n",
      "136/136 [==============================] - 1s 7ms/step - loss: 0.4346 - accuracy: 0.8772 - val_loss: 0.6477 - val_accuracy: 0.8106\n",
      "Epoch 5/20\n",
      "136/136 [==============================] - 1s 8ms/step - loss: 0.4046 - accuracy: 0.8840 - val_loss: 0.6610 - val_accuracy: 0.8085\n",
      "Epoch 6/20\n",
      "136/136 [==============================] - 1s 7ms/step - loss: 0.3844 - accuracy: 0.8900 - val_loss: 0.6737 - val_accuracy: 0.8065\n",
      "Epoch 7/20\n",
      "136/136 [==============================] - 1s 8ms/step - loss: 0.3723 - accuracy: 0.8928 - val_loss: 0.6831 - val_accuracy: 0.8052\n",
      "Epoch 8/20\n",
      "136/136 [==============================] - 1s 7ms/step - loss: 0.3551 - accuracy: 0.8959 - val_loss: 0.6817 - val_accuracy: 0.8083\n",
      "Epoch 9/20\n",
      "136/136 [==============================] - 1s 8ms/step - loss: 0.3478 - accuracy: 0.9007 - val_loss: 0.6917 - val_accuracy: 0.8072\n",
      "Epoch 10/20\n",
      "136/136 [==============================] - 1s 8ms/step - loss: 0.3438 - accuracy: 0.8998 - val_loss: 0.7003 - val_accuracy: 0.8039\n",
      "Epoch 11/20\n",
      "136/136 [==============================] - 1s 8ms/step - loss: 0.3333 - accuracy: 0.9032 - val_loss: 0.7014 - val_accuracy: 0.8065\n",
      "Epoch 12/20\n",
      "136/136 [==============================] - 1s 8ms/step - loss: 0.3267 - accuracy: 0.9039 - val_loss: 0.7017 - val_accuracy: 0.8061\n",
      "Epoch 13/20\n",
      "136/136 [==============================] - 1s 8ms/step - loss: 0.3260 - accuracy: 0.9051 - val_loss: 0.7100 - val_accuracy: 0.8042\n",
      "Epoch 14/20\n",
      "136/136 [==============================] - 1s 8ms/step - loss: 0.3195 - accuracy: 0.9068 - val_loss: 0.7109 - val_accuracy: 0.8063\n",
      "Epoch 15/20\n",
      "136/136 [==============================] - 1s 8ms/step - loss: 0.3203 - accuracy: 0.9075 - val_loss: 0.7173 - val_accuracy: 0.8050\n",
      "Epoch 16/20\n",
      "136/136 [==============================] - 1s 8ms/step - loss: 0.3094 - accuracy: 0.9102 - val_loss: 0.7174 - val_accuracy: 0.8074\n",
      "Epoch 17/20\n",
      "136/136 [==============================] - 1s 8ms/step - loss: 0.3065 - accuracy: 0.9097 - val_loss: 0.7278 - val_accuracy: 0.8044\n",
      "Epoch 18/20\n",
      "136/136 [==============================] - 1s 8ms/step - loss: 0.3014 - accuracy: 0.9114 - val_loss: 0.7279 - val_accuracy: 0.8029\n",
      "Epoch 19/20\n",
      "136/136 [==============================] - 1s 8ms/step - loss: 0.3004 - accuracy: 0.9120 - val_loss: 0.7313 - val_accuracy: 0.8049\n",
      "Epoch 20/20\n",
      "136/136 [==============================] - 1s 8ms/step - loss: 0.2956 - accuracy: 0.9138 - val_loss: 0.7340 - val_accuracy: 0.8045\n"
     ]
    }
   ],
   "source": [
    "training_history = fusion_model.fit(X_train, targets['y_train'],\n",
    "                                     validation_split = 0.2,\n",
    "                                     epochs = 20,\n",
    "                                     batch_size = 400)\n",
    "model_date_time = fm.date_time()"
   ]
  },
  {
   "cell_type": "code",
   "execution_count": 494,
   "id": "b98d04b6",
   "metadata": {},
   "outputs": [
    {
     "data": {
      "image/png": "[encoded data removed]",
      "text/plain": [
       "<Figure size 800x600 with 1 Axes>"
      ]
     },
     "metadata": {},
     "output_type": "display_data"
    }
   ],
   "source": [
    "fm.plot_training_history(training_history, N_epochs = 20, yrange = [0.7,0.95])"
   ]
  },
  {
   "cell_type": "markdown",
   "id": "3e4e8b30",
   "metadata": {},
   "source": [
    "## 4.6 Evaluate Fusion Model"
   ]
  },
  {
   "cell_type": "markdown",
   "id": "b6bbc298",
   "metadata": {},
   "source": [
    "**train test accuracy**"
   ]
  },
  {
   "cell_type": "code",
   "execution_count": 497,
   "id": "750da63e",
   "metadata": {},
   "outputs": [
    {
     "name": "stdout",
     "output_type": "stream",
     "text": [
      "2123/2123 [==============================] - 4s 2ms/step - loss: 0.2677 - accuracy: 0.9235\n",
      "531/531 [==============================] - 1s 2ms/step - loss: 0.7546 - accuracy: 0.7992\n",
      "Train set accuracy = 0.924 and loss function = 0.27\n",
      "Test  set accuracy = 0.799 and loss function = 0.75\n"
     ]
    }
   ],
   "source": [
    "fm.get_train_test_accuracy(fusion_model, X_train, X_test, targets['y_train'], targets['y_test'])"
   ]
  },
  {
   "cell_type": "markdown",
   "id": "d2af8e51",
   "metadata": {},
   "source": [
    "**Confusion Matrix**"
   ]
  },
  {
   "cell_type": "code",
   "execution_count": 498,
   "id": "a4f05658",
   "metadata": {},
   "outputs": [
    {
     "name": "stdout",
     "output_type": "stream",
     "text": [
      "531/531 [==============================] - 1s 2ms/step\n"
     ]
    }
   ],
   "source": [
    "y_pred_vectors = fusion_model.predict(X_test)"
   ]
  },
  {
   "cell_type": "code",
   "execution_count": 528,
   "id": "5ea00546",
   "metadata": {},
   "outputs": [],
   "source": [
    "cm = fm.get_confusionMatrix(targets['y_test'], y_pred_vectors, \n",
    "                       target_encoder, product_class['prdtypecode'])"
   ]
  },
  {
   "cell_type": "code",
   "execution_count": 529,
   "id": "42bf1f30",
   "metadata": {},
   "outputs": [
    {
     "name": "stdout",
     "output_type": "stream",
     "text": [
      "(27, 27)\n"
     ]
    },
    {
     "data": {
      "image/png": "[encoded data removed]",
      "text/plain": [
       "<Figure size 1800x1000 with 2 Axes>"
      ]
     },
     "metadata": {},
     "output_type": "display_data"
    }
   ],
   "source": [
    "fm.plot_confusionMatrix(cm)"
   ]
  },
  {
   "cell_type": "markdown",
   "id": "498e8d8a",
   "metadata": {},
   "source": [
    "**Save confusion matrix**"
   ]
  },
  {
   "cell_type": "code",
   "execution_count": 514,
   "id": "804888a1",
   "metadata": {},
   "outputs": [
    {
     "name": "stdout",
     "output_type": "stream",
     "text": [
      "../Fusion_models_and_data/2308172302_fusion_model_confusionMatrix.csv\n"
     ]
    }
   ],
   "source": [
    "model_date_time = fm.date_time()\n",
    "\n",
    "fm.save_model_metrics(cm, metric_type = 'confusionMatrix', model_name = 'fusion_model',\n",
    "                     path = fusion_path, timestamp = model_date_time)"
   ]
  },
  {
   "cell_type": "markdown",
   "id": "af0a7823",
   "metadata": {},
   "source": [
    "**Classification Report: macro & micro**"
   ]
  },
  {
   "cell_type": "code",
   "execution_count": 530,
   "id": "58ea11cd",
   "metadata": {},
   "outputs": [],
   "source": [
    "cr, micro_cr, macro_cr = fm.get_classificationReport(targets['y_test'], y_pred_vectors,\n",
    "                                                     target_encoder, product_class['prdtypecode'])"
   ]
  },
  {
   "cell_type": "code",
   "execution_count": 531,
   "id": "1e31aee4",
   "metadata": {},
   "outputs": [
    {
     "data": {
      "image/png": "[encoded data removed]",
      "text/plain": [
       "<Figure size 583.3x900 with 2 Axes>"
      ]
     },
     "metadata": {},
     "output_type": "display_data"
    }
   ],
   "source": [
    "fm.plot_classificationReport(micro_cr)"
   ]
  },
  {
   "cell_type": "markdown",
   "id": "501fa095",
   "metadata": {},
   "source": [
    "**Save classification report**"
   ]
  },
  {
   "cell_type": "code",
   "execution_count": 537,
   "id": "b14b1349",
   "metadata": {},
   "outputs": [
    {
     "name": "stdout",
     "output_type": "stream",
     "text": [
      "../Fusion_models_and_data/2308172302_fusion_model_classificationReport.txt\n"
     ]
    }
   ],
   "source": [
    "fm.save_model_metrics(cr, metric_type = 'classificationReport', model_name = 'fusion_model',\n",
    "                     path = fusion_path, timestamp = model_date_time)"
   ]
  },
  {
   "cell_type": "code",
   "execution_count": 532,
   "id": "1da66d5f",
   "metadata": {},
   "outputs": [
    {
     "name": "stdout",
     "output_type": "stream",
     "text": [
      "              precision    recall  f1-score   support\n",
      "\n",
      "          10       0.57      0.62      0.60       623\n",
      "          40       0.74      0.75      0.74       502\n",
      "          50       0.74      0.73      0.73       336\n",
      "          60       0.95      0.87      0.91       166\n",
      "        1140       0.73      0.76      0.74       534\n",
      "        1160       0.92      0.93      0.92       791\n",
      "        1180       0.50      0.39      0.44       153\n",
      "        1280       0.64      0.69      0.66       974\n",
      "        1281       0.53      0.44      0.48       414\n",
      "        1300       0.91      0.90      0.91      1009\n",
      "        1301       0.94      0.84      0.89       161\n",
      "        1302       0.75      0.78      0.76       498\n",
      "        1320       0.75      0.74      0.75       648\n",
      "        1560       0.80      0.81      0.81      1015\n",
      "        1920       0.90      0.90      0.90       861\n",
      "        1940       0.93      0.79      0.86       161\n",
      "        2060       0.74      0.80      0.77       999\n",
      "        2220       0.87      0.78      0.82       165\n",
      "        2280       0.75      0.74      0.74       952\n",
      "        2403       0.70      0.76      0.73       955\n",
      "        2462       0.76      0.74      0.75       284\n",
      "        2522       0.89      0.89      0.89       998\n",
      "        2582       0.75      0.68      0.71       518\n",
      "        2583       0.96      0.97      0.96      2042\n",
      "        2585       0.79      0.74      0.76       499\n",
      "        2705       0.84      0.75      0.79       552\n",
      "        2905       0.98      0.99      0.98       174\n",
      "\n",
      "    accuracy                           0.80     16984\n",
      "   macro avg       0.79      0.77      0.78     16984\n",
      "weighted avg       0.80      0.80      0.80     16984\n",
      "\n"
     ]
    }
   ],
   "source": [
    "print(cr)"
   ]
  },
  {
   "cell_type": "markdown",
   "id": "ef34d4bf",
   "metadata": {},
   "source": [
    "**Top Classified Categories**"
   ]
  },
  {
   "cell_type": "code",
   "execution_count": 533,
   "id": "98e5426e",
   "metadata": {},
   "outputs": [
    {
     "data": {
      "text/html": [
       "<div>\n",
       "<style scoped>\n",
       "    .dataframe tbody tr th:only-of-type {\n",
       "        vertical-align: middle;\n",
       "    }\n",
       "\n",
       "    .dataframe tbody tr th {\n",
       "        vertical-align: top;\n",
       "    }\n",
       "\n",
       "    .dataframe thead th {\n",
       "        text-align: right;\n",
       "    }\n",
       "</style>\n",
       "<table border=\"1\" class=\"dataframe\">\n",
       "  <thead>\n",
       "    <tr style=\"text-align: right;\">\n",
       "      <th></th>\n",
       "      <th>prdtypecode</th>\n",
       "      <th>precision</th>\n",
       "      <th>recall</th>\n",
       "      <th>f1-score</th>\n",
       "      <th>support</th>\n",
       "    </tr>\n",
       "  </thead>\n",
       "  <tbody>\n",
       "    <tr>\n",
       "      <th>26</th>\n",
       "      <td>2905</td>\n",
       "      <td>0.977273</td>\n",
       "      <td>0.988506</td>\n",
       "      <td>0.982857</td>\n",
       "      <td>174.0</td>\n",
       "    </tr>\n",
       "    <tr>\n",
       "      <th>23</th>\n",
       "      <td>2583</td>\n",
       "      <td>0.960622</td>\n",
       "      <td>0.967679</td>\n",
       "      <td>0.964138</td>\n",
       "      <td>2042.0</td>\n",
       "    </tr>\n",
       "    <tr>\n",
       "      <th>5</th>\n",
       "      <td>1160</td>\n",
       "      <td>0.920954</td>\n",
       "      <td>0.927939</td>\n",
       "      <td>0.924433</td>\n",
       "      <td>791.0</td>\n",
       "    </tr>\n",
       "    <tr>\n",
       "      <th>9</th>\n",
       "      <td>1300</td>\n",
       "      <td>0.912826</td>\n",
       "      <td>0.902874</td>\n",
       "      <td>0.907823</td>\n",
       "      <td>1009.0</td>\n",
       "    </tr>\n",
       "    <tr>\n",
       "      <th>3</th>\n",
       "      <td>60</td>\n",
       "      <td>0.947368</td>\n",
       "      <td>0.867470</td>\n",
       "      <td>0.905660</td>\n",
       "      <td>166.0</td>\n",
       "    </tr>\n",
       "  </tbody>\n",
       "</table>\n",
       "</div>"
      ],
      "text/plain": [
       "   prdtypecode  precision    recall  f1-score  support\n",
       "26        2905   0.977273  0.988506  0.982857    174.0\n",
       "23        2583   0.960622  0.967679  0.964138   2042.0\n",
       "5         1160   0.920954  0.927939  0.924433    791.0\n",
       "9         1300   0.912826  0.902874  0.907823   1009.0\n",
       "3           60   0.947368  0.867470  0.905660    166.0"
      ]
     },
     "execution_count": 533,
     "metadata": {},
     "output_type": "execute_result"
    }
   ],
   "source": [
    "micro_cr.sort_values(by = 'f1-score', ascending=False).head(5)"
   ]
  },
  {
   "cell_type": "markdown",
   "id": "77df2601",
   "metadata": {},
   "source": [
    "**Worst Classified Categories**"
   ]
  },
  {
   "cell_type": "code",
   "execution_count": 534,
   "id": "6ebc3fef",
   "metadata": {},
   "outputs": [
    {
     "data": {
      "text/html": [
       "<div>\n",
       "<style scoped>\n",
       "    .dataframe tbody tr th:only-of-type {\n",
       "        vertical-align: middle;\n",
       "    }\n",
       "\n",
       "    .dataframe tbody tr th {\n",
       "        vertical-align: top;\n",
       "    }\n",
       "\n",
       "    .dataframe thead th {\n",
       "        text-align: right;\n",
       "    }\n",
       "</style>\n",
       "<table border=\"1\" class=\"dataframe\">\n",
       "  <thead>\n",
       "    <tr style=\"text-align: right;\">\n",
       "      <th></th>\n",
       "      <th>prdtypecode</th>\n",
       "      <th>precision</th>\n",
       "      <th>recall</th>\n",
       "      <th>f1-score</th>\n",
       "      <th>support</th>\n",
       "    </tr>\n",
       "  </thead>\n",
       "  <tbody>\n",
       "    <tr>\n",
       "      <th>6</th>\n",
       "      <td>1180</td>\n",
       "      <td>0.500000</td>\n",
       "      <td>0.385621</td>\n",
       "      <td>0.435424</td>\n",
       "      <td>153.0</td>\n",
       "    </tr>\n",
       "    <tr>\n",
       "      <th>8</th>\n",
       "      <td>1281</td>\n",
       "      <td>0.533724</td>\n",
       "      <td>0.439614</td>\n",
       "      <td>0.482119</td>\n",
       "      <td>414.0</td>\n",
       "    </tr>\n",
       "    <tr>\n",
       "      <th>0</th>\n",
       "      <td>10</td>\n",
       "      <td>0.572901</td>\n",
       "      <td>0.624398</td>\n",
       "      <td>0.597542</td>\n",
       "      <td>623.0</td>\n",
       "    </tr>\n",
       "    <tr>\n",
       "      <th>7</th>\n",
       "      <td>1280</td>\n",
       "      <td>0.636190</td>\n",
       "      <td>0.685832</td>\n",
       "      <td>0.660079</td>\n",
       "      <td>974.0</td>\n",
       "    </tr>\n",
       "    <tr>\n",
       "      <th>22</th>\n",
       "      <td>2582</td>\n",
       "      <td>0.745223</td>\n",
       "      <td>0.677606</td>\n",
       "      <td>0.709808</td>\n",
       "      <td>518.0</td>\n",
       "    </tr>\n",
       "  </tbody>\n",
       "</table>\n",
       "</div>"
      ],
      "text/plain": [
       "   prdtypecode  precision    recall  f1-score  support\n",
       "6         1180   0.500000  0.385621  0.435424    153.0\n",
       "8         1281   0.533724  0.439614  0.482119    414.0\n",
       "0           10   0.572901  0.624398  0.597542    623.0\n",
       "7         1280   0.636190  0.685832  0.660079    974.0\n",
       "22        2582   0.745223  0.677606  0.709808    518.0"
      ]
     },
     "execution_count": 534,
     "metadata": {},
     "output_type": "execute_result"
    }
   ],
   "source": [
    "micro_cr.sort_values(by = 'f1-score', ascending=True).head(5)"
   ]
  },
  {
   "cell_type": "markdown",
   "id": "14ba50e6",
   "metadata": {},
   "source": [
    "**Less represented categories scores**"
   ]
  },
  {
   "cell_type": "code",
   "execution_count": 535,
   "id": "378a9ecc",
   "metadata": {},
   "outputs": [
    {
     "data": {
      "text/html": [
       "<div>\n",
       "<style scoped>\n",
       "    .dataframe tbody tr th:only-of-type {\n",
       "        vertical-align: middle;\n",
       "    }\n",
       "\n",
       "    .dataframe tbody tr th {\n",
       "        vertical-align: top;\n",
       "    }\n",
       "\n",
       "    .dataframe thead th {\n",
       "        text-align: right;\n",
       "    }\n",
       "</style>\n",
       "<table border=\"1\" class=\"dataframe\">\n",
       "  <thead>\n",
       "    <tr style=\"text-align: right;\">\n",
       "      <th></th>\n",
       "      <th>prdtypecode</th>\n",
       "      <th>precision</th>\n",
       "      <th>recall</th>\n",
       "      <th>f1-score</th>\n",
       "      <th>support</th>\n",
       "    </tr>\n",
       "  </thead>\n",
       "  <tbody>\n",
       "    <tr>\n",
       "      <th>6</th>\n",
       "      <td>1180</td>\n",
       "      <td>0.500000</td>\n",
       "      <td>0.385621</td>\n",
       "      <td>0.435424</td>\n",
       "      <td>153.0</td>\n",
       "    </tr>\n",
       "    <tr>\n",
       "      <th>10</th>\n",
       "      <td>1301</td>\n",
       "      <td>0.944444</td>\n",
       "      <td>0.844720</td>\n",
       "      <td>0.891803</td>\n",
       "      <td>161.0</td>\n",
       "    </tr>\n",
       "    <tr>\n",
       "      <th>15</th>\n",
       "      <td>1940</td>\n",
       "      <td>0.933824</td>\n",
       "      <td>0.788820</td>\n",
       "      <td>0.855219</td>\n",
       "      <td>161.0</td>\n",
       "    </tr>\n",
       "    <tr>\n",
       "      <th>17</th>\n",
       "      <td>2220</td>\n",
       "      <td>0.871622</td>\n",
       "      <td>0.781818</td>\n",
       "      <td>0.824281</td>\n",
       "      <td>165.0</td>\n",
       "    </tr>\n",
       "    <tr>\n",
       "      <th>3</th>\n",
       "      <td>60</td>\n",
       "      <td>0.947368</td>\n",
       "      <td>0.867470</td>\n",
       "      <td>0.905660</td>\n",
       "      <td>166.0</td>\n",
       "    </tr>\n",
       "  </tbody>\n",
       "</table>\n",
       "</div>"
      ],
      "text/plain": [
       "   prdtypecode  precision    recall  f1-score  support\n",
       "6         1180   0.500000  0.385621  0.435424    153.0\n",
       "10        1301   0.944444  0.844720  0.891803    161.0\n",
       "15        1940   0.933824  0.788820  0.855219    161.0\n",
       "17        2220   0.871622  0.781818  0.824281    165.0\n",
       "3           60   0.947368  0.867470  0.905660    166.0"
      ]
     },
     "execution_count": 535,
     "metadata": {},
     "output_type": "execute_result"
    }
   ],
   "source": [
    "micro_cr.sort_values(by = 'support', ascending=True).head(5)"
   ]
  },
  {
   "cell_type": "markdown",
   "id": "9d3fb807",
   "metadata": {},
   "source": [
    "### Save trained fusion model (Optional)"
   ]
  },
  {
   "cell_type": "code",
   "execution_count": 52,
   "id": "43d3d27d",
   "metadata": {},
   "outputs": [
    {
     "name": "stdout",
     "output_type": "stream",
     "text": [
      "Model saved as ../Trained_models_and_metrics/2308171628_fusion_model.keras\n"
     ]
    }
   ],
   "source": [
    "## save trained fusion model\n",
    "\n",
    "fm.save_model(fusion_model, name = 'fusion_model_trained', \n",
    "                                  path = fusion_path, \n",
    "                                  doit = True)\n"
   ]
  },
  {
   "cell_type": "code",
   "execution_count": null,
   "id": "0dbdd6f9",
   "metadata": {},
   "outputs": [],
   "source": []
  },
  {
   "cell_type": "markdown",
   "id": "3caa4c1a",
   "metadata": {},
   "source": [
    "## 4.7 Make new predictions"
   ]
  },
  {
   "cell_type": "code",
   "execution_count": null,
   "id": "a907f7fc",
   "metadata": {},
   "outputs": [],
   "source": []
  },
  {
   "cell_type": "code",
   "execution_count": null,
   "id": "a98d1209",
   "metadata": {},
   "outputs": [],
   "source": []
  }
 ],
 "metadata": {
  "kernelspec": {
   "display_name": "Python 3 (ipykernel)",
   "language": "python",
   "name": "python3"
  },
  "language_info": {
   "codemirror_mode": {
    "name": "ipython",
    "version": 3
   },
   "file_extension": ".py",
   "mimetype": "text/x-python",
   "name": "python",
   "nbconvert_exporter": "python",
   "pygments_lexer": "ipython3",
   "version": "3.10.9"
  }
 },
 "nbformat": 4,
 "nbformat_minor": 5
}
